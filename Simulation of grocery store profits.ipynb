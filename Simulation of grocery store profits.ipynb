{
 "cells": [
  {
   "cell_type": "markdown",
   "metadata": {},
   "source": [
    "# Monte Carlo Simulation\n",
    "Making a function that simulates grocery store sales"
   ]
  },
  {
   "cell_type": "markdown",
   "metadata": {},
   "source": [
    "# Average grocery visit cost and number of visitors \n",
    "    \n",
    "According to: https://www.foxbusiness.com/lifestyle/what-is-the-average-grocery-bill-for-one-person\n",
    "The average grocery monthly bill is between 165 and 345 the average person going twice a month so we will divide 255 by 2 so 127$ will be the average visit cost.\n",
    "\n",
    "According to: https://www.quora.com/What-is-the-average-foot-traffic-at-a-local-grocery-store\n",
    "Even small stores get 2000 visitors a day we will be a slightly bigger store at 4000 per day average\n",
    " \n"
   ]
  },
  {
   "cell_type": "code",
   "execution_count": 36,
   "metadata": {},
   "outputs": [],
   "source": [
    "import numpy as np\n",
    "import pandas as pd\n",
    "import random"
   ]
  },
  {
   "cell_type": "markdown",
   "metadata": {},
   "source": [
    "# Simulate average visitors per day, avg margin per day and average amount spend per day per person\n",
    "This assumes that each day people will buy a varying amount and types of products leading to various margins"
   ]
  },
  {
   "cell_type": "code",
   "execution_count": 37,
   "metadata": {},
   "outputs": [],
   "source": [
    "#Simulate normal distribution of visitors with average amount of visitors is 4000 transactions per day\n",
    "avg_customer = 4000 \n",
    "std_dev = avg_customer * .10 # 10% standard deviation of average visitor amount for simplicity\n",
    "num_days = 365\n",
    "\n",
    "\n",
    "# Get variables needed to calculate the random margin\n",
    "avg_margin = .0275 \n",
    "std_dev_m = avg_margin * .10 # 10% standard deviation of average visitor amount for simplicity\n",
    "num_dayz = 365\n",
    "\n",
    "# Get random distribution for amount the average customer spends each day.\n",
    "avg_spend = 127.5 \n",
    "std_dev_s = avg_spend * .10 # 10% standard deviation of average visitor amount for simplicity\n",
    "num_dayz2 = 365"
   ]
  },
  {
   "cell_type": "code",
   "execution_count": 38,
   "metadata": {},
   "outputs": [],
   "source": [
    "# Simulating random number of visitors for a whole year.....\n",
    "visitors = np.random.normal(avg_customer, std_dev, num_days).round(2)\n",
    "margin = np.random.normal(avg_margin, std_dev_m, num_dayz)\n",
    "spend = np.random.normal(avg_spend, std_dev_s, num_dayz2)"
   ]
  },
  {
   "cell_type": "markdown",
   "metadata": {},
   "source": [
    "# Calculate Revenue "
   ]
  },
  {
   "cell_type": "code",
   "execution_count": 39,
   "metadata": {},
   "outputs": [],
   "source": [
    "df = pd.DataFrame(index=range(num_days), data={'num_visitors': visitors,\n",
    "                                               'margin': margin,\n",
    "                                               'spent': spend})"
   ]
  },
  {
   "cell_type": "code",
   "execution_count": 40,
   "metadata": {},
   "outputs": [
    {
     "data": {
      "text/html": [
       "<div>\n",
       "<style scoped>\n",
       "    .dataframe tbody tr th:only-of-type {\n",
       "        vertical-align: middle;\n",
       "    }\n",
       "\n",
       "    .dataframe tbody tr th {\n",
       "        vertical-align: top;\n",
       "    }\n",
       "\n",
       "    .dataframe thead th {\n",
       "        text-align: right;\n",
       "    }\n",
       "</style>\n",
       "<table border=\"1\" class=\"dataframe\">\n",
       "  <thead>\n",
       "    <tr style=\"text-align: right;\">\n",
       "      <th></th>\n",
       "      <th>num_visitors</th>\n",
       "      <th>margin</th>\n",
       "      <th>spent</th>\n",
       "      <th>revenue</th>\n",
       "      <th>expenses</th>\n",
       "      <th>profit</th>\n",
       "    </tr>\n",
       "  </thead>\n",
       "  <tbody>\n",
       "    <tr>\n",
       "      <th>0</th>\n",
       "      <td>4092.74</td>\n",
       "      <td>0.026492</td>\n",
       "      <td>124.474922</td>\n",
       "      <td>509443.491047</td>\n",
       "      <td>495947.484867</td>\n",
       "      <td>13496.006180</td>\n",
       "    </tr>\n",
       "    <tr>\n",
       "      <th>1</th>\n",
       "      <td>3737.94</td>\n",
       "      <td>0.030677</td>\n",
       "      <td>145.083381</td>\n",
       "      <td>542312.973328</td>\n",
       "      <td>525676.215643</td>\n",
       "      <td>16636.757685</td>\n",
       "    </tr>\n",
       "    <tr>\n",
       "      <th>2</th>\n",
       "      <td>4007.44</td>\n",
       "      <td>0.027556</td>\n",
       "      <td>115.212591</td>\n",
       "      <td>461707.545624</td>\n",
       "      <td>448984.612936</td>\n",
       "      <td>12722.932688</td>\n",
       "    </tr>\n",
       "    <tr>\n",
       "      <th>3</th>\n",
       "      <td>4432.08</td>\n",
       "      <td>0.029647</td>\n",
       "      <td>115.781806</td>\n",
       "      <td>513154.226698</td>\n",
       "      <td>497940.706505</td>\n",
       "      <td>15213.520193</td>\n",
       "    </tr>\n",
       "    <tr>\n",
       "      <th>4</th>\n",
       "      <td>4160.89</td>\n",
       "      <td>0.024985</td>\n",
       "      <td>113.309969</td>\n",
       "      <td>471470.316393</td>\n",
       "      <td>459690.641583</td>\n",
       "      <td>11779.674809</td>\n",
       "    </tr>\n",
       "  </tbody>\n",
       "</table>\n",
       "</div>"
      ],
      "text/plain": [
       "   num_visitors    margin       spent        revenue       expenses  \\\n",
       "0       4092.74  0.026492  124.474922  509443.491047  495947.484867   \n",
       "1       3737.94  0.030677  145.083381  542312.973328  525676.215643   \n",
       "2       4007.44  0.027556  115.212591  461707.545624  448984.612936   \n",
       "3       4432.08  0.029647  115.781806  513154.226698  497940.706505   \n",
       "4       4160.89  0.024985  113.309969  471470.316393  459690.641583   \n",
       "\n",
       "         profit  \n",
       "0  13496.006180  \n",
       "1  16636.757685  \n",
       "2  12722.932688  \n",
       "3  15213.520193  \n",
       "4  11779.674809  "
      ]
     },
     "execution_count": 40,
     "metadata": {},
     "output_type": "execute_result"
    }
   ],
   "source": [
    "# Calculate the revenue, total proft and expenses 1- profit\n",
    "df['revenue'] = df['num_visitors'] * df['spent'] # Calculate the total revenue\n",
    "df['expenses'] = df['revenue'] * (1- df['margin']) # Calculate the cost of buying product\n",
    "df['profit'] = df['revenue'] * df['margin'] # Calculate the profit\n",
    "df.head()"
   ]
  },
  {
   "cell_type": "markdown",
   "metadata": {},
   "source": [
    "# SIMULATION NOW "
   ]
  },
  {
   "cell_type": "code",
   "execution_count": 144,
   "metadata": {},
   "outputs": [],
   "source": [
    "#Simulate normal distribution of visitors with average amount of visitors is 4000 transactions per day\n",
    "avg_customer = 4000 \n",
    "std_dev = avg_customer * .10 # 10% standard deviation of average visitor amount for simplicity\n",
    "num_days = 365\n",
    "\n",
    "# Get variables needed to calculate the random margin\n",
    "avg_margin = .0275 \n",
    "std_dev_m = avg_margin * .10 # 10% standard deviation of average visitor amount for simplicity\n",
    "\n",
    "# Get random distribution for amount the average customer spends each day.\n",
    "avg_spend = 127.5 \n",
    "std_dev_s = avg_spend * .10 # 10% standard deviation of average visitor amount for simplicity"
   ]
  },
  {
   "cell_type": "markdown",
   "metadata": {},
   "source": [
    "# Num_days * 2 is the number of days (number of rows we simulate grocery activity)"
   ]
  },
  {
   "cell_type": "code",
   "execution_count": 145,
   "metadata": {},
   "outputs": [],
   "source": [
    "# Change this variable to decide number of rows(or days)\n",
    "num_days = 365 # This number will get multiplied by 2 to simulate number of rows\n",
    "# This will simulate 2 years or 365 *2"
   ]
  },
  {
   "cell_type": "code",
   "execution_count": 152,
   "metadata": {},
   "outputs": [],
   "source": [
    "# df2 is empty dataframe to hold data\n",
    "df2= pd.DataFrame([])\n",
    "# list to keep all the results from each simulation \n",
    "profit_total = []\n",
    "\n",
    "# Loop through many simulations\n",
    "for i in range(num_simulations):\n",
    "    # Simulating random visitors, average margin and spend per day for the store\n",
    "    visitors = np.random.normal(avg_customer, std_dev, num_days).round(2)\n",
    "margin = np.random.normal(avg_margin, std_dev_m, num_days)\n",
    "spend = np.random.normal(avg_spend, std_dev_s, num_days)\n",
    "\n",
    "df = pd.DataFrame(index=range(num_days), data={'num_visitors': visitors,\n",
    "                                               'margin': margin,\n",
    "                                               'spent': spend})\n",
    "    \n",
    "    # Calculate the revenue, total proft and expenses 1- profit\n",
    "df['revenue'] = df['num_visitors'] * df['spent'] # Calculate the total revenue\n",
    "df['expenses'] = df['revenue'] * (1- df['margin']) # Calculate the cost of buying product\n",
    "df['profit'] = df['revenue'] * df['margin'] # Calculate the profit\n",
    "\n",
    "df2 = df.append(df) # append a second way..........................\n",
    "\n",
    "  # We want to track the total revenue expenses and profit\n",
    "profit_total.append([df['revenue'].sum().round(0),\n",
    "                      df['expenses'].sum().round(0),\n",
    "                      df['profit'].sum().round(0)])"
   ]
  },
  {
   "cell_type": "code",
   "execution_count": 153,
   "metadata": {},
   "outputs": [
    {
     "data": {
      "text/plain": [
       "(730, 6)"
      ]
     },
     "execution_count": 153,
     "metadata": {},
     "output_type": "execute_result"
    }
   ],
   "source": [
    "df2.describe()\n",
    "df2.shape"
   ]
  },
  {
   "cell_type": "code",
   "execution_count": 154,
   "metadata": {},
   "outputs": [
    {
     "data": {
      "text/plain": [
       "Text(0, 0.5, 'Frequency')"
      ]
     },
     "execution_count": 154,
     "metadata": {},
     "output_type": "execute_result"
    },
    {
     "data": {
      "image/png": "[encoded data removed]",
      "text/plain": [
       "<Figure size 432x288 with 1 Axes>"
      ]
     },
     "metadata": {
      "needs_background": "light"
     },
     "output_type": "display_data"
    }
   ],
   "source": [
    "# matplotlib histogram\n",
    "import matplotlib.pyplot as plt\n",
    "plt.hist(df2['profit'], color = 'blue', edgecolor = 'black',\n",
    "         bins = int(180/5))\n",
    "# Add labels\n",
    "plt.title('Histogram profit distribution')\n",
    "plt.xlabel('profit')\n",
    "plt.ylabel('Frequency')"
   ]
  },
  {
   "cell_type": "code",
   "execution_count": null,
   "metadata": {},
   "outputs": [],
   "source": []
  }
 ],
 "metadata": {
  "kernelspec": {
   "display_name": "Python 3",
   "language": "python",
   "name": "python3"
  },
  "language_info": {
   "codemirror_mode": {
    "name": "ipython",
    "version": 3
   },
   "file_extension": ".py",
   "mimetype": "text/x-python",
   "name": "python",
   "nbconvert_exporter": "python",
   "pygments_lexer": "ipython3",
   "version": "3.7.7"
  }
 },
 "nbformat": 4,
 "nbformat_minor": 4
}

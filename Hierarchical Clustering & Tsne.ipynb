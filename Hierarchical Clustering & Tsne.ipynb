{
 "cells": [
  {
   "cell_type": "markdown",
   "metadata": {},
   "source": [
    "# Hierarcial Clustering "
   ]
  },
  {
   "cell_type": "code",
   "execution_count": 2,
   "metadata": {},
   "outputs": [],
   "source": [
    "import pandas as pd\n",
    "import numpy as np"
   ]
  },
  {
   "cell_type": "code",
   "execution_count": 42,
   "metadata": {},
   "outputs": [
    {
     "name": "stdout",
     "output_type": "stream",
     "text": [
      "          companies  1/4/2010  1/5/2010  1/6/2010  1/7/2010  1/8/2010  \\\n",
      "0             Apple  0.580000 -0.220005 -3.409998 -1.170000  1.680011   \n",
      "1               AIG -0.640002 -0.650000 -0.210001 -0.420000  0.710001   \n",
      "2            Amazon -2.350006  1.260009 -2.350006 -2.009995  2.960006   \n",
      "3  American express  0.109997  0.000000  0.260002  0.720002  0.190003   \n",
      "4            Boeing  0.459999  1.770000  1.549999  2.690003  0.059997   \n",
      "\n",
      "   1/11/2010  1/12/2010  1/13/2010  1/14/2010  ...  10/16/2013  10/17/2013  \\\n",
      "0  -2.689994  -1.469994   2.779997  -0.680003  ...    0.320008    4.519997   \n",
      "1  -0.200001  -1.130001   0.069999  -0.119999  ...    0.919998    0.709999   \n",
      "2  -2.309997  -1.640007   1.209999  -1.790001  ...    2.109985    3.699982   \n",
      "3  -0.270001   0.750000   0.300004   0.639999  ...    0.680001    2.290001   \n",
      "4  -1.080002   0.360000   0.549999   0.530002  ...    1.559997    2.480003   \n",
      "\n",
      "   10/18/2013  10/21/2013  10/22/2013  10/23/2013  10/24/2013  10/25/2013  \\\n",
      "0    2.899987    9.590019   -6.540016    5.959976    6.910011   -5.359962   \n",
      "1    0.119999   -0.480000    0.010002   -0.279998   -0.190003   -0.040001   \n",
      "2    9.570008   -3.450013    4.820008   -4.079986    2.579986    4.790009   \n",
      "3    0.409996   -0.069999    0.100006    0.069999    0.130005    1.849999   \n",
      "4    0.019997   -1.220001    0.480003    3.020004   -0.029999    1.940002   \n",
      "\n",
      "   10/28/2013  10/29/2013  \n",
      "0    0.840019  -19.589981  \n",
      "1   -0.400002    0.660000  \n",
      "2   -1.760009    3.740021  \n",
      "3    0.040001    0.540001  \n",
      "4    1.130005    0.309998  \n",
      "\n",
      "[5 rows x 964 columns]\n"
     ]
    }
   ],
   "source": [
    "samples = pd.read_csv('companystockpricemovement1.csv',header=0)\n",
    "print(samples.head())\n"
   ]
  },
  {
   "cell_type": "code",
   "execution_count": 43,
   "metadata": {},
   "outputs": [
    {
     "data": {
      "text/plain": [
       "array([['Apple', 0.58, -0.220005, ..., -5.359962, 0.8400190000000001,\n",
       "        -19.589980999999998],\n",
       "       ['AIG', -0.6400020000000001, -0.65, ..., -0.040001, -0.400002,\n",
       "        0.66],\n",
       "       ['Amazon', -2.350006, 1.260009, ..., 4.7900089999999995,\n",
       "        -1.760009, 3.740021],\n",
       "       ...,\n",
       "       ['Exxon', 0.430001, 0.229996, ..., -0.260002, 0.400001,\n",
       "        0.48000299999999996],\n",
       "       ['Xerox', 0.09, 0.01, ..., -0.03, 0.02, -0.03],\n",
       "       ['Yahoo', 0.159999, 0.010001000000000001, ..., -0.060001,\n",
       "        0.259998, 0.099998]], dtype=object)"
      ]
     },
     "execution_count": 43,
     "metadata": {},
     "output_type": "execute_result"
    }
   ],
   "source": [
    "movements = samples.to_numpy()\n",
    "movements"
   ]
  },
  {
   "cell_type": "code",
   "execution_count": 46,
   "metadata": {},
   "outputs": [
    {
     "data": {
      "text/plain": [
       "array([[0.58, -0.220005, -3.4099980000000003, -1.17, 1.6800110000000001],\n",
       "       [-0.6400020000000001, -0.65, -0.21000100000000002, -0.42,\n",
       "        0.710001],\n",
       "       [-2.350006, 1.260009, -2.350006, -2.009995, 2.960006],\n",
       "       [0.109997, 0.0, 0.260002, 0.720002, 0.190003],\n",
       "       [0.459999, 1.77, 1.549999, 2.690003, 0.059997],\n",
       "       [0.45, 0.46000100000000005, 0.18, 0.25, -0.199999],\n",
       "       [0.18, 0.22000100000000003, 0.040001, 0.25, -0.360001],\n",
       "       [0.73, 0.36999899999999997, -0.099999, -0.169999, 0.030003],\n",
       "       [0.8999969999999999, 0.700001, 0.25, 0.36999899999999997, 1.09],\n",
       "       [0.36, 0.9099959999999999, -0.290001, -0.059998, 1.300003],\n",
       "       [0.809991, -0.020006, 0.340003, 0.089988, 0.6500060000000001],\n",
       "       [0.58, -0.02, -0.120001, 0.230002, 0.280001],\n",
       "       [0.860001, 0.400002, 0.189995, -0.029999, 0.349998],\n",
       "       [0.279997, -0.420001, 0.190002, 0.500001, -0.340001],\n",
       "       [-0.08, 0.1, -0.17, 0.15, 0.05],\n",
       "       [0.11, 0.51, 0.16, 0.2, 0.02],\n",
       "       [0.23, 0.07, -0.08, 0.77, 0.290001],\n",
       "       [-0.199995, -3.189984, -17.599998, -15.299992999999999, 10.02],\n",
       "       [3.029999, 3.139999, -1.12001, 3.349991, -2.020004],\n",
       "       [-0.110001, -0.16, -0.22000100000000003, 0.079998,\n",
       "        0.039997000000000005],\n",
       "       [-0.48, 0.149999, -0.099998, 0.26, -0.02],\n",
       "       [0.439999, 0.200001, 0.180001, 0.189999, 0.25],\n",
       "       [0.9100020000000001, 0.53, -0.349997, 0.01, 0.48999899999999996],\n",
       "       [1.2700040000000001, -0.829987, -0.6799930000000001, -0.319992,\n",
       "        1.779999],\n",
       "       [0.08999800000000001, -0.07, -0.01, -0.13, 0.28999899999999995],\n",
       "       [-0.029999, -0.6500020000000001, 0.549995, -0.259998, 0.290001],\n",
       "       [1.0599969999999999, 0.889999, 0.469997, 1.0, 0.310001],\n",
       "       [-0.020005000000000002, 0.010003, -0.8200040000000001, -0.57,\n",
       "        -0.159997],\n",
       "       [-0.119999, -0.5, -0.019996, -0.140003, -0.30999699999999997],\n",
       "       [0.9799950000000001, 1.0299989999999999, 0.410004,\n",
       "        -1.7599939999999998, 1.260003],\n",
       "       [-1.1499979999999999, -1.7600060000000002, -0.6800069999999999,\n",
       "        0.489997, 1.650009],\n",
       "       [0.149998, -0.360001, -0.75, 0.6500020000000001, -0.43],\n",
       "       [-0.069999, -0.300003, -0.209999, 0.41000299999999995, 0.629998],\n",
       "       [0.33, 0.109999, -0.109999, -0.179998, 0.379999],\n",
       "       [0.06, 0.02, 0.01, 0.04, 0.06],\n",
       "       [0.390004, -0.520001, 1.110001, 0.209999, -0.190003],\n",
       "       [0.75, 0.250002, 0.36999899999999997, 0.8400049999999999,\n",
       "        0.070003],\n",
       "       [-1.139999, -0.05, -0.5, 0.029999, -0.079998],\n",
       "       [0.050003, 0.98, -0.630001, -0.379997, 0.010001999999999999],\n",
       "       [0.66, -0.26, -0.06, -0.109998, 0.059999000000000004],\n",
       "       [0.009998, 0.009998, -0.090001, -0.060002, 0.079998],\n",
       "       [1.019996, -0.45000100000000004, 0.259998, 0.759999, -0.060002],\n",
       "       [0.489997, -0.190003, -0.22999899999999998, 0.07, 0.350002],\n",
       "       [-0.119999, -0.16, 0.5799979999999999, 0.529999, 0.530003],\n",
       "       [0.720002, 0.31000500000000003, 1.630005, 1.0200040000000001,\n",
       "        1.46],\n",
       "       [0.5, 0.16, -0.029999, 0.059999000000000004, 0.36999899999999997],\n",
       "       [0.48, -0.110001, 0.16, 0.22999899999999998, 0.219998],\n",
       "       [0.35999899999999996, -0.10000099999999999, 0.140002, -0.149999,\n",
       "        0.120001],\n",
       "       [0.330002, 0.599999, 0.48999799999999993, 0.68, 1.260002],\n",
       "       [0.059997, 0.010001999999999999, 0.32, 0.169999, 0.630005],\n",
       "       [0.09, -0.07, -0.07, -0.3, -0.04],\n",
       "       [-0.190001, -0.09, -0.23, 0.15, 0.74],\n",
       "       [0.060001, -0.039997000000000005, 0.140001, -0.01, 0.18],\n",
       "       [0.6400020000000001, 0.230002, 0.41999899999999996, 0.170007,\n",
       "        -0.23999099999999998],\n",
       "       [0.290001, -0.099998, 0.560001, 0.25, 0.070004],\n",
       "       [0.3, 0.8, 0.08, 1.009998, -0.039999],\n",
       "       [0.48999799999999993, -0.400001, 0.07, -0.120003, -0.099998],\n",
       "       [0.430001, 0.229996, 0.57, -0.099999, -0.170005],\n",
       "       [0.09, 0.01, -0.08, 0.07, -0.01],\n",
       "       [0.159999, 0.010001000000000001, 0.0, -0.109998,\n",
       "        0.020000999999999998]], dtype=object)"
      ]
     },
     "execution_count": 46,
     "metadata": {},
     "output_type": "execute_result"
    }
   ],
   "source": [
    "movements = movements[ :,[1,2,3,4,5]]\n",
    "movements"
   ]
  },
  {
   "cell_type": "code",
   "execution_count": null,
   "metadata": {},
   "outputs": [],
   "source": [
    "# Import normalize\n",
    "# Perform the necessary imports\n",
    "from scipy.cluster.hierarchy import linkage, dendrogram\n",
    "import matplotlib.pyplot as plt\n",
    "\n",
    "from sklearn.preprocessing import normalize\n",
    "\n",
    "# Normalize the movements: normalized_movements\n",
    "normalized_movements = normalize(movements)\n",
    "\n",
    "# Calculate the linkage: mergings\n",
    "mergings = linkage(normalized_movements, method='complete')\n",
    "\n",
    "# Plot the dendrogram\n",
    "dendrogram(\n",
    "    mergings,\n",
    "    labels=companies,\n",
    "    leaf_rotation=90,\n",
    "    leaf_font_size=6\n",
    ")\n",
    "plt.show()\n"
   ]
  },
  {
   "cell_type": "code",
   "execution_count": 48,
   "metadata": {},
   "outputs": [
    {
     "name": "stdout",
     "output_type": "stream",
     "text": [
      "  From country       To country  Jury A  Jury B  Jury C  Jury D  Jury E  \\\n",
      "0      Albania          Belgium      20      16      24      22      24   \n",
      "1      Albania   Czech Republic      21      15      25      23      16   \n",
      "2      Albania  The Netherlands      22      14      23      24      21   \n",
      "3      Albania       Azerbaijan      19      12      11      21      11   \n",
      "4      Albania          Hungary       8      13       9      14       9   \n",
      "\n",
      "   Jury Rank  Televote Rank  Jury Points  Televote Points  \n",
      "0         25             14          NaN              NaN  \n",
      "1         22             22          NaN              NaN  \n",
      "2         24             24          NaN              NaN  \n",
      "3         13             19          NaN              NaN  \n",
      "4         10             10          1.0              1.0  \n"
     ]
    }
   ],
   "source": [
    "df = pd.read_csv('Eurovision2016.csv',header=0)\n",
    "print(df.head())"
   ]
  },
  {
   "cell_type": "code",
   "execution_count": null,
   "metadata": {},
   "outputs": [],
   "source": [
    "# Perform the necessary imports\n",
    "import matplotlib.pyplot as plt\n",
    "from scipy.cluster.hierarchy import linkage, dendrogram\n",
    "\n",
    "# Calculate the linkage: mergings\n",
    "mergings = linkage(samples, method='single')\n",
    "\n",
    "# Plot the dendrogram\n",
    "dendrogram(mergings,\n",
    "           labels=country_names,\n",
    "           leaf_rotation=90,\n",
    "           leaf_font_size=6,\n",
    ")\n",
    "plt.show()\n"
   ]
  },
  {
   "cell_type": "code",
   "execution_count": null,
   "metadata": {},
   "outputs": [],
   "source": [
    "# Perform the necessary imports\n",
    "import pandas as pd\n",
    "from scipy.cluster.hierarchy import fcluster\n",
    "\n",
    "# Use fcluster to extract labels: labels\n",
    "labels = fcluster(mergings, 6, criterion='distance')\n",
    "\n",
    "# Create a DataFrame with labels and varieties as columns: df\n",
    "df = pd.DataFrame({'labels': labels, 'varieties': varieties})\n",
    "\n",
    "# Create crosstab: ct\n",
    "ct = pd.crosstab(df['labels'], df['varieties'])\n",
    "\n",
    "# Display ct\n",
    "print(ct)\n"
   ]
  },
  {
   "cell_type": "code",
   "execution_count": null,
   "metadata": {},
   "outputs": [],
   "source": [
    "# Import TSNE\n",
    "from sklearn.manifold import TSNE\n",
    "\n",
    "# Create a TSNE instance: model\n",
    "model = TSNE(learning_rate=200)\n",
    "\n",
    "# Apply fit_transform to samples: tsne_features\n",
    "tsne_features = model.fit_transform(samples)\n",
    "\n",
    "# Select the 0th feature: xs\n",
    "xs = tsne_features[:,0]"
   ]
  },
  {
   "cell_type": "code",
   "execution_count": null,
   "metadata": {},
   "outputs": [],
   "source": [
    "# Import TSNE\n",
    "from sklearn.manifold import TSNE\n",
    "\n",
    "# Create a TSNE instance: model\n",
    "model = TSNE(learning_rate=50)\n",
    "\n",
    "# Apply fit_transform to normalized_movements: tsne_features\n",
    "tsne_features = model.fit_transform(normalized_movements)\n",
    "\n",
    "# Select the 0th feature: xs\n",
    "xs = tsne_features[:,0]\n",
    "\n",
    "# Select the 1th feature: ys\n",
    "ys = tsne_features[:,1]\n",
    "\n",
    "# Scatter plot\n",
    "plt.scatter(xs, ys, alpha=0.5)\n",
    "\n",
    "# Annotate the points\n",
    "for x, y, company in zip(xs, ys, companies):\n",
    "    plt.annotate(company, (x, y), fontsize=5, alpha=0.75)\n",
    "plt.show()\n"
   ]
  }
 ],
 "metadata": {
  "kernelspec": {
   "display_name": "Python 3",
   "language": "python",
   "name": "python3"
  },
  "language_info": {
   "codemirror_mode": {
    "name": "ipython",
    "version": 3
   },
   "file_extension": ".py",
   "mimetype": "text/x-python",
   "name": "python",
   "nbconvert_exporter": "python",
   "pygments_lexer": "ipython3",
   "version": "3.7.6"
  }
 },
 "nbformat": 4,
 "nbformat_minor": 4
}

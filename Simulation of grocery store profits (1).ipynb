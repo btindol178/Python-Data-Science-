{
 "cells": [
  {
   "cell_type": "markdown",
   "metadata": {},
   "source": [
    "# Monte Carlo Simulation\n",
    "Making a function that simulates grocery store sales"
   ]
  },
  {
   "cell_type": "markdown",
   "metadata": {},
   "source": [
    "# Average grocery visit cost and number of visitors \n",
    "    \n",
    "According to: https://www.foxbusiness.com/lifestyle/what-is-the-average-grocery-bill-for-one-person\n",
    "The average grocery monthly bill is between 165 and 345 the average person going twice a month so we will divide 255 by 2 so 127$ will be the average visit cost.\n",
    "\n",
    "According to: https://www.quora.com/What-is-the-average-foot-traffic-at-a-local-grocery-store\n",
    "Even small stores get 2000 visitors a day we will be a slightly bigger store at 4000 per day average\n",
    " \n"
   ]
  },
  {
   "cell_type": "code",
   "execution_count": 3,
   "metadata": {},
   "outputs": [],
   "source": [
    "import numpy as np\n",
    "import pandas as pd\n",
    "import random"
   ]
  },
  {
   "cell_type": "markdown",
   "metadata": {},
   "source": [
    "# Simulate average visitors per day, avg margin per day and average amount spend per day per person\n",
    "This assumes that each day people will buy a varying amount and types of products leading to various margins"
   ]
  },
  {
   "cell_type": "code",
   "execution_count": 4,
   "metadata": {},
   "outputs": [],
   "source": [
    "#Simulate normal distribution of visitors with average amount of visitors is 4000 transactions per day\n",
    "avg_customer = 4000 \n",
    "std_dev = avg_customer * .10 # 10% standard deviation of average visitor amount for simplicity\n",
    "num_days = 365\n",
    "\n",
    "\n",
    "# Get variables needed to calculate the random margin\n",
    "avg_margin = .0275 \n",
    "std_dev_m = avg_margin * .10 # 10% standard deviation of average visitor amount for simplicity\n",
    "num_dayz = 365\n",
    "\n",
    "# Get random distribution for amount the average customer spends each day.\n",
    "avg_spend = 127.5 \n",
    "std_dev_s = avg_spend * .10 # 10% standard deviation of average visitor amount for simplicity\n",
    "num_dayz2 = 365"
   ]
  },
  {
   "cell_type": "code",
   "execution_count": 5,
   "metadata": {},
   "outputs": [],
   "source": [
    "# Simulating random number of visitors for a whole year.....\n",
    "visitors = np.random.normal(avg_customer, std_dev, num_days).round(2)\n",
    "margin = np.random.normal(avg_margin, std_dev_m, num_dayz)\n",
    "spend = np.random.normal(avg_spend, std_dev_s, num_dayz2)"
   ]
  },
  {
   "cell_type": "markdown",
   "metadata": {},
   "source": [
    "# Calculate Revenue "
   ]
  },
  {
   "cell_type": "code",
   "execution_count": 6,
   "metadata": {},
   "outputs": [],
   "source": [
    "df = pd.DataFrame(index=range(num_days), data={'num_visitors': visitors,\n",
    "                                               'margin': margin,\n",
    "                                               'spent': spend})"
   ]
  },
  {
   "cell_type": "code",
   "execution_count": 7,
   "metadata": {},
   "outputs": [
    {
     "data": {
      "text/html": [
       "<div>\n",
       "<style scoped>\n",
       "    .dataframe tbody tr th:only-of-type {\n",
       "        vertical-align: middle;\n",
       "    }\n",
       "\n",
       "    .dataframe tbody tr th {\n",
       "        vertical-align: top;\n",
       "    }\n",
       "\n",
       "    .dataframe thead th {\n",
       "        text-align: right;\n",
       "    }\n",
       "</style>\n",
       "<table border=\"1\" class=\"dataframe\">\n",
       "  <thead>\n",
       "    <tr style=\"text-align: right;\">\n",
       "      <th></th>\n",
       "      <th>num_visitors</th>\n",
       "      <th>margin</th>\n",
       "      <th>spent</th>\n",
       "      <th>revenue</th>\n",
       "      <th>expenses</th>\n",
       "      <th>profit</th>\n",
       "    </tr>\n",
       "  </thead>\n",
       "  <tbody>\n",
       "    <tr>\n",
       "      <th>0</th>\n",
       "      <td>3884.18</td>\n",
       "      <td>0.027763</td>\n",
       "      <td>114.118995</td>\n",
       "      <td>443258.718584</td>\n",
       "      <td>430952.467190</td>\n",
       "      <td>12306.251394</td>\n",
       "    </tr>\n",
       "    <tr>\n",
       "      <th>1</th>\n",
       "      <td>3521.67</td>\n",
       "      <td>0.028724</td>\n",
       "      <td>130.015580</td>\n",
       "      <td>457871.967552</td>\n",
       "      <td>444720.214228</td>\n",
       "      <td>13151.753324</td>\n",
       "    </tr>\n",
       "    <tr>\n",
       "      <th>2</th>\n",
       "      <td>4341.67</td>\n",
       "      <td>0.029232</td>\n",
       "      <td>139.638107</td>\n",
       "      <td>606262.581220</td>\n",
       "      <td>588540.089164</td>\n",
       "      <td>17722.492056</td>\n",
       "    </tr>\n",
       "    <tr>\n",
       "      <th>3</th>\n",
       "      <td>3748.28</td>\n",
       "      <td>0.026805</td>\n",
       "      <td>114.448666</td>\n",
       "      <td>428985.647053</td>\n",
       "      <td>417486.820721</td>\n",
       "      <td>11498.826332</td>\n",
       "    </tr>\n",
       "    <tr>\n",
       "      <th>4</th>\n",
       "      <td>4016.91</td>\n",
       "      <td>0.030407</td>\n",
       "      <td>121.454535</td>\n",
       "      <td>487871.935582</td>\n",
       "      <td>473037.335439</td>\n",
       "      <td>14834.600143</td>\n",
       "    </tr>\n",
       "  </tbody>\n",
       "</table>\n",
       "</div>"
      ],
      "text/plain": [
       "   num_visitors    margin       spent        revenue       expenses  \\\n",
       "0       3884.18  0.027763  114.118995  443258.718584  430952.467190   \n",
       "1       3521.67  0.028724  130.015580  457871.967552  444720.214228   \n",
       "2       4341.67  0.029232  139.638107  606262.581220  588540.089164   \n",
       "3       3748.28  0.026805  114.448666  428985.647053  417486.820721   \n",
       "4       4016.91  0.030407  121.454535  487871.935582  473037.335439   \n",
       "\n",
       "         profit  \n",
       "0  12306.251394  \n",
       "1  13151.753324  \n",
       "2  17722.492056  \n",
       "3  11498.826332  \n",
       "4  14834.600143  "
      ]
     },
     "execution_count": 7,
     "metadata": {},
     "output_type": "execute_result"
    }
   ],
   "source": [
    "# Calculate the revenue, total proft and expenses 1- profit\n",
    "df['revenue'] = df['num_visitors'] * df['spent'] # Calculate the total revenue\n",
    "df['expenses'] = df['revenue'] * (1- df['margin']) # Calculate the cost of buying product\n",
    "df['profit'] = df['revenue'] * df['margin'] # Calculate the profit\n",
    "df.head()"
   ]
  },
  {
   "cell_type": "markdown",
   "metadata": {},
   "source": [
    "# SIMULATION NOW "
   ]
  },
  {
   "cell_type": "code",
   "execution_count": 8,
   "metadata": {},
   "outputs": [],
   "source": [
    "#Simulate normal distribution of visitors with average amount of visitors is 4000 transactions per day\n",
    "avg_customer = 4000 \n",
    "std_dev = avg_customer * .10 # 10% standard deviation of average visitor amount for simplicity\n",
    "num_days = 365\n",
    "\n",
    "# Get variables needed to calculate the random margin\n",
    "avg_margin = .0275 \n",
    "std_dev_m = avg_margin * .10 # 10% standard deviation of average visitor amount for simplicity\n",
    "\n",
    "# Get random distribution for amount the average customer spends each day.\n",
    "avg_spend = 127.5 \n",
    "std_dev_s = avg_spend * .10 # 10% standard deviation of average visitor amount for simplicity"
   ]
  },
  {
   "cell_type": "markdown",
   "metadata": {},
   "source": [
    "# Num_days * 2 is the number of days (number of rows we simulate grocery activity)"
   ]
  },
  {
   "cell_type": "code",
   "execution_count": 13,
   "metadata": {},
   "outputs": [],
   "source": [
    "# Change this variable to decide number of rows(or days)\n",
    "num_days = 365 # This number will get multiplied by 2 to simulate number of rows\n",
    "# This will simulate 2 years or 365 *2"
   ]
  },
  {
   "cell_type": "code",
   "execution_count": 16,
   "metadata": {},
   "outputs": [],
   "source": [
    "# df2 is empty dataframe to hold data\n",
    "df2= pd.DataFrame\n",
    "\n",
    "# simulations\n",
    "num_simulations = 100\n",
    "\n",
    "# list to keep all the results from each simulation \n",
    "profit_total = []\n",
    "\n",
    "# Loop through many simulations\n",
    "for i in range(num_simulations):\n",
    "    # Simulating random visitors, average margin and spend per day for the store\n",
    "    visitors = np.random.normal(avg_customer, std_dev, num_days).round(2)\n",
    "margin = np.random.normal(avg_margin, std_dev_m, num_days)\n",
    "spend = np.random.normal(avg_spend, std_dev_s, num_days)\n",
    "\n",
    "df = pd.DataFrame(index=range(num_days), data={'num_visitors': visitors,\n",
    "                                               'margin': margin,\n",
    "                                               'spent': spend})\n",
    "    \n",
    "    # Calculate the revenue, total proft and expenses 1- profit\n",
    "df['revenue'] = df['num_visitors'] * df['spent'] # Calculate the total revenue\n",
    "df['expenses'] = df['revenue'] * (1- df['margin']) # Calculate the cost of buying product\n",
    "df['profit'] = df['revenue'] * df['margin'] # Calculate the profit\n",
    "\n",
    "df2 = df.append(df) # append a second way..........................\n",
    "\n",
    "  # We want to track the total revenue expenses and profit\n",
    "profit_total.append([df['revenue'].sum().round(0),\n",
    "                      df['expenses'].sum().round(0),\n",
    "                      df['profit'].sum().round(0)])"
   ]
  },
  {
   "cell_type": "code",
   "execution_count": 17,
   "metadata": {},
   "outputs": [
    {
     "data": {
      "text/html": [
       "<div>\n",
       "<style scoped>\n",
       "    .dataframe tbody tr th:only-of-type {\n",
       "        vertical-align: middle;\n",
       "    }\n",
       "\n",
       "    .dataframe tbody tr th {\n",
       "        vertical-align: top;\n",
       "    }\n",
       "\n",
       "    .dataframe thead th {\n",
       "        text-align: right;\n",
       "    }\n",
       "</style>\n",
       "<table border=\"1\" class=\"dataframe\">\n",
       "  <thead>\n",
       "    <tr style=\"text-align: right;\">\n",
       "      <th></th>\n",
       "      <th>num_visitors</th>\n",
       "      <th>margin</th>\n",
       "      <th>spent</th>\n",
       "      <th>revenue</th>\n",
       "      <th>expenses</th>\n",
       "      <th>profit</th>\n",
       "    </tr>\n",
       "  </thead>\n",
       "  <tbody>\n",
       "    <tr>\n",
       "      <th>count</th>\n",
       "      <td>730.000000</td>\n",
       "      <td>730.000000</td>\n",
       "      <td>730.000000</td>\n",
       "      <td>730.000000</td>\n",
       "      <td>730.000000</td>\n",
       "      <td>730.000000</td>\n",
       "    </tr>\n",
       "    <tr>\n",
       "      <th>mean</th>\n",
       "      <td>4014.114521</td>\n",
       "      <td>0.027775</td>\n",
       "      <td>126.615028</td>\n",
       "      <td>508419.373239</td>\n",
       "      <td>494288.979657</td>\n",
       "      <td>14130.393582</td>\n",
       "    </tr>\n",
       "    <tr>\n",
       "      <th>std</th>\n",
       "      <td>398.022437</td>\n",
       "      <td>0.002606</td>\n",
       "      <td>12.283889</td>\n",
       "      <td>72442.081498</td>\n",
       "      <td>70370.005390</td>\n",
       "      <td>2485.399796</td>\n",
       "    </tr>\n",
       "    <tr>\n",
       "      <th>min</th>\n",
       "      <td>2167.290000</td>\n",
       "      <td>0.019440</td>\n",
       "      <td>83.920719</td>\n",
       "      <td>295700.487332</td>\n",
       "      <td>286762.932623</td>\n",
       "      <td>8252.896496</td>\n",
       "    </tr>\n",
       "    <tr>\n",
       "      <th>25%</th>\n",
       "      <td>3760.810000</td>\n",
       "      <td>0.025991</td>\n",
       "      <td>118.412697</td>\n",
       "      <td>458339.588280</td>\n",
       "      <td>445612.319360</td>\n",
       "      <td>12402.880334</td>\n",
       "    </tr>\n",
       "    <tr>\n",
       "      <th>50%</th>\n",
       "      <td>4024.190000</td>\n",
       "      <td>0.027712</td>\n",
       "      <td>126.655932</td>\n",
       "      <td>502968.821848</td>\n",
       "      <td>488737.049592</td>\n",
       "      <td>13934.662330</td>\n",
       "    </tr>\n",
       "    <tr>\n",
       "      <th>75%</th>\n",
       "      <td>4263.660000</td>\n",
       "      <td>0.029466</td>\n",
       "      <td>135.586054</td>\n",
       "      <td>556177.667807</td>\n",
       "      <td>538889.240046</td>\n",
       "      <td>15655.661319</td>\n",
       "    </tr>\n",
       "    <tr>\n",
       "      <th>max</th>\n",
       "      <td>5151.760000</td>\n",
       "      <td>0.035580</td>\n",
       "      <td>161.517397</td>\n",
       "      <td>724741.480637</td>\n",
       "      <td>698955.443996</td>\n",
       "      <td>25786.036641</td>\n",
       "    </tr>\n",
       "  </tbody>\n",
       "</table>\n",
       "</div>"
      ],
      "text/plain": [
       "       num_visitors      margin       spent        revenue       expenses  \\\n",
       "count    730.000000  730.000000  730.000000     730.000000     730.000000   \n",
       "mean    4014.114521    0.027775  126.615028  508419.373239  494288.979657   \n",
       "std      398.022437    0.002606   12.283889   72442.081498   70370.005390   \n",
       "min     2167.290000    0.019440   83.920719  295700.487332  286762.932623   \n",
       "25%     3760.810000    0.025991  118.412697  458339.588280  445612.319360   \n",
       "50%     4024.190000    0.027712  126.655932  502968.821848  488737.049592   \n",
       "75%     4263.660000    0.029466  135.586054  556177.667807  538889.240046   \n",
       "max     5151.760000    0.035580  161.517397  724741.480637  698955.443996   \n",
       "\n",
       "             profit  \n",
       "count    730.000000  \n",
       "mean   14130.393582  \n",
       "std     2485.399796  \n",
       "min     8252.896496  \n",
       "25%    12402.880334  \n",
       "50%    13934.662330  \n",
       "75%    15655.661319  \n",
       "max    25786.036641  "
      ]
     },
     "execution_count": 17,
     "metadata": {},
     "output_type": "execute_result"
    }
   ],
   "source": [
    "df2.describe()"
   ]
  },
  {
   "cell_type": "code",
   "execution_count": 18,
   "metadata": {
    "scrolled": true
   },
   "outputs": [
    {
     "data": {
      "text/plain": [
       "Text(0, 0.5, 'Frequency')"
      ]
     },
     "execution_count": 18,
     "metadata": {},
     "output_type": "execute_result"
    },
    {
     "data": {
      "image/png": "[encoded data removed]",
      "text/plain": [
       "<Figure size 432x288 with 1 Axes>"
      ]
     },
     "metadata": {
      "needs_background": "light"
     },
     "output_type": "display_data"
    }
   ],
   "source": [
    "# matplotlib histogram\n",
    "import matplotlib.pyplot as plt\n",
    "plt.hist(df2['profit'], color = 'blue', edgecolor = 'black',\n",
    "         bins = int(180/5))\n",
    "# Add labels\n",
    "plt.title('Histogram profit distribution')\n",
    "plt.xlabel('profit')\n",
    "plt.ylabel('Frequency')"
   ]
  },
  {
   "cell_type": "code",
   "execution_count": 23,
   "metadata": {},
   "outputs": [
    {
     "data": {
      "text/html": [
       "<div>\n",
       "<style scoped>\n",
       "    .dataframe tbody tr th:only-of-type {\n",
       "        vertical-align: middle;\n",
       "    }\n",
       "\n",
       "    .dataframe tbody tr th {\n",
       "        vertical-align: top;\n",
       "    }\n",
       "\n",
       "    .dataframe thead th {\n",
       "        text-align: right;\n",
       "    }\n",
       "</style>\n",
       "<table border=\"1\" class=\"dataframe\">\n",
       "  <thead>\n",
       "    <tr style=\"text-align: right;\">\n",
       "      <th></th>\n",
       "      <th>num_visitors</th>\n",
       "      <th>margin</th>\n",
       "      <th>spent</th>\n",
       "      <th>revenue</th>\n",
       "      <th>expenses</th>\n",
       "      <th>profit</th>\n",
       "    </tr>\n",
       "  </thead>\n",
       "  <tbody>\n",
       "    <tr>\n",
       "      <th>0</th>\n",
       "      <td>3302.89</td>\n",
       "      <td>0.027476</td>\n",
       "      <td>124.739533</td>\n",
       "      <td>412000.956264</td>\n",
       "      <td>400680.918228</td>\n",
       "      <td>11320.038036</td>\n",
       "    </tr>\n",
       "    <tr>\n",
       "      <th>1</th>\n",
       "      <td>4053.46</td>\n",
       "      <td>0.028398</td>\n",
       "      <td>120.448756</td>\n",
       "      <td>488234.214435</td>\n",
       "      <td>474369.575463</td>\n",
       "      <td>13864.638973</td>\n",
       "    </tr>\n",
       "    <tr>\n",
       "      <th>2</th>\n",
       "      <td>3227.67</td>\n",
       "      <td>0.029144</td>\n",
       "      <td>118.041375</td>\n",
       "      <td>380998.605302</td>\n",
       "      <td>369894.917120</td>\n",
       "      <td>11103.688182</td>\n",
       "    </tr>\n",
       "    <tr>\n",
       "      <th>3</th>\n",
       "      <td>4196.75</td>\n",
       "      <td>0.027782</td>\n",
       "      <td>111.642459</td>\n",
       "      <td>468535.488553</td>\n",
       "      <td>455518.578212</td>\n",
       "      <td>13016.910341</td>\n",
       "    </tr>\n",
       "    <tr>\n",
       "      <th>4</th>\n",
       "      <td>4376.62</td>\n",
       "      <td>0.029441</td>\n",
       "      <td>119.903538</td>\n",
       "      <td>524772.220911</td>\n",
       "      <td>509322.368424</td>\n",
       "      <td>15449.852487</td>\n",
       "    </tr>\n",
       "  </tbody>\n",
       "</table>\n",
       "</div>"
      ],
      "text/plain": [
       "   num_visitors    margin       spent        revenue       expenses  \\\n",
       "0       3302.89  0.027476  124.739533  412000.956264  400680.918228   \n",
       "1       4053.46  0.028398  120.448756  488234.214435  474369.575463   \n",
       "2       3227.67  0.029144  118.041375  380998.605302  369894.917120   \n",
       "3       4196.75  0.027782  111.642459  468535.488553  455518.578212   \n",
       "4       4376.62  0.029441  119.903538  524772.220911  509322.368424   \n",
       "\n",
       "         profit  \n",
       "0  11320.038036  \n",
       "1  13864.638973  \n",
       "2  11103.688182  \n",
       "3  13016.910341  \n",
       "4  15449.852487  "
      ]
     },
     "execution_count": 23,
     "metadata": {},
     "output_type": "execute_result"
    }
   ],
   "source": [
    "df2.head()"
   ]
  },
  {
   "cell_type": "code",
   "execution_count": 29,
   "metadata": {
    "scrolled": true
   },
   "outputs": [
    {
     "data": {
      "text/html": [
       "<div>\n",
       "<style scoped>\n",
       "    .dataframe tbody tr th:only-of-type {\n",
       "        vertical-align: middle;\n",
       "    }\n",
       "\n",
       "    .dataframe tbody tr th {\n",
       "        vertical-align: top;\n",
       "    }\n",
       "\n",
       "    .dataframe thead th {\n",
       "        text-align: right;\n",
       "    }\n",
       "</style>\n",
       "<table border=\"1\" class=\"dataframe\">\n",
       "  <thead>\n",
       "    <tr style=\"text-align: right;\">\n",
       "      <th></th>\n",
       "      <th>num_visitors</th>\n",
       "      <th>margin</th>\n",
       "      <th>spent</th>\n",
       "      <th>revenue</th>\n",
       "      <th>expenses</th>\n",
       "      <th>profit</th>\n",
       "      <th>cumsum_profit</th>\n",
       "      <th>cumsum_revenue</th>\n",
       "      <th>cumsum_expenses</th>\n",
       "      <th>days</th>\n",
       "    </tr>\n",
       "  </thead>\n",
       "  <tbody>\n",
       "    <tr>\n",
       "      <th>0</th>\n",
       "      <td>3302.89</td>\n",
       "      <td>0.027476</td>\n",
       "      <td>124.739533</td>\n",
       "      <td>412000.956264</td>\n",
       "      <td>400680.918228</td>\n",
       "      <td>11320.038036</td>\n",
       "      <td>11320.04</td>\n",
       "      <td>412000.96</td>\n",
       "      <td>400680.92</td>\n",
       "      <td>0</td>\n",
       "    </tr>\n",
       "    <tr>\n",
       "      <th>1</th>\n",
       "      <td>4053.46</td>\n",
       "      <td>0.028398</td>\n",
       "      <td>120.448756</td>\n",
       "      <td>488234.214435</td>\n",
       "      <td>474369.575463</td>\n",
       "      <td>13864.638973</td>\n",
       "      <td>25184.68</td>\n",
       "      <td>900235.17</td>\n",
       "      <td>875050.49</td>\n",
       "      <td>1</td>\n",
       "    </tr>\n",
       "    <tr>\n",
       "      <th>2</th>\n",
       "      <td>3227.67</td>\n",
       "      <td>0.029144</td>\n",
       "      <td>118.041375</td>\n",
       "      <td>380998.605302</td>\n",
       "      <td>369894.917120</td>\n",
       "      <td>11103.688182</td>\n",
       "      <td>36288.37</td>\n",
       "      <td>1281233.78</td>\n",
       "      <td>1244945.41</td>\n",
       "      <td>2</td>\n",
       "    </tr>\n",
       "    <tr>\n",
       "      <th>3</th>\n",
       "      <td>4196.75</td>\n",
       "      <td>0.027782</td>\n",
       "      <td>111.642459</td>\n",
       "      <td>468535.488553</td>\n",
       "      <td>455518.578212</td>\n",
       "      <td>13016.910341</td>\n",
       "      <td>49305.28</td>\n",
       "      <td>1749769.26</td>\n",
       "      <td>1700463.99</td>\n",
       "      <td>3</td>\n",
       "    </tr>\n",
       "    <tr>\n",
       "      <th>4</th>\n",
       "      <td>4376.62</td>\n",
       "      <td>0.029441</td>\n",
       "      <td>119.903538</td>\n",
       "      <td>524772.220911</td>\n",
       "      <td>509322.368424</td>\n",
       "      <td>15449.852487</td>\n",
       "      <td>64755.13</td>\n",
       "      <td>2274541.49</td>\n",
       "      <td>2209786.36</td>\n",
       "      <td>4</td>\n",
       "    </tr>\n",
       "  </tbody>\n",
       "</table>\n",
       "</div>"
      ],
      "text/plain": [
       "   num_visitors    margin       spent        revenue       expenses  \\\n",
       "0       3302.89  0.027476  124.739533  412000.956264  400680.918228   \n",
       "1       4053.46  0.028398  120.448756  488234.214435  474369.575463   \n",
       "2       3227.67  0.029144  118.041375  380998.605302  369894.917120   \n",
       "3       4196.75  0.027782  111.642459  468535.488553  455518.578212   \n",
       "4       4376.62  0.029441  119.903538  524772.220911  509322.368424   \n",
       "\n",
       "         profit  cumsum_profit  cumsum_revenue  cumsum_expenses  days  \n",
       "0  11320.038036       11320.04       412000.96        400680.92     0  \n",
       "1  13864.638973       25184.68       900235.17        875050.49     1  \n",
       "2  11103.688182       36288.37      1281233.78       1244945.41     2  \n",
       "3  13016.910341       49305.28      1749769.26       1700463.99     3  \n",
       "4  15449.852487       64755.13      2274541.49       2209786.36     4  "
      ]
     },
     "execution_count": 29,
     "metadata": {},
     "output_type": "execute_result"
    }
   ],
   "source": [
    "df2['cumsum_profit']= df2['profit'].cumsum().round(2)\n",
    "df2['cumsum_revenue']= df2['revenue'].cumsum().round(2)\n",
    "df2['cumsum_expenses']= df2['expenses'].cumsum().round(2)\n",
    "df2['days'] = np.arange(len(df2))\n",
    "\n",
    "df2.head()"
   ]
  },
  {
   "cell_type": "code",
   "execution_count": 46,
   "metadata": {},
   "outputs": [
    {
     "data": {
      "text/plain": [
       "<matplotlib.legend.Legend at 0x2b028211b48>"
      ]
     },
     "execution_count": 46,
     "metadata": {},
     "output_type": "execute_result"
    },
    {
     "data": {
      "image/png": "[encoded data removed]",
      "text/plain": [
       "<Figure size 432x288 with 1 Axes>"
      ]
     },
     "metadata": {
      "needs_background": "light"
     },
     "output_type": "display_data"
    }
   ],
   "source": [
    "# multiple line plot\n",
    "plt.plot( 'days', 'profit', data=df2, marker='o', markerfacecolor='blue', markersize=2, color='skyblue', linewidth=2)\n",
    "plt.legend()"
   ]
  },
  {
   "cell_type": "code",
   "execution_count": 47,
   "metadata": {},
   "outputs": [
    {
     "data": {
      "text/plain": [
       "<matplotlib.legend.Legend at 0x2b0282b9488>"
      ]
     },
     "execution_count": 47,
     "metadata": {},
     "output_type": "execute_result"
    },
    {
     "data": {
      "image/png": "[encoded data removed]",
      "text/plain": [
       "<Figure size 432x288 with 1 Axes>"
      ]
     },
     "metadata": {
      "needs_background": "light"
     },
     "output_type": "display_data"
    }
   ],
   "source": [
    "# multiple line plot\n",
    "plt.plot( 'days', 'cumsum_profit', data=df2, marker='o', markerfacecolor='blue', markersize=2, color='skyblue', linewidth=2)\n",
    "plt.plot( 'days', 'cumsum_revenue', data=df2, marker='o', markerfacecolor='red', markersize=2, color='red', linewidth=2)\n",
    "plt.plot( 'days', 'cumsum_expenses', data=df2, marker='o', markerfacecolor='green', markersize=2, color='green', linewidth=2)\n",
    "plt.legend()\n"
   ]
  },
  {
   "cell_type": "markdown",
   "metadata": {},
   "source": [
    "# Alot of expenses and revenue but thats also alot of profit!"
   ]
  },
  {
   "cell_type": "code",
   "execution_count": null,
   "metadata": {},
   "outputs": [],
   "source": []
  }
 ],
 "metadata": {
  "kernelspec": {
   "display_name": "Python 3",
   "language": "python",
   "name": "python3"
  },
  "language_info": {
   "codemirror_mode": {
    "name": "ipython",
    "version": 3
   },
   "file_extension": ".py",
   "mimetype": "text/x-python",
   "name": "python",
   "nbconvert_exporter": "python",
   "pygments_lexer": "ipython3",
   "version": "3.7.7"
  }
 },
 "nbformat": 4,
 "nbformat_minor": 4
}

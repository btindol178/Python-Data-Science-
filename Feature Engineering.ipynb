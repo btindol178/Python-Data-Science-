{
 "cells": [
  {
   "cell_type": "markdown",
   "metadata": {},
   "source": [
    "# Feature Engineering"
   ]
  },
  {
   "cell_type": "code",
   "execution_count": 4,
   "metadata": {},
   "outputs": [],
   "source": [
    "import pandas as pd\n",
    "import numpy as np"
   ]
  },
  {
   "cell_type": "code",
   "execution_count": 6,
   "metadata": {},
   "outputs": [
    {
     "name": "stdout",
     "output_type": "stream",
     "text": [
      "      SurveyDate                                    FormalEducation  \\\n",
      "0  2/28/18 20:20           Bachelor's degree (BA. BS. B.Eng.. etc.)   \n",
      "1  6/28/18 13:26           Bachelor's degree (BA. BS. B.Eng.. etc.)   \n",
      "2    6/6/18 3:37           Bachelor's degree (BA. BS. B.Eng.. etc.)   \n",
      "3    5/9/18 1:06  Some college/university study without earning ...   \n",
      "4  4/12/18 22:41           Bachelor's degree (BA. BS. B.Eng.. etc.)   \n",
      "\n",
      "   ConvertedSalary Hobby       Country  StackOverflowJobsRecommend  \\\n",
      "0              NaN   Yes  South Africa                         NaN   \n",
      "1          70841.0   Yes       Sweeden                         7.0   \n",
      "2              NaN    No       Sweeden                         8.0   \n",
      "3          21426.0   Yes       Sweeden                         NaN   \n",
      "4          41671.0   Yes            UK                         8.0   \n",
      "\n",
      "      VersionControl  Age  Years Experience Gender   RawSalary  \n",
      "0                Git   21                13   Male         NaN  \n",
      "1     Git;Subversion   38                 9   Male   70,841.00  \n",
      "2                Git   45                11    NaN         NaN  \n",
      "3  Zip file back-ups   46                12   Male   21,426.00  \n",
      "4                Git   39                 7   Male  £41,671.00  \n"
     ]
    }
   ],
   "source": [
    "df = pd.read_csv(\"Combined_DS_v10.csv\")\n",
    "print(df.head())"
   ]
  },
  {
   "cell_type": "code",
   "execution_count": 7,
   "metadata": {},
   "outputs": [
    {
     "name": "stdout",
     "output_type": "stream",
     "text": [
      "SurveyDate                     object\n",
      "FormalEducation                object\n",
      "ConvertedSalary               float64\n",
      "Hobby                          object\n",
      "Country                        object\n",
      "StackOverflowJobsRecommend    float64\n",
      "VersionControl                 object\n",
      "Age                             int64\n",
      "Years Experience                int64\n",
      "Gender                         object\n",
      "RawSalary                      object\n",
      "dtype: object\n"
     ]
    }
   ],
   "source": [
    "# Print the data type of each column\n",
    "print(df.dtypes)"
   ]
  },
  {
   "cell_type": "markdown",
   "metadata": {},
   "source": [
    "# Selecting specific data types\n",
    "Often a data set will contain columns with several different data types (like the one you are working with). The majority of machine learning models require you to have a consistent data type across features. Similarly, most feature engineering techniques are applicable to only one type of data at a time. For these reasons among others, you will often want to be able to access just the columns of certain types when working with a DataFrame."
   ]
  },
  {
   "cell_type": "code",
   "execution_count": 8,
   "metadata": {},
   "outputs": [
    {
     "name": "stdout",
     "output_type": "stream",
     "text": [
      "Index(['ConvertedSalary', 'StackOverflowJobsRecommend'], dtype='object')\n"
     ]
    }
   ],
   "source": [
    "# Create subset of only the numeric columns\n",
    "numeric_df = df.select_dtypes(include=['int', 'float'])\n",
    "\n",
    "# Print the column names contained in so_survey_df_num\n",
    "print(numeric_df.columns)"
   ]
  },
  {
   "cell_type": "markdown",
   "metadata": {},
   "source": [
    "# One-hot encoding and dummy variables\n",
    "To use categorical variables in a machine learning model, you first need to represent them in a quantitative way. The two most common approaches are to one-hot encode the variables using or to use dummy variables. In this exercise, you will create both types of encoding, and compare the created column sets. We will continue using the same DataFrame from previous lesson loaded as so_survey_df and focusing on its Country column."
   ]
  },
  {
   "cell_type": "code",
   "execution_count": 9,
   "metadata": {},
   "outputs": [
    {
     "name": "stdout",
     "output_type": "stream",
     "text": [
      "Index(['SurveyDate', 'FormalEducation', 'ConvertedSalary', 'Hobby',\n",
      "       'StackOverflowJobsRecommend', 'VersionControl', 'Age',\n",
      "       'Years Experience', 'Gender', 'RawSalary', 'OH_France', 'OH_India',\n",
      "       'OH_Ireland', 'OH_Russia', 'OH_South Africa', 'OH_Spain', 'OH_Sweeden',\n",
      "       'OH_UK', 'OH_USA', 'OH_Ukraine'],\n",
      "      dtype='object')\n"
     ]
    }
   ],
   "source": [
    "# Convert the Country column to a one hot encoded Data Frame\n",
    "one_hot_encoded = pd.get_dummies(df, columns=['Country'], prefix='OH')\n",
    "\n",
    "# Print the columns names\n",
    "print(one_hot_encoded.columns)"
   ]
  },
  {
   "cell_type": "markdown",
   "metadata": {},
   "source": [
    "# Dummy variables"
   ]
  },
  {
   "cell_type": "code",
   "execution_count": 11,
   "metadata": {},
   "outputs": [
    {
     "name": "stdout",
     "output_type": "stream",
     "text": [
      "Index(['SurveyDate', 'FormalEducation', 'ConvertedSalary', 'Hobby',\n",
      "       'StackOverflowJobsRecommend', 'VersionControl', 'Age',\n",
      "       'Years Experience', 'Gender', 'RawSalary', 'DM_India', 'DM_Ireland',\n",
      "       'DM_Russia', 'DM_South Africa', 'DM_Spain', 'DM_Sweeden', 'DM_UK',\n",
      "       'DM_USA', 'DM_Ukraine'],\n",
      "      dtype='object')\n"
     ]
    }
   ],
   "source": [
    "# Create dummy variables for the Country column\n",
    "dummy = pd.get_dummies(df, columns=['Country'], drop_first=True, prefix='DM')\n",
    "\n",
    "# Print the columns names\n",
    "print(dummy.columns)"
   ]
  },
  {
   "cell_type": "markdown",
   "metadata": {},
   "source": [
    "# Dealing with uncommon categories\n",
    "Some features can have many different categories but a very uneven distribution of their occurrences. Take for example Data Science's favorite languages to code in, some common choices are Python, R, and Julia, but there can be individuals with bespoke choices, like FORTRAN, C etc. In these cases, you may not want to create a feature for each value, but only the more common occurrences."
   ]
  },
  {
   "cell_type": "code",
   "execution_count": 12,
   "metadata": {},
   "outputs": [
    {
     "name": "stdout",
     "output_type": "stream",
     "text": [
      "South Africa    166\n",
      "USA             164\n",
      "Spain           134\n",
      "Sweeden         119\n",
      "France          115\n",
      "Russia           97\n",
      "India            95\n",
      "UK               95\n",
      "Other            14\n",
      "Name: Country, dtype: int64\n"
     ]
    },
    {
     "name": "stderr",
     "output_type": "stream",
     "text": [
      "C:\\Users\\blake\\anaconda3\\lib\\site-packages\\ipykernel_launcher.py:11: SettingWithCopyWarning: \n",
      "A value is trying to be set on a copy of a slice from a DataFrame\n",
      "\n",
      "See the caveats in the documentation: https://pandas.pydata.org/pandas-docs/stable/user_guide/indexing.html#returning-a-view-versus-a-copy\n",
      "  # This is added back by InteractiveShellApp.init_path()\n"
     ]
    }
   ],
   "source": [
    "# Create a series out of the Country column\n",
    "countries = df['Country']\n",
    "\n",
    "# Get the counts of each category\n",
    "country_counts = countries.value_counts()\n",
    "\n",
    "# Create a mask for only categories that occur less than 10 times\n",
    "mask = countries.isin(country_counts[country_counts < 10].index)\n",
    "\n",
    "# Label all other categories as Other\n",
    "countries[mask] = 'Other'\n",
    "\n",
    "# Print the updated category counts\n",
    "print(pd.value_counts(countries))"
   ]
  },
  {
   "cell_type": "markdown",
   "metadata": {},
   "source": [
    "# Binarizing columns\n",
    "While numeric values can often be used without any feature engineering, there will be cases when some form of manipulation can be useful. For example on some occasions, you might not care about the magnitude of a value but only care about its direction, or if it exists at all. In these situations, you will want to binarize a column. In the so_survey_df data, you have a large number of survey respondents that are working voluntarily (without pay). You will create a new column titled Paid_Job indicating whether each person is paid (their salary is greater than zero)."
   ]
  },
  {
   "cell_type": "code",
   "execution_count": 13,
   "metadata": {},
   "outputs": [
    {
     "name": "stdout",
     "output_type": "stream",
     "text": [
      "   Paid_Job  ConvertedSalary\n",
      "0         0              NaN\n",
      "1         1          70841.0\n",
      "2         0              NaN\n",
      "3         1          21426.0\n",
      "4         1          41671.0\n"
     ]
    }
   ],
   "source": [
    "# Create the Paid_Job column filled with zeros\n",
    "df['Paid_Job'] = 0\n",
    "\n",
    "# Replace all the Paid_Job values where ConvertedSalary is > 0\n",
    "df.loc[df['ConvertedSalary'] > 0, 'Paid_Job'] = 1\n",
    "\n",
    "# Print the first five rows of the columns\n",
    "print(df[['Paid_Job', 'ConvertedSalary']].head())"
   ]
  },
  {
   "cell_type": "markdown",
   "metadata": {},
   "source": [
    "# Binning values\n",
    "For many continuous values you will care less about the exact value of a numeric column, but instead care about the bucket it falls into. This can be useful when plotting values, or simplifying your machine learning models. It is mostly used on continuous variables where accuracy is not the biggest concern e.g. age, height, wages.\n",
    "\n",
    "Bins are created using pd.cut(df['column_name'], bins) where bins can be an integer specifying the number of evenly spaced bins, or a list of bin boundaries."
   ]
  },
  {
   "cell_type": "code",
   "execution_count": 14,
   "metadata": {},
   "outputs": [
    {
     "name": "stdout",
     "output_type": "stream",
     "text": [
      "          equal_binned  ConvertedSalary\n",
      "0                  NaN              NaN\n",
      "1  (-2000.0, 400000.0]          70841.0\n",
      "2                  NaN              NaN\n",
      "3  (-2000.0, 400000.0]          21426.0\n",
      "4  (-2000.0, 400000.0]          41671.0\n"
     ]
    }
   ],
   "source": [
    "# Bin the continuous variable ConvertedSalary into 5 bins\n",
    "df['equal_binned'] = pd.cut(df['ConvertedSalary'], 5)\n",
    "\n",
    "# Print the first 5 rows of the equal_binned column\n",
    "print(df[['equal_binned', 'ConvertedSalary']].head())"
   ]
  },
  {
   "cell_type": "markdown",
   "metadata": {},
   "source": [
    "# Bin the ConvertedSalary column using the boundaries in the list bins and label the bins using labels\n"
   ]
  },
  {
   "cell_type": "code",
   "execution_count": 16,
   "metadata": {},
   "outputs": [
    {
     "name": "stdout",
     "output_type": "stream",
     "text": [
      "  boundary_binned  ConvertedSalary\n",
      "0             NaN              NaN\n",
      "1          Medium          70841.0\n",
      "2             NaN              NaN\n",
      "3             Low          21426.0\n",
      "4             Low          41671.0\n"
     ]
    }
   ],
   "source": [
    "# Specify the boundaries of the bins\n",
    "bins = [-np.inf, 10000, 50000, 100000, 150000, np.inf]\n",
    "\n",
    "# Bin labels\n",
    "labels = ['Very low', 'Low', 'Medium', 'High', 'Very high']\n",
    "\n",
    "# Bin the continuous variable ConvertedSalary using these boundaries\n",
    "df['boundary_binned'] = pd.cut(df['ConvertedSalary'], \n",
    "                                         bins, labels = labels)\n",
    "\n",
    "# Print the first 5 rows of the boundary_binned column\n",
    "print(df[['boundary_binned', 'ConvertedSalary']].head())"
   ]
  },
  {
   "cell_type": "markdown",
   "metadata": {},
   "source": [
    "# How sparse is my data?\n",
    "Most data sets contain missing values, often represented as NaN (Not a Number). If you are working with Pandas you can easily check how many missing values exist in each column.\n",
    "\n",
    "Let's find out how many of the developers taking the survey chose to enter their age (found in the Age column of so_survey_df) and their gender (Gender column of so_survey_df)."
   ]
  },
  {
   "cell_type": "code",
   "execution_count": 17,
   "metadata": {},
   "outputs": [
    {
     "name": "stdout",
     "output_type": "stream",
     "text": [
      "<class 'pandas.core.frame.DataFrame'>\n",
      "RangeIndex: 999 entries, 0 to 998\n",
      "Data columns (total 2 columns):\n",
      " #   Column  Non-Null Count  Dtype \n",
      "---  ------  --------------  ----- \n",
      " 0   Age     999 non-null    int64 \n",
      " 1   Gender  693 non-null    object\n",
      "dtypes: int64(1), object(1)\n",
      "memory usage: 15.7+ KB\n",
      "None\n"
     ]
    }
   ],
   "source": [
    "# Subset the DataFrame\n",
    "sub_df = df[['Age', 'Gender']] \n",
    "\n",
    "# Print the number of non-missing values\n",
    "print(sub_df.info())"
   ]
  },
  {
   "cell_type": "code",
   "execution_count": 18,
   "metadata": {},
   "outputs": [
    {
     "name": "stdout",
     "output_type": "stream",
     "text": [
      "     Age  Gender\n",
      "0  False   False\n",
      "1  False   False\n",
      "2  False    True\n",
      "3  False   False\n",
      "4  False   False\n",
      "5  False   False\n",
      "6  False   False\n",
      "7  False   False\n",
      "8  False   False\n",
      "9  False    True\n"
     ]
    }
   ],
   "source": [
    "# Print the locations of the missing values\n",
    "print(sub_df.head(10).isnull())"
   ]
  },
  {
   "cell_type": "code",
   "execution_count": 19,
   "metadata": {},
   "outputs": [
    {
     "name": "stdout",
     "output_type": "stream",
     "text": [
      "    Age  Gender\n",
      "0  True    True\n",
      "1  True    True\n",
      "2  True   False\n",
      "3  True    True\n",
      "4  True    True\n",
      "5  True    True\n",
      "6  True    True\n",
      "7  True    True\n",
      "8  True    True\n",
      "9  True   False\n"
     ]
    }
   ],
   "source": [
    "# Print the locations of the non-missing values\n",
    "print(sub_df.head(10).notnull())"
   ]
  },
  {
   "cell_type": "markdown",
   "metadata": {},
   "source": [
    "# Listwide deletion of missing values \n",
    "The simplest way to deal with missing values in your dataset when they are occurring entirely at random is to remove those rows, also called 'listwise deletion'.\n",
    "\n",
    "Depending on the use case, you will sometimes want to remove all missing values in your data while other times you may want to only remove a particular column if too many values are missing in that column."
   ]
  },
  {
   "cell_type": "code",
   "execution_count": 21,
   "metadata": {},
   "outputs": [
    {
     "name": "stdout",
     "output_type": "stream",
     "text": [
      "(999, 14)\n"
     ]
    }
   ],
   "source": [
    "# Print the number of rows and columns\n",
    "print(df.shape)"
   ]
  },
  {
   "cell_type": "code",
   "execution_count": 22,
   "metadata": {},
   "outputs": [
    {
     "name": "stdout",
     "output_type": "stream",
     "text": [
      "(264, 14)\n"
     ]
    }
   ],
   "source": [
    "# Create a new DataFrame dropping all incomplete rows\n",
    "no_missing_values_rows = df.dropna(how='any')\n",
    "\n",
    "# Print the shape of the new DataFrame\n",
    "print(no_missing_values_rows.shape)"
   ]
  },
  {
   "cell_type": "code",
   "execution_count": 23,
   "metadata": {},
   "outputs": [
    {
     "name": "stdout",
     "output_type": "stream",
     "text": [
      "(999, 8)\n"
     ]
    }
   ],
   "source": [
    "# Create a new DataFrame dropping all columns with incomplete rows\n",
    "no_missing_values_cols = df.dropna(how='any', axis=1)\n",
    "\n",
    "# Print the shape of the new DataFrame\n",
    "print(no_missing_values_cols.shape)"
   ]
  },
  {
   "cell_type": "code",
   "execution_count": 24,
   "metadata": {},
   "outputs": [
    {
     "name": "stdout",
     "output_type": "stream",
     "text": [
      "(693, 14)\n"
     ]
    }
   ],
   "source": [
    "# Drop all rows where Gender is missing\n",
    "no_gender = df.dropna(subset=['Gender'])\n",
    "\n",
    "# Print the shape of the new DataFrame\n",
    "print(no_gender.shape)"
   ]
  },
  {
   "cell_type": "markdown",
   "metadata": {},
   "source": [
    "# Replacing missing values\n",
    "\n",
    "While removing missing data entirely maybe a correct approach in many situations, this may result in a lot of information being omitted from your models.\n",
    "\n",
    "You may find categorical columns where the missing value is a valid piece of information in itself, such as someone refusing to answer a question in a survey. In these cases, you can fill all missing values with a new category entirely, for example 'No response given'."
   ]
  },
  {
   "cell_type": "code",
   "execution_count": 25,
   "metadata": {},
   "outputs": [
    {
     "name": "stdout",
     "output_type": "stream",
     "text": [
      "Male                                                                         632\n",
      "Female                                                                        53\n",
      "Transgender                                                                    2\n",
      "Female;Male                                                                    2\n",
      "Female;Male;Transgender;Non-binary. genderqueer. or gender non-conforming      1\n",
      "Non-binary. genderqueer. or gender non-conforming                              1\n",
      "Female;Transgender                                                             1\n",
      "Male;Non-binary. genderqueer. or gender non-conforming                         1\n",
      "Name: Gender, dtype: int64\n"
     ]
    }
   ],
   "source": [
    "# Print the count of occurrences\n",
    "print(df['Gender'].value_counts())"
   ]
  },
  {
   "cell_type": "markdown",
   "metadata": {},
   "source": [
    "Replace all missing values in the Gender column with the string 'Not Given'. Make changes to the original DataFrame."
   ]
  },
  {
   "cell_type": "code",
   "execution_count": 26,
   "metadata": {},
   "outputs": [
    {
     "name": "stdout",
     "output_type": "stream",
     "text": [
      "Male                                                                         632\n",
      "Not Given                                                                    306\n",
      "Female                                                                        53\n",
      "Transgender                                                                    2\n",
      "Female;Male                                                                    2\n",
      "Female;Male;Transgender;Non-binary. genderqueer. or gender non-conforming      1\n",
      "Non-binary. genderqueer. or gender non-conforming                              1\n",
      "Female;Transgender                                                             1\n",
      "Male;Non-binary. genderqueer. or gender non-conforming                         1\n",
      "Name: Gender, dtype: int64\n"
     ]
    }
   ],
   "source": [
    "# Replace missing values\n",
    "df['Gender'].fillna(value='Not Given', inplace=True)\n",
    "\n",
    "# Print the count of each value\n",
    "print(df['Gender'].value_counts())"
   ]
  },
  {
   "cell_type": "markdown",
   "metadata": {},
   "source": [
    "# Filling continuous missing values\n",
    "In the last lesson, you dealt with different methods of removing data missing values and filling in missing values with a fixed string. These approaches are valid in many cases, particularly when dealing with categorical columns but have limited use when working with continuous values. In these cases, it may be most valid to fill the missing values in the column with a value calculated from the entries present in the column."
   ]
  },
  {
   "cell_type": "code",
   "execution_count": 27,
   "metadata": {},
   "outputs": [
    {
     "name": "stdout",
     "output_type": "stream",
     "text": [
      "0    NaN\n",
      "1    7.0\n",
      "2    8.0\n",
      "3    NaN\n",
      "4    8.0\n",
      "Name: StackOverflowJobsRecommend, dtype: float64\n"
     ]
    }
   ],
   "source": [
    "# Print the first five rows of StackOverflowJobsRecommend column\n",
    "print(df['StackOverflowJobsRecommend'].head())"
   ]
  },
  {
   "cell_type": "markdown",
   "metadata": {},
   "source": [
    "Replace the missing values in the StackOverflowJobsRecommend column with its mean. Make changes directly to the original DataFrame."
   ]
  },
  {
   "cell_type": "code",
   "execution_count": 28,
   "metadata": {},
   "outputs": [
    {
     "name": "stdout",
     "output_type": "stream",
     "text": [
      "0    7.061602\n",
      "1    7.000000\n",
      "2    8.000000\n",
      "3    7.061602\n",
      "4    8.000000\n",
      "Name: StackOverflowJobsRecommend, dtype: float64\n"
     ]
    }
   ],
   "source": [
    "# Fill missing values with the mean\n",
    "df['StackOverflowJobsRecommend'].fillna(df['StackOverflowJobsRecommend'].mean(), inplace=True)\n",
    "\n",
    "# Print the first five rows of StackOverflowJobsRecommend column\n",
    "print(df['StackOverflowJobsRecommend'].head())"
   ]
  },
  {
   "cell_type": "markdown",
   "metadata": {},
   "source": [
    "Round the decimal values that you introduced in the StackOverflowJobsRecommend column."
   ]
  },
  {
   "cell_type": "code",
   "execution_count": 29,
   "metadata": {},
   "outputs": [
    {
     "name": "stdout",
     "output_type": "stream",
     "text": [
      "0    7.0\n",
      "1    7.0\n",
      "2    8.0\n",
      "3    7.0\n",
      "4    8.0\n",
      "Name: StackOverflowJobsRecommend, dtype: float64\n"
     ]
    }
   ],
   "source": [
    "# Fill missing values with the mean\n",
    "df['StackOverflowJobsRecommend'].fillna(df['StackOverflowJobsRecommend'].mean(), inplace=True)\n",
    "\n",
    "# Round the StackOverflowJobsRecommend values\n",
    "df['StackOverflowJobsRecommend'] = round(df['StackOverflowJobsRecommend'])\n",
    "\n",
    "# Print the top 5 rows\n",
    "print(df['StackOverflowJobsRecommend'].head())"
   ]
  },
  {
   "cell_type": "markdown",
   "metadata": {},
   "source": [
    "# Dealing with stray characters (I)\n",
    "In this exercise, you will work with the RawSalary column of so_survey_df which contains the wages of the respondents along with the currency symbols and commas, such as $42,000. When importing data from Microsoft Excel, more often that not you will come across data in this form."
   ]
  },
  {
   "cell_type": "code",
   "execution_count": 31,
   "metadata": {},
   "outputs": [
    {
     "data": {
      "text/html": [
       "<div>\n",
       "<style scoped>\n",
       "    .dataframe tbody tr th:only-of-type {\n",
       "        vertical-align: middle;\n",
       "    }\n",
       "\n",
       "    .dataframe tbody tr th {\n",
       "        vertical-align: top;\n",
       "    }\n",
       "\n",
       "    .dataframe thead th {\n",
       "        text-align: right;\n",
       "    }\n",
       "</style>\n",
       "<table border=\"1\" class=\"dataframe\">\n",
       "  <thead>\n",
       "    <tr style=\"text-align: right;\">\n",
       "      <th></th>\n",
       "      <th>SurveyDate</th>\n",
       "      <th>FormalEducation</th>\n",
       "      <th>ConvertedSalary</th>\n",
       "      <th>Hobby</th>\n",
       "      <th>Country</th>\n",
       "      <th>StackOverflowJobsRecommend</th>\n",
       "      <th>VersionControl</th>\n",
       "      <th>Age</th>\n",
       "      <th>Years Experience</th>\n",
       "      <th>Gender</th>\n",
       "      <th>RawSalary</th>\n",
       "      <th>Paid_Job</th>\n",
       "      <th>equal_binned</th>\n",
       "      <th>boundary_binned</th>\n",
       "    </tr>\n",
       "  </thead>\n",
       "  <tbody>\n",
       "    <tr>\n",
       "      <th>0</th>\n",
       "      <td>2/28/18 20:20</td>\n",
       "      <td>Bachelor's degree (BA. BS. B.Eng.. etc.)</td>\n",
       "      <td>NaN</td>\n",
       "      <td>Yes</td>\n",
       "      <td>South Africa</td>\n",
       "      <td>7.0</td>\n",
       "      <td>Git</td>\n",
       "      <td>21</td>\n",
       "      <td>13</td>\n",
       "      <td>Male</td>\n",
       "      <td>NaN</td>\n",
       "      <td>0</td>\n",
       "      <td>NaN</td>\n",
       "      <td>NaN</td>\n",
       "    </tr>\n",
       "    <tr>\n",
       "      <th>1</th>\n",
       "      <td>6/28/18 13:26</td>\n",
       "      <td>Bachelor's degree (BA. BS. B.Eng.. etc.)</td>\n",
       "      <td>70841.0</td>\n",
       "      <td>Yes</td>\n",
       "      <td>Sweeden</td>\n",
       "      <td>7.0</td>\n",
       "      <td>Git;Subversion</td>\n",
       "      <td>38</td>\n",
       "      <td>9</td>\n",
       "      <td>Male</td>\n",
       "      <td>70841.00</td>\n",
       "      <td>1</td>\n",
       "      <td>(-2000.0, 400000.0]</td>\n",
       "      <td>Medium</td>\n",
       "    </tr>\n",
       "    <tr>\n",
       "      <th>2</th>\n",
       "      <td>6/6/18 3:37</td>\n",
       "      <td>Bachelor's degree (BA. BS. B.Eng.. etc.)</td>\n",
       "      <td>NaN</td>\n",
       "      <td>No</td>\n",
       "      <td>Sweeden</td>\n",
       "      <td>8.0</td>\n",
       "      <td>Git</td>\n",
       "      <td>45</td>\n",
       "      <td>11</td>\n",
       "      <td>Not Given</td>\n",
       "      <td>NaN</td>\n",
       "      <td>0</td>\n",
       "      <td>NaN</td>\n",
       "      <td>NaN</td>\n",
       "    </tr>\n",
       "    <tr>\n",
       "      <th>3</th>\n",
       "      <td>5/9/18 1:06</td>\n",
       "      <td>Some college/university study without earning ...</td>\n",
       "      <td>21426.0</td>\n",
       "      <td>Yes</td>\n",
       "      <td>Sweeden</td>\n",
       "      <td>7.0</td>\n",
       "      <td>Zip file back-ups</td>\n",
       "      <td>46</td>\n",
       "      <td>12</td>\n",
       "      <td>Male</td>\n",
       "      <td>21426.00</td>\n",
       "      <td>1</td>\n",
       "      <td>(-2000.0, 400000.0]</td>\n",
       "      <td>Low</td>\n",
       "    </tr>\n",
       "    <tr>\n",
       "      <th>4</th>\n",
       "      <td>4/12/18 22:41</td>\n",
       "      <td>Bachelor's degree (BA. BS. B.Eng.. etc.)</td>\n",
       "      <td>41671.0</td>\n",
       "      <td>Yes</td>\n",
       "      <td>UK</td>\n",
       "      <td>8.0</td>\n",
       "      <td>Git</td>\n",
       "      <td>39</td>\n",
       "      <td>7</td>\n",
       "      <td>Male</td>\n",
       "      <td>£41671.00</td>\n",
       "      <td>1</td>\n",
       "      <td>(-2000.0, 400000.0]</td>\n",
       "      <td>Low</td>\n",
       "    </tr>\n",
       "  </tbody>\n",
       "</table>\n",
       "</div>"
      ],
      "text/plain": [
       "      SurveyDate                                    FormalEducation  \\\n",
       "0  2/28/18 20:20           Bachelor's degree (BA. BS. B.Eng.. etc.)   \n",
       "1  6/28/18 13:26           Bachelor's degree (BA. BS. B.Eng.. etc.)   \n",
       "2    6/6/18 3:37           Bachelor's degree (BA. BS. B.Eng.. etc.)   \n",
       "3    5/9/18 1:06  Some college/university study without earning ...   \n",
       "4  4/12/18 22:41           Bachelor's degree (BA. BS. B.Eng.. etc.)   \n",
       "\n",
       "   ConvertedSalary Hobby       Country  StackOverflowJobsRecommend  \\\n",
       "0              NaN   Yes  South Africa                         7.0   \n",
       "1          70841.0   Yes       Sweeden                         7.0   \n",
       "2              NaN    No       Sweeden                         8.0   \n",
       "3          21426.0   Yes       Sweeden                         7.0   \n",
       "4          41671.0   Yes            UK                         8.0   \n",
       "\n",
       "      VersionControl  Age  Years Experience     Gender  RawSalary  Paid_Job  \\\n",
       "0                Git   21                13       Male        NaN         0   \n",
       "1     Git;Subversion   38                 9       Male   70841.00         1   \n",
       "2                Git   45                11  Not Given        NaN         0   \n",
       "3  Zip file back-ups   46                12       Male   21426.00         1   \n",
       "4                Git   39                 7       Male  £41671.00         1   \n",
       "\n",
       "          equal_binned boundary_binned  \n",
       "0                  NaN             NaN  \n",
       "1  (-2000.0, 400000.0]          Medium  \n",
       "2                  NaN             NaN  \n",
       "3  (-2000.0, 400000.0]             Low  \n",
       "4  (-2000.0, 400000.0]             Low  "
      ]
     },
     "execution_count": 31,
     "metadata": {},
     "output_type": "execute_result"
    }
   ],
   "source": [
    "df.head()"
   ]
  },
  {
   "cell_type": "code",
   "execution_count": 30,
   "metadata": {},
   "outputs": [],
   "source": [
    "# Remove the commas (,) from the RawSalary column.\n",
    "df['RawSalary'] = df['RawSalary'].str.replace(',', '')"
   ]
  },
  {
   "cell_type": "code",
   "execution_count": 32,
   "metadata": {},
   "outputs": [],
   "source": [
    "# Remove the dollar signs in the column\n",
    "df['RawSalary'] = df['RawSalary'].str.replace('$', '')"
   ]
  },
  {
   "cell_type": "markdown",
   "metadata": {},
   "source": [
    "# Dealing with stray characters (II)\n",
    "In the last exercise, you could tell quickly based off of the df.head() call which characters were causing an issue. In many cases this will not be so apparent. There will often be values deep within a column that are preventing you from casting a column as a numeric type so that it can be used in a model or further feature engineering.\n",
    "\n",
    "One approach to finding these values is to force the column to the data type desired using pd.to_numeric(), coercing any values causing issues to NaN, Then filtering the DataFrame by just the rows containing the NaN values.\n",
    "\n",
    "Try to cast the RawSalary column as a float and it will fail as an additional character can now be found in it. Find the character and remove it so the column can be cast as a float."
   ]
  },
  {
   "cell_type": "markdown",
   "metadata": {},
   "source": [
    "-Attempt to convert the RawSalary column of so_survey_df to numeric values coercing all failures into null values. <br>\n",
    "-Find the indexes of the rows containing NaNs.<br>\n",
    "-Print the rows in RawSalary based on these indexes"
   ]
  },
  {
   "cell_type": "code",
   "execution_count": 33,
   "metadata": {},
   "outputs": [
    {
     "name": "stdout",
     "output_type": "stream",
     "text": [
      "0            NaN\n",
      "2            NaN\n",
      "4      £41671.00\n",
      "6            NaN\n",
      "8            NaN\n",
      "         ...    \n",
      "989          NaN\n",
      "990          NaN\n",
      "992          NaN\n",
      "994          NaN\n",
      "997          NaN\n",
      "Name: RawSalary, Length: 401, dtype: object\n"
     ]
    }
   ],
   "source": [
    "# Attempt to convert the column to numeric values\n",
    "numeric_vals = pd.to_numeric(df['RawSalary'], errors='coerce')\n",
    "\n",
    "# Find the indexes of missing values\n",
    "idx = numeric_vals.isna()\n",
    "\n",
    "# Print the relevant rows\n",
    "print(df['RawSalary'][idx])"
   ]
  },
  {
   "cell_type": "code",
   "execution_count": 34,
   "metadata": {},
   "outputs": [
    {
     "name": "stdout",
     "output_type": "stream",
     "text": [
      "0            NaN\n",
      "1        70841.0\n",
      "2            NaN\n",
      "3        21426.0\n",
      "4        41671.0\n",
      "         ...    \n",
      "994          NaN\n",
      "995      58746.0\n",
      "996      55000.0\n",
      "997          NaN\n",
      "998    1000000.0\n",
      "Name: RawSalary, Length: 999, dtype: float64\n"
     ]
    }
   ],
   "source": [
    "# Replace the offending characters\n",
    "df['RawSalary'] = df['RawSalary'].str.replace('£', '')\n",
    "\n",
    "# Convert the column to float\n",
    "df['RawSalary'] = df['RawSalary'].astype('float')\n",
    "\n",
    "# Print the column\n",
    "print(df['RawSalary'])"
   ]
  },
  {
   "cell_type": "markdown",
   "metadata": {},
   "source": [
    "# Method chaining\n",
    "When applying multiple operations on the same column (like in the previous exercises), you made the changes in several steps, assigning the results back in each step. However, when applying multiple successive operations on the same column, you can \"chain\" these operations together for clarity and ease of management. This can be achieved by calling multiple methods sequentially:"
   ]
  },
  {
   "cell_type": "code",
   "execution_count": 36,
   "metadata": {},
   "outputs": [
    {
     "name": "stdout",
     "output_type": "stream",
     "text": [
      "0            NaN\n",
      "1        70841.0\n",
      "2            NaN\n",
      "3        21426.0\n",
      "4        41671.0\n",
      "         ...    \n",
      "994          NaN\n",
      "995      58746.0\n",
      "996      55000.0\n",
      "997          NaN\n",
      "998    1000000.0\n",
      "Name: RawSalary, Length: 999, dtype: float64\n"
     ]
    }
   ],
   "source": [
    "# Do it all in one \n",
    "df2 = pd.read_csv(\"Combined_DS_v10.csv\") # reload under different name for manipulation purposes\n",
    "\n",
    "\n",
    "# Use method chaining\n",
    "df2['RawSalary'] = df2['RawSalary']\\\n",
    "                              .str.replace(',', '')\\\n",
    "                              .str.replace('$', '')\\\n",
    "                              .str.replace('£', '')\\\n",
    "                              .astype('float')\n",
    " \n",
    "# Print the RawSalary column\n",
    "print(df2['RawSalary'])"
   ]
  },
  {
   "cell_type": "markdown",
   "metadata": {},
   "source": [
    "# Data distributions"
   ]
  },
  {
   "cell_type": "code",
   "execution_count": 44,
   "metadata": {},
   "outputs": [],
   "source": [
    "import matplotlib as plt\n",
    "import seaborn as sns\n",
    "import matplotlib.pyplot as plt"
   ]
  },
  {
   "cell_type": "markdown",
   "metadata": {},
   "source": [
    "What does the data look like?"
   ]
  },
  {
   "cell_type": "code",
   "execution_count": 50,
   "metadata": {},
   "outputs": [
    {
     "data": {
      "image/png": "[encoded data removed]",
      "text/plain": [
       "<Figure size 432x288 with 4 Axes>"
      ]
     },
     "metadata": {
      "needs_background": "light"
     },
     "output_type": "display_data"
    }
   ],
   "source": [
    "df[[\"Age\",\"ConvertedSalary\",\"Years Experience\"]].hist()\n",
    "plt.show()"
   ]
  },
  {
   "cell_type": "code",
   "execution_count": 48,
   "metadata": {},
   "outputs": [
    {
     "data": {
      "image/png": "[encoded data removed]",
      "text/plain": [
       "<Figure size 432x288 with 1 Axes>"
      ]
     },
     "metadata": {
      "needs_background": "light"
     },
     "output_type": "display_data"
    }
   ],
   "source": [
    "# Create a boxplot of two columns\n",
    "df[['Age', 'Years Experience']].boxplot()\n",
    "plt.show()"
   ]
  },
  {
   "cell_type": "code",
   "execution_count": 51,
   "metadata": {},
   "outputs": [
    {
     "data": {
      "image/png": "[encoded data removed]",
      "text/plain": [
       "<Figure size 432x288 with 1 Axes>"
      ]
     },
     "metadata": {
      "needs_background": "light"
     },
     "output_type": "display_data"
    }
   ],
   "source": [
    "# Create a boxplot of ConvertedSalary\n",
    "df[['ConvertedSalary']].boxplot()\n",
    "plt.show()"
   ]
  },
  {
   "cell_type": "code",
   "execution_count": 52,
   "metadata": {},
   "outputs": [
    {
     "data": {
      "image/png": "[encoded data removed]",
      "text/plain": [
       "<Figure size 540x540 with 12 Axes>"
      ]
     },
     "metadata": {
      "needs_background": "light"
     },
     "output_type": "display_data"
    }
   ],
   "source": [
    "# Create subset of only the numeric columns\n",
    "numeric_df = df.select_dtypes(include=['int', 'float'])\n",
    "\n",
    "# Plot pairwise relationships\n",
    "sns.pairplot(numeric_df)\n",
    "\n",
    "# Show plot\n",
    "plt.show()"
   ]
  },
  {
   "cell_type": "code",
   "execution_count": 54,
   "metadata": {},
   "outputs": [
    {
     "name": "stdout",
     "output_type": "stream",
     "text": [
      "       ConvertedSalary  StackOverflowJobsRecommend     RawSalary\n",
      "count     6.650000e+02                  999.000000  6.650000e+02\n",
      "mean      9.256517e+04                    7.030030  9.256517e+04\n",
      "std       2.091344e+05                    1.829698  2.091344e+05\n",
      "min       0.000000e+00                    0.000000  0.000000e+00\n",
      "25%       2.755000e+04                    7.000000  2.755000e+04\n",
      "50%       5.556200e+04                    7.000000  5.556200e+04\n",
      "75%       8.823800e+04                    7.000000  8.823800e+04\n",
      "max       2.000000e+06                   10.000000  2.000000e+06\n"
     ]
    }
   ],
   "source": [
    "# Print summary statistics\n",
    "print(numeric_df.describe())"
   ]
  },
  {
   "cell_type": "markdown",
   "metadata": {},
   "source": [
    "# Normalization\n",
    "As discussed in the video, in normalization you linearly scale the entire column between 0 and 1, with 0 corresponding with the lowest value in the column, and 1 with the largest.\n",
    "When using scikit-learn (the most commonly used machine learning library in Python) you can use a MinMaxScaler to apply normalization. (It is called this as it scales your values between a minimum and maximum value.)\n"
   ]
  },
  {
   "cell_type": "code",
   "execution_count": 70,
   "metadata": {},
   "outputs": [
    {
     "data": {
      "text/html": [
       "<div>\n",
       "<style scoped>\n",
       "    .dataframe tbody tr th:only-of-type {\n",
       "        vertical-align: middle;\n",
       "    }\n",
       "\n",
       "    .dataframe tbody tr th {\n",
       "        vertical-align: top;\n",
       "    }\n",
       "\n",
       "    .dataframe thead th {\n",
       "        text-align: right;\n",
       "    }\n",
       "</style>\n",
       "<table border=\"1\" class=\"dataframe\">\n",
       "  <thead>\n",
       "    <tr style=\"text-align: right;\">\n",
       "      <th></th>\n",
       "      <th>ConvertedSalary</th>\n",
       "      <th>StackOverflowJobsRecommend</th>\n",
       "      <th>Age</th>\n",
       "      <th>Years Experience</th>\n",
       "    </tr>\n",
       "  </thead>\n",
       "  <tbody>\n",
       "    <tr>\n",
       "      <th>0</th>\n",
       "      <td>NaN</td>\n",
       "      <td>NaN</td>\n",
       "      <td>21</td>\n",
       "      <td>13</td>\n",
       "    </tr>\n",
       "    <tr>\n",
       "      <th>1</th>\n",
       "      <td>70841.0</td>\n",
       "      <td>7.0</td>\n",
       "      <td>38</td>\n",
       "      <td>9</td>\n",
       "    </tr>\n",
       "    <tr>\n",
       "      <th>2</th>\n",
       "      <td>NaN</td>\n",
       "      <td>8.0</td>\n",
       "      <td>45</td>\n",
       "      <td>11</td>\n",
       "    </tr>\n",
       "    <tr>\n",
       "      <th>3</th>\n",
       "      <td>21426.0</td>\n",
       "      <td>NaN</td>\n",
       "      <td>46</td>\n",
       "      <td>12</td>\n",
       "    </tr>\n",
       "    <tr>\n",
       "      <th>4</th>\n",
       "      <td>41671.0</td>\n",
       "      <td>8.0</td>\n",
       "      <td>39</td>\n",
       "      <td>7</td>\n",
       "    </tr>\n",
       "  </tbody>\n",
       "</table>\n",
       "</div>"
      ],
      "text/plain": [
       "   ConvertedSalary  StackOverflowJobsRecommend  Age  Years Experience\n",
       "0              NaN                         NaN   21                13\n",
       "1          70841.0                         7.0   38                 9\n",
       "2              NaN                         8.0   45                11\n",
       "3          21426.0                         NaN   46                12\n",
       "4          41671.0                         8.0   39                 7"
      ]
     },
     "execution_count": 70,
     "metadata": {},
     "output_type": "execute_result"
    }
   ],
   "source": [
    "df = pd.read_csv(\"Combined_DS_v10.csv\")\n",
    "numeric_df = df.select_dtypes(include=['int64', 'float'])\n",
    "numeric_df.head()"
   ]
  },
  {
   "cell_type": "code",
   "execution_count": 71,
   "metadata": {},
   "outputs": [
    {
     "name": "stdout",
     "output_type": "stream",
     "text": [
      "     Age_MM  Age\n",
      "0  0.046154   21\n",
      "1  0.307692   38\n",
      "2  0.415385   45\n",
      "3  0.430769   46\n",
      "4  0.323077   39\n"
     ]
    },
    {
     "name": "stderr",
     "output_type": "stream",
     "text": [
      "C:\\Users\\blake\\anaconda3\\lib\\site-packages\\ipykernel_launcher.py:11: SettingWithCopyWarning: \n",
      "A value is trying to be set on a copy of a slice from a DataFrame.\n",
      "Try using .loc[row_indexer,col_indexer] = value instead\n",
      "\n",
      "See the caveats in the documentation: https://pandas.pydata.org/pandas-docs/stable/user_guide/indexing.html#returning-a-view-versus-a-copy\n",
      "  # This is added back by InteractiveShellApp.init_path()\n"
     ]
    }
   ],
   "source": [
    "# Import MinMaxScaler\n",
    "from sklearn.preprocessing import MinMaxScaler\n",
    "\n",
    "# Instantiate MinMaxScaler\n",
    "MM_scaler = MinMaxScaler()\n",
    "\n",
    "# Fit MM_scaler to the data\n",
    "MM_scaler.fit(numeric_df[['Age']])\n",
    "\n",
    "# Transform the data using the fitted scaler\n",
    "numeric_df['Age_MM'] = MM_scaler.transform(numeric_df[['Age']])\n",
    "\n",
    "# Compare the origional and transformed column\n",
    "print(numeric_df[['Age_MM', 'Age']].head())"
   ]
  },
  {
   "cell_type": "markdown",
   "metadata": {},
   "source": [
    "# Standardization\n",
    "While normalization can be useful for scaling a column between two data points, it is hard to compare two scaled columns if even one of them is overly affected by outliers. One commonly used solution to this is called standardization, where instead of having a strict upper and lower bound, you center the data around its mean, and calculate the number of standard deviations away from mean each data point is."
   ]
  },
  {
   "cell_type": "code",
   "execution_count": 66,
   "metadata": {},
   "outputs": [
    {
     "data": {
      "text/html": [
       "<div>\n",
       "<style scoped>\n",
       "    .dataframe tbody tr th:only-of-type {\n",
       "        vertical-align: middle;\n",
       "    }\n",
       "\n",
       "    .dataframe tbody tr th {\n",
       "        vertical-align: top;\n",
       "    }\n",
       "\n",
       "    .dataframe thead th {\n",
       "        text-align: right;\n",
       "    }\n",
       "</style>\n",
       "<table border=\"1\" class=\"dataframe\">\n",
       "  <thead>\n",
       "    <tr style=\"text-align: right;\">\n",
       "      <th></th>\n",
       "      <th>ConvertedSalary</th>\n",
       "      <th>StackOverflowJobsRecommend</th>\n",
       "      <th>Age</th>\n",
       "      <th>Years Experience</th>\n",
       "    </tr>\n",
       "  </thead>\n",
       "  <tbody>\n",
       "    <tr>\n",
       "      <th>0</th>\n",
       "      <td>NaN</td>\n",
       "      <td>NaN</td>\n",
       "      <td>21</td>\n",
       "      <td>13</td>\n",
       "    </tr>\n",
       "    <tr>\n",
       "      <th>1</th>\n",
       "      <td>70841.0</td>\n",
       "      <td>7.0</td>\n",
       "      <td>38</td>\n",
       "      <td>9</td>\n",
       "    </tr>\n",
       "    <tr>\n",
       "      <th>2</th>\n",
       "      <td>NaN</td>\n",
       "      <td>8.0</td>\n",
       "      <td>45</td>\n",
       "      <td>11</td>\n",
       "    </tr>\n",
       "    <tr>\n",
       "      <th>3</th>\n",
       "      <td>21426.0</td>\n",
       "      <td>NaN</td>\n",
       "      <td>46</td>\n",
       "      <td>12</td>\n",
       "    </tr>\n",
       "    <tr>\n",
       "      <th>4</th>\n",
       "      <td>41671.0</td>\n",
       "      <td>8.0</td>\n",
       "      <td>39</td>\n",
       "      <td>7</td>\n",
       "    </tr>\n",
       "  </tbody>\n",
       "</table>\n",
       "</div>"
      ],
      "text/plain": [
       "   ConvertedSalary  StackOverflowJobsRecommend  Age  Years Experience\n",
       "0              NaN                         NaN   21                13\n",
       "1          70841.0                         7.0   38                 9\n",
       "2              NaN                         8.0   45                11\n",
       "3          21426.0                         NaN   46                12\n",
       "4          41671.0                         8.0   39                 7"
      ]
     },
     "execution_count": 66,
     "metadata": {},
     "output_type": "execute_result"
    }
   ],
   "source": [
    "df = pd.read_csv(\"Combined_DS_v10.csv\")\n",
    "numeric_df = df.select_dtypes(include=['int64', 'float'])\n",
    "numeric_df.head()"
   ]
  },
  {
   "cell_type": "code",
   "execution_count": 67,
   "metadata": {},
   "outputs": [
    {
     "data": {
      "text/plain": [
       "SurveyDate                     object\n",
       "FormalEducation                object\n",
       "ConvertedSalary               float64\n",
       "Hobby                          object\n",
       "Country                        object\n",
       "StackOverflowJobsRecommend    float64\n",
       "VersionControl                 object\n",
       "Age                             int64\n",
       "Years Experience                int64\n",
       "Gender                         object\n",
       "RawSalary                      object\n",
       "dtype: object"
      ]
     },
     "execution_count": 67,
     "metadata": {},
     "output_type": "execute_result"
    }
   ],
   "source": [
    "df.dtypes"
   ]
  },
  {
   "cell_type": "code",
   "execution_count": 69,
   "metadata": {},
   "outputs": [
    {
     "name": "stdout",
     "output_type": "stream",
     "text": [
      "     Age_SS  Age\n",
      "0 -1.132431   21\n",
      "1  0.150734   38\n",
      "2  0.679096   45\n",
      "3  0.754576   46\n",
      "4  0.226214   39\n"
     ]
    },
    {
     "name": "stderr",
     "output_type": "stream",
     "text": [
      "C:\\Users\\blake\\anaconda3\\lib\\site-packages\\ipykernel_launcher.py:11: SettingWithCopyWarning: \n",
      "A value is trying to be set on a copy of a slice from a DataFrame.\n",
      "Try using .loc[row_indexer,col_indexer] = value instead\n",
      "\n",
      "See the caveats in the documentation: https://pandas.pydata.org/pandas-docs/stable/user_guide/indexing.html#returning-a-view-versus-a-copy\n",
      "  # This is added back by InteractiveShellApp.init_path()\n"
     ]
    }
   ],
   "source": [
    "# Import StandardScaler\n",
    "from sklearn.preprocessing import StandardScaler\n",
    "\n",
    "# Instantiate StandardScaler\n",
    "SS_scaler = StandardScaler()\n",
    "\n",
    "# Fit SS_scaler to the data\n",
    "SS_scaler.fit(numeric_df[['Age']])\n",
    "\n",
    "# Transform the data using the fitted scaler\n",
    "numeric_df['Age_SS'] = SS_scaler.transform(numeric_df[['Age']])\n",
    "\n",
    "# Compare the origional and transformed column\n",
    "print(numeric_df[['Age_SS', 'Age']].head())"
   ]
  },
  {
   "cell_type": "markdown",
   "metadata": {},
   "source": [
    "# Log transformation\n",
    "In the previous exercises you scaled the data linearly, which will not affect the data's shape. This works great if your data is normally distributed (or closely normally distributed), an assumption that a lot of machine learning models make. Sometimes you will work with data that closely conforms to normality, e.g the height or weight of a population. On the other hand, many variables in the real world do not follow this pattern e.g, wages or age of a population. In this exercise you will use a log transform on the ConvertedSalary column in the so_numeric_df DataFrame as it has a large amount of its data centered around the lower values, but contains very high values also. These distributions are said to have a long right tail."
   ]
  },
  {
   "cell_type": "code",
   "execution_count": 72,
   "metadata": {},
   "outputs": [
    {
     "data": {
      "text/html": [
       "<div>\n",
       "<style scoped>\n",
       "    .dataframe tbody tr th:only-of-type {\n",
       "        vertical-align: middle;\n",
       "    }\n",
       "\n",
       "    .dataframe tbody tr th {\n",
       "        vertical-align: top;\n",
       "    }\n",
       "\n",
       "    .dataframe thead th {\n",
       "        text-align: right;\n",
       "    }\n",
       "</style>\n",
       "<table border=\"1\" class=\"dataframe\">\n",
       "  <thead>\n",
       "    <tr style=\"text-align: right;\">\n",
       "      <th></th>\n",
       "      <th>ConvertedSalary</th>\n",
       "      <th>StackOverflowJobsRecommend</th>\n",
       "      <th>Age</th>\n",
       "      <th>Years Experience</th>\n",
       "    </tr>\n",
       "  </thead>\n",
       "  <tbody>\n",
       "    <tr>\n",
       "      <th>0</th>\n",
       "      <td>NaN</td>\n",
       "      <td>NaN</td>\n",
       "      <td>21</td>\n",
       "      <td>13</td>\n",
       "    </tr>\n",
       "    <tr>\n",
       "      <th>1</th>\n",
       "      <td>70841.0</td>\n",
       "      <td>7.0</td>\n",
       "      <td>38</td>\n",
       "      <td>9</td>\n",
       "    </tr>\n",
       "    <tr>\n",
       "      <th>2</th>\n",
       "      <td>NaN</td>\n",
       "      <td>8.0</td>\n",
       "      <td>45</td>\n",
       "      <td>11</td>\n",
       "    </tr>\n",
       "    <tr>\n",
       "      <th>3</th>\n",
       "      <td>21426.0</td>\n",
       "      <td>NaN</td>\n",
       "      <td>46</td>\n",
       "      <td>12</td>\n",
       "    </tr>\n",
       "    <tr>\n",
       "      <th>4</th>\n",
       "      <td>41671.0</td>\n",
       "      <td>8.0</td>\n",
       "      <td>39</td>\n",
       "      <td>7</td>\n",
       "    </tr>\n",
       "  </tbody>\n",
       "</table>\n",
       "</div>"
      ],
      "text/plain": [
       "   ConvertedSalary  StackOverflowJobsRecommend  Age  Years Experience\n",
       "0              NaN                         NaN   21                13\n",
       "1          70841.0                         7.0   38                 9\n",
       "2              NaN                         8.0   45                11\n",
       "3          21426.0                         NaN   46                12\n",
       "4          41671.0                         8.0   39                 7"
      ]
     },
     "execution_count": 72,
     "metadata": {},
     "output_type": "execute_result"
    }
   ],
   "source": [
    "df = pd.read_csv(\"Combined_DS_v10.csv\")\n",
    "numeric_df = df.select_dtypes(include=['int64', 'float'])\n",
    "numeric_df.head()"
   ]
  },
  {
   "cell_type": "code",
   "execution_count": 73,
   "metadata": {},
   "outputs": [
    {
     "name": "stderr",
     "output_type": "stream",
     "text": [
      "C:\\Users\\blake\\anaconda3\\lib\\site-packages\\ipykernel_launcher.py:11: SettingWithCopyWarning: \n",
      "A value is trying to be set on a copy of a slice from a DataFrame.\n",
      "Try using .loc[row_indexer,col_indexer] = value instead\n",
      "\n",
      "See the caveats in the documentation: https://pandas.pydata.org/pandas-docs/stable/user_guide/indexing.html#returning-a-view-versus-a-copy\n",
      "  # This is added back by InteractiveShellApp.init_path()\n"
     ]
    },
    {
     "data": {
      "image/png": "[encoded data removed]",
      "text/plain": [
       "<Figure size 432x288 with 2 Axes>"
      ]
     },
     "metadata": {
      "needs_background": "light"
     },
     "output_type": "display_data"
    }
   ],
   "source": [
    "# Import PowerTransformer\n",
    "from sklearn.preprocessing import PowerTransformer\n",
    "\n",
    "# Instantiate PowerTransformer\n",
    "pow_trans = PowerTransformer()\n",
    "\n",
    "# Train the transform on the data\n",
    "pow_trans.fit(numeric_df[['ConvertedSalary']])\n",
    "\n",
    "# Apply the power transform to the data\n",
    "numeric_df['ConvertedSalary_LG'] = pow_trans.transform(numeric_df[['ConvertedSalary']])\n",
    "\n",
    "# Plot the data before and after the transformation\n",
    "numeric_df[['ConvertedSalary', 'ConvertedSalary_LG']].hist()\n",
    "plt.show()"
   ]
  },
  {
   "cell_type": "markdown",
   "metadata": {},
   "source": [
    "# Removing outliers\n",
    "\n",
    "Percentage based outlier removal<br>\n",
    "One way to ensure a small portion of data is not having an overly adverse effect is by removing a certain percentage of the largest and/or smallest values in the column. <br>\n",
    "This can be achieved by finding the relevant quantile and trimming the data using it with a mask.<br>\n",
    "This approach is particularly useful if you are concerned that the highest values in your dataset should be avoided. When using this approach, you must remember that even if there are no outliers, this will still remove the same top N percentage from the dataset."
   ]
  },
  {
   "cell_type": "code",
   "execution_count": 75,
   "metadata": {},
   "outputs": [
    {
     "data": {
      "image/png": "[encoded data removed]",
      "text/plain": [
       "<Figure size 432x288 with 1 Axes>"
      ]
     },
     "metadata": {
      "needs_background": "light"
     },
     "output_type": "display_data"
    },
    {
     "data": {
      "text/plain": [
       "<Figure size 432x288 with 0 Axes>"
      ]
     },
     "metadata": {},
     "output_type": "display_data"
    },
    {
     "data": {
      "image/png": "[encoded data removed]",
      "text/plain": [
       "<Figure size 432x288 with 1 Axes>"
      ]
     },
     "metadata": {
      "needs_background": "light"
     },
     "output_type": "display_data"
    }
   ],
   "source": [
    "# Find the 95th quantile\n",
    "quantile = numeric_df['ConvertedSalary'].quantile(0.95)\n",
    "\n",
    "# Trim the outliers\n",
    "trimmed_df = numeric_df[numeric_df['ConvertedSalary'] < quantile]\n",
    "\n",
    "# The original histogram\n",
    "numeric_df[['ConvertedSalary']].hist()\n",
    "plt.show()\n",
    "plt.clf()\n",
    "\n",
    "# The trimmed histogram\n",
    "trimmed_df[['ConvertedSalary']].hist()\n",
    "plt.show()"
   ]
  },
  {
   "cell_type": "markdown",
   "metadata": {},
   "source": [
    "# Statistical outlier removal\n",
    "While removing the top N% of your data is useful for ensuring that very spurious points are removed, it does have the disadvantage of always removing the same proportion of points, even if the data is correct. A commonly used alternative approach is to remove data that sits further than three standard deviations from the mean. You can implement this by first calculating the mean and standard deviation of the relevant column to find upper and lower bounds, and applying these bounds as a mask to the DataFrame. This method ensures that only data that is genuinely different from the rest is removed, and will remove fewer points if the data is close together."
   ]
  },
  {
   "cell_type": "code",
   "execution_count": 76,
   "metadata": {},
   "outputs": [
    {
     "data": {
      "image/png": "[encoded data removed]",
      "text/plain": [
       "<Figure size 432x288 with 1 Axes>"
      ]
     },
     "metadata": {
      "needs_background": "light"
     },
     "output_type": "display_data"
    }
   ],
   "source": [
    "# Find the mean and standard dev\n",
    "std = numeric_df['ConvertedSalary'].std()\n",
    "mean = numeric_df['ConvertedSalary'].mean()\n",
    "\n",
    "# Calculate the cutoff\n",
    "cut_off = std * 3\n",
    "lower, upper = mean - cut_off, mean + cut_off\n",
    "\n",
    "# Trim the outliers\n",
    "trimmed_df = numeric_df[(numeric_df['ConvertedSalary'] < upper) \\\n",
    "                           & (numeric_df['ConvertedSalary'] > lower)]\n",
    "\n",
    "# The trimmed box plot\n",
    "trimmed_df[['ConvertedSalary']].boxplot()\n",
    "plt.show()"
   ]
  },
  {
   "cell_type": "markdown",
   "metadata": {},
   "source": [
    "# Train and testing transformations (I)\n",
    "So far you have created scalers based on a column, and then applied the scaler to the same data that it was trained on. When creating machine learning models you will generally build your models on historic data (train set) and apply your model to new unseen data (test set). In these cases you will need to ensure that the same scaling is being applied to both the training and test data.\n",
    "To do this in practice you train the scaler on the train set, and keep the trained scaler to apply it to the test set. You should never retrain a scaler on the test set."
   ]
  },
  {
   "cell_type": "code",
   "execution_count": 83,
   "metadata": {},
   "outputs": [
    {
     "data": {
      "text/html": [
       "<div>\n",
       "<style scoped>\n",
       "    .dataframe tbody tr th:only-of-type {\n",
       "        vertical-align: middle;\n",
       "    }\n",
       "\n",
       "    .dataframe tbody tr th {\n",
       "        vertical-align: top;\n",
       "    }\n",
       "\n",
       "    .dataframe thead th {\n",
       "        text-align: right;\n",
       "    }\n",
       "</style>\n",
       "<table border=\"1\" class=\"dataframe\">\n",
       "  <thead>\n",
       "    <tr style=\"text-align: right;\">\n",
       "      <th></th>\n",
       "      <th>ConvertedSalary</th>\n",
       "      <th>StackOverflowJobsRecommend</th>\n",
       "      <th>Age</th>\n",
       "      <th>Years Experience</th>\n",
       "      <th>ConvertedSalary_LG</th>\n",
       "    </tr>\n",
       "  </thead>\n",
       "  <tbody>\n",
       "    <tr>\n",
       "      <th>508</th>\n",
       "      <td>48828.0</td>\n",
       "      <td>10.0</td>\n",
       "      <td>22</td>\n",
       "      <td>3</td>\n",
       "      <td>-0.005135</td>\n",
       "    </tr>\n",
       "    <tr>\n",
       "      <th>738</th>\n",
       "      <td>NaN</td>\n",
       "      <td>7.0</td>\n",
       "      <td>54</td>\n",
       "      <td>4</td>\n",
       "      <td>NaN</td>\n",
       "    </tr>\n",
       "    <tr>\n",
       "      <th>331</th>\n",
       "      <td>NaN</td>\n",
       "      <td>NaN</td>\n",
       "      <td>35</td>\n",
       "      <td>7</td>\n",
       "      <td>NaN</td>\n",
       "    </tr>\n",
       "    <tr>\n",
       "      <th>832</th>\n",
       "      <td>NaN</td>\n",
       "      <td>NaN</td>\n",
       "      <td>34</td>\n",
       "      <td>12</td>\n",
       "      <td>NaN</td>\n",
       "    </tr>\n",
       "    <tr>\n",
       "      <th>77</th>\n",
       "      <td>NaN</td>\n",
       "      <td>NaN</td>\n",
       "      <td>25</td>\n",
       "      <td>6</td>\n",
       "      <td>NaN</td>\n",
       "    </tr>\n",
       "  </tbody>\n",
       "</table>\n",
       "</div>"
      ],
      "text/plain": [
       "     ConvertedSalary  StackOverflowJobsRecommend  Age  Years Experience  \\\n",
       "508          48828.0                        10.0   22                 3   \n",
       "738              NaN                         7.0   54                 4   \n",
       "331              NaN                         NaN   35                 7   \n",
       "832              NaN                         NaN   34                12   \n",
       "77               NaN                         NaN   25                 6   \n",
       "\n",
       "     ConvertedSalary_LG  \n",
       "508           -0.005135  \n",
       "738                 NaN  \n",
       "331                 NaN  \n",
       "832                 NaN  \n",
       "77                  NaN  "
      ]
     },
     "execution_count": 83,
     "metadata": {},
     "output_type": "execute_result"
    }
   ],
   "source": [
    "from sklearn.model_selection import train_test_split\n",
    "\n",
    "test_numeric, train_numeric = train_test_split(numeric_df, train_size=5, test_size=5)\n",
    "test_numeric"
   ]
  },
  {
   "cell_type": "code",
   "execution_count": 85,
   "metadata": {},
   "outputs": [
    {
     "name": "stdout",
     "output_type": "stream",
     "text": [
      "     Age    Age_ss\n",
      "508   22 -1.869668\n",
      "738   54  0.687143\n",
      "331   35 -0.830964\n",
      "832   34 -0.910864\n",
      "77    25 -1.629967\n"
     ]
    },
    {
     "name": "stderr",
     "output_type": "stream",
     "text": [
      "C:\\Users\\blake\\anaconda3\\lib\\site-packages\\ipykernel_launcher.py:11: SettingWithCopyWarning: \n",
      "A value is trying to be set on a copy of a slice from a DataFrame.\n",
      "Try using .loc[row_indexer,col_indexer] = value instead\n",
      "\n",
      "See the caveats in the documentation: https://pandas.pydata.org/pandas-docs/stable/user_guide/indexing.html#returning-a-view-versus-a-copy\n",
      "  # This is added back by InteractiveShellApp.init_path()\n"
     ]
    }
   ],
   "source": [
    "# Import StandardScaler\n",
    "from sklearn.preprocessing import StandardScaler\n",
    "\n",
    "# Apply a standard scaler to the data\n",
    "SS_scaler = StandardScaler()\n",
    "\n",
    "# Fit the standard scaler to the data\n",
    "SS_scaler.fit(train_numeric[['Age']])\n",
    "\n",
    "# Transform the test data using the fitted scaler\n",
    "test_numeric['Age_ss'] = SS_scaler.transform(test_numeric[['Age']])\n",
    "print(test_numeric[['Age', 'Age_ss']].head())"
   ]
  },
  {
   "cell_type": "markdown",
   "metadata": {},
   "source": [
    "# Train and testing transformations (II)\n",
    "Similar to applying the same scaler to both your training and test sets, if you have removed outliers from the train set, you probably want to do the same on the test set as well. Once again you should ensure that you use the thresholds calculated only from the train set to remove outliers from the test set.\n",
    "\n",
    "Calculate the standard deviation and mean of the ConvertedSalary column. <br>\n",
    "Calculate the upper and lower bounds as three standard deviations away from the mean in both the directions. <br>\n",
    "Trim the so_test_numeric DataFrame to retain all rows where ConvertedSalary is within the lower and upper bounds."
   ]
  },
  {
   "cell_type": "code",
   "execution_count": 87,
   "metadata": {},
   "outputs": [],
   "source": [
    "train_std = train_numeric['ConvertedSalary'].std()\n",
    "train_mean = train_numeric['ConvertedSalary'].mean()\n",
    "\n",
    "cut_off = train_std * 3\n",
    "train_lower, train_upper = train_mean - cut_off, train_mean + cut_off\n",
    "\n",
    "# Trim the test DataFrame\n",
    "trimmed_df = test_numeric[(test_numeric['ConvertedSalary'] < train_upper) \\\n",
    "                             & (test_numeric['ConvertedSalary'] > train_lower)]"
   ]
  },
  {
   "cell_type": "markdown",
   "metadata": {},
   "source": [
    "# Cleaning text data\n",
    "\n",
    "Cleaning up your text\n",
    "Unstructured text data cannot be directly used in most analyses. Multiple steps need to be taken to go from a long free form string to a set of numeric columns in the right format that can be ingested by a machine learning model. The first step of this process is to standardize the data and eliminate any characters that could cause problems later on in your analytic pipeline.\n",
    "\n",
    "In this chapter you will be working with a new dataset containing the inaugural speeches of the presidents of the United States loaded as speech_df, with the speeches stored in the text column."
   ]
  },
  {
   "cell_type": "code",
   "execution_count": 90,
   "metadata": {},
   "outputs": [
    {
     "data": {
      "text/html": [
       "<div>\n",
       "<style scoped>\n",
       "    .dataframe tbody tr th:only-of-type {\n",
       "        vertical-align: middle;\n",
       "    }\n",
       "\n",
       "    .dataframe tbody tr th {\n",
       "        vertical-align: top;\n",
       "    }\n",
       "\n",
       "    .dataframe thead th {\n",
       "        text-align: right;\n",
       "    }\n",
       "</style>\n",
       "<table border=\"1\" class=\"dataframe\">\n",
       "  <thead>\n",
       "    <tr style=\"text-align: right;\">\n",
       "      <th></th>\n",
       "      <th>Name</th>\n",
       "      <th>Inaugural Address</th>\n",
       "      <th>Date</th>\n",
       "      <th>text</th>\n",
       "    </tr>\n",
       "  </thead>\n",
       "  <tbody>\n",
       "    <tr>\n",
       "      <th>0</th>\n",
       "      <td>George Washington</td>\n",
       "      <td>First Inaugural Address</td>\n",
       "      <td>Thursday, April 30, 1789</td>\n",
       "      <td>Fellow-Citizens of the Senate and of the House...</td>\n",
       "    </tr>\n",
       "    <tr>\n",
       "      <th>1</th>\n",
       "      <td>George Washington</td>\n",
       "      <td>Second Inaugural Address</td>\n",
       "      <td>Monday, March 4, 1793</td>\n",
       "      <td>Fellow Citizens:  I AM again called upon by th...</td>\n",
       "    </tr>\n",
       "    <tr>\n",
       "      <th>2</th>\n",
       "      <td>John Adams</td>\n",
       "      <td>Inaugural Address</td>\n",
       "      <td>Saturday, March 4, 1797</td>\n",
       "      <td>WHEN it was first perceived, in early times, t...</td>\n",
       "    </tr>\n",
       "    <tr>\n",
       "      <th>3</th>\n",
       "      <td>Thomas Jefferson</td>\n",
       "      <td>First Inaugural Address</td>\n",
       "      <td>Wednesday, March 4, 1801</td>\n",
       "      <td>Friends and Fellow-Citizens:  CALLED upon to u...</td>\n",
       "    </tr>\n",
       "    <tr>\n",
       "      <th>4</th>\n",
       "      <td>Thomas Jefferson</td>\n",
       "      <td>Second Inaugural Address</td>\n",
       "      <td>Monday, March 4, 1805</td>\n",
       "      <td>PROCEEDING, fellow-citizens, to that qualifica...</td>\n",
       "    </tr>\n",
       "  </tbody>\n",
       "</table>\n",
       "</div>"
      ],
      "text/plain": [
       "                Name         Inaugural Address                      Date  \\\n",
       "0  George Washington   First Inaugural Address  Thursday, April 30, 1789   \n",
       "1  George Washington  Second Inaugural Address     Monday, March 4, 1793   \n",
       "2         John Adams         Inaugural Address   Saturday, March 4, 1797   \n",
       "3   Thomas Jefferson   First Inaugural Address  Wednesday, March 4, 1801   \n",
       "4   Thomas Jefferson  Second Inaugural Address     Monday, March 4, 1805   \n",
       "\n",
       "                                                text  \n",
       "0  Fellow-Citizens of the Senate and of the House...  \n",
       "1  Fellow Citizens:  I AM again called upon by th...  \n",
       "2  WHEN it was first perceived, in early times, t...  \n",
       "3  Friends and Fellow-Citizens:  CALLED upon to u...  \n",
       "4  PROCEEDING, fellow-citizens, to that qualifica...  "
      ]
     },
     "execution_count": 90,
     "metadata": {},
     "output_type": "execute_result"
    }
   ],
   "source": [
    "speech_df = pd.read_csv(\"speeches.csv\")\n",
    "speech_df.head()"
   ]
  },
  {
   "cell_type": "code",
   "execution_count": 91,
   "metadata": {},
   "outputs": [
    {
     "name": "stdout",
     "output_type": "stream",
     "text": [
      "0    fellow citizens of the senate and of the house...\n",
      "1    fellow citizens   i am again called upon by th...\n",
      "2    when it was first perceived  in early times  t...\n",
      "3    friends and fellow citizens   called upon to u...\n",
      "4    proceeding  fellow citizens  to that qualifica...\n",
      "Name: text_clean, dtype: object\n"
     ]
    }
   ],
   "source": [
    "# Replace all non letter characters with a whitespace\n",
    "speech_df['text_clean'] = speech_df['text'].str.replace('[^a-zA-Z]', ' ')\n",
    "\n",
    "# Change to lower case\n",
    "speech_df['text_clean'] = speech_df['text_clean'].str.lower()\n",
    "\n",
    "# Print the first 5 rows of the text_clean column\n",
    "print(speech_df['text_clean'].head())"
   ]
  },
  {
   "cell_type": "markdown",
   "metadata": {},
   "source": [
    "# High level text features\n",
    "Once the text has been cleaned and standardized you can begin creating features from the data. The most fundamental information you can calculate about free form text is its size, such as its length and number of words. In this exercise (and the rest of this chapter), you will focus on the cleaned/transformed text column (text_clean) you created in the last exercise."
   ]
  },
  {
   "cell_type": "code",
   "execution_count": 92,
   "metadata": {},
   "outputs": [
    {
     "name": "stdout",
     "output_type": "stream",
     "text": [
      "                                           text_clean  char_cnt  word_cnt  \\\n",
      "0   fellow citizens of the senate and of the house...      8616      1432   \n",
      "1   fellow citizens   i am again called upon by th...       787       135   \n",
      "2   when it was first perceived  in early times  t...     13871      2323   \n",
      "3   friends and fellow citizens   called upon to u...     10144      1736   \n",
      "4   proceeding  fellow citizens  to that qualifica...     12902      2169   \n",
      "5   unwilling to depart from examples of the most ...      7003      1179   \n",
      "6   about to add the solemnity of an oath to the o...      7148      1211   \n",
      "7   i should be destitute of feeling if i was not ...     19894      3382   \n",
      "8   fellow citizens   i shall not attempt to descr...     26322      4466   \n",
      "9   in compliance with an usage coeval with the ex...     17753      2922   \n",
      "10  fellow citizens   about to undertake the arduo...      6818      1130   \n",
      "11  fellow citizens   the will of the american peo...      7061      1179   \n",
      "12  fellow citizens  the practice of all my predec...     23527      3912   \n",
      "13  called from a retirement which i had supposed ...     32706      5585   \n",
      "14  fellow citizens   without solicitation on my p...     28739      4821   \n",
      "15  elected by the american people to the highest ...      6599      1092   \n",
      "16  my countrymen   it a relief to feel that no he...     20089      3348   \n",
      "17  fellow citizens   i appear before you this day...     16820      2839   \n",
      "18  fellow citizens of the united states   in comp...     21032      3642   \n",
      "19  fellow countrymen     at this second appearing...      3934       706   \n",
      "20  citizens of the united states   your suffrages...      6521      1138   \n",
      "21  fellow citizens   under providence i have been...      7736      1342   \n",
      "22  fellow citizens   we have assembled to repeat ...     14969      2498   \n",
      "23  fellow citizens   we stand to day upon an emin...     17774      2990   \n",
      "24  fellow citizens   in the presence of this vast...     10155      1695   \n",
      "25  fellow citizens   there is no constitutional o...     26175      4399   \n",
      "26  my fellow citizens   in obedience of the manda...     12340      2028   \n",
      "27  fellow citizens   in obedience to the will of ...     23691      3980   \n",
      "28  my fellow citizens   when we assembled here on...     13426      2216   \n",
      "29  my fellow citizens  no people on earth have mo...      5565       991   \n",
      "30  my fellow citizens   anyone who has taken the ...     32160      5439   \n",
      "31  there has been a change of government  it bega...      9554      1712   \n",
      "32  my fellow citizens   the four years which have...      8402      1535   \n",
      "33  my countrymen   when one surveys the world abo...     20294      3348   \n",
      "34  my countrymen   no one can contemplate current...     23937      4055   \n",
      "35  my countrymen   this occasion is not alone the...     22961      3771   \n",
      "36  i am certain that my fellow americans expect t...     10910      1888   \n",
      "37  when four years ago we met to inaugurate a pre...     10629      1831   \n",
      "38  on each national day of inauguration since    ...      7674      1371   \n",
      "39  mr  chief justice  mr  vice president  my frie...      3086       573   \n",
      "40  mr  vice president  mr  chief justice  and fel...     13707      2292   \n",
      "41  my friends  before i begin the expression of t...     14003      2475   \n",
      "42  the price of peace mr  chairman  mr  vice pres...      9277      1688   \n",
      "43  vice president johnson  mr  speaker  mr  chief...      7706      1390   \n",
      "44  my fellow countrymen  on this occasion  the oa...      8242      1502   \n",
      "45  senator dirksen  mr  chief justice  mr  vice p...     11701      2152   \n",
      "46  mr  vice president  mr  speaker  mr  chief jus...     10048      1835   \n",
      "47  for myself and for our nation  i want to thank...      6934      1238   \n",
      "48  senator hatfield  mr  chief justice  mr  presi...     13787      2457   \n",
      "49  senator mathias  chief justice burger  vice pr...     14601      2586   \n",
      "50  mr  chief justice  mr  president  vice preside...     12536      2342   \n",
      "51  my fellow citizens today we celebrate the myst...      9119      1608   \n",
      "52  my fellow citizens at this last presidential i...     12374      2201   \n",
      "53  president clinton  distinguished guests and my...      9084      1606   \n",
      "54  vice president cheney  mr  chief justice  pres...     12199      2122   \n",
      "55  my fellow citizens     i stand here today humb...     13637      2452   \n",
      "56  vice president biden  mr  chief justice  membe...     12174      2151   \n",
      "57  chief justice roberts  president carter  presi...      8555      1488   \n",
      "\n",
      "    avg_word_length  \n",
      "0          6.016760  \n",
      "1          5.829630  \n",
      "2          5.971158  \n",
      "3          5.843318  \n",
      "4          5.948363  \n",
      "5          5.939779  \n",
      "6          5.902560  \n",
      "7          5.882318  \n",
      "8          5.893865  \n",
      "9          6.075633  \n",
      "10         6.033628  \n",
      "11         5.988974  \n",
      "12         6.014059  \n",
      "13         5.856043  \n",
      "14         5.961211  \n",
      "15         6.043040  \n",
      "16         6.000299  \n",
      "17         5.924621  \n",
      "18         5.774849  \n",
      "19         5.572238  \n",
      "20         5.730228  \n",
      "21         5.764531  \n",
      "22         5.992394  \n",
      "23         5.944482  \n",
      "24         5.991150  \n",
      "25         5.950216  \n",
      "26         6.084813  \n",
      "27         5.952513  \n",
      "28         6.058664  \n",
      "29         5.615540  \n",
      "30         5.912852  \n",
      "31         5.580607  \n",
      "32         5.473616  \n",
      "33         6.061529  \n",
      "34         5.903083  \n",
      "35         6.088836  \n",
      "36         5.778602  \n",
      "37         5.805025  \n",
      "38         5.597374  \n",
      "39         5.385689  \n",
      "40         5.980366  \n",
      "41         5.657778  \n",
      "42         5.495853  \n",
      "43         5.543885  \n",
      "44         5.487350  \n",
      "45         5.437268  \n",
      "46         5.475749  \n",
      "47         5.600969  \n",
      "48         5.611315  \n",
      "49         5.646172  \n",
      "50         5.352690  \n",
      "51         5.671020  \n",
      "52         5.621990  \n",
      "53         5.656289  \n",
      "54         5.748822  \n",
      "55         5.561582  \n",
      "56         5.659693  \n",
      "57         5.749328  \n"
     ]
    }
   ],
   "source": [
    "# Find the length of each text\n",
    "speech_df['char_cnt'] = speech_df['text_clean'].str.len()\n",
    "\n",
    "# Count the number of words in each text\n",
    "speech_df['word_cnt'] = speech_df['text_clean'].str.split().str.len()\n",
    "\n",
    "# Find the average length of word\n",
    "speech_df['avg_word_length'] = speech_df['char_cnt'] / speech_df['word_cnt']\n",
    "\n",
    "# Print the first 5 rows of these columns\n",
    "print(speech_df[['text_clean', 'char_cnt', 'word_cnt', 'avg_word_length']])"
   ]
  },
  {
   "cell_type": "markdown",
   "metadata": {},
   "source": [
    "# Counting words (I)\n",
    "Once high level information has been recorded you can begin creating features based on the actual content of each text. One way to do this is to approach it in a similar way to how you worked with categorical variables in the earlier lessons.\n",
    "\n",
    "For each unique word in the dataset a column is created.\n",
    "For each entry, the number of times this word occurs is counted and the count value is entered into the respective column.\n",
    "These \"count\" columns can then be used to train machine learning models.\n",
    "\n",
    "-Import CountVectorizer from sklearn.feature_extraction.text. <br>\n",
    "-Instantiate CountVectorizer and assign it to cv.  <br>\n",
    "-Fit the vectorizer to the text_clean column.  <br>\n",
    "-Print the feature names generated by the vectorizer."
   ]
  },
  {
   "cell_type": "code",
   "execution_count": 93,
   "metadata": {},
   "outputs": [
    {
     "name": "stdout",
     "output_type": "stream",
     "text": [
      "['abandon', 'abandoned', 'abandonment', 'abate', 'abdicated', 'abeyance', 'abhorring', 'abide', 'abiding', 'abilities', 'ability', 'abject', 'able', 'ably', 'abnormal', 'abode', 'abolish', 'abolished', 'abolishing', 'aboriginal', 'aborigines', 'abound', 'abounding', 'abounds', 'about', 'above', 'abraham', 'abreast', 'abridging', 'abroad', 'absence', 'absent', 'absolute', 'absolutely', 'absolutism', 'absorb', 'absorbed', 'absorbing', 'absorbs', 'abstain', 'abstaining', 'abstract', 'abstractions', 'absurd', 'abundance', 'abundant', 'abundantly', 'abuse', 'abused', 'abuses', 'academies', 'accept', 'acceptance', 'accepted', 'accepting', 'accepts', 'access', 'accessible', 'accession', 'accident', 'accidental', 'accidents', 'acclaim', 'accommodation', 'accommodations', 'accompanied', 'accompany', 'accomplish', 'accomplished', 'accomplishing', 'accomplishment', 'accomplishments', 'accord', 'accordance', 'accorded', 'according', 'accordingly', 'accords', 'account', 'accountability', 'accountable', 'accounted', 'accrue', 'accrued', 'accruing', 'accumulate', 'accumulated', 'accumulation', 'accurately', 'accustom', 'achieve', 'achieved', 'achievement', 'achievements', 'achieving', 'acknowledge', 'acknowledged', 'acknowledging', 'acknowledgment', 'acquaintance', 'acquainted', 'acquiesce', 'acquiesced', 'acquiescence', 'acquire', 'acquired', 'acquires', 'acquiring', 'acquisition', 'acquisitions', 'acquit', 'acrimony', 'across', 'act', 'acted', 'acting', 'action', 'actions', 'active', 'actively', 'activism', 'activities', 'activity', 'acts', 'actual', 'actually', 'actuate', 'actuated', 'acute', 'adams', 'adapted', 'add', 'added', 'addiction', 'adding', 'addition', 'additional', 'additions', 'address', 'addressed', 'addresses', 'addressing', 'adds', 'adduced', 'adequate', 'adequately', 'adhere', 'adhered', 'adherence', 'adheres', 'adjective', 'adjunct', 'adjust', 'adjusted', 'adjusting', 'adjustment', 'adjustments', 'administer', 'administered', 'administering', 'administrated', 'administration', 'administrations', 'administrative', 'administrators', 'admirable', 'admirably', 'admiration', 'admission', 'admissions', 'admit', 'admitted', 'admitting', 'admonish', 'admonished', 'admonishes', 'admonition', 'admonitions', 'adopt', 'adopted', 'adopting', 'adoption', 'adore', 'adoring', 'adorn', 'adorns', 'advance', 'advanced', 'advancement', 'advances', 'advancing', 'advantage', 'advantageous', 'advantageously', 'advantages', 'adventure', 'adventurers', 'adventurously', 'adversaries', 'adversary', 'adverse', 'adverted', 'advice', 'advisable', 'advised', 'advisers', 'advisory', 'advocacy', 'advocate', 'advocated', 'advocates', 'aegis', 'affairs', 'affect', 'affected', 'affecting', 'affection', 'affectionate', 'affections', 'affiliation', 'affirm', 'affirmation', 'affirmations', 'affirmed', 'affirms', 'afflict', 'affliction', 'afford', 'afforded', 'affording', 'affords', 'afghanistan', 'afield', 'afloat', 'afraid', 'afresh', 'africa', 'african', 'after', 'aftermath', 'again', 'against', 'age', 'aged', 'agencies', 'agency', 'agent', 'agents', 'ages', 'aggrandizement', 'aggravated', 'aggravation', 'aggregate', 'aggregations', 'aggression', 'aggressive', 'aggressor', 'aggressors', 'agitate', 'agitated', 'agitating', 'agitation', 'agitations', 'ago', 'agonizing', 'agony', 'agree', 'agreeably', 'agreed', 'agreeing', 'agreement', 'agreements', 'agricultural', 'agriculture', 'agriculturists', 'ahead', 'aid', 'aided', 'aids', 'aim', 'aimed', 'aims', 'air', 'airports', 'alacrity', 'alamo', 'alarm', 'alarmed', 'alert', 'alien', 'alienate', 'alienated', 'aliens', 'alike', 'aliment', 'ality', 'alive', 'all', 'allayed', 'allegation', 'allegations', 'alleged', 'alleghanies', 'allegiance', 'alleviate', 'alliance', 'alliances', 'allies', 'allocating', 'allotted', 'allow', 'allowed', 'allowing', 'allows', 'allude', 'allured', 'alluring', 'allusion', 'ally', 'almighty', 'almost', 'alone', 'along', 'alongside', 'aloof', 'aloofness', 'already', 'also', 'altar', 'alter', 'alteration', 'altercation', 'altered', 'alternative', 'although', 'altogether', 'always', 'am', 'amalgamated', 'amass', 'ambassadors', 'ambiguity', 'ambition', 'ambitions', 'ambitious', 'ambush', 'amelia', 'amen', 'amendatory', 'amended', 'amending', 'amendment', 'amendments', 'america', 'american', 'americanism', 'americans', 'americas', 'amiable', 'amicable', 'amicably', 'amid', 'amidst', 'amity', 'amnesty', 'among', 'amongst', 'amount', 'amounts', 'ample', 'amply', 'an', 'anarchy', 'ancestors', 'anchor', 'ancient', 'and', 'andes', 'anew', 'angel', 'angels', 'anger', 'angry', 'anguish', 'anguished', 'animate', 'animated', 'animates', 'animating', 'animation', 'animosities', 'animosity', 'annals', 'annexation', 'annexed', 'annihilate', 'annihilation', 'anniversary', 'announce', 'announced', 'announces', 'annoyance', 'annual', 'annually', 'annul', 'another', 'answer', 'answerable', 'answered', 'antagonistic', 'anticipate', 'anticipated', 'anticipating', 'anticipation', 'anticipations', 'antifederal', 'anting', 'antipathies', 'antiphilosophists', 'antiquity', 'antirepublican', 'antitrust', 'ants', 'anxieties', 'anxiety', 'anxious', 'anxiously', 'any', 'anybody', 'anymore', 'anyone', 'anything', 'anywhere', 'apart', 'apathy', 'apollo', 'apologize', 'apology', 'appalachia', 'appalled', 'appalling', 'apparent', 'apparently', 'appeal', 'appealing', 'appeals', 'appear', 'appearance', 'appeared', 'appearing', 'appears', 'appeasement', 'appertain', 'applauded', 'applicable', 'applicants', 'application', 'applied', 'applies', 'apply', 'applying', 'appoint', 'appointed', 'appointee', 'appointees', 'appointing', 'appointment', 'appointments', 'appraisal', 'appraise', 'appreciate', 'appreciated', 'appreciating', 'appreciation', 'appreciative', 'apprehend', 'apprehension', 'apprehensions', 'apprehensive', 'apprised', 'approach', 'approached', 'approaches', 'approaching', 'approbation', 'appropriate', 'appropriately', 'appropriateness', 'appropriation', 'appropriations', 'approval', 'approve', 'approved', 'approving', 'approximate', 'approximated', 'april', 'apt', 'aqueducts', 'arbitrament', 'arbitrarily', 'arbitrary', 'arbitration', 'archibald', 'archipelago', 'ardent', 'ardor', 'arduous', 'are', 'area', 'areas', 'argonne', 'argue', 'argued', 'argument', 'arguments', 'arid', 'aright', 'arise', 'arisen', 'arises', 'arising', 'aristocracy', 'ark', 'arlington', 'arm', 'armament', 'armaments', 'armed', 'armies', 'arms', 'army', 'arose', 'around', 'arouse', 'arraignment', 'arrange', 'arrangement', 'arrangements', 'array', 'arrest', 'arrested', 'arresting', 'arrests', 'arrive', 'arrived', 'arrives', 'arriving', 'arrogance', 'arrogate', 'arsenal', 'arsenals', 'art', 'article', 'articles', 'articulated', 'artifice', 'artificial', 'artificially', 'artillery', 'artisans', 'artists', 'arts', 'as', 'ascendancy', 'ascended', 'ascendency', 'ascertain', 'ascertained', 'ascertaining', 'ascribe', 'ascribed', 'ashamed', 'asia', 'asiatic', 'aside', 'ask', 'asked', 'asking', 'asks', 'asleep', 'aspect', 'aspects', 'aspiration', 'aspirations', 'aspire', 'aspires', 'assail', 'assailed', 'assault', 'assemblage', 'assemble', 'assembled', 'assembly', 'assent', 'assert', 'asserted', 'assertion', 'assertions', 'asserts', 'assess', 'assessed', 'assessing', 'assign', 'assigned', 'assignment', 'assigns', 'assist', 'assistance', 'assisted', 'assisting', 'associate', 'associated', 'associates', 'association', 'associations', 'assuage', 'assuaged', 'assume', 'assumed', 'assumes', 'assuming', 'assumption', 'assurance', 'assurances', 'assure', 'assured', 'assuredly', 'assuring', 'astonishing', 'astounding', 'astray', 'astronauts', 'asunder', 'asylum', 'at', 'ate', 'athens', 'atlantic', 'atmosphere', 'atom', 'atone', 'atrocious', 'atrocity', 'attach', 'attached', 'attachment', 'attachments', 'attack', 'attacked', 'attacks', 'attain', 'attained', 'attaining', 'attainment', 'attainments', 'attempt', 'attempted', 'attempting', 'attempts', 'attend', 'attendant', 'attended', 'attending', 'attends', 'attention', 'attentive', 'attest', 'attitude', 'attitudes', 'attorneys', 'attractive', 'attributable', 'attributes', 'audacity', 'audience', 'aught', 'augment', 'augmentation', 'augmented', 'augments', 'auguring', 'august', 'auspices', 'auspicious', 'auspiciously', 'author', 'authoritative', 'authorities', 'authority', 'authorized', 'authorizes', 'authorizing', 'authors', 'autocracy', 'autocratic', 'autonomy', 'auxiliaries', 'auxiliary', 'avail', 'availability', 'available', 'availed', 'avenue', 'avenues', 'aver', 'avert', 'averted', 'averting', 'avoid', 'avoidance', 'avoided', 'avoiding', 'avow', 'avowal', 'avowed', 'avowing', 'await', 'awaited', 'awaiting', 'awaits', 'awake', 'awaken', 'awakened', 'awakens', 'awarded', 'aware', 'away', 'awesome', 'awful', 'ax', 'back', 'background', 'backgrounds', 'backs', 'backward', 'bacteria', 'bad', 'badge', 'badly', 'baffled', 'baggage', 'baker', 'balance', 'balanced', 'balances', 'balancing', 'balk', 'ballot', 'baltimore', 'band', 'bane', 'baneful', 'banished', 'banishment', 'bank', 'banking', 'bankrupt', 'banks', 'banner', 'baptism', 'bar', 'barbarian', 'barbarians', 'barbarism', 'barbary', 'barber', 'bare', 'barely', 'bargain', 'barriers', 'barter', 'bartered', 'base', 'based', 'basic', 'basis', 'bastion', 'batavian', 'battalion', 'battalions', 'battle', 'battlefield', 'battlefields', 'battles', 'bay', 'bays', 'be', 'beach', 'beachhead', 'beacon', 'bear', 'bearing', 'bearings', 'bears', 'beaten', 'beating', 'beautiful', 'beauty', 'became', 'because', 'beckon', 'beckons', 'becloud', 'become', 'becomes', 'becoming', 'bedrock', 'been', 'befit', 'befits', 'befitting', 'befo', 'before', 'beg', 'began', 'begets', 'begin', 'beginning', 'beginnings', 'begins', 'begun', 'behalf', 'behave', 'behind', 'behold', 'beholds', 'behooves', 'being', 'belaboring', 'belied', 'belief', 'beliefs', 'beliefunder', 'believe', 'believed', 'believers', 'believes', 'believing', 'bell', 'belleau', 'belligerent', 'belong', 'belonged', 'belonging', 'belongs', 'belove', 'beloved', 'below', 'bend', 'beneath', 'benediction', 'benedictions', 'benefactors', 'beneficence', 'beneficent', 'beneficial', 'benefit', 'benefited', 'benefiting', 'benefits', 'benevolence', 'benevolent', 'benign', 'bequeathed', 'bernardin', 'beseech', 'beseeching', 'beseems', 'beset', 'besides', 'best', 'bestow', 'bestowal', 'bestowed', 'betray', 'betrays', 'better', 'between', 'beware', 'bewildered', 'beyon', 'beyond', 'bible', 'bicentennial', 'bicker', 'bickering', 'bidding', 'biden', 'big', 'bigger', 'bigoted', 'bigotry', 'bill', 'billion', 'billions', 'billows', 'bills', 'bimetallism', 'bind', 'binding', 'binds', 'biological', 'bipartisanship', 'birth', 'birthday', 'birthright', 'bitter', 'bitterness', 'black', 'blame', 'blast', 'blaze', 'blazed', 'bleak', 'bleakest', 'bled', 'bleed', 'blend', 'blended', 'bless', 'blessed', 'blessing', 'blessings', 'blight', 'blind', 'blinded', 'blindly', 'bloated', 'blood', 'bloodiest', 'bloodshed', 'bloody', 'blot', 'blotches', 'blow', 'blowing', 'blown', 'blows', 'blue', 'blueprint', 'board', 'boast', 'boasted', 'boastfulness', 'boat', 'bodies', 'bodily', 'body', 'bold', 'boldest', 'boldly', 'boldness', 'bombastic', 'bona', 'bond', 'bondage', 'bonds', 'bondsman', 'book', 'border', 'bordering', 'borders', 'bore', 'born', 'borne', 'borrowed', 'borrowing', 'bosom', 'bosoms', 'boston', 'both', 'bottoms', 'bound', 'boundaries', 'boundary', 'bounded', 'boundless', 'bounds', 'bounteous', 'bounties', 'bountiful', 'bounty', 'bow', 'box', 'boy', 'boycott', 'branch', 'branches', 'brave', 'bravely', 'bravery', 'breach', 'bread', 'break', 'breaking', 'breaks', 'breast', 'breath', 'breathes', 'breathing', 'bred', 'breed', 'breeze', 'brethren', 'bridge', 'bridges', 'bridle', 'brief', 'briefly', 'bright', 'brightens', 'brighter', 'brightest', 'brightly', 'brilliant', 'bring', 'bringing', 'brings', 'brink', 'britain', 'britannic', 'british', 'broad', 'broadcast', 'broadening', 'broader', 'broadly', 'broils', 'broke', 'broken', 'brood', 'brother', 'brotherhood', 'brotherly', 'brothers', 'brought', 'brown', 'brutal', 'buccaneering', 'budapest', 'budget', 'build', 'builded', 'builders', 'building', 'buildup', 'built', 'bulk', 'bulky', 'bullies', 'bulwark', 'bulwarks', 'burden', 'burdened', 'burdens', 'burdensome', 'bureau', 'bureaus', 'burger', 'burma', 'burns', 'burthen', 'burthened', 'burthening', 'bush', 'business', 'businesses', 'busy', 'but', 'buy', 'by', 'bygone', 'cabbies', 'cabinet', 'caesar', 'calamities', 'calamitous', 'calamity', 'calculate', 'calculated', 'calculating', 'calculation', 'calculations', 'calendar', 'california', 'call', 'called', 'calling', 'callous', 'calls', 'calm', 'calmly', 'calmness', 'calvin', 'came', 'camp', 'campaign', 'campfires', 'camps', 'can', 'canal', 'canals', 'cancers', 'candid', 'candidacy', 'candidate', 'candidates', 'candidly', 'candle', 'candor', 'cannot', 'canvass', 'capability', 'capable', 'capacities', 'capacity', 'cape', 'capital', 'capitalist', 'capitals', 'capitol', 'capped', 'caprice', 'captive', 'captives', 'capture', 'car', 'cardinal', 'care', 'cared', 'career', 'careful', 'carefully', 'careless', 'carelessly', 'cares', 'cargoes', 'caring', 'carnage', 'carolina', 'carried', 'carriers', 'carries', 'carry', 'carrying', 'cars', 'carter', 'case', 'cases', 'cash', 'cast', 'casting', 'casts', 'casual', 'casualties', 'catalogue', 'catastrophe', 'catch', 'cathedral', 'cattle', 'caught', 'cause', 'caused', 'causes', 'causing', 'caution', 'cautious', 'cease', 'ceased', 'ceaseless', 'ceasing', 'cede', 'ceded', 'celebrate', 'celebrated', 'celebration', 'cement', 'cemented', 'cementing', 'cemetery', 'censorship', 'censure', 'census', 'centennial', 'centennials', 'center', 'centered', 'centers', 'central', 'centuries', 'century', 'cereals', 'ceremonial', 'ceremony', 'certain', 'certainly', 'certainty', 'chain', 'chains', 'chair', 'chairman', 'chairs', 'chalice', 'challenge', 'challenged', 'challenges', 'chamber', 'chance', 'chances', 'change', 'changed', 'changefirst', 'changeless', 'changeliberty', 'changers', 'changes', 'changethe', 'changing', 'channel', 'channels', 'chaos', 'chapter', 'character', 'characteristic', 'characterize', 'characterized', 'characters', 'charge', 'chargeable', 'charged', 'charges', 'charity', 'chart', 'charta', 'charter', 'chase', 'chattel', 'cheap', 'cheapness', 'check', 'checked', 'checking', 'checks', 'cheered', 'cheerful', 'cheerfully', 'cheerfulness', 'cheering', 'chemical', 'cheney', 'cherish', 'cherished', 'cherishes', 'chest', 'chief', 'chiefly', 'child', 'childhood', 'childish', 'children', 'china', 'choice', 'choices', 'choose', 'chooses', 'choosing', 'chop', 'chords', 'chorus', 'chosen', 'chosin', 'christian', 'christianity', 'christians', 'christmas', 'church', 'churches', 'churchill', 'ci', 'cincinnati', 'circ', 'circle', 'circulating', 'circulation', 'circumscribed', 'circumstance', 'circumstances', 'citement', 'cities', 'citizen', 'citizenry', 'citizens', 'citizenship', 'city', 'civic', 'civil', 'civility', 'civilization', 'civilized', 'clad', 'claim', 'claimed', 'claiming', 'claims', 'clamor', 'clarification', 'clarified', 'clarify', 'clarity', 'class', 'classed', 'classes', 'classroom', 'clause', 'clauses', 'clay', 'clean', 'cleaner', 'cleanse', 'clear', 'clearcut', 'clearly', 'clearness', 'cleaves', 'clergy', 'clerk', 'clerks', 'climate', 'climb', 'climes', 'clinching', 'cling', 'clinton', 'cloaked', 'clocks', 'clogged', 'close', 'closed', 'closely', 'closeness', 'closer', 'closest', 'closing', 'clothe', 'clothed', 'clothing', 'clouds', 'co', 'coal', 'coaling', 'coarse', 'coast', 'coasts', 'cocaine', 'code', 'coequal', 'coercion', 'coercions', 'coercive', 'coeval', 'coffers', 'coherence', 'coin', 'coinage', 'coincidence', 'coined', 'cold', 'coldest', 'coleman', 'collaborator', 'collapse', 'collect', 'collected', 'collection', 'collective', 'collectively', 'college', 'colleges', 'collision', 'collisions', 'colonel', 'colonial', 'colonies', 'colonists', 'colonization', 'color', 'colorable', 'colored', 'colors', 'colossal', 'columbia', 'columns', 'combat', 'combated', 'combination', 'combinations', 'combine', 'combined', 'combining', 'come', 'comes', 'cometh', 'comfort', 'comforts', 'coming', 'comities', 'comity', 'command', 'commanded', 'commander', 'commanders', 'commanding', 'commandments', 'commands', 'commence', 'commenced', 'commencement', 'commencing', 'commendable', 'commended', 'commensurate', 'commerce', 'commercial', 'commiseration', 'commission', 'commissioners', 'commissions', 'commit', 'commitment', 'commitments', 'committed', 'committing', 'commodities', 'common', 'commonly', 'commonplace', 'commons', 'commonwealth', 'communicate', 'communicated', 'communicating', 'communication', 'communications', 'communion', 'communism', 'communist', 'communists', 'communities', 'community', 'compact', 'compacts', 'companies', 'companions', 'company', 'comparative', 'comparatively', 'compare', 'compared', 'comparison', 'compass', 'compassion', 'compassionate', 'compatible', 'compel', 'compelled', 'compelling', 'compensate', 'compensated', 'compensation', 'compensations', 'compete', 'competency', 'competent', 'competing', 'competition', 'competitions', 'competitive', 'complain', 'complained', 'complaining', 'complaint', 'complete', 'completed', 'completely', 'completeness', 'completion', 'complex', 'complexity', 'compliance', 'complicated', 'complications', 'compliment', 'comply', 'comport', 'comports', 'compose', 'composed', 'composing', 'composite', 'composition', 'comprehend', 'comprehending', 'comprehension', 'comprehensive', 'comprehensively', 'compress', 'comprise', 'comprised', 'compromise', 'compromises', 'compulsory', 'computation', 'computer', 'comrades', 'conceded', 'conceive', 'conceived', 'conceives', 'conceiving', 'concentrated', 'concentrating', 'concentration', 'concept', 'conception', 'concepts', 'concern', 'concerned', 'concerning', 'concernment', 'concerns', 'concert', 'concerted', 'concess', 'concession', 'concessions', 'conciliate', 'conciliated', 'conciliation', 'concise', 'concluded', 'conclusion', 'conclusions', 'conclusive', 'concord', 'concrete', 'concur', 'concurrence', 'concurrent', 'condemn', 'condemned', 'condemning', 'condescending', 'condition', 'conditions', 'condoned', 'conduct', 'conducted', 'conducting', 'conducts', 'confederacies', 'confederacy', 'confederate', 'confederated', 'confederation', 'confer', 'conference', 'conferences', 'conferred', 'conferring', 'confers', 'confess', 'confessedly', 'confession', 'confide', 'confided', 'confidence', 'confident', 'confidently', 'confiding', 'configuration', 'confine', 'confined', 'confines', 'confirm', 'confirmed', 'conflict', 'conflicting', 'conflicts', 'conform', 'conformable', 'conforming', 'conformity', 'confound', 'confront', 'confrontation', 'confronted', 'confronting', 'confronts', 'confuse', 'confusion', 'congenial', 'congratulate', 'congratulation', 'congratulations', 'congregations', 'congress', 'congressional', 'congressman', 'conjecture', 'connected', 'connection', 'connections', 'connects', 'connive', 'conquer', 'conquered', 'conquering', 'conquest', 'conquests', 'conscience', 'consciences', 'conscientious', 'conscientiously', 'consciou', 'conscious', 'consciousness', 'consecrate', 'consecrated', 'consecrates', 'consecration', 'consent', 'consequence', 'consequences', 'consequent', 'consequential', 'consequently', 'conservation', 'conservative', 'conservator', 'conserve', 'conserving', 'consider', 'considerable', 'considerably', 'considerate', 'considerately', 'consideration', 'considerations', 'considered', 'considering', 'consist', 'consistency', 'consistent', 'consistently', 'consisting', 'consists', 'consolation', 'consolatory', 'console', 'consoled', 'consolidate', 'consolidated', 'consoling', 'consort', 'conspicuous', 'conspicuously', 'conspiracies', 'constant', 'constantly', 'constants', 'constellation', 'constituent', 'constituents', 'constitute', 'constituted', 'constituting', 'constitution', 'constitutional', 'constitutionally', 'constitutions', 'constrain', 'constrained', 'constraint', 'constricted', 'construct', 'constructed', 'constructing', 'construction', 'constructive', 'construe', 'construed', 'consul', 'consult', 'consultations', 'consulted', 'consulting', 'consume', 'consumed', 'consummate', 'consummating', 'consummation', 'consumption', 'contacts', 'contain', 'containing', 'contains', 'contemplate', 'contemplated', 'contemplating', 'contemplation', 'contemplations', 'contempt', 'contend', 'contended', 'contending', 'content', 'contented', 'contention', 'contentions', 'contentious', 'contentment', 'contest', 'contests', 'contiguous', 'continent', 'continents', 'contingency', 'continually', 'continuance', 'continuation', 'continue', 'continued', 'continues', 'continuing', 'continuity', 'continuum', 'contour', 'contract', 'contracted', 'contracting', 'contraction', 'contracts', 'contradistinction', 'contrary', 'contrast', 'contrasts', 'contribute', 'contributed', 'contribution', 'contributions', 'contributory', 'contriving', 'control', 'controlled', 'controlling', 'controls', 'controversies', 'controversy', 'convene', 'convenience', 'convenient', 'convening', 'convention', 'conventional', 'conventions', 'converging', 'conversion', 'convert', 'convertible', 'convey', 'conviction', 'convictions', 'convinced', 'convinces', 'convulsed', 'convulsions', 'cook', 'cool', 'coolidge', 'cooperate', 'cooperating', 'cooperation', 'cooperative', 'coordinat', 'coordinate', 'cope', 'cordant', 'cordial', 'cordially', 'core', 'corn', 'corner', 'corners', 'corporation', 'corporations', 'corpus', 'correct', 'corrected', 'correction', 'corrective', 'correctives', 'correctly', 'corresponded', 'correspondent', 'corresponding', 'corroded', 'corrupt', 'corrupted', 'corrupting', 'corruption', 'cortes', 'cosmopolitan', 'cosmos', 'cost', 'costly', 'costs', 'cotton', 'cottons', 'could', 'councils', 'counsel', 'counsels', 'count', 'counted', 'countenance', 'counter', 'counteract', 'counteracted', 'counteraction', 'counties', 'counting', 'countless', 'countries', 'country', 'countrymen', 'countryside', 'county', 'courage', 'courageous', 'courageously', 'courier', 'course', 'courses', 'court', 'courtesy', 'courts', 'covenant', 'covenants', 'covenantthey', 'cover', 'covered', 'covering', 'covers', 'covet', 'cradle', 'craft', 'crafty', 'crave', 'craving', 'create', 'created', 'creates', 'creating', 'creation', 'creative', 'creativity', 'creator', 'credit', 'creditable', 'creditors', 'credits', 'creed', 'creeds', 'creep', 'crime', 'crimes', 'criminal', 'criminality', 'criminals', 'cripple', 'crippling', 'crises', 'crisis', 'critical', 'critically', 'criticism', 'croix', 'croplands', 'crops', 'cross', 'crosses', 'crowded', 'crowds', 'crown', 'crowned', 'crucial', 'crude', 'cruel', 'cruelty', 'cruising', 'crumble', 'crush', 'crushes', 'crushing', 'cry', 'ct', 'cuba', 'cuban', 'cubans', 'culpable', 'culprits', 'cultivate', 'cultivated', 'cultivation', 'cultivator', 'cultural', 'culture', 'cultures', 'cup', 'cupidity', 'curb', 'cure', 'cured', 'cures', 'curiosity', 'currency', 'current', 'currents', 'curse', 'curtailment', 'custody', 'custom', 'customary', 'customs', 'cut', 'cuts', 'cutting', 'cycle', 'cynicism', 'cynics', 'daily', 'dakota', 'dakotas', 'dam', 'damage', 'dams', 'danger', 'dangerous', 'dangerously', 'dangers', 'dare', 'dared', 'dares', 'daring', 'dark', 'darkened', 'darkest', 'darkness', 'data', 'date', 'daughters', 'david', 'dawn', 'dawning', 'day', 'days', 'de', 'dead', 'deadlock', 'deadly', 'deaf', 'deal', 'dealing', 'dealings', 'dealt', 'dear', 'dearer', 'dearest', 'death', 'deathless', 'deaths', 'debased', 'debasement', 'debate', 'debates', 'debauched', 'debt', 'debtor', 'debts', 'decade', 'decadent', 'decades', 'decay', 'decayed', 'deceit', 'deceive', 'deceived', 'december', 'decencies', 'decency', 'decent', 'decide', 'decided', 'decides', 'deciding', 'decision', 'decisions', 'decisive', 'decisively', 'declaration', 'declarations', 'declare', 'declared', 'declares', 'declaring', 'decline', 'declining', 'decoding', 'decoration', 'decrease', 'decreased', 'decreasing', 'decree', 'decreed', 'decrees', 'dedicate', 'dedicated', 'dedication', 'deed', 'deeds', 'deem', 'deemed', 'deems', 'deep', 'deepen', 'deepened', 'deepening', 'deeper', 'deepest', 'deeply', 'defamation', 'defamatory', 'defaulters', 'defaulting', 'defeat', 'defeated', 'defeatism', 'defect', 'defective', 'defects', 'defend', 'defended', 'defenders', 'defending', 'defense', 'defenseless', 'defenses', 'defensive', 'defer', 'deference', 'deferred', 'deficiencies', 'deficiency', 'deficit', 'deficits', 'defied', 'defies', 'define', 'defined', 'defines', 'defining', 'definite', 'definitely', 'definition', 'definitions', 'defray', 'defrayed', 'defy', 'degenerate', 'degeneration', 'degradation', 'degradations', 'degrades', 'degrading', 'degree', 'degrees', 'delano', 'delay', 'delayed', 'delays', 'delegated', 'delegation', 'deliberate', 'deliberately', 'deliberating', 'deliberation', 'deliberations', 'delicacy', 'delicate', 'delicious', 'delight', 'delights', 'delineated', 'delinquency', 'delinquent', 'delirium', 'deliver', 'deliverance', 'delivered', 'delivering', 'deluge', 'delusion', 'delusions', 'delusive', 'demand', 'demanded', 'demanding', 'demands', 'demilitarize', 'democracies', 'democracy', 'democrat', 'democratic', 'democrats', 'demolish', 'demonstrate', 'demonstrated', 'demonstration', 'demonstrations', 'demoralization', 'demoralizes', 'demoralizing', 'denial', 'denied', 'denies', 'denominations', 'denounce', 'denounced', 'dense', 'densely', 'deny', 'denying', 'depart', 'departed', 'department', 'departments', 'departure', 'depend', 'dependable', 'depended', 'dependence', 'dependencies', 'dependency', 'dependent', 'depending', 'depends', 'depletion', 'deplorable', 'deplorably', 'deplore', 'deplored', 'depositaries', 'deposits', 'deprecated', 'depreciation', 'depressed', 'depression', 'deprivation', 'deprive', 'deprived', 'depth', 'depths', 'deputed', 'derive', 'derived', 'derives', 'deriving', 'descendants', 'descending', 'descends', 'describe', 'described', 'describes', 'desert', 'deserted', 'deserters', 'deserts', 'deserve', 'deserved', 'deserves', 'deserving', 'design', 'designates', 'designation', 'designed', 'designing', 'designs', 'desirable', 'desire', 'desired', 'desires', 'desiring', 'desirous', 'desolated', 'despair', 'despaired', 'desperate', 'desperation', 'despise', 'despite', 'despondence', 'despotic', 'despotism', 'despots', 'destination', 'destined', 'destinies', 'destiny', 'destitute', 'destroy', 'destroyed', 'destroying', 'destroys', 'destruction', 'destructive', 'detached', 'detachment', 'detail', 'detailed', 'details', 'detained', 'deter', 'deteriorate', 'determination', 'determinations', 'determine', 'determined', 'determines', 'determining', 'detract', 'detriment', 'detroit', 'devastated', 'devastates', 'devastating', 'devastation', 'develop', 'developed', 'developing', 'development', 'developments', 'deviation', 'device', 'devices', 'devise', 'devised', 'devising', 'devolve', 'devolved', 'devote', 'devoted', 'devoti', 'devoting', 'devotion', 'devout', 'dew', 'diadem', 'diamonds', 'diary', 'dictate', 'dictated', 'dictates', 'dictator', 'dictators', 'dictatorship', 'did', 'didn', 'die', 'died', 'dies', 'dif', 'differ', 'differed', 'difference', 'differences', 'different', 'differentiating', 'differentiation', 'differently', 'differing', 'difficult', 'difficulties', 'difficulty', 'diffidence', 'diffused', 'diffusion', 'digest', 'digital', 'dignified', 'dignifies', 'dignity', 'diligence', 'diligent', 'diligently', 'dimensions', 'diminish', 'diminished', 'diminishes', 'diminishing', 'dimmed', 'dimness', 'din', 'dingley', 'diplomacy', 'diplomatic', 'dire', 'direct', 'directed', 'directing', 'direction', 'directions', 'directly', 'directs', 'dirksen', 'dis', 'disability', 'disabled', 'disadvantaged', 'disaffection', 'disagree', 'disagreements', 'disappeared', 'disappearing', 'disappointed', 'disappointment', 'disapproved', 'disarmament', 'disaster', 'disasters', 'disastrous', 'disbursed', 'disbursement', 'discard', 'discarding', 'discern', 'discernment', 'discharge', 'discharged', 'discharging', 'discipline', 'disciplined', 'disclaim', 'disclosed', 'discontents', 'discontinue', 'discontinued', 'discord', 'discordant', 'discountenanced', 'discountenancing', 'discourage', 'discouragement', 'discouraging', 'discover', 'discovered', 'discoveries', 'discovering', 'discrediting', 'discretion', 'discretionary', 'discriminate', 'discriminating', 'discrimination', 'discriminations', 'discuss', 'discussing', 'discussion', 'discussions', 'disease', 'diseases', 'disfigure', 'disfranchised', 'disgraceful', 'disguise', 'disguised', 'disguises', 'disheartened', 'dishonor', 'dishonorable', 'disinclination', 'disinterested', 'disloyal', 'dismember', 'disobedience', 'disorder', 'disorderly', 'disorders', 'disorganization', 'disorganize', 'disorganizing', 'dispassionate', 'dispel', 'dispelled', 'dispensations', 'dispense', 'dispensed', 'displaced', 'display', 'displayed', 'displaying', 'disposal', 'dispose', 'disposing', 'disposition', 'dispositions', 'dispute', 'disputed', 'disputes', 'disqualification', 'disquisitions', 'disregard', 'disregarded', 'disregards', 'disrepair', 'disruption', 'dissatisfied', 'dissemination', 'dissension', 'dissensions', 'dissent', 'dissenting', 'dissidents', 'dissipated', 'dissipation', 'dissolution', 'dissolve', 'distance', 'distances', 'distant', 'distinct', 'distinction', 'distinctions', 'distinctively', 'distinguished', 'distorts', 'distract', 'distracted', 'distress', 'distressed', 'distresses', 'distressing', 'distribute', 'distributed', 'distributer', 'distribution', 'district', 'districts', 'distrust', 'distrusted', 'distrustful', 'disturb', 'disturbance', 'disturbances', 'disturbed', 'disturbing', 'disturbs', 'disunion', 'divergent', 'diverse', 'diversification', 'diversified', 'diversity', 'divert', 'diverted', 'diverting', 'divide', 'divided', 'divides', 'divine', 'divisible', 'division', 'divisions', 'divisive', 'divisiveness', 'divorce', 'divorced', 'do', 'dock', 'dockyards', 'doctrine', 'doctrines', 'document', 'documents', 'doers', 'does', 'dogmas', 'dogmatic', 'dogs', 'doing', 'dole', 'dollar', 'dollars', 'domain', 'domestic', 'domestics', 'domiciled', 'domiciliary', 'dominant', 'dominate', 'dominated', 'domination', 'domingo', 'dominion', 'dominions', 'don', 'done', 'doomed', 'dooms', 'door', 'doors', 'doorstep', 'dot', 'doth', 'doubled', 'doubly', 'doubt', 'doubted', 'doubtful', 'doubting', 'doubtless', 'doubts', 'down', 'downfall', 'downward', 'dr', 'draft', 'drafted', 'drain', 'draining', 'drama', 'dramatic', 'dramatically', 'drastic', 'drastically', 'draw', 'drawing', 'drawn', 'dread', 'dreaded', 'dream', 'dreamed', 'dreams', 'dreary', 'dress', 'drift', 'drifted', 'drifting', 'drive', 'driven', 'driving', 'drop', 'dropped', 'drought', 'drugs', 'dry', 'due', 'dulled', 'duly', 'durability', 'durable', 'durably', 'duration', 'during', 'dust', 'duties', 'duty', 'dwarfed', 'dwell', 'dying', 'dynamic', 'dynamos', 'each', 'eager', 'earlier', 'earliest', 'early', 'earn', 'earned', 'earner', 'earners', 'earnest', 'earnestly', 'earnestness', 'earnings', 'earns', 'ears', 'earth', 'earthly', 'ease', 'easier', 'easily', 'easing', 'east', 'eastern', 'eastward', 'easy', 'ebb', 'ebbing', 'ecclesiastical', 'echo', 'echoes', 'economic', 'economical', 'economically', 'economics', 'economies', 'economy', 'ed', 'edge', 'edicts', 'edifice', 'educate', 'educated', 'education', 'educational', 'effaced', 'effect', 'effected', 'effective', 'effectively', 'effectiveness', 'effects', 'effectual', 'effectually', 'efficiency', 'efficient', 'efficiently', 'effort', 'efforts', 'eight', 'eighteenth', 'eighth', 'eighty', 'eisenhower', 'either', 'eject', 'elapsed', 'elasticity', 'elderly', 'elect', 'elected', 'election', 'elections', 'elective', 'elector', 'electoral', 'electorate', 'electors', 'electric', 'element', 'elementary', 'elements', 'elevat', 'elevate', 'elevated', 'elevation', 'eligibility', 'eliminated', 'elimination', 'elite', 'eloquence', 'eloquent', 'else', 'elsewhere', 'em', 'emanate', 'emanates', 'emancipated', 'emancipation', 'embark', 'embarked', 'embarking', 'embarrassed', 'embarrassing', 'embarrassment', 'embarrassments', 'embattled', 'embedded', 'embittered', 'embody', 'embrace', 'embraced', 'embraces', 'embracing', 'emerge', 'emerged', 'emergencies', 'emergency', 'emerging', 'emerson', 'emigrants', 'emigrating', 'eminence', 'eminent', 'eminently', 'emoluments', 'emotion', 'emotions', 'emperor', 'emphasis', 'emphasize', 'emphasizes', 'emphatic', 'emphatically', 'empire', 'empires', 'employ', 'employed', 'employees', 'employers', 'employment', 'employments', 'empower', 'empty', 'emulation', 'enable', 'enabled', 'enables', 'enact', 'enacted', 'enactment', 'encounter', 'encountered', 'encountering', 'encourage', 'encouraged', 'encouragement', 'encourages', 'encouraging', 'encroach', 'encroaches', 'encroaching', 'encroachments', 'encyclopedia', 'end', 'endanger', 'endangered', 'endearing', 'endeavor', 'endeavored', 'endeavors', 'ended', 'ending', 'endless', 'endlessly', 'endowed', 'endowments', 'ends', 'endurance', 'endure', 'endured', 'endures', 'enduring', 'enemies', 'enemy', 'energetic', 'energetically', 'energies', 'energy', 'enfeeble', 'enfeebled', 'enforce', 'enforced', 'enforcement', 'enforcing', 'enfranchisement', 'engage', 'engaged', 'engagement', 'engagements', 'engaging', 'engender', 'engenders', 'engine', 'engineers', 'england', 'engraven', 'engrossed', 'engrosses', 'engulf', 'enhance', 'enhanced', 'enhancing', 'enjoined', 'enjoins', 'enjoy', 'enjoyed', 'enjoying', 'enjoyment', 'enjoyments', 'enjoys', 'enlarge', 'enlarged', 'enlargement', 'enlarging', 'enlighten', 'enlightened', 'enlightening', 'enlist', 'enlisted', 'enlists', 'ennobled', 'ennobling', 'enormous', 'enough', 'enriched', 'enriching', 'enrichment', 'enshrined', 'ensign', 'enslaved', 'enslavement', 'ensued', 'ensure', 'ensured', 'entailing', 'entails', 'entangled', 'entanglement', 'entanglements', 'entangling', 'enter', 'entered', 'entering', 'enterprise', 'enterprises', 'enterprising', 'enters', 'entertain', 'entertained', 'entertaining', 'enthralled', 'enthusiasm', 'enthusiastically', 'entire', 'entirely', 'entirety', 'entitle', 'entitled', 'entitles', 'entity', 'entrance', 'entrepreneurial', 'entrepreneurs', 'entries', 'entrust', 'entrusted', 'entrusting', 'entwined', 'enumerate', 'enumerated', 'enumerates', 'enumeration', 'envious', 'environment', 'envisage', 'envy', 'epidemics', 'equal', 'equaled', 'equality', 'equally', 'equals', 'equip', 'equipment', 'equipments', 'equipped', 'equipping', 'equitable', 'equitably', 'equity', 'equivalent', 'era', 'eradicate', 'eradication', 'erase', 'erect', 'erected', 'erience', 'erode', 'eroded', 'errant', 'erroneous', 'error', 'errors', 'escape', 'escapes', 'escaping', 'especial', 'especially', 'espouse', 'ess', 'essence', 'essential', 'essentially', 'essentials', 'establish', 'established', 'establishes', 'establishing', 'establishment', 'establishments', 'estate', 'esteem', 'esteemed', 'estimate', 'estimated', 'estimates', 'estimation', 'estranged', 'eternal', 'eternally', 'eternity', 'ethics', 'ethnic', 'etimes', 'europe', 'european', 'evacuation', 'evade', 'evanescent', 'evasion', 'eve', 'even', 'evening', 'evenly', 'event', 'eventful', 'events', 'eventual', 'eventually', 'ever', 'every', 'everyday', 'everyone', 'everything', 'everywhere', 'evidence', 'evidences', 'evident', 'evidently', 'evil', 'evils', 'evince', 'evinced', 'evoke', 'evoked', 'evolutions', 'ex', 'exact', 'exacted', 'exacting', 'exaction', 'exactions', 'exactly', 'exaggerated', 'exalt', 'exalted', 'examination', 'examine', 'example', 'examples', 'exasperated', 'exasperation', 'exceed', 'exceeded', 'exceeding', 'excellence', 'excellent', 'except', 'excepted', 'excepting', 'exception', 'exceptional', 'exceptions', 'excess', 'excessive', 'exchange', 'exchanged', 'exchanges', 'excise', 'excises', 'excite', 'excited', 'excitement', 'exciting', 'exclude', 'excluded', 'exclusive', 'exclusively', 'excursions', 'excusable', 'excuse', 'excused', 'execute', 'executed', 'executes', 'executing', 'execution', 'executions', 'executive', 'exemplar', 'exemplified', 'exemplify', 'exempt', 'exempted', 'exercise', 'exercised', 'exercises', 'exercising', 'exert', 'exerted', 'exertion', 'exertions', 'exhaust', 'exhausted', 'exhausting', 'exhaustive', 'exhaustless', 'exhibit', 'exhibited', 'exhibiting', 'exhibitions', 'exhilarated', 'exhortation', 'exhortations', 'exigencies', 'exigency', 'exile', 'exiles', 'exist', 'existed', 'existence', 'existing', 'exists', 'exonerated', 'exp', 'expand', 'expanded', 'expanding', 'expands', 'expansion', 'expect', 'expectation', 'expectations', 'expected', 'expecting', 'expedience', 'expedient', 'expedients', 'expeditionary', 'expeditious', 'expelled', 'expen', 'expendable', 'expenditure', 'expenditures', 'expense', 'expenses', 'expensive', 'experience', 'experienced', 'experiences', 'experiencing', 'experiment', 'experimentation', 'experiments', 'experts', 'expiration', 'expiring', 'explain', 'explained', 'explaining', 'explanation', 'explicitly', 'exploded', 'exploit', 'exploitation', 'exploits', 'explore', 'explored', 'exploring', 'export', 'exportation', 'exports', 'expose', 'exposed', 'exposing', 'exposition', 'expositions', 'exposure', 'expounded', 'express', 'expressed', 'expresses', 'expressing', 'expression', 'expressly', 'extend', 'extended', 'extending', 'extends', 'extension', 'extensive', 'extensively', 'extent', 'extenuating', 'exterior', 'exterminating', 'extermination', 'external', 'extinct', 'extinction', 'extinguish', 'extinguished', 'extinguishment', 'extorted', 'extra', 'extraneous', 'extraordinary', 'extravagance', 'extravagant', 'extreme', 'extremely', 'extremities', 'extricate', 'exultation', 'eye', 'eyes', 'fabric', 'fabrics', 'face', 'faced', 'faces', 'facile', 'facilitate', 'facilitating', 'facilities', 'facility', 'facing', 'fact', 'faction', 'factions', 'factor', 'factories', 'factory', 'facts', 'faculties', 'faculty', 'fade', 'fail', 'failed', 'failing', 'failure', 'failures', 'faint', 'faintness', 'fair', 'faire', 'fairer', 'fairest', 'fairly', 'fairness', 'faith', 'faithful', 'faithfully', 'faiths', 'fall', 'fallacy', 'fallen', 'fallible', 'falling', 'falls', 'false', 'falsehood', 'falsity', 'falter', 'fame', 'famed', 'familiar', 'familiarity', 'families', 'family', 'fanatical', 'fanaticism', 'fans', 'fantastic', 'far', 'fare', 'farewell', 'farm', 'farmer', 'farmers', 'farms', 'farthing', 'fascism', 'fashion', 'fashioned', 'fashioning', 'fast', 'fatal', 'fatalistic', 'fate', 'father', 'fathers', 'fault', 'faults', 'favor', 'favorable', 'favorably', 'favored', 'favoritism', 'favors', 'fear', 'feared', 'fearful', 'fearfully', 'fearing', 'fearless', 'fears', 'fearsome', 'feasibility', 'feasible', 'feature', 'features', 'february', 'fed', 'federal', 'federalists', 'federative', 'feeble', 'feed', 'feel', 'feeling', 'feelings', 'feet', 'felicitate', 'felicitation', 'felicities', 'felicity', 'fell', 'fellow', 'fellowmen', 'fellowship', 'felt', 'fertile', 'fervent', 'fervently', 'fever', 'feverish', 'few', 'fiat', 'fiber', 'fiction', 'fide', 'fidelity', 'field', 'fields', 'fierce', 'fifteen', 'fifteenth', 'fifth', 'fiftieth', 'fifty', 'fight', 'fighting', 'figures', 'fill', 'filled', 'fills', 'final', 'finally', 'finance', 'finances', 'financial', 'financing', 'find', 'finding', 'finds', 'fine', 'finer', 'finish', 'finished', 'finishing', 'fire', 'fired', 'firefighter', 'fires', 'firing', 'firm', 'firmament', 'firmer', 'firmest', 'firmly', 'firmness', 'first', 'fiscal', 'fiscally', 'fish', 'fisheries', 'fist', 'fit', 'fitness', 'fitted', 'fitting', 'five', 'fix', 'fixed', 'fixing', 'flag', 'flame', 'flames', 'flashes', 'flattered', 'flattering', 'flattery', 'flawed', 'flaws', 'fled', 'fleeting', 'fleets', 'flew', 'flexible', 'flimsy', 'float', 'floats', 'flocking', 'florida', 'floridas', 'flourish', 'flourished', 'flourishes', 'flourishing', 'flout', 'flow', 'flowing', 'flows', 'fluctuation', 'flushed', 'fly', 'flyleaf', 'foe', 'foes', 'fog', 'fold', 'folds', 'follow', 'followed', 'following', 'follows', 'folly', 'fomenting', 'fondest', 'fondly', 'food', 'foolish', 'foolishly', 'footing', 'footprints', 'footsteps', 'for', 'forbear', 'forbearance', 'forbearers', 'forbearing', 'forbid', 'forbidden', 'forbidding', 'forbids', 'force', 'forced', 'forces', 'forebears', 'foreboding', 'forebodings', 'forecast', 'foreclosure', 'forefathers', 'forefront', 'forego', 'foregoing', 'foreign', 'foreigners', 'foremost', 'foresaw', 'foresee', 'foreseen', 'foresight', 'forest', 'forests', 'foretold', 'forever', 'forge', 'forged', 'forget', 'forgetting', 'forging', 'forgiveness', 'forgotten', 'form', 'formation', 'formed', 'former', 'formerly', 'formidable', 'formidably', 'forming', 'forms', 'formula', 'formulate', 'formulating', 'formulation', 'forsake', 'forsaken', 'fort', 'forth', 'forthwith', 'fortifications', 'fortified', 'fortifies', 'fortify', 'fortitude', 'fortress', 'forts', 'fortuitous', 'fortunate', 'fortunately', 'fortune', 'fortunes', 'forty', 'forum', 'forward', 'foster', 'fostered', 'fostering', 'fought', 'found', 'foundation', 'foundations', 'founded', 'founders', 'founding', 'fountain', 'fountains', 'four', 'fourfold', 'fourteenth', 'fourth', 'fraction', 'fractured', 'fragile', 'fragments', 'frame', 'framed', 'framers', 'framework', 'framing', 'france', 'franchise', 'franchises', 'frank', 'franklin', 'frankly', 'frankness', 'fraternal', 'fraternity', 'fraud', 'frauds', 'fraught', 'free', 'freed', 'freedmen', 'freedom', 'freedoms', 'freeing', 'freely', 'freeman', 'freemen', 'freer', 'freezing', 'french', 'frequency', 'frequent', 'frequently', 'fresh', 'freshman', 'friction', 'friend', 'friendliest', 'friendliness', 'friendly', 'friends', 'friendship', 'friendships', 'frightened', 'frightful', 'fringe', 'fringed', 'from', 'front', 'frontier', 'frontiers', 'frowning', 'frozen', 'frugal', 'frugality', 'fruit', 'fruitful', 'fruition', 'fruits', 'frustrated', 'frustration', 'fuel', 'fugitive', 'fugitives', 'fulfill', 'fulfilled', 'fulfilling', 'fulfillment', 'full', 'fuller', 'fullest', 'fullness', 'fully', 'function', 'functionaries', 'functions', 'fund', 'fundamental', 'fundamentally', 'funds', 'funeral', 'furnace', 'furnaces', 'furnish', 'furnished', 'furnishes', 'furnishing', 'further', 'furtherance', 'fury', 'futile', 'futility', 'future', 'gain', 'gained', 'gaining', 'gains', 'galaxy', 'gallant', 'gallantry', 'gangs', 'gaping', 'garden', 'garrison', 'gates', 'gather', 'gathered', 'gathering', 'gatun', 'gave', 'gay', 'gaze', 'general', 'generally', 'generate', 'generation', 'generations', 'generosity', 'generous', 'genial', 'genius', 'gentlemen', 'gentleness', 'gentler', 'genuine', 'geographical', 'george', 'germany', 'get', 'gets', 'gettysburg', 'ghent', 'giant', 'giants', 'gift', 'gifts', 'gigantic', 'gillis', 'girl', 'give', 'given', 'giver', 'gives', 'giving', 'glad', 'gladdened', 'gladly', 'gladness', 'glance', 'global', 'globe', 'gloomy', 'glories', 'glorified', 'glorious', 'glory', 'glow', 'glut', 'go', 'goad', 'goal', 'goals', 'god', 'godsend', 'goes', 'goethals', 'going', 'goingness', 'gold', 'golden', 'gone', 'good', 'goodness', 'goods', 'goodwill', 'gore', 'gotten', 'gover', 'govern', 'governed', 'governing', 'government', 'governmental', 'governments', 'governs', 'grace', 'gracious', 'graciously', 'gradual', 'gradually', 'graduated', 'grand', 'grandchildren', 'grander', 'grandest', 'grandeur', 'grandparents', 'grant', 'granted', 'granting', 'grants', 'grasp', 'grasping', 'grateful', 'gratefully', 'gratification', 'gratified', 'gratifying', 'gratitude', 'grave', 'graver', 'graves', 'gravest', 'gravity', 'gray', 'great', 'greater', 'greatest', 'greatly', 'greatness', 'greed', 'green', 'grids', 'grief', 'grievances', 'grim', 'grinding', 'grip', 'gripped', 'groans', 'groping', 'gross', 'grosser', 'ground', 'grounds', 'group', 'groupings', 'groups', 'grow', 'grower', 'growing', 'grown', 'grows', 'growth', 'grudging', 'grudgingly', 'guadalcanal', 'guarantee', 'guaranteed', 'guarantees', 'guaranties', 'guaranty', 'guard', 'guarded', 'guardian', 'guardians', 'guardianship', 'guarding', 'guards', 'guests', 'guidance', 'guide', 'guided', 'guides', 'guiding', 'guilt', 'guilty', 'gulf', 'guns', 'ha', 'habeas', 'habit', 'habits', 'habitual', 'habitually', 'had', 'hadn', 'hague', 'half', 'halfway', 'hall', 'hallowed', 'halls', 'halt', 'halted', 'halts', 'hamper', 'hand', 'handed', 'handful', 'handicap', 'handled', 'handmaid', 'hands', 'hang', 'hanging', 'hangs', 'happen', 'happenings', 'happens', 'happier', 'happiest', 'happily', 'happiness', 'happy', 'harbor', 'harbors', 'hard', 'harder', 'hardest', 'hardheartedness', 'hardier', 'hardihood', 'hardly', 'hardship', 'hardships', 'hardworking', 'hardy', 'harm', 'harmless', 'harmonious', 'harmoniously', 'harmonize', 'harmony', 'harness', 'harnessing', 'harshest', 'harshly', 'harvest', 'harvests', 'has', 'haste', 'hasten', 'hastily', 'hasty', 'hat', 'hatchet', 'hate', 'hated', 'hateful', 'hatfield', 'hath', 'hatred', 'hatreds', 'haunt', 'have', 'haven', 'having', 'havoc', 'hazard', 'hazarded', 'hazards', 'he', 'head', 'headedness', 'heading', 'headlines', 'heads', 'headsprings', 'heal', 'healed', 'healing', 'health', 'healthful', 'healthy', 'heaps', 'hear', 'heard', 'hearers', 'hearing', 'heart', 'heartburnings', 'hearted', 'heartened', 'heartening', 'heartfelt', 'hearthfire', 'hearthstone', 'heartily', 'heartless', 'hearts', 'heartstrings', 'hearty', 'heat', 'heated', 'heaven', 'heavenly', 'heavens', 'heavily', 'heavy', 'heed', 'heedless', 'heedlessness', 'height', 'heightened', 'heights', 'heirs', 'held', 'help', 'helped', 'helpful', 'helpfulness', 'helping', 'helpless', 'helps', 'helvetic', 'hemisphere', 'hence', 'henceforth', 'her', 'here', 'hereafter', 'herein', 'heretofore', 'heritage', 'hero', 'heroes', 'heroic', 'heroism', 'herself', 'hesitate', 'hesitation', 'hidden', 'hides', 'hiding', 'high', 'higher', 'highest', 'highly', 'highways', 'hile', 'hill', 'hills', 'hillsides', 'him', 'himself', 'hindrance', 'hindus', 'hire', 'hiring', 'his', 'historic', 'historical', 'history', 'hit', 'hitherto', 'hitherward', 'hoards', 'hold', 'holder', 'holders', 'holding', 'holds', 'holiday', 'holy', 'homage', 'home', 'homeless', 'homes', 'homestead', 'honest', 'honestly', 'honesty', 'honor', 'honorable', 'honorably', 'honored', 'honoring', 'honors', 'hope', 'hoped', 'hopeful', 'hopefully', 'hopefulness', 'hopeless', 'hopelessness', 'hopes', 'hoping', 'horizon', 'horizons', 'horn', 'horrors', 'horseback', 'hospitable', 'hospitality', 'host', 'hostile', 'hostilities', 'hostility', 'hot', 'hour', 'hours', 'house', 'housed', 'household', 'houses', 'housing', 'how', 'however', 'huddled', 'human', 'humane', 'humanity', 'humanize', 'humankind', 'humble', 'humbled', 'humblest', 'humbly', 'humiliating', 'humiliation', 'humiliations', 'humility', 'humors', 'humphrey', 'hundred', 'hundreds', 'hunger', 'hungers', 'hungry', 'hunter', 'hunters', 'hurricanes', 'hurry', 'hurt', 'hurtful', 'hurts', 'husband', 'husbandry', 'hushing', 'huts', 'hymns', 'hypercritical', 'hysteria', 'ich', 'icy', 'idea', 'ideal', 'idealism', 'idealistic', 'idealists', 'ideals', 'ideas', 'identical', 'identified', 'identity', 'ideologies', 'ideology', 'idle', 'idleness', 'if', 'igniting', 'ignorance', 'ignorant', 'ignore', 'ignored', 'ii', 'ill', 'illegal', 'illiteracy', 'illness', 'illnesses', 'ills', 'illuminated', 'illumined', 'illumines', 'illustrated', 'illustrious', 'image', 'imagination', 'imagine', 'imbibed', 'imbittered', 'imitate', 'imitating', 'imitation', 'immeasurable', 'immeasurably', 'immediate', 'immediately', 'immense', 'immensely', 'immigrant', 'immigrants', 'immigration', 'imminent', 'immortal', 'immunities', 'immunity', 'immutable', 'impact', 'impair', 'impaired', 'impairing', 'impairment', 'imparted', 'impartial', 'impartiality', 'impartially', 'impassable', 'impassioned', 'impatience', 'impede', 'impelled', 'impels', 'impending', 'impenetrable', 'imperative', 'imperatively', 'imperfect', 'imperfection', 'imperfectly', 'imperialism', 'imperiled', 'imperious', 'imperishable', 'impertinence', 'implements', 'implicated', 'implication', 'implicit', 'implied', 'implies', 'implore', 'imply', 'imponderable', 'import', 'importance', 'important', 'importantly', 'importation', 'imports', 'importunate', 'importunity', 'impose', 'imposed', 'imposes', 'imposing', 'imposition', 'impossibility', 'impossible', 'impost', 'imposts', 'impotence', 'impotency', 'impotent', 'impoverished', 'impoverishing', 'impoverishment', 'impracticable', 'impregnable', 'impregnably', 'impress', 'impressed', 'impresses', 'impression', 'impressions', 'impressive', 'impressively', 'improper', 'improprieties', 'impropriety', 'improve', 'improved', 'improvement', 'improvements', 'improving', 'improvised', 'impulse', 'impulses', 'impunity', 'in', 'inability', 'inaction', 'inadequacy', 'inadequate', 'inadmissible', 'inalienable', 'inapplicable', 'inasmuch', 'inattention', 'inaugural', 'inaugurate', 'inaugurated', 'inauguration', 'inborn', 'incalculable', 'incapable', 'incapacities', 'incapacity', 'incautiously', 'incentive', 'incentives', 'inches', 'incident', 'incidental', 'incidents', 'inclination', 'inclining', 'include', 'included', 'including', 'income', 'incomes', 'incoming', 'incomparably', 'incompatible', 'incompetence', 'incompetency', 'incompetent', 'inconceivable', 'incongruity', 'inconsiderable', 'inconsiderate', 'inconsiderately', 'inconsistencies', 'inconsistent', 'inconvenient', 'incorporated', 'increase', 'increased', 'increases', 'increasing', 'increasingly', 'incredible', 'incredibly', 'inculcate', 'inculcating', 'incumbency', 'incumbent', 'incumbents', 'incurred', 'incurring', 'indebted', 'indebtedness', 'indecent', 'indeed', 'independence', 'independent', 'independently', 'indian', 'indians', 'indicate', 'indicated', 'indicates', 'indicating', 'indications', 'indicators', 'indicted', 'indies', 'indifference', 'indifferent', 'indigent', 'indignant', 'indignantly', 'indignation', 'indignity', 'indirect', 'indirectly', 'indiscriminate', 'indispensable', 'indispensably', 'indissoluble', 'individual', 'individualists', 'individuality', 'individually', 'individuals', 'indivisible', 'indo', 'induce', 'induced', 'inducement', 'induces', 'inducing', 'induction', 'indulge', 'indulged', 'indulgence', 'indulging', 'industrial', 'industrialism', 'industrialists', 'industrially', 'industries', 'industrious', 'industry', 'inefficiency', 'inefficient', 'inefficiently', 'inequality', 'inescapably', 'inessential', 'inestimable', 'inevitability', 'inevitable', 'inevitably', 'inexcusable', 'inexhaustible', 'inexorable', 'inexpedient', 'inexpressibly', 'inextricably', 'infancy', 'infant', 'infect', 'inference', 'inferior', 'infinite', 'infinitely', 'infirm', 'infirmity', 'inflated', 'inflation', 'inflations', 'inflexible', 'inflict', 'inflicted', 'influence', 'influenced', 'influences', 'influential', 'inform', 'information', 'informed', 'infraction', 'infrastructure', 'infringed', 'infuriated', 'infused', 'infusing', 'ing', 'ingenuity', 'inhabit', 'inhabitant', 'inhabitants', 'inherent', 'inherently', 'inherit', 'inheritance', 'inheritances', 'inherited', 'inheriting', 'inhospitable', 'inimical', 'initiate', 'initiated', 'initiative', 'initiatives', 'injunction', 'injunctions', 'injure', 'injured', 'injuries', 'injuring', 'injurious', 'injuriously', 'injury', 'injustice', 'inland', 'inlets', 'inn', 'innate', 'inner', 'innocence', 'innocents', 'innovation', 'inordinate', 'inquietude', 'inquire', 'inquiry', 'inquisition', 'ins', 'insatiable', 'inscribes', 'insensible', 'inseparable', 'inside', 'insidious', 'insight', 'insignificance', 'insignificant', 'insinuation', 'insist', 'insisted', 'insistence', 'insistent', 'insisting', 'insists', 'insofar', 'insolent', 'inspection', 'inspiration', 'inspirations', 'inspire', 'inspired', 'inspires', 'inspiring', 'installed', 'instance', 'instances', 'instant', 'instantaneously', 'instantly', 'instead', 'instinct', 'instinctively', 'instituted', 'institution', 'institutions', 'instruct', 'instructed', 'instruction', 'instructions', 'instructive', 'instructors', 'instrument', 'instrumental', 'instrumentalities', 'instrumentality', 'instruments', 'insufficient', 'insult', 'insuperable', 'insurance', 'insure', 'insurgent', 'insurgents', 'insuring', 'insurmountable', 'insurrection', 'insurrectional', 'insurrectionary', 'intact', 'integrity', 'intellect', 'intellects', 'intellectual', 'intelligence', 'intelligences', 'intelligent', 'intelligible', 'intend', 'intended', 'intends', 'intense', 'intensely', 'intensity', 'intent', 'intention', 'intentional', 'intentioned', 'intentions', 'intercourse', 'interdependence', 'interdependent', 'interest', 'interested', 'interesting', 'interests', 'interfere', 'interfered', 'interference', 'interfering', 'interior', 'interlocked', 'interlude', 'intermission', 'internal', 'internally', 'international', 'internationality', 'internet', 'interoceanic', 'interpose', 'interposing', 'interpret', 'interpretation', 'interpreted', 'interpreters', 'interruptions', 'intersecting', 'interstate', 'interval', 'intervals', 'intervene', 'intervened', 'intervening', 'intervention', 'intimacy', 'intimate', 'intimately', 'intimidate', 'into', 'intolerable', 'intolerance', 'intolerant', 'intrenched', 'intricacies', 'intricate', 'intrigue', 'intrigues', 'intrinsic', 'intrinsically', 'introduced', 'introduction', 'intrusion', 'intrusions', 'intrust', 'intrusted', 'intuitions', 'intuitive', 'inure', 'inured', 'invade', 'invaded', 'invader', 'invading', 'invaluable', 'invariably', 'invasion', 'invasions', 'invective', 'invent', 'invented', 'invention', 'inventions', 'inventive', 'inventory', 'invest', 'invested', 'investigate', 'investigation', 'investigations', 'investing', 'investment', 'investments', 'investor', 'invidious', 'invigorate', 'invigorated', 'invincible', 'inviolability', 'inviolable', 'inviolate', 'invisible', 'invitation', 'invitations', 'invite', 'invited', 'invites', 'inviting', 'invoke', 'invoked', 'invokes', 'invoking', 'involuntary', 'involve', 'involved', 'involvement', 'involves', 'involving', 'ion', 'ions', 'iowa', 'iraq', 'iron', 'irredeemable', 'irresistible', 'irresistibly', 'irresponsibility', 'irresponsible', 'irrevocable', 'irrevocably', 'irritated', 'irritating', 'is', 'isaiah', 'islamic', 'island', 'islands', 'isle', 'isles', 'ism', 'isolated', 'isolation', 'israel', 'issue', 'issued', 'issues', 'issuing', 'isthmus', 'it', 'italy', 'itemized', 'items', 'its', 'itself', 'iwo', 'jailed', 'janeiro', 'january', 'jarring', 'jars', 'jealous', 'jealousies', 'jealously', 'jealousy', 'jefferson', 'jeopard', 'jeopardized', 'jericho', 'jews', 'jima', 'job', 'jobbers', 'jobs', 'john', 'johnson', 'join', 'joined', 'joint', 'joseph', 'journal', 'journey', 'journeyed', 'joy', 'joyful', 'jubilee', 'judge', 'judged', 'judges', 'judgment', 'judgments', 'judicial', 'judiciary', 'judicious', 'judiciously', 'juggler', 'julia', 'july', 'juncture', 'jungle', 'jungles', 'juries', 'jurisdiction', 'jurisprudence', 'just', 'justice', 'justiciable', 'justifiable', 'justification', 'justified', 'justifies', 'justify', 'justly', 'justness', 'kansas', 'keen', 'keep', 'keepers', 'keeping', 'keeps', 'kept', 'key', 'khe', 'kill', 'killed', 'killing', 'kind', 'kinder', 'kindled', 'kindles', 'kindly', 'kindness', 'kindred', 'kinds', 'king', 'kings', 'kitchen', 'kite', 'knees', 'knew', 'knife', 'knight', 'knit', 'know', 'knowing', 'knowingly', 'knowledge', 'known', 'knows', 'koran', 'korea', 'label', 'labeled', 'labor', 'laborer', 'laborers', 'laboring', 'labors', 'labs', 'lack', 'lacking', 'lady', 'laid', 'laissez', 'lakes', 'lamented', 'land', 'landmarks', 'lands', 'landscape', 'lanes', 'language', 'languished', 'languishes', 'languishing', 'languor', 'lapse', 'larceny', 'large', 'largely', 'larger', 'largest', 'lash', 'last', 'lasting', 'lastly', 'lasts', 'late', 'lately', 'latent', 'later', 'latest', 'lathes', 'latitude', 'latter', 'latterly', 'laugh', 'laughter', 'launched', 'law', 'lawful', 'lawfully', 'lawgiver', 'lawgivers', 'lawless', 'lawlessness', 'laws', 'lawyer', 'lay', 'laying', 'le', 'lead', 'leader', 'leaders', 'leadership', 'leading', 'leads', 'league', 'learn', 'learned', 'learning', 'learns', 'learnt', 'least', 'leave', 'leaves', 'leaving', 'led', 'ledgers', 'left', 'legacies', 'legacy', 'legal', 'legalized', 'legally', 'legend', 'legible', 'legions', 'legislate', 'legislated', 'legislation', 'legislative', 'legislators', 'legislature', 'legislatures', 'legitimate', 'legitimately', 'leisure', 'lend', 'lending', 'length', 'lengthens', 'lenient', 'less', 'lessen', 'lessened', 'lessening', 'lesson', 'lessons', 'lest', 'let', 'letter', 'letters', 'levees', 'level', 'leveled', 'levels', 'levers', 'levied', 'levy', 'levying', 'liabilities', 'liability', 'liable', 'liberal', 'liberality', 'liberally', 'liberate', 'liberated', 'liberating', 'liberation', 'liberator', 'liberties', 'liberty', 'library', 'licentiousness', 'lie', 'lies', 'lieu', 'life', 'lifeblood', 'lifeless', 'lifetime', 'lift', 'lifted', 'lifting', 'light', 'lighted', 'lighten', 'lightened', 'lightening', 'lightly', 'lightness', 'lightning', 'lights', 'like', 'likely', 'likeness', 'likes', 'likewise', 'limb', 'limbs', 'limit', 'limitation', 'limitations', 'limited', 'limiting', 'limitless', 'limits', 'lincoln', 'line', 'lines', 'link', 'linked', 'liquor', 'list', 'listen', 'listening', 'lit', 'literary', 'literature', 'litigation', 'little', 'livable', 'live', 'lived', 'livelihood', 'lives', 'living', 'll', 'loans', 'loath', 'local', 'locality', 'localized', 'locate', 'located', 'lock', 'locked', 'locks', 'locusts', 'lodging', 'loftiest', 'lofty', 'logic', 'logically', 'lone', 'lonely', 'long', 'longed', 'longer', 'longest', 'longing', 'longings', 'look', 'looked', 'looking', 'looks', 'loose', 'lopped', 'lord', 'lose', 'loses', 'losing', 'loss', 'losses', 'lost', 'lot', 'louder', 'loudly', 'louisiana', 'love', 'loved', 'loveliness', 'lover', 'loves', 'loving', 'low', 'lower', 'lowest', 'loyal', 'loyally', 'loyalty', 'lucky', 'lunar', 'lure', 'lures', 'luring', 'lurk', 'lurking', 'lurks', 'luster', 'luther', 'luxuries', 'lying', 'lynchings', 'machine', 'machinery', 'macleish', 'mad', 'made', 'madison', 'madness', 'magic', 'magical', 'magistrate', 'magna', 'magnanimity', 'magnanimous', 'magnificence', 'magnificent', 'magnificently', 'magnify', 'magnifying', 'magnitude', 'mai', 'mail', 'mailing', 'mails', 'maimed', 'main', 'mainland', 'maintain', 'maintained', 'maintaining', 'maintains', 'maintenance', 'majestic', 'majesty', 'major', 'majorities', 'majority', 'make', 'maker', 'makers', 'makes', 'maketh', 'makeup', 'making', 'malaya', 'malice', 'malign', 'mall', 'man', 'manage', 'managed', 'management', 'mandate', 'mandates', 'maneuver', 'manfully', 'manger', 'manhood', 'manifest', 'manifestation', 'manifestations', 'manifested', 'manifesting', 'manifestly', 'manifests', 'manifold', 'mankind', 'manlier', 'manliness', 'manly', 'manner', 'manners', 'manufactured', 'manufacturer', 'manufacturers', 'manufactures', 'manufacturing', 'many', 'maps', 'marble', 'march', 'marched', 'margin', 'marginalized', 'marine', 'mariners', 'maritime', 'mark', 'marked', 'marker', 'markers', 'market', 'markets', 'marks', 'marred', 'mars', 'marshaled', 'marshals', 'martin', 'marts', 'marvelous', 'mass', 'massachusetts', 'massacre', 'massed', 'masses', 'massive', 'master', 'mastered', 'masters', 'mastery', 'match', 'matches', 'matchless', 'material', 'materially', 'materials', 'math', 'mathias', 'matter', 'matters', 'mature', 'matured', 'maturing', 'maturity', 'maxim', 'maxims', 'maximum', 'may', 'mayflower', 'me', 'meager', 'mean', 'meaning', 'meaningful', 'means', 'meant', 'meantime', 'measurable', 'measure', 'measured', 'measureless', 'measures', 'mechanic', 'mechanical', 'mechanism', 'meddle', 'mediation', 'medicaid', 'medicare', 'medicine', 'mediocrity', 'mediterranean', 'medium', 'meet', 'meeting', 'meetings', 'meets', 'melancholy', 'meliorate', 'member', 'members', 'membership', 'memorable', 'memorial', 'memories', 'memory', 'men', 'menace', 'menaced', 'menaces', 'menacing', 'mental', 'mention', 'mentioned', 'mentor', 'mercantile', 'merchandise', 'merchant', 'mercifully', 'mercy', 'mere', 'merely', 'merge', 'merged', 'merit', 'merited', 'meritorious', 'meritoriously', 'merits', 'message', 'messages', 'met', 'metal', 'metallic', 'metals', 'method', 'methods', 'metropolis', 'mexico', 'micah', 'michel', 'michelle', 'microchip', 'middle', 'midst', 'midway', 'might', 'mightiest', 'mighty', 'mild', 'miles', 'milestone', 'militarists', 'militarize', 'military', 'militia', 'militias', 'mill', 'millennium', 'million', 'millions', 'mills', 'mind', 'minded', 'mindedness', 'mindful', 'mindfulness', 'minds', 'mine', 'mineral', 'mines', 'mingled', 'mingling', 'minimize', 'minimum', 'mining', 'minister', 'ministered', 'ministers', 'minor', 'minorities', 'minority', 'minute', 'miracle', 'miracles', 'misappropriation', 'mischief', 'mischiefs', 'mischievous', 'misconceptions', 'misconstruction', 'misconstrue', 'misconstrued', 'misdirect', 'miseries', 'misery', 'misfortune', 'misguided', 'misinterpret', 'misinterpreted', 'misjudged', 'mislead', 'misled', 'misrepresentation', 'miss', 'missiles', 'missing', 'mission', 'missions', 'mississippi', 'missouri', 'mistake', 'mistaken', 'mistakes', 'mistrust', 'mists', 'misunderstand', 'misunderstanding', 'misunderstood', 'mitchell', 'mitigate', 'mixed', 'mmunity', 'mob', 'mobile', 'mobs', 'mockery', 'mode', 'model', 'models', 'moderate', 'moderation', 'modern', 'modes', 'modification', 'modified', 'modify', 'molest', 'moment', 'momentous', 'moments', 'momentum', 'monarchical', 'monarchies', 'monarchy', 'mondale', 'monday', 'monetary', 'money', 'moneys', 'monopolies', 'monopoly', 'monroe', 'montana', 'month', 'monthly', 'months', 'monticello', 'monument', 'monumental', 'monuments', 'moomaw', 'moon', 'moral', 'morality', 'morally', 'morals', 'morbid', 'more', 'moreover', 'mormon', 'mortal', 'mortgaging', 'mortifications', 'moscow', 'mosque', 'most', 'mostly', 'mother', 'mothers', 'motion', 'motivated', 'motive', 'motives', 'motto', 'mount', 'mountain', 'mountaineer', 'mountains', 'mountaintop', 'mouth', 'move', 'moved', 'movement', 'movements', 'moves', 'moving', 'mr', 'mrs', 'much', 'multiplication', 'multiplied', 'multiply', 'multiplying', 'multitude', 'multitudes', 'municipal', 'munitions', 'murder', 'murmur', 'music', 'musket', 'muskets', 'muslim', 'muslims', 'must', 'muster', 'mustered', 'mutation', 'mutual', 'mutuality', 'mutually', 'my', 'myriad', 'myself', 'mysteries', 'mystery', 'mystic', 'mystical', 'nagging', 'naive', 'name', 'named', 'nameless', 'names', 'narrow', 'narrowed', 'narrowest', 'narrowing', 'narrowly', 'nation', 'national', 'nationalistic', 'nationality', 'nationhood', 'nations', 'native', 'natural', 'naturalization', 'naturalized', 'naturalizing', 'naturally', 'nature', 'naught', 'naval', 'navies', 'navigable', 'navigation', 'navy', 'nd', 'near', 'nearest', 'nearing', 'nearly', 'nebraska', 'necessaries', 'necessarily', 'necessary', 'necessities', 'necessity', 'neck', 'need', 'needed', 'needful', 'needing', 'needless', 'needs', 'needy', 'negation', 'negations', 'negative', 'neglect', 'neglected', 'negligence', 'negotiate', 'negotiated', 'negotiation', 'negotiations', 'negro', 'negroes', 'neighbor', 'neighborhood', 'neighborhoods', 'neighboring', 'neighbors', 'neill', 'neither', 'network', 'networks', 'neutr', 'neutral', 'neutrality', 'never', 'new', 'newly', 'news', 'newspaper', 'newtown', 'next', 'nflicts', 'nigh', 'night', 'ninth', 'nixon', 'nment', 'no', 'nobility', 'noble', 'nobleness', 'nobler', 'noblest', 'nominate', 'nominated', 'nomination', 'non', 'none', 'noninterference', 'noninvolvement', 'nonpartisan', 'nor', 'normal', 'normalcy', 'normandy', 'north', 'northern', 'northerners', 'not', 'notably', 'note', 'noted', 'notes', 'noteworthy', 'nothing', 'notice', 'notification', 'noting', 'notwithstanding', 'nourish', 'nourished', 'nourishes', 'november', 'now', 'nowhere', 'ntain', 'nticipate', 'nuclear', 'nucleus', 'nullify', 'number', 'numberless', 'numbers', 'numerous', 'nursery', 'nurture', 'oar', 'oath', 'oaths', 'obama', 'obedience', 'obedient', 'obey', 'obeyed', 'obeying', 'object', 'objection', 'objections', 'objective', 'objectives', 'objects', 'obligation', 'obligations', 'obliged', 'obliges', 'obliging', 'obliteration', 'obnoxious', 'obscure', 'obscured', 'observable', 'observance', 'observation', 'observations', 'observe', 'observed', 'observer', 'observers', 'observing', 'obsessions', 'obsolete', 'obstacle', 'obstacles', 'obstructed', 'obstruction', 'obstructionists', 'obstructions', 'obtain', 'obtained', 'obtaining', 'obtruding', 'obtrusive', 'obvious', 'obviously', 'occasion', 'occasional', 'occasionally', 'occasions', 'occupancy', 'occupants', 'occupation', 'occupations', 'occupied', 'occupy', 'occupying', 'occur', 'occurred', 'occurrence', 'occurrences', 'ocean', 'oceans', 'october', 'odd', 'odds', 'of', 'off', 'offenders', 'offends', 'offense', 'offenses', 'offensive', 'offer', 'offered', 'offering', 'offers', 'office', 'officer', 'officered', 'officers', 'offices', 'official', 'officially', 'officials', 'offspring', 'often', 'oftener', 'ohio', 'old', 'older', 'oldest', 'omaha', 'ome', 'omen', 'omission', 'omit', 'omitting', 'omnipotence', 'on', 'once', 'one', 'onerous', 'ones', 'onl', 'only', 'onto', 'onward', 'open', 'opened', 'opening', 'openly', 'openness', 'opens', 'operate', 'operated', 'operating', 'operation', 'operations', 'operatives', 'opini', 'opinion', 'opinions', 'opponent', 'opponents', 'opportunism', 'opportunities', 'opportunity', 'oppose', 'opposed', 'opposing', 'opposite', 'opposition', 'oppress', 'oppressed', 'oppressing', 'oppression', 'oppressive', 'oppressors', 'opprobrium', 'optimist', 'options', 'or', 'oracle', 'orators', 'orbits', 'ordain', 'ordained', 'ordaining', 'ordeal', 'order', 'ordered', 'orderly', 'orders', 'ordinances', 'ordinary', 'oregon', 'ores', 'organic', 'organization', 'organizations', 'organized', 'organizers', 'orient', 'origin', 'original', 'originate', 'originated', 'originating', 'origination', 'origins', 'orleans', 'ornament', 'orphan', 'orphans', 'ose', 'ostriches', 'other', 'others', 'otherwise', 'ought', 'our', 'ours', 'ourselves', 'out', 'outbursts', 'outcome', 'outgo', 'outgoing', 'outgrow', 'outgrown', 'outgrowth', 'outlast', 'outlaw', 'outlawing', 'outlawry', 'outlaws', 'outlays', 'outlet', 'outline', 'outlines', 'outpaced', 'output', 'outrage', 'outrages', 'outrun', 'outrunning', 'outset', 'outside', 'outstanding', 'outward', 'outweigh', 'outworn', 'over', 'overbalance', 'overbalanced', 'overburdened', 'overcome', 'overestimate', 'overestimated', 'overflowing', 'overleaps', 'overlooked', 'overlooking', 'overlooks', 'overrule', 'overruled', 'overruling', 'overseas', 'overset', 'overshadowed', 'overstep', 'overtake', 'overtaxed', 'overthrow', 'overthrown', 'overturning', 'overwhelm', 'overwhelmed', 'overwhelming', 'overwhelmingly', 'owe', 'owes', 'own', 'owners', 'ownership', 'owning', 'pace', 'paces', 'pacific', 'pacification', 'pacifists', 'pack', 'packed', 'pact', 'paddies', 'page', 'pages', 'paid', 'pain', 'painful', 'paint', 'pall', 'palladium', 'palliated', 'palliation', 'panama', 'panic', 'panoply', 'paper', 'par', 'paradox', 'parallel', 'paralysis', 'paralyzes', 'paramount', 'paraphrase', 'parcel', 'parchment', 'pardoned', 'pardoning', 'parent', 'parental', 'parents', 'paris', 'parity', 'parliament', 'part', 'partake', 'partaking', 'parted', 'partial', 'partialities', 'partiality', 'partially', 'participants', 'participate', 'participating', 'participation', 'particular', 'particularity', 'particularly', 'particulars', 'parties', 'partisan', 'partisans', 'partisanship', 'partition', 'partners', 'parts', 'party', 'pass', 'passage', 'passed', 'passengers', 'passes', 'passing', 'passion', 'passionately', 'passions', 'past', 'pastor', 'pat', 'patchwork', 'patent', 'paternalism', 'path', 'paths', 'pathway', 'patience', 'patient', 'patiently', 'patriot', 'patriotic', 'patriotically', 'patriotis', 'patriotism', 'patriots', 'patrol', 'patron', 'patronage', 'patronize', 'patronized', 'patronizes', 'pattern', 'pause', 'pave', 'paved', 'pay', 'payable', 'paying', 'payment', 'payments', 'pays', 'peabody', 'peace', 'peaceable', 'peaceably', 'peaceful', 'peacefully', 'peacemaker', 'peaks', 'peasantry', 'peculation', 'peculiar', 'peculiarly', 'pecuniary', 'peking', 'penalizes', 'penalties', 'pending', 'penetrating', 'pennsylvania', 'penny', 'pension', 'pensioners', 'penury', 'people', 'peoples', 'perceive', 'perceived', 'perceiving', 'percentage', 'perception', 'perfect', 'perfected', 'perfecting', 'perfection', 'perfectly', 'perform', 'performance', 'performed', 'performing', 'performs', 'perfunctory', 'perhaps', 'peril', 'perilous', 'perils', 'period', 'periodically', 'periods', 'perish', 'perished', 'permanence', 'permanent', 'permanently', 'permeated', 'permit', 'permitted', 'permitting', 'pernicious', 'perpetual', 'perpetuate', 'perpetuating', 'perpetuation', 'perpetuity', 'perplexed', 'perplexities', 'persecute', 'persecutions', 'perseverance', 'persevere', 'persevered', 'persevering', 'persian', 'persisted', 'persistence', 'persistent', 'persistently', 'person', 'personal', 'personally', 'persons', 'perspective', 'persuaded', 'persuading', 'persuasion', 'pertain', 'pervades', 'pervading', 'perversions', 'pervert', 'perverts', 'pestilence', 'petitions', 'petty', 'phase', 'phases', 'philadelphia', 'philanthropist', 'philippine', 'philippines', 'philosophies', 'philosophy', 'phrases', 'physical', 'physically', 'physicists', 'pick', 'picture', 'pictures', 'pieces', 'piercing', 'piety', 'pile', 'piled', 'pilgrimage', 'pillars', 'pioneer', 'pioneers', 'pious', 'piracy', 'piratical', 'pitching', 'pitiable', 'pitiful', 'pitilessly', 'pitted', 'pity', 'placate', 'place', 'placed', 'places', 'placing', 'plague', 'plagues', 'plain', 'plainer', 'plainest', 'plainly', 'plains', 'plan', 'planet', 'planned', 'planning', 'plans', 'plant', 'plantation', 'planted', 'planter', 'planting', 'platform', 'platforms', 'plausibly', 'play', 'plays', 'plead', 'pleading', 'pleasant', 'pleasantness', 'please', 'pleased', 'pleasing', 'pleasure', 'pleasures', 'pledge', 'pledged', 'pledges', 'pledging', 'plentiful', 'plenty', 'pliant', 'plight', 'plighted', 'plowed', 'plunge', 'plural', 'pockets', 'poet', 'poetry', 'point', 'pointed', 'points', 'poised', 'police', 'policies', 'policy', 'polite', 'politic', 'political', 'politically', 'politicians', 'politics', 'polity', 'polls', 'polygamy', 'ponders', 'pool', 'poor', 'pope', 'populace', 'popular', 'populated', 'population', 'populous', 'porch', 'pork', 'portents', 'portion', 'portions', 'porto', 'portray', 'ports', 'position', 'positions', 'positive', 'positively', 'poss', 'possess', 'possessed', 'possesses', 'possessing', 'possession', 'possessions', 'possibilities', 'possibility', 'possible', 'possibly', 'post', 'postal', 'posterity', 'postpone', 'postponed', 'postponement', 'postulations', 'postures', 'postwar', 'potent', 'potentates', 'potential', 'potomac', 'poured', 'poverty', 'power', 'powerful', 'powerless', 'powers', 'pra', 'practicability', 'practicable', 'practical', 'practicality', 'practically', 'practice', 'practiced', 'practices', 'praises', 'pray', 'prayer', 'prayers', 'pre', 'preach', 'preacher', 'precarious', 'precaution', 'precautions', 'preceded', 'precedent', 'preceding', 'precept', 'precepts', 'precious', 'precipitate', 'precise', 'precisely', 'precision', 'preconceived', 'predecessor', 'predecessors', 'predicted', 'prediction', 'predictions', 'predilection', 'predominating', 'preeminence', 'preeminent', 'preeminently', 'prefer', 'preferable', 'preference', 'preferment', 'prefers', 'prejudice', 'prejudices', 'prelude', 'premeditation', 'premium', 'preoccupations', 'preparation', 'preparations', 'preparatory', 'prepare', 'prepared', 'preparing', 'prepossessions', 'preposterous', 'prerequisites', 'prerogative', 'presage', 'presaging', 'prescribe', 'prescribed', 'prescribes', 'prescribing', 'prescription', 'presence', 'present', 'presented', 'presentiments', 'presenting', 'presently', 'presents', 'preservation', 'preserve', 'preserved', 'preserves', 'preserving', 'preside', 'presidency', 'president', 'presidential', 'presidents', 'presides', 'presiding', 'press', 'presses', 'pressing', 'pressure', 'presume', 'presumed', 'presumption', 'presumptuous', 'pretend', 'pretense', 'pretensions', 'pretext', 'prevail', 'prevailed', 'prevailing', 'prevails', 'prevalence', 'prevent', 'prevented', 'preventing', 'prevention', 'prevents', 'previous', 'prey', 'preyed', 'preying', 'price', 'priceless', 'prices', 'pride', 'prideful', 'primarily', 'primary', 'prime', 'primitive', 'prince', 'princes', 'principal', 'principle', 'principles', 'prior', 'priorities', 'prison', 'prisoner', 'prisoners', 'prisons', 'pristine', 'private', 'privilege', 'privileged', 'privileges', 'prize', 'prized', 'probability', 'probable', 'probably', 'probing', 'problem', 'problems', 'procedure', 'proceed', 'proceeded', 'proceeding', 'proceedings', 'proceeds', 'process', 'processes', 'proclaim', 'proclaimed', 'proclaiming', 'proclaims', 'proclamation', 'procured', 'prodigal', 'prodigality', 'produce', 'produced', 'producer', 'producers', 'produces', 'producing', 'product', 'production', 'productions', 'productive', 'productiveness', 'productivity', 'products', 'profaned', 'profess', 'professed', 'professionals', 'professions', 'proficiency', 'profit', 'profitable', 'profitably', 'profits', 'profligacy', 'profound', 'profoundly', 'profuse', 'progeny', 'program', 'programs', 'progress', 'progressed', 'progressing', 'progression', 'progressive', 'prohibit', 'prohibited', 'prohibiting', 'prohibition', 'prohibitions', 'prohibitory', 'project', 'projects', 'proliferation', 'prolific', 'prolonged', 'prominent', 'prominently', 'promise', 'promised', 'promises', 'promising', 'promote', 'promoted', 'promoters', 'promotes', 'promoting', 'promotion', 'promotions', 'prompt', 'prompted', 'promptitude', 'promptly', 'promptness', 'promulgation', 'prone', 'pronounce', 'pronounced', 'proof', 'proofs', 'prop', 'propaganda', 'propagating', 'propagation', 'proper', 'properly', 'property', 'prophecy', 'prophet', 'prophets', 'propitious', 'proportion', 'proportionate', 'proportions', 'proposal', 'proposals', 'propose', 'proposed', 'proposes', 'proposition', 'propositions', 'propriety', 'prosecuted', 'prosecution', 'prospect', 'prospective', 'prosper', 'prospered', 'prosperity', 'prosperous', 'prosperously', 'prospers', 'prostitutes', 'prostrate', 'prostration', 'protect', 'protected', 'protecting', 'protection', 'protective', 'protector', 'protects', 'protest', 'proud', 'proudly', 'prove', 'proved', 'proven', 'proves', 'provide', 'provided', 'providence', 'provident', 'providential', 'provides', 'providing', 'province', 'provincial', 'provincials', 'provision', 'provisions', 'provoking', 'prowess', 'prudence', 'prudent', 'prudential', 'prudently', 'public', 'publications', 'publicly', 'published', 'punish', 'punishment', 'punishments', 'punitive', 'purchase', 'purchased', 'purchasing', 'pure', 'purely', 'purged', 'purification', 'purified', 'purify', 'purity', 'purloining', 'purports', 'purpose', 'purposeful', 'purposes', 'purse', 'pursuance', 'pursue', 'pursued', 'pursuing', 'pursuit', 'pursuits', 'push', 'pushes', 'pushing', 'pusillanimous', 'put', 'puts', 'putting', 'quadrupled', 'qual', 'qualification', 'qualifications', 'qualified', 'qualities', 'quality', 'quarter', 'quarters', 'quayle', 'quest', 'questing', 'question', 'questioned', 'questioning', 'questions', 'quick', 'quicken', 'quickly', 'quiet', 'quieter', 'quietly', 'quite', 'quote', 'race', 'races', 'racial', 'racing', 'racism', 'radiance', 'radiant', 'radical', 'radically', 'rage', 'ragged', 'raging', 'rail', 'railroads', 'rails', 'railway', 'railways', 'rainbow', 'raise', 'raised', 'raising', 'rallied', 'rampart', 'rancor', 'rang', 'range', 'ranges', 'rank', 'ranks', 'rapid', 'rapidity', 'rapidly', 'rare', 'rarely', 'rash', 'rate', 'rates', 'rather', 'ratification', 'ratifications', 'ratified', 'ratify', 'rating', 'rational', 'raucous', 'ravaged', 'ravages', 'raw', 'rays', 're', 'reach', 'reached', 'reaches', 'reaching', 'reaction', 'read', 'readily', 'readiness', 'readjustment', 'readjusts', 'ready', 'reaffirm', 'reaffirming', 'reagan', 'real', 'realistically', 'realities', 'reality', 'realization', 'realize', 'realized', 'realizes', 'realizing', 'really', 'reannexation', 'reap', 'reaped', 'reappear', 'rear', 'reared', 'rearranged', 'reason', 'reasonable', 'reasonably', 'reasoned', 'reasoning', 'reasons', 'reasserted', 'reassurance', 'reassuring', 'reawaken', 'rebellion', 'reborn', 'rebuild', 'rebuilding', 'rebuilds', 'rebuilt', 'recall', 'recanted', 'receding', 'receipts', 'receive', 'received', 'receiving', 'recent', 'recently', 'reciprocal', 'reciprocated', 'reciprocity', 'recital', 'recited', 'reckless', 'reckoning', 'reclaim', 'reclaiming', 'reclamation', 'recognition', 'recognitions', 'recognize', 'recognized', 'recognizes', 'recognizing', 'recoil', 'recoiled', 'recollect', 'recollected', 'recollection', 'recommend', 'recommendation', 'recommendations', 'recommended', 'recommending', 'recommends', 'recompensed', 'reconciled', 'reconciliation', 'reconciling', 'reconnecting', 'reconsecrate', 'reconsider', 'reconsideration', 'reconstruction', 'record', 'recorded', 'records', 'recourse', 'recover', 'recovered', 'recovering', 'recovery', 'recreation', 'recriminations', 'recruiting', 'rectification', 'rectified', 'rectify', 'rectitude', 'recur', 'recurred', 'recurrence', 'recurring', 'red', 'rededicate', 'redeem', 'redemption', 'rediscover', 'rediscovered', 'redistributed', 'redistribution', 'redounds', 'redress', 'reduce', 'reduced', 'reduces', 'reducing', 'reduction', 'reelected', 'reelection', 'reenforced', 'reestablish', 'reestablished', 'reestablishment', 'refer', 'reference', 'referendum', 'referred', 'referring', 'refinements', 'reflect', 'reflected', 'reflecting', 'reflectio', 'reflection', 'reflections', 'reflects', 'reflex', 'reform', 'reformation', 'reformations', 'reformed', 'reformers', 'reforming', 'reforms', 'refrain', 'refresh', 'refreshed', 'refuge', 'refunding', 'refusal', 'refuse', 'refused', 'refuses', 'refusing', 'regain', 'regaining', 'regard', 'regarded', 'regarding', 'regardless', 'regards', 'regime', 'regimes', 'region', 'regional', 'regions', 'registered', 'regret', 'regretted', 'regular', 'regularity', 'regularly', 'regulars', 'regulate', 'regulated', 'regulates', 'regulating', 'regulation', 'regulations', 'rehabilitated', 'rehabilitation', 'reign', 'reinforce', 'reins', 'reinstate', 'reinvent', 'reinvention', 'reiterate', 'reject', 'rejected', 'rejecting', 'rejection', 'rejects', 'rejoice', 'rejoices', 'rejoicing', 'rekindle', 'rekindling', 'rel', 'related', 'relates', 'relation', 'relations', 'relationship', 'relationships', 'relative', 'relaxation', 'relaxed', 'relearned', 'released', 'reliable', 'reliance', 'reliant', 'relied', 'relief', 'relies', 'relieve', 'religion', 'religious', 'religiously', 'relinquished', 'reluctance', 'reluctant', 'reluctantly', 'rely', 'relying', 'remain', 'remainder', 'remained', 'remaining', 'remains', 'remake', 'remaking', 'remark', 'remarkable', 'remarkably', 'remarked', 'remarks', 'remedial', 'remedied', 'remedies', 'remediless', 'remedy', 'remember', 'remembered', 'remembering', 'remembrance', 'remind', 'reminded', 'reminds', 'remnant', 'remote', 'remotely', 'remotest', 'removable', 'removal', 'removals', 'remove', 'removed', 'removing', 'remunerating', 'remuneration', 'rend', 'render', 'rendered', 'rendering', 'renders', 'renew', 'renewal', 'renewed', 'renewing', 'renounce', 'renounced', 'renown', 'renunciation', 'reopen', 'reorganization', 'reorganize', 'repair', 'repaired', 'repairers', 'reparation', 'repartition', 'repay', 'repeal', 'repealed', 'repeat', 'repeated', 'repeatedly', 'repeating', 'repel', 'repelled', 'repelling', 'replace', 'replaced', 'replete', 'reply', 'report', 'reports', 'repose', 'reposed', 'reposes', 'represent', 'representation', 'representations', 'representative', 'representatives', 'represented', 'representing', 'represents', 'repressed', 'repression', 'reproach', 'republic', 'republican', 'republicanism', 'republicans', 'republics', 'repudiation', 'repudiator', 'repugnant', 'reputation', 'request', 'require', 'required', 'requirement', 'requirements', 'requires', 'requisite', 'requisites', 'rescind', 'research', 'researches', 'resentment', 'resentments', 'reservation', 'reservations', 'reserve', 'reserved', 'reservoir', 'resheathed', 'residence', 'resident', 'residents', 'residing', 'residue', 'resigned', 'resilience', 'resist', 'resistance', 'resisted', 'resolutely', 'resolution', 'resolve', 'resolved', 'resolves', 'resort', 'resorted', 'resorting', 'resounding', 'resource', 'resources', 'respect', 'respectable', 'respected', 'respectful', 'respectfully', 'respecting', 'respective', 'respectively', 'respects', 'respite', 'respond', 'responded', 'response', 'responses', 'responsibilities', 'responsibility', 'responsible', 'responsibly', 'rest', 'restated', 'restaurant', 'rested', 'resting', 'restless', 'restlessness', 'restoration', 'restore', 'restored', 'restoring', 'restrain', 'restrained', 'restraining', 'restrains', 'restraint', 'restraints', 'restrict', 'restricted', 'restricting', 'restriction', 'restrictions', 'restrictive', 'restricts', 'rests', 'result', 'resulted', 'resulting', 'results', 'resume', 'resumed', 'resumes', 'resumption', 'resurgent', 'retain', 'retained', 'retaining', 'retains', 'retaliate', 'retaliation', 'retard', 'retarded', 'retards', 'retire', 'retired', 'retirement', 'retrace', 'retreat', 'retrenchment', 'retrospect', 'return', 'returned', 'returning', 'returns', 'reunion', 'reunite', 'reunited', 'revamp', 'reveal', 'revealed', 'revealing', 'revelation', 'revenge', 'revengeful', 'revenue', 'revenues', 'revered', 'reverence', 'reverend', 'reverent', 'reverently', 'reverse', 'reversion', 'review', 'reviewed', 'revise', 'revised', 'revising', 'revision', 'revisions', 'revitalize', 'revival', 'revive', 'revived', 'reviving', 'revocation', 'revolution', 'revolutionary', 'revolutionize', 'reward', 'rewarding', 'rewards', 'rhetoric', 'ribbon', 'rice', 'rich', 'richer', 'riches', 'richest', 'rico', 'rid', 'ridding', 'ride', 'riders', 'rides', 'ridge', 'riding', 'right', 'righteous', 'righteousness', 'rightful', 'rightfully', 'rightly', 'rightness', 'rights', 'rigid', 'rigidly', 'rigor', 'rigorous', 'riminal', 'rings', 'rio', 'riper', 'ripped', 'rise', 'risen', 'rises', 'rising', 'risk', 'risks', 'rivalries', 'rivalry', 'rivals', 'river', 'rivers', 'rivet', 'riveted', 'road', 'roadblocks', 'roads', 'roaming', 'rob', 'robbed', 'robbing', 'robe', 'roberts', 'robes', 'robs', 'robust', 'rock', 'rocked', 'rocket', 'rocky', 'rod', 'rode', 'role', 'roll', 'rolling', 'rolls', 'roman', 'rome', 'room', 'roosevelt', 'root', 'rooted', 'rose', 'rough', 'rounded', 'route', 'routes', 'routinely', 'row', 'rude', 'rudest', 'rugged', 'ruggedness', 'ruin', 'ruinous', 'ruins', 'rule', 'ruler', 'rulers', 'rules', 'run', 'runaway', 'runs', 'rural', 'rush', 'russia', 'rusted', 'ruthless', 'ruthlessly', 'sabbatical', 'sabine', 'sacred', 'sacredly', 'sacredness', 'sacrifice', 'sacrificed', 'sacrifices', 'sacrificing', 'sad', 'safe', 'safeguard', 'safeguarded', 'safeguarding', 'safeguards', 'safely', 'safer', 'safety', 'sagacious', 'sages', 'sahn', 'said', 'sailing', 'sailors', 'saint', 'sake', 'sale', 'salerno', 'sales', 'salutary', 'salute', 'salvation', 'same', 'sanctimonious', 'sanction', 'sanctioned', 'sanctioning', 'sanctions', 'sanctities', 'sanctity', 'sane', 'sanguine', 'sanitary', 'santo', 'sap', 'sapping', 'saps', 'satisfaction', 'satisfactions', 'satisfactorily', 'satisfactory', 'satisfied', 'satisfy', 'satisfying', 'savage', 'savagery', 'savages', 'save', 'saved', 'saving', 'savings', 'savor', 'savory', 'saw', 'say', 'saying', 'says', 'scabbard', 'scale', 'scales', 'scan', 'scapegoats', 'scar', 'scarcely', 'scattered', 'scene', 'scenes', 'schedules', 'scheme', 'schemes', 'scholars', 'school', 'schoolchildren', 'schoolmaster', 'schools', 'science', 'scientific', 'scientists', 'scoffed', 'scope', 'score', 'scorn', 'scorning', 'scourge', 'scripture', 'scruple', 'scruples', 'scrupulous', 'scrupulously', 'scrutinize', 'scrutiny', 'sea', 'seaboard', 'seaboards', 'seacoast', 'seal', 'seamen', 'search', 'searching', 'seared', 'seas', 'season', 'seasonable', 'seasonably', 'seasons', 'seat', 'seats', 'secede', 'secession', 'second', 'secondary', 'secondhand', 'secondly', 'secret', 'secretary', 'secrets', 'sect', 'section', 'sectional', 'sectionalism', 'sections', 'sects', 'secure', 'secured', 'securely', 'secures', 'securing', 'security', 'sedition', 'seduce', 'sedulously', 'see', 'seed', 'seeds', 'seeing', 'seek', 'seekers', 'seeking', 'seeks', 'seem', 'seemed', 'seemingly', 'seemly', 'seems', 'seen', 'sees', 'segregation', 'seize', 'seized', 'seizing', 'seldom', 'select', 'selected', 'selection', 'selections', 'selective', 'self', 'selfish', 'selfishness', 'selflessness', 'sell', 'selma', 'senate', 'senator', 'senators', 'send', 'sending', 'sends', 'seneca', 'sense', 'sensed', 'senses', 'sensibility', 'sensible', 'sensibly', 'sensitive', 'sentence', 'sententious', 'sentiment', 'sentimental', 'sentimentalizing', 'sentiments', 'separate', 'separated', 'separation', 'september', 'serious', 'seriously', 'sermon', 'servant', 'servants', 'serve', 'served', 'serves', 'service', 'services', 'servile', 'serving', 'servitude', 'ses', 'session', 'set', 'sets', 'settle', 'settled', 'settlement', 'settlements', 'settler', 'settlers', 'settling', 'seven', 'seventeen', 'seventy', 'several', 'severe', 'severed', 'severely', 'severest', 'severity', 'shackles', 'shade', 'shades', 'shadow', 'shadows', 'shaken', 'shaking', 'shall', 'shallow', 'shameful', 'shamefully', 'shape', 'shaped', 'shaping', 'share', 'shared', 'shares', 'sharing', 'sharp', 'sharpest', 'shatter', 'shattered', 'she', 'shed', 'sheet', 'shelter', 'shepherd', 'shield', 'shielded', 'shielding', 'shift', 'shifted', 'shine', 'shines', 'shining', 'ship', 'shipmaster', 'ships', 'shipwreck', 'shirk', 'shirking', 'shock', 'shocks', 'shoot', 'shop', 'shopkeepers', 'shops', 'shore', 'shores', 'short', 'shortcuts', 'shorten', 'shortening', 'shorter', 'shortly', 'should', 'shoulder', 'shoulders', 'shouldn', 'shout', 'shouting', 'show', 'showed', 'showering', 'shown', 'shows', 'shrines', 'shrink', 'shrinking', 'shrinks', 'shrunken', 'shudder', 'shunned', 'shut', 'shuttered', 'sick', 'side', 'sides', 'sight', 'sights', 'sign', 'signally', 'signed', 'significant', 'significantly', 'signified', 'signifies', 'signify', 'signifying', 'signs', 'silence', 'silenced', 'silencing', 'silent', 'silk', 'silver', 'similar', 'similarly', 'simmer', 'simple', 'simplicity', 'simplification', 'simplify', 'simply', 'sinai', 'since', 'sincere', 'sincerely', 'sincerest', 'sincerity', 'sing', 'single', 'singled', 'singly', 'sings', 'singular', 'singularly', 'sinister', 'sink', 'sinking', 'sinks', 'sister', 'sisters', 'sit', 'sitting', 'situated', 'situation', 'six', 'sixth', 'sixty', 'size', 'skepticism', 'skies', 'skill', 'skillful', 'skills', 'skin', 'skirt', 'skirts', 'sky', 'slackerism', 'slander', 'slaughter', 'slaughtering', 'slave', 'slaveholding', 'slavery', 'slaves', 'sleep', 'sleeping', 'slightest', 'slightly', 'slipping', 'slogans', 'slope', 'slopes', 'sloping', 'slow', 'slowed', 'slowly', 'slums', 'small', 'smaller', 'smallest', 'smelting', 'smiled', 'smiles', 'smoke', 'smooth', 'smoothly', 'smother', 'smothered', 'smuggled', 'snow', 'snuffed', 'so', 'sober', 'social', 'societies', 'society', 'softened', 'soil', 'sojourn', 'solace', 'soldier', 'soldiers', 'sole', 'solecism', 'solely', 'solemn', 'solemnities', 'solemnity', 'solemnly', 'solicit', 'solicitation', 'solicitous', 'solicitude', 'solid', 'solidarity', 'solidity', 'solitary', 'solitude', 'solution', 'solutions', 'solve', 'solved', 'solving', 'som', 'somalia', 'some', 'someday', 'somehow', 'someone', 'something', 'sometimes', 'somewhat', 'son', 'song', 'sons', 'soon', 'sooner', 'sophistries', 'sophistry', 'sordid', 'sore', 'sorrow', 'sorrowful', 'sort', 'sought', 'soul', 'souls', 'sound', 'sounded', 'soundest', 'soundly', 'sounds', 'source', 'sources', 'south', 'southeastern', 'southern', 'southwestern', 'sovereign', 'sovereigns', 'sovereignties', 'sovereignty', 'soviet', 'soviets', 'sow', 'space', 'spain', 'span', 'spanish', 'spare', 'spared', 'sparing', 'spark', 'sparsely', 'spasmodic', 'spasms', 'speak', 'speaker', 'speaking', 'speaks', 'special', 'specialized', 'specie', 'species', 'specific', 'specifically', 'specified', 'specify', 'specifying', 'spectacle', 'spectators', 'specter', 'speculation', 'speculations', 'speculative', 'speculators', 'speech', 'speeches', 'speed', 'speedily', 'speedy', 'spend', 'spending', 'spent', 'sphere', 'spheres', 'spilled', 'spin', 'spiral', 'spiraling', 'spirit', 'spirits', 'spiritual', 'spirituality', 'spiritually', 'spite', 'splendid', 'splendor', 'split', 'spoil', 'spoils', 'spoke', 'spoken', 'spokesmen', 'spoliation', 'sponsors', 'spot', 'spotless', 'sprang', 'sprawl', 'spread', 'spreading', 'spring', 'springing', 'springs', 'spun', 'squadron', 'squander', 'squandered', 'squandering', 'square', 'squared', 'st', 'stability', 'stable', 'staff', 'stage', 'stages', 'staggering', 'stagnant', 'stagnation', 'stained', 'stairway', 'stake', 'staked', 'stakes', 'stale', 'stamina', 'stamp', 'stamped', 'stamping', 'stanch', 'stand', 'standard', 'standards', 'standing', 'standpoint', 'stands', 'staple', 'star', 'stars', 'start', 'started', 'starting', 'starved', 'state', 'stated', 'stately', 'statement', 'statements', 'states', 'statesman', 'statesmanship', 'statesmen', 'stating', 'station', 'stations', 'statistics', 'stature', 'status', 'statute', 'statutes', 'staunchest', 'stay', 'stayed', 'stays', 'stead', 'steadfast', 'steadfastness', 'steadily', 'steady', 'stealing', 'steam', 'steamers', 'steamship', 'steeled', 'steer', 'stennis', 'step', 'steps', 'sterile', 'stern', 'sternest', 'sternly', 'stewardship', 'stifle', 'stifles', 'still', 'stilling', 'stimulate', 'stimulating', 'stimulation', 'stimulus', 'stipulated', 'stipulations', 'stir', 'stirred', 'stock', 'stolen', 'stone', 'stonewall', 'stood', 'stop', 'stopped', 'stopping', 'stops', 'store', 'storm', 'storms', 'story', 'stout', 'straight', 'strain', 'strained', 'strange', 'stranger', 'strangers', 'strangle', 'strangled', 'stream', 'streams', 'streets', 'strength', 'strengthen', 'strengthened', 'strengthening', 'strengthens', 'strengths', 'strenuous', 'stress', 'stretched', 'stretching', 'stricken', 'strict', 'strictest', 'strictly', 'stride', 'strides', 'strife', 'strike', 'strikes', 'striking', 'stringent', 'strings', 'stripped', 'strive', 'strives', 'striving', 'strong', 'stronger', 'strongest', 'strongly', 'strove', 'struck', 'structure', 'structures', 'struggle', 'struggled', 'struggles', 'struggling', 'stubbornness', 'stuck', 'students', 'studied', 'studies', 'studiously', 'study', 'studying', 'stuff', 'stunning', 'stupefies', 'stupendous', 'stupid', 'sturdiness', 'sturdy', 'style', 'subdivision', 'subje', 'subject', 'subjected', 'subjects', 'sublime', 'submission', 'submit', 'submits', 'submitted', 'submitting', 'subordinate', 'subordination', 'subsequent', 'subserved', 'subserviency', 'subsided', 'subsidiary', 'subsidies', 'subsidized', 'subsistence', 'substance', 'substantial', 'substantially', 'substantive', 'substitute', 'substitutes', 'substituting', 'subterfuge', 'subterfuges', 'subtlety', 'subversion', 'succeed', 'succeeding', 'success', 'successes', 'successful', 'successfully', 'succession', 'successive', 'successively', 'successor', 'successors', 'succumb', 'succumbed', 'such', 'sudden', 'suddenly', 'suffer', 'suffered', 'suffering', 'sufferings', 'suffers', 'suffice', 'sufficiency', 'sufficient', 'sufficiently', 'suffrage', 'suffrages', 'sugar', 'suggest', 'suggested', 'suggesting', 'suggestion', 'suggestions', 'suggestive', 'suggests', 'suicide', 'suit', 'suitable', 'suitably', 'suited', 'sum', 'summary', 'summer', 'summit', 'summon', 'summoned', 'summons', 'sums', 'sumter', 'sun', 'sundered', 'sung', 'sunk', 'sunlight', 'suns', 'sunset', 'sunshine', 'superbly', 'superficial', 'superfluous', 'supergovernment', 'superintend', 'superior', 'superiority', 'superiors', 'supersede', 'superseded', 'superstructure', 'supervising', 'supervision', 'supplanted', 'supplement', 'supplemented', 'supplicating', 'supplication', 'supplications', 'supplies', 'supply', 'supplying', 'support', 'supported', 'supporters', 'supporting', 'supports', 'suppose', 'supposed', 'suppress', 'suppressed', 'suppressing', 'suppression', 'supremacy', 'supreme', 'sure', 'surely', 'surer', 'surest', 'surface', 'surge', 'surging', 'surmount', 'surmounting', 'surpass', 'surpassed', 'surpasses', 'surpassing', 'surplus', 'surpluses', 'surprised', 'surrender', 'surrendered', 'surround', 'surrounded', 'surroundings', 'survey', 'surveying', 'surveys', 'survival', 'survive', 'survived', 'surviving', 'susceptible', 'suspected', 'suspended', 'suspension', 'suspicion', 'sustain', 'sustainable', 'sustained', 'sustaining', 'sustenance', 'swallowed', 'swarming', 'sway', 'swayed', 'swear', 'swearing', 'sweat', 'sweats', 'sweatshops', 'sweep', 'sweeping', 'sweet', 'swell', 'swept', 'swerved', 'swift', 'swiftest', 'swill', 'swollen', 'sword', 'sworn', 'symbol', 'symbolizing', 'sympathetic', 'sympathies', 'sympathize', 'sympathized', 'sympathy', 'symptom', 'symptoms', 'synagogue', 'system', 'systematic', 'systems', 'table', 'tactic', 'tain', 'taint', 'take', 'taken', 'takers', 'takes', 'taking', 'talent', 'talents', 'talk', 'talking', 'tangible', 'tanks', 'tap', 'tapping', 'tarawa', 'tardy', 'target', 'targets', 'tariff', 'tariffs', 'tarry', 'task', 'tasked', 'tasks', 'tasted', 'taught', 'tax', 'taxation', 'taxes', 'taxgatherer', 'taxing', 'teach', 'teacher', 'teachers', 'teaches', 'teaching', 'teachings', 'tear', 'tearfully', 'tears', 'technical', 'technicalities', 'techniques', 'technological', 'technologies', 'technology', 'teem', 'teeming', 'telegraph', 'tell', 'telling', 'tells', 'temper', 'temperance', 'temperate', 'tempered', 'tempering', 'tempest', 'temple', 'temporarily', 'temporary', 'tempt', 'temptation', 'temptations', 'tempted', 'tempts', 'ten', 'tend', 'tended', 'tendencies', 'tendency', 'tender', 'tendered', 'tendering', 'tending', 'tends', 'tenets', 'tens', 'tense', 'tentative', 'tenure', 'term', 'termed', 'terminate', 'terminated', 'termination', 'terms', 'terrible', 'terrific', 'terrifying', 'territorial', 'territories', 'territory', 'terror', 'terrorism', 'terrors', 'test', 'testament', 'tested', 'testifying', 'testimony', 'tests', 'texas', 'text', 'texture', 'th', 'than', 'thank', 'thankful', 'thanks', 'that', 'the', 'thee', 'their', 'theirs', 'them', 'theme', 'themes', 'themselves', 'then', 'thence', 'theoretic', 'theorists', 'theory', 'there', 'thereby', 'therefor', 'therefore', 'therefrom', 'therein', 'thereof', 'thereon', 'thereto', 'therewith', 'these', 'they', 'thick', 'thing', 'things', 'think', 'thinking', 'third', 'thirdly', 'thirds', 'thirst', 'thirsting', 'thirteen', 'thirteenth', 'thirty', 'this', 'thomas', 'thorough', 'thoroughly', 'those', 'thou', 'though', 'thought', 'thoughtful', 'thoughtfully', 'thoughts', 'thousand', 'thousands', 'thousandth', 'thrashed', 'threat', 'threaten', 'threatened', 'threatening', 'threatens', 'threats', 'three', 'threefold', 'threshold', 'thrift', 'thrill', 'thrilling', 'thrive', 'thrives', 'thriving', 'throes', 'thrones', 'throng', 'through', 'throughout', 'throw', 'throwing', 'thrown', 'thrust', 'thus', 'thwarted', 'thy', 'tide', 'tides', 'tie', 'ties', 'tiger', 'tightly', 'till', 'tillage', 'tillers', 'time', 'timeless', 'times', 'timi', 'timid', 'timidity', 'tiny', 'tire', 'tireless', 'tirelessly', 'tiring', 'title', 'titles', 'titutions', 'tizens', 'to', 'tobacco', 'today', 'together', 'toil', 'toiled', 'toilers', 'toiling', 'token', 'told', 'tolerance', 'tolerant', 'tolerate', 'tolerated', 'toleration', 'tomb', 'tombstones', 'tomorrow', 'tomorrows', 'tone', 'tones', 'tongues', 'tonnage', 'too', 'took', 'tool', 'tools', 'topic', 'topics', 'toppled', 'torch', 'torment', 'tormented', 'torn', 'torture', 'total', 'totalitarian', 'totally', 'touch', 'touched', 'touching', 'touchstone', 'touchstones', 'toward', 'towards', 'tower', 'town', 'towns', 'traced', 'traces', 'tracing', 'tracts', 'trade', 'traded', 'trading', 'tradition', 'traditional', 'traditions', 'traffic', 'tragedy', 'tragic', 'tragically', 'train', 'trained', 'training', 'trait', 'traitors', 'traits', 'tranquil', 'tranquillity', 'transaction', 'transactions', 'transcend', 'transcended', 'transcendent', 'transcendently', 'transcending', 'transcends', 'transcontinental', 'transfer', 'transferred', 'transferring', 'transfers', 'transform', 'transit', 'transition', 'transitory', 'translated', 'translating', 'transmit', 'transmitted', 'transpire', 'transportation', 'transported', 'trapped', 'trappings', 'travail', 'travel', 'traveled', 'traveler', 'travels', 'traversed', 'traversing', 'tread', 'treading', 'treason', 'treasure', 'treasured', 'treasures', 'treasury', 'treat', 'treated', 'treaties', 'treating', 'treatment', 'treats', 'treaty', 'tree', 'tremble', 'trembling', 'tremendous', 'trend', 'treptow', 'trespass', 'trial', 'trials', 'tribe', 'tribes', 'tribulation', 'tribunal', 'tribunals', 'tributary', 'tribute', 'tried', 'trifling', 'trillions', 'trim', 'triple', 'triumph', 'triumphant', 'triumphantly', 'triumphed', 'triumphs', 'troops', 'tropic', 'troubled', 'troubles', 'troublesome', 'truce', 'truckdrivers', 'truculence', 'true', 'truest', 'truly', 'truman', 'trumpet', 'trumpets', 'trust', 'trusted', 'trustees', 'trustful', 'trusting', 'trusts', 'truth', 'truths', 'try', 'trying', 'tumults', 'tumultuous', 'tunnels', 'turbulence', 'turmoil', 'turn', 'turned', 'turning', 'turns', 'tutor', 'twelve', 'twentieth', 'twenty', 'twice', 'twilight', 'two', 'type', 'tyrannical', 'tyranny', 'tyrant', 'tyrants', 'ultimate', 'ultimately', 'umerable', 'umpire', 'unabashed', 'unabated', 'unable', 'unaccounted', 'unadjusted', 'unafraid', 'unaided', 'unalienable', 'unalloyed', 'unanimity', 'unanimous', 'unanswerably', 'unassailed', 'unattended', 'unauthorized', 'unavoidable', 'unavoidably', 'unbalanced', 'unbending', 'unbiased', 'unborn', 'unbounded', 'unbroken', 'uncanny', 'unceasing', 'unceasingly', 'uncertain', 'uncertainty', 'unchanged', 'unchanging', 'uncharitableness', 'unclench', 'unclimbed', 'uncomplaining', 'uncompromising', 'unconnected', 'unconquerable', 'unconstitutional', 'uncontrollable', 'uncontrolled', 'uncorrupted', 'uncounted', 'uncovered', 'uncrossed', 'unctions', 'undauntedly', 'undelayed', 'under', 'undercurrent', 'underdeveloped', 'undergoing', 'underlies', 'undermine', 'undermines', 'underneath', 'understand', 'understandable', 'understanding', 'understandings', 'understands', 'understood', 'undertake', 'undertaken', 'undertaking', 'undertakings', 'undertone', 'undeserved', 'undeveloped', 'undeviating', 'undiminished', 'undisturbed', 'undo', 'undoing', 'undone', 'undoubted', 'undoubtedly', 'undue', 'unduly', 'uneconomical', 'uneducated', 'unemployed', 'unemployment', 'unequal', 'unequaled', 'unequivocal', 'unerring', 'unessential', 'unexaggerated', 'unexampled', 'unexceptionable', 'unexpected', 'unexplained', 'unexplored', 'unfailing', 'unfair', 'unfairly', 'unfaithful', 'unfaltering', 'unfavorable', 'unfeeling', 'unfinished', 'unfitness', 'unflinching', 'unfocused', 'unfolded', 'unfolding', 'unfolds', 'unforeseen', 'unfortunate', 'unfortunately', 'unfounded', 'unfriendly', 'unfulfilled', 'unfurl', 'unfurling', 'ungrateful', 'ungrudging', 'unhallowed', 'unhampered', 'unhappily', 'unhappy', 'unheeded', 'unhesitatingly', 'unhonored', 'unification', 'uniform', 'uniformly', 'unify', 'unifying', 'unimagined', 'unimpaired', 'unimpressive', 'uninjured', 'uninspiring', 'unintelligible', 'uninteresting', 'uninterrupted', 'union', 'unique', 'unite', 'united', 'unitedly', 'unites', 'unity', 'universal', 'universality', 'universally', 'universe', 'universities', 'unjust', 'unjustified', 'unkept', 'unknowing', 'unknown', 'unlawful', 'unlawfulness', 'unlearned', 'unleash', 'unleashed', 'unless', 'unlike', 'unlikely', 'unlimited', 'unlock', 'unmade', 'unmake', 'unmatched', 'unmindful', 'unmistakable', 'unmolested', 'unmoved', 'unnatural', 'unnecessary', 'unnoticed', 'unobtrusive', 'unparalleled', 'unpatriotic', 'unpleasant', 'unplowed', 'unpracticed', 'unprecedented', 'unprepared', 'unpreparedness', 'unprofitable', 'unprovided', 'unquestionable', 'unquestionably', 'unquestioned', 'unquestioning', 'unrealized', 'unreasonable', 'unreasonably', 'unreasoning', 'unreclaimed', 'unrecompensed', 'unregarded', 'unremittingly', 'unrepealed', 'unrequited', 'unreserved', 'unrestrained', 'unrestricted', 'unrivaled', 'unscrupulous', 'unselfish', 'unselfishness', 'unsettled', 'unshaken', 'unsolicited', 'unsolvable', 'unsought', 'unspeakable', 'unspoken', 'unstable', 'unstoppable', 'unstrained', 'unsubstantial', 'unsuccessful', 'unsung', 'unsurpassed', 'untamed', 'untarnished', 'untended', 'until', 'unto', 'untouched', 'untrammeled', 'untried', 'untroubled', 'untrue', 'untrusting', 'untruths', 'unused', 'unusual', 'unvexed', 'unwanted', 'unwarrantable', 'unwasted', 'unwavering', 'unwholesome', 'unwilling', 'unwise', 'unwisely', 'unworthiness', 'unworthy', 'up', 'upbraidings', 'upbuilding', 'upgrade', 'upheaval', 'upheavals', 'upheld', 'uphold', 'upholding', 'upon', 'upper', 'uppermost', 'upright', 'uprooted', 'uprooting', 'upward', 'urban', 'urge', 'urged', 'urgent', 'urgently', 'urging', 'us', 'usage', 'usages', 'use', 'used', 'useful', 'usefulness', 'useless', 'uselessly', 'uses', 'ushered', 'ushering', 'using', 'usual', 'usually', 'usurp', 'usurpation', 'usurpations', 'usurped', 'usurper', 'usury', 'utilities', 'utmost', 'utter', 'utterance', 'uttered', 'uttering', 'utterly', 'uttermost', 'vacant', 'vain', 'vainglory', 'valiantly', 'valid', 'valley', 'valleys', 'valor', 'valuable', 'value', 'valued', 'values', 'vanish', 'vanquished', 'variance', 'variations', 'varied', 'varieties', 'variety', 'various', 'varnish', 'vary', 'varying', 'vast', 'vastly', 'vaults', 've', 'veil', 'venality', 'venerated', 'veneration', 'venture', 'ventured', 'ventures', 'verbal', 'verdict', 'verified', 'very', 'vessel', 'vessels', 'vested', 'veto', 'vexation', 'vibrant', 'vibrations', 'vice', 'vicious', 'vicissitude', 'vicissitudes', 'victim', 'victims', 'victories', 'victorious', 'victory', 'vietnam', 'view', 'viewed', 'viewing', 'viewpoint', 'views', 'vigilance', 'vigilant', 'vigilantly', 'vigor', 'vigorous', 'vigorously', 'village', 'villages', 'vindicate', 'vindicated', 'vindication', 'vindictiveness', 'violate', 'violated', 'violates', 'violation', 'violative', 'violence', 'violent', 'virginia', 'virility', 'virtual', 'virtually', 'virtue', 'virtues', 'virtuous', 'visible', 'vision', 'visionary', 'visit', 'visitation', 'visited', 'vista', 'vital', 'vitality', 'vitalizing', 'vitally', 'vitals', 'voice', 'voices', 'void', 'volume', 'voluntarily', 'voluntary', 'volunteer', 'volution', 'vote', 'voted', 'voter', 'voters', 'votes', 'voting', 'vouchsafed', 'vow', 'vowed', 'vows', 'voyage', 'vulnerability', 'vulnerable', 'wage', 'waged', 'wages', 'waging', 'wait', 'waited', 'waiting', 'waketh', 'walk', 'walked', 'wall', 'wallet', 'walls', 'wander', 'wane', 'want', 'wanted', 'wanting', 'wants', 'war', 'wards', 'warfare', 'warm', 'warmed', 'warming', 'warmly', 'warms', 'warmth', 'warned', 'warns', 'warrant', 'warren', 'warriors', 'wars', 'wartime', 'was', 'washington', 'wastage', 'waste', 'wasted', 'wasteful', 'wastefulness', 'watch', 'watched', 'watchful', 'watchfulness', 'watching', 'watchman', 'water', 'watercourses', 'waters', 'waterway', 'waterways', 'wave', 'waved', 'waver', 'wavering', 'waves', 'way', 'ways', 'we', 'weak', 'weaken', 'weakened', 'weakening', 'weaker', 'weakest', 'weakness', 'weaknesses', 'weal', 'wealth', 'wealthy', 'weapon', 'weapons', 'weary', 'weaving', 'webster', 'weed', 'week', 'weeks', 'weigh', 'weighed', 'weight', 'weightiest', 'weighty', 'welcome', 'welcomed', 'weld', 'welfare', 'well', 'wellspring', 'went', 'were', 'west', 'western', 'westward', 'wh', 'what', 'whatever', 'whatsoever', 'wheat', 'wheels', 'when', 'whenever', 'where', 'whereas', 'wherein', 'whereof', 'wherever', 'whether', 'which', 'while', 'whilst', 'whip', 'whirlwind', 'whisper', 'white', 'whitened', 'whites', 'whither', 'who', 'whoever', 'whole', 'wholesome', 'wholly', 'whom', 'whomsoever', 'whose', 'why', 'wi', 'wicked', 'wickedness', 'wide', 'widely', 'widen', 'widened', 'widening', 'wider', 'widespread', 'widow', 'widows', 'wield', 'wields', 'wife', 'wild', 'wilderness', 'will', 'willing', 'willingly', 'willingness', 'wills', 'wily', 'win', 'wind', 'winding', 'window', 'windows', 'winds', 'wings', 'winning', 'winston', 'winter', 'wipe', 'wisdom', 'wise', 'wisely', 'wiser', 'wisest', 'wish', 'wished', 'wishes', 'wishing', 'wit', 'with', 'withal', 'withdraw', 'withdrawal', 'withdrew', 'wither', 'withered', 'withheld', 'withhold', 'within', 'without', 'withstood', 'witness', 'witnessed', 'witnesses', 'wives', 'woe', 'woman', 'womanhood', 'women', 'won', 'wonder', 'wonderful', 'wonders', 'wonted', 'wood', 'woodsmen', 'word', 'words', 'work', 'worked', 'worker', 'workers', 'workforce', 'working', 'workingman', 'workingmen', 'workmanship', 'works', 'workshop', 'world', 'worldly', 'worlds', 'worldwide', 'worm', 'worn', 'worry', 'worse', 'worship', 'worst', 'worth', 'worthily', 'worthless', 'worthy', 'would', 'wouldn', 'wounded', 'wounds', 'wreckage', 'wrecked', 'wrest', 'wretchedness', 'wright', 'wringing', 'writ', 'write', 'writers', 'writing', 'written', 'wrong', 'wrongdoing', 'wronged', 'wrongfully', 'wrongs', 'wrote', 'wrought', 'year', 'yearn', 'yearning', 'years', 'yes', 'yesterday', 'yesterdays', 'yet', 'yield', 'yielded', 'yielding', 'yields', 'york', 'yorktown', 'you', 'young', 'younger', 'youngest', 'your', 'yours', 'yourself', 'yourselves', 'youth', 'youthful', 'zeal', 'zealous', 'zealously', 'zone']\n"
     ]
    }
   ],
   "source": [
    "# Import CountVectorizer\n",
    "from sklearn.feature_extraction.text import CountVectorizer\n",
    "\n",
    "# Instantiate CountVectorizer\n",
    "cv = CountVectorizer()\n",
    "\n",
    "# Fit the vectorizer\n",
    "cv.fit(speech_df['text_clean'])\n",
    "\n",
    "# Print feature names\n",
    "print(cv.get_feature_names())"
   ]
  },
  {
   "cell_type": "markdown",
   "metadata": {},
   "source": [
    " # Counting words (II)\n",
    "Once the vectorizer has been fit to the data, it can be used to transform the text to an array representing the word counts. This array will have a row per block of text and a column for each of the features generated by the vectorizer that you observed in the last exercise.\n",
    "\n",
    "The vectorizer to you fit in the last exercise (cv) is available in your workspace.<br>\n",
    "\n",
    "Apply the vectorizer to the text_clean column. <br>\n",
    "Convert this transformed (sparse) array into a numpy array with counts."
   ]
  },
  {
   "cell_type": "code",
   "execution_count": 94,
   "metadata": {},
   "outputs": [
    {
     "name": "stdout",
     "output_type": "stream",
     "text": [
      "[[0 0 0 ... 0 0 0]\n",
      " [0 0 0 ... 0 0 0]\n",
      " [0 1 0 ... 0 0 0]\n",
      " ...\n",
      " [0 1 0 ... 0 0 0]\n",
      " [0 0 0 ... 0 0 0]\n",
      " [0 0 0 ... 0 0 0]]\n"
     ]
    }
   ],
   "source": [
    "# Apply the vectorizer\n",
    "cv_transformed = cv.transform(speech_df['text_clean'])\n",
    "\n",
    "# Print the full array\n",
    "cv_array = cv_transformed.toarray()\n",
    "print(cv_array)"
   ]
  },
  {
   "cell_type": "code",
   "execution_count": 95,
   "metadata": {},
   "outputs": [
    {
     "name": "stdout",
     "output_type": "stream",
     "text": [
      "(58, 9043)\n"
     ]
    }
   ],
   "source": [
    "# Print the shape of cv_array\n",
    "print(cv_array.shape)"
   ]
  },
  {
   "cell_type": "markdown",
   "metadata": {},
   "source": [
    "# Limiting your features\n",
    "As you have seen, using the CountVectorizer with its default settings creates a feature for every single word in your corpus. This can create far too many features, often including ones that will provide very little analytical value.\n",
    "\n",
    "For this purpose CountVectorizer has parameters that you can set to reduce the number of features:\n",
    "\n",
    "min_df : Use only words that occur in more than this percentage of documents. This can be used to remove outlier words that will not generalize across texts.\n",
    "max_df : Use only words that occur in less than this percentage of documents. This is useful to eliminate very common words that occur in every corpus without adding value such as \"and\" or \"the\".\n",
    "\n",
    "-Limit the number of features in the CountVectorizer by setting the minimum number of documents a ----word can appear to 20% and the maximum to 80%. <br>\n",
    "-Fit and apply the vectorizer on text_clean column in one step.<br>\n",
    "-Convert this transformed (sparse) array into a numpy array with counts. <br>\n",
    "-Print the dimensions of the new reduced array."
   ]
  },
  {
   "cell_type": "code",
   "execution_count": 96,
   "metadata": {},
   "outputs": [
    {
     "name": "stdout",
     "output_type": "stream",
     "text": [
      "(58, 818)\n"
     ]
    }
   ],
   "source": [
    "# Import CountVectorizer\n",
    "from sklearn.feature_extraction.text import CountVectorizer\n",
    "\n",
    "# Specify arguements to limit the number of features generated\n",
    "cv = CountVectorizer(min_df=0.2, max_df=0.8)\n",
    "\n",
    "# Fit, transform, and convert into array\n",
    "cv_transformed = cv.fit_transform(speech_df['text_clean'])\n",
    "cv_array = cv_transformed.toarray()\n",
    "\n",
    "# Print the array shape\n",
    "print(cv_array.shape)"
   ]
  },
  {
   "cell_type": "markdown",
   "metadata": {},
   "source": [
    "# Text to DataFrame\n",
    "Now that you have generated these count based features in an array you will need to reformat them so that they can be combined with the rest of the dataset. This can be achieved by converting the array into a pandas DataFrame, with the feature names you found earlier as the column names, and then concatenate it with the original DataFrame.\n",
    "\n",
    "The numpy array (cv_array) and the vectorizer (cv) you fit in the last exercise are available in your workspace.\n",
    "\n",
    "-Create a DataFrame cv_df containing the cv_array as the values and the feature names as the column -names. <br>\n",
    "-Add the prefix Counts_ to the column names for ease of identification.<br>\n",
    "-Concatenate this DataFrame (cv_df) to the original DataFrame (speech_df) column wise."
   ]
  },
  {
   "cell_type": "code",
   "execution_count": 97,
   "metadata": {},
   "outputs": [
    {
     "name": "stdout",
     "output_type": "stream",
     "text": [
      "                Name         Inaugural Address                      Date  \\\n",
      "0  George Washington   First Inaugural Address  Thursday, April 30, 1789   \n",
      "1  George Washington  Second Inaugural Address     Monday, March 4, 1793   \n",
      "2         John Adams         Inaugural Address   Saturday, March 4, 1797   \n",
      "3   Thomas Jefferson   First Inaugural Address  Wednesday, March 4, 1801   \n",
      "4   Thomas Jefferson  Second Inaugural Address     Monday, March 4, 1805   \n",
      "\n",
      "                                                text  \\\n",
      "0  Fellow-Citizens of the Senate and of the House...   \n",
      "1  Fellow Citizens:  I AM again called upon by th...   \n",
      "2  WHEN it was first perceived, in early times, t...   \n",
      "3  Friends and Fellow-Citizens:  CALLED upon to u...   \n",
      "4  PROCEEDING, fellow-citizens, to that qualifica...   \n",
      "\n",
      "                                          text_clean  char_cnt  word_cnt  \\\n",
      "0  fellow citizens of the senate and of the house...      8616      1432   \n",
      "1  fellow citizens   i am again called upon by th...       787       135   \n",
      "2  when it was first perceived  in early times  t...     13871      2323   \n",
      "3  friends and fellow citizens   called upon to u...     10144      1736   \n",
      "4  proceeding  fellow citizens  to that qualifica...     12902      2169   \n",
      "\n",
      "   avg_word_length  Counts_abiding  Counts_ability  ...  Counts_women  \\\n",
      "0         6.016760               0               0  ...             0   \n",
      "1         5.829630               0               0  ...             0   \n",
      "2         5.971158               0               0  ...             0   \n",
      "3         5.843318               0               0  ...             0   \n",
      "4         5.948363               0               0  ...             0   \n",
      "\n",
      "   Counts_words  Counts_work  Counts_wrong  Counts_year  Counts_years  \\\n",
      "0             0            0             0            0             1   \n",
      "1             0            0             0            0             0   \n",
      "2             0            0             0            2             3   \n",
      "3             0            1             2            0             0   \n",
      "4             0            0             0            2             2   \n",
      "\n",
      "   Counts_yet  Counts_you  Counts_young  Counts_your  \n",
      "0           0           5             0            9  \n",
      "1           0           0             0            1  \n",
      "2           0           0             0            1  \n",
      "3           2           7             0            7  \n",
      "4           2           4             0            4  \n",
      "\n",
      "[5 rows x 826 columns]\n"
     ]
    }
   ],
   "source": [
    "# Create a DataFrame with these features\n",
    "cv_df = pd.DataFrame(cv_array,columns=cv.get_feature_names()).add_prefix('Counts_')\n",
    "\n",
    "# Add the new columns to the original DataFrame\n",
    "speech_df_new = pd.concat([speech_df, cv_df], axis=1, sort=False)\n",
    "print(speech_df_new.head())"
   ]
  },
  {
   "cell_type": "markdown",
   "metadata": {},
   "source": [
    " # Tf-idf\n",
    "While counts of occurrences of words can be useful to build models, words that occur many times may skew the results undesirably. To limit these common words from overpowering your model a form of normalization can be used. In this lesson you will be using Term frequency-inverse document frequency (Tf-idf) as was discussed in the video. Tf-idf has the effect of reducing the value of common words, while increasing the weight of words that do not occur in many documents.\n",
    "\n",
    "-Import TfidfVectorizer from sklearn.feature_extraction.text. <br>\n",
    "-Instantiate TfidfVectorizer while limiting the number of features to 100 and removing English stop words.<br>\n",
    "-Fit and apply the vectorizer on text_clean column in one step.<br>\n",
    "-Create a DataFrame tv_df containing the weights of the words and the feature names as the column names."
   ]
  },
  {
   "cell_type": "code",
   "execution_count": 98,
   "metadata": {},
   "outputs": [
    {
     "name": "stdout",
     "output_type": "stream",
     "text": [
      "   TFIDF_action  TFIDF_administration  TFIDF_america  TFIDF_american  \\\n",
      "0      0.000000              0.133415       0.000000        0.105388   \n",
      "1      0.000000              0.261016       0.266097        0.000000   \n",
      "2      0.000000              0.092436       0.157058        0.073018   \n",
      "3      0.000000              0.092693       0.000000        0.000000   \n",
      "4      0.041334              0.039761       0.000000        0.031408   \n",
      "\n",
      "   TFIDF_americans  TFIDF_believe  TFIDF_best  TFIDF_better  TFIDF_change  \\\n",
      "0              0.0       0.000000    0.000000      0.000000      0.000000   \n",
      "1              0.0       0.000000    0.000000      0.000000      0.000000   \n",
      "2              0.0       0.000000    0.026112      0.060460      0.000000   \n",
      "3              0.0       0.090942    0.117831      0.045471      0.053335   \n",
      "4              0.0       0.000000    0.067393      0.039011      0.091514   \n",
      "\n",
      "   TFIDF_citizens  ...  TFIDF_things  TFIDF_time  TFIDF_today  TFIDF_union  \\\n",
      "0        0.229644  ...      0.000000    0.045929          0.0     0.136012   \n",
      "1        0.179712  ...      0.000000    0.000000          0.0     0.000000   \n",
      "2        0.106072  ...      0.032030    0.021214          0.0     0.062823   \n",
      "3        0.223369  ...      0.048179    0.000000          0.0     0.094497   \n",
      "4        0.273760  ...      0.082667    0.164256          0.0     0.121605   \n",
      "\n",
      "   TFIDF_united  TFIDF_war  TFIDF_way  TFIDF_work  TFIDF_world  TFIDF_years  \n",
      "0      0.203593   0.000000   0.060755    0.000000     0.045929     0.052694  \n",
      "1      0.199157   0.000000   0.000000    0.000000     0.000000     0.000000  \n",
      "2      0.070529   0.024339   0.000000    0.000000     0.063643     0.073018  \n",
      "3      0.000000   0.036610   0.000000    0.039277     0.095729     0.000000  \n",
      "4      0.030338   0.094225   0.000000    0.000000     0.054752     0.062817  \n",
      "\n",
      "[5 rows x 100 columns]\n"
     ]
    }
   ],
   "source": [
    "# Import TfidfVectorizer\n",
    "from sklearn.feature_extraction.text import TfidfVectorizer\n",
    "\n",
    "# Instantiate TfidfVectorizer\n",
    "tv = TfidfVectorizer(max_features=100, stop_words='english')\n",
    "\n",
    "# Fit the vectroizer and transform the data\n",
    "tv_transformed = tv.fit_transform(speech_df['text_clean'])\n",
    "\n",
    "# Create a DataFrame with these features\n",
    "tv_df = pd.DataFrame(tv_transformed.toarray(),columns=tv.get_feature_names()).add_prefix('TFIDF_')\n",
    "print(tv_df.head())"
   ]
  },
  {
   "cell_type": "markdown",
   "metadata": {},
   "source": [
    "# Inspecting Tf-idf values\n",
    "After creating Tf-idf features you will often want to understand what are the most highest scored words for each corpus. This can be achieved by isolating the row you want to examine and then sorting the the scores from high to low.\n",
    "\n",
    "The DataFrame from the last exercise (tv_df) is available in your workspace.\n",
    "\n",
    "Assign the first row of tv_df to sample_row.\n",
    "sample_row is now a series of weights assigned to words. Sort these values to print the top 5 highest-rated words."
   ]
  },
  {
   "cell_type": "code",
   "execution_count": 99,
   "metadata": {},
   "outputs": [
    {
     "name": "stdout",
     "output_type": "stream",
     "text": [
      "TFIDF_government    0.367430\n",
      "TFIDF_public        0.333237\n",
      "TFIDF_present       0.315182\n",
      "TFIDF_duty          0.238637\n",
      "TFIDF_citizens      0.229644\n",
      "Name: 0, dtype: float64\n"
     ]
    }
   ],
   "source": [
    "# Isolate the row to be examined\n",
    "sample_row = tv_df.iloc[0]\n",
    "\n",
    "# Print the top 5 words of the sorted output\n",
    "print(sample_row.sort_values(ascending=False).head())"
   ]
  },
  {
   "cell_type": "markdown",
   "metadata": {},
   "source": [
    "# Transforming unseen data\n",
    "When creating vectors from text, any transformations that you perform before training a machine learning model, you also need to apply on the new unseen (test) data. To achieve this follow the same approach from the last chapter: fit the vectorizer only on the training data, and apply it to the test data.\n",
    "\n",
    "For this exercise the speech_df DataFrame has been split in two:\n",
    "\n",
    "train_speech_df: The training set consisting of the first 45 speeches.\n",
    "test_speech_df: The test set consisting of the remaining speeches.\n",
    "\n",
    "-Instantiate TfidfVectorizer. <br>\n",
    "-Fit the vectorizer and apply it to the text_clean column.<br>\n",
    "-Apply the same vectorizer on the text_clean column of the test data.<br>\n",
    "-Create a DataFrame of these new features from the test set."
   ]
  },
  {
   "cell_type": "code",
   "execution_count": 101,
   "metadata": {},
   "outputs": [
    {
     "data": {
      "text/html": [
       "<div>\n",
       "<style scoped>\n",
       "    .dataframe tbody tr th:only-of-type {\n",
       "        vertical-align: middle;\n",
       "    }\n",
       "\n",
       "    .dataframe tbody tr th {\n",
       "        vertical-align: top;\n",
       "    }\n",
       "\n",
       "    .dataframe thead th {\n",
       "        text-align: right;\n",
       "    }\n",
       "</style>\n",
       "<table border=\"1\" class=\"dataframe\">\n",
       "  <thead>\n",
       "    <tr style=\"text-align: right;\">\n",
       "      <th></th>\n",
       "      <th>ConvertedSalary</th>\n",
       "      <th>StackOverflowJobsRecommend</th>\n",
       "      <th>Age</th>\n",
       "      <th>Years Experience</th>\n",
       "      <th>ConvertedSalary_LG</th>\n",
       "      <th>Age_ss</th>\n",
       "    </tr>\n",
       "  </thead>\n",
       "  <tbody>\n",
       "    <tr>\n",
       "      <th>508</th>\n",
       "      <td>48828.0</td>\n",
       "      <td>10.0</td>\n",
       "      <td>22</td>\n",
       "      <td>3</td>\n",
       "      <td>-0.005135</td>\n",
       "      <td>-1.869668</td>\n",
       "    </tr>\n",
       "    <tr>\n",
       "      <th>738</th>\n",
       "      <td>NaN</td>\n",
       "      <td>7.0</td>\n",
       "      <td>54</td>\n",
       "      <td>4</td>\n",
       "      <td>NaN</td>\n",
       "      <td>0.687143</td>\n",
       "    </tr>\n",
       "    <tr>\n",
       "      <th>331</th>\n",
       "      <td>NaN</td>\n",
       "      <td>NaN</td>\n",
       "      <td>35</td>\n",
       "      <td>7</td>\n",
       "      <td>NaN</td>\n",
       "      <td>-0.830964</td>\n",
       "    </tr>\n",
       "    <tr>\n",
       "      <th>832</th>\n",
       "      <td>NaN</td>\n",
       "      <td>NaN</td>\n",
       "      <td>34</td>\n",
       "      <td>12</td>\n",
       "      <td>NaN</td>\n",
       "      <td>-0.910864</td>\n",
       "    </tr>\n",
       "    <tr>\n",
       "      <th>77</th>\n",
       "      <td>NaN</td>\n",
       "      <td>NaN</td>\n",
       "      <td>25</td>\n",
       "      <td>6</td>\n",
       "      <td>NaN</td>\n",
       "      <td>-1.629967</td>\n",
       "    </tr>\n",
       "  </tbody>\n",
       "</table>\n",
       "</div>"
      ],
      "text/plain": [
       "     ConvertedSalary  StackOverflowJobsRecommend  Age  Years Experience  \\\n",
       "508          48828.0                        10.0   22                 3   \n",
       "738              NaN                         7.0   54                 4   \n",
       "331              NaN                         NaN   35                 7   \n",
       "832              NaN                         NaN   34                12   \n",
       "77               NaN                         NaN   25                 6   \n",
       "\n",
       "     ConvertedSalary_LG    Age_ss  \n",
       "508           -0.005135 -1.869668  \n",
       "738                 NaN  0.687143  \n",
       "331                 NaN -0.830964  \n",
       "832                 NaN -0.910864  \n",
       "77                  NaN -1.629967  "
      ]
     },
     "execution_count": 101,
     "metadata": {},
     "output_type": "execute_result"
    }
   ],
   "source": [
    "from sklearn.model_selection import train_test_split\n",
    "\n",
    "test_speech_df, train_speech_df = train_test_split(speech_df, train_size=5, test_size=5)\n",
    "test_numeric"
   ]
  },
  {
   "cell_type": "code",
   "execution_count": 102,
   "metadata": {},
   "outputs": [
    {
     "name": "stdout",
     "output_type": "stream",
     "text": [
      "   TFIDF_administration  TFIDF_amendment  TFIDF_america  TFIDF_american  \\\n",
      "0              0.109854              0.0       0.000000        0.000000   \n",
      "1              0.290026              0.0       0.290026        0.000000   \n",
      "2              0.000000              0.0       0.000000        0.049098   \n",
      "3              0.084350              0.0       0.028117        0.046679   \n",
      "4              0.114932              0.0       0.000000        0.000000   \n",
      "\n",
      "   TFIDF_army  TFIDF_business  TFIDF_canal  TFIDF_cause  TFIDF_change  \\\n",
      "0    0.045387        0.000000          0.0          0.0      0.000000   \n",
      "1    0.000000        0.000000          0.0          0.0      0.000000   \n",
      "2    0.146624        0.073312          0.0          0.0      0.000000   \n",
      "3    0.000000        0.000000          0.0          0.0      0.000000   \n",
      "4    0.000000        0.000000          0.0          0.0      0.057466   \n",
      "\n",
      "   TFIDF_citizens  ...  TFIDF_success  TFIDF_tariff  TFIDF_time  TFIDF_trade  \\\n",
      "0        0.051141  ...       0.051141      0.000000    0.127852     0.000000   \n",
      "1        0.202525  ...       0.000000      0.000000    0.000000     0.000000   \n",
      "2        0.041303  ...       0.041303      0.000000    0.206513     0.219936   \n",
      "3        0.137436  ...       0.000000      0.069699    0.117802     0.139399   \n",
      "4        0.280899  ...       0.000000      0.000000    0.000000     0.000000   \n",
      "\n",
      "   TFIDF_united  TFIDF_way  TFIDF_wish  TFIDF_work  TFIDF_world  TFIDF_years  \n",
      "0      0.051141   0.000000    0.000000    0.036618     0.021627     0.182378  \n",
      "1      0.202525   0.000000    0.000000    0.000000     0.000000     0.000000  \n",
      "2      0.082605   0.098196    0.000000    0.177443     0.209601     0.049098  \n",
      "3      0.157070   0.046679    0.000000    0.028117     0.049818     0.046679  \n",
      "4      0.000000   0.000000    0.057466    0.057466     0.101821     0.000000  \n",
      "\n",
      "[5 rows x 100 columns]\n"
     ]
    }
   ],
   "source": [
    "# Instantiate TfidfVectorizer\n",
    "tv = TfidfVectorizer(max_features=100, stop_words='english')\n",
    "\n",
    "# Fit the vectroizer and transform the data\n",
    "tv_transformed = tv.fit_transform(train_speech_df['text_clean'])\n",
    "\n",
    "# Transform test data\n",
    "test_tv_transformed = tv.transform(test_speech_df['text_clean'])\n",
    "\n",
    "# Create new features for the test set\n",
    "test_tv_df = pd.DataFrame(test_tv_transformed.toarray(), \n",
    "                          columns=tv.get_feature_names()).add_prefix('TFIDF_')\n",
    "print(test_tv_df.head())"
   ]
  },
  {
   "cell_type": "markdown",
   "metadata": {},
   "source": [
    "# Using longer n-grams\n",
    "So far you have created features based on individual words in each of the texts. This can be quite powerful when used in a machine learning model but you may be concerned that by looking at words individually a lot of the context is being ignored. To deal with this when creating models you can use n-grams which are sequence of n words grouped together. For example:\n",
    "\n",
    "bigrams: Sequences of two consecutive words\n",
    "trigrams: Sequences of two consecutive words\n",
    "These can be automatically created in your dataset by specifying the ngram_range argument as a tuple (n1, n2) where all n-grams in the n1 to n2 range are included.\n",
    "\n",
    "-Import CountVectorizer from sklearn.feature_extraction.text. <br>\n",
    "-Instantiate CountVectorizer while considering only trigrams.<br>\n",
    "-Fit the vectorizer and apply it to the text_clean column in one step.<br>\n",
    "-Print the feature names generated by the vectorizer.\n"
   ]
  },
  {
   "cell_type": "code",
   "execution_count": 103,
   "metadata": {},
   "outputs": [
    {
     "name": "stdout",
     "output_type": "stream",
     "text": [
      "['ability preserve protect', 'agriculture commerce manufactures', 'america ideal freedom', 'amity mutual concession', 'anchor peace home', 'ask bow heads', 'best ability preserve', 'best interests country', 'bless god bless', 'bless united states', 'chief justice mr', 'children children children', 'citizens united states', 'civil religious liberty', 'civil service reform', 'commerce united states', 'confidence fellow citizens', 'congress extraordinary session', 'constitution does expressly', 'constitution united states', 'coordinate branches government', 'day task people', 'defend constitution united', 'distinction powers granted', 'distinguished guests fellow', 'does expressly say', 'equal exact justice', 'era good feeling', 'executive branch government', 'faithfully execute office', 'fellow citizens assembled', 'fellow citizens called', 'fellow citizens large', 'fellow citizens world', 'form perfect union', 'general welfare secure', 'god bless america', 'god bless god', 'good greatest number', 'government peace war', 'government united states', 'granted federal government', 'great body people', 'great political parties', 'greatest good greatest', 'guests fellow citizens', 'invasion wars powers', 'land new promise', 'laws faithfully executed', 'letter spirit constitution', 'liberty pursuit happiness', 'life liberty pursuit', 'local self government', 'make hard choices', 'men women children', 'mr chief justice', 'mr majority leader', 'mr president vice', 'mr speaker mr', 'mr vice president', 'nation like person', 'new breeze blowing', 'new states admitted', 'north south east', 'oath prescribed constitution', 'office president united', 'passed generation generation', 'peace shall strive', 'people united states', 'physical moral political', 'policy united states', 'power general government', 'preservation general government', 'preservation sacred liberty', 'preserve protect defend', 'president united states', 'president vice president', 'promote general welfare', 'proof confidence fellow', 'protect defend constitution', 'protection great interests', 'reform civil service', 'reserved states people', 'respect individual human', 'right self government', 'secure blessings liberty', 'south east west', 'sovereignty general government', 'states admitted union', 'territories united states', 'thank god bless', 'turning away old', 'united states america', 'united states best', 'united states government', 'united states great', 'united states maintain', 'united states territory', 'vice president mr', 'welfare secure blessings']\n"
     ]
    }
   ],
   "source": [
    "# Import CountVectorizer\n",
    "from sklearn.feature_extraction.text import CountVectorizer\n",
    "\n",
    "# Instantiate a trigram vectorizer\n",
    "cv_trigram_vec = CountVectorizer(max_features=100, \n",
    "                                 stop_words='english', \n",
    "                                 ngram_range = (3,3))\n",
    "\n",
    "# Fit and apply trigram vectorizer\n",
    "cv_trigram = cv_trigram_vec.fit_transform(speech_df['text_clean'])\n",
    "\n",
    "# Print the trigram features\n",
    "print(cv_trigram_vec.get_feature_names())"
   ]
  },
  {
   "cell_type": "markdown",
   "metadata": {},
   "source": [
    "# Finding the most common words\n",
    "Its always advisable once you have created your features to inspect them to ensure that they are as you would expect. This will allow you to catch errors early, and perhaps influence what further feature engineering you will need to do.\n",
    "\n",
    "The vectorizer (cv) you fit in the last exercise and the sparse array consisting of word counts (cv_trigram) is available in your workspace.\n",
    "\n",
    "-Create a DataFrame of the features (word counts). <br>\n",
    "-Add the counts of word occurrences and print the top 5 most occurring words."
   ]
  },
  {
   "cell_type": "code",
   "execution_count": 104,
   "metadata": {},
   "outputs": [
    {
     "name": "stdout",
     "output_type": "stream",
     "text": [
      "Counts_constitution united states    20\n",
      "Counts_people united states          13\n",
      "Counts_preserve protect defend       10\n",
      "Counts_mr chief justice              10\n",
      "Counts_president united states        8\n",
      "dtype: int64\n"
     ]
    }
   ],
   "source": [
    "# Create a DataFrame of the features\n",
    "cv_tri_df = pd.DataFrame(cv_trigram.toarray(), columns=cv_trigram_vec.get_feature_names()).add_prefix('Counts_')\n",
    "\n",
    "# Print the top 5 words in the sorted output\n",
    "print(cv_tri_df.sum().sort_values(ascending=False).head())"
   ]
  },
  {
   "cell_type": "code",
   "execution_count": null,
   "metadata": {},
   "outputs": [],
   "source": []
  }
 ],
 "metadata": {
  "kernelspec": {
   "display_name": "Python 3",
   "language": "python",
   "name": "python3"
  },
  "language_info": {
   "codemirror_mode": {
    "name": "ipython",
    "version": 3
   },
   "file_extension": ".py",
   "mimetype": "text/x-python",
   "name": "python",
   "nbconvert_exporter": "python",
   "pygments_lexer": "ipython3",
   "version": "3.7.7"
  }
 },
 "nbformat": 4,
 "nbformat_minor": 4
}

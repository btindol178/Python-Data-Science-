{
 "cells": [
  {
   "cell_type": "markdown",
   "metadata": {},
   "source": [
    "# NLP "
   ]
  },
  {
   "cell_type": "code",
   "execution_count": 1,
   "metadata": {},
   "outputs": [],
   "source": [
    "my_string = \"Let's write RegEx!  Won't that be fun?  I sure think so.  Can you find 4 sentences?  Or perhaps, all 19 words?\""
   ]
  },
  {
   "cell_type": "code",
   "execution_count": 2,
   "metadata": {},
   "outputs": [],
   "source": [
    "import re # importing regular expression"
   ]
  },
  {
   "cell_type": "markdown",
   "metadata": {},
   "source": [
    "# Regular expressions: re.split() and re.findall()"
   ]
  },
  {
   "cell_type": "code",
   "execution_count": 3,
   "metadata": {},
   "outputs": [
    {
     "name": "stdout",
     "output_type": "stream",
     "text": [
      "[\"Let's write RegEx\", \"  Won't that be fun\", '  I sure think so', '  Can you find 4 sentences', '  Or perhaps, all 19 words', '']\n"
     ]
    }
   ],
   "source": [
    "# Write a pattern to match sentence endings: sentence_endings\n",
    "sentence_endings = r\"[.?!]\"\n",
    "\n",
    "# Split my_string on sentence endings and print the result\n",
    "print(re.split(sentence_endings, my_string))\n"
   ]
  },
  {
   "cell_type": "code",
   "execution_count": 4,
   "metadata": {},
   "outputs": [
    {
     "name": "stdout",
     "output_type": "stream",
     "text": [
      "['Let', 'RegEx', 'Won', 'Can', 'Or']\n"
     ]
    }
   ],
   "source": [
    "# Find all capitalized words in my_string and print the result\n",
    "capitalized_words = r\"[A-Z]\\w+\"\n",
    "print(re.findall(capitalized_words, my_string))"
   ]
  },
  {
   "cell_type": "code",
   "execution_count": 5,
   "metadata": {},
   "outputs": [
    {
     "name": "stdout",
     "output_type": "stream",
     "text": [
      "[\"Let's\", 'write', 'RegEx!', \"Won't\", 'that', 'be', 'fun?', 'I', 'sure', 'think', 'so.', 'Can', 'you', 'find', '4', 'sentences?', 'Or', 'perhaps,', 'all', '19', 'words?']\n"
     ]
    }
   ],
   "source": [
    "# Split my_string on spaces and print the result\n",
    "spaces = r\"\\s+\"\n",
    "print(re.split(spaces, my_string))"
   ]
  },
  {
   "cell_type": "code",
   "execution_count": 6,
   "metadata": {},
   "outputs": [
    {
     "name": "stdout",
     "output_type": "stream",
     "text": [
      "['4', '19']\n"
     ]
    }
   ],
   "source": [
    "# Find all digits in my_string and print the result\n",
    "digits = r\"\\d+\"\n",
    "print(re.findall(digits, my_string))"
   ]
  },
  {
   "cell_type": "markdown",
   "metadata": {},
   "source": [
    "# Tokenization\n",
    "Making string or document into smaller chunks\n",
    "things like breaking out words or sentences or splitting by punctuation"
   ]
  },
  {
   "cell_type": "code",
   "execution_count": 37,
   "metadata": {},
   "outputs": [],
   "source": [
    "import pandas as pd\n",
    "scene_one = pd.read_csv(\"movie2.csv\")\n",
    "\n",
    "scene_one = pd.Series(scene_one.values.flatten())\n",
    "scene_one=scene_one.str.cat(sep=' ')\n"
   ]
  },
  {
   "cell_type": "markdown",
   "metadata": {},
   "source": [
    "# Word tokenization with NLTK\n",
    "Import the sent_tokenize and word_tokenize functions from nltk.tokenize. <br>\n",
    "Tokenize all the sentences in scene_one using the sent_tokenize() function.<br>\n",
    "Tokenize the fourth sentence in sentences, which you can access as sentences[3], using the word_tokenize() function.<br>\n",
    "Find the unique tokens in the entire scene by using word_tokenize() on scene_one and then converting it into a set using set().<br>\n",
    "Print the unique tokens found. This has been done for you, so hit 'Submit Answer' to see the results!"
   ]
  },
  {
   "cell_type": "code",
   "execution_count": 35,
   "metadata": {},
   "outputs": [
    {
     "name": "stdout",
     "output_type": "stream",
     "text": [
      "{'simple', 'daft', 'color', 'Open', 'allowed', 'They', 'together', 'Tell', 'liar', 'girl', 'pweeng', 'terrible', 'able', 'yelling', 'Churches', \"'Man\", 'impersonate', 'triumphs', 'upon', 'quest', 'Great', 'Haw', 'Let', 'examine', 'fire', 'God', 'GUARD', 'kingdom', 'having', 'can', 'Is', 'idiom', 'sorry', 'Aaaaaaaaah', 'Bors', 'fruit', 'No', 'Father', 'emperor', 'blow', 'the-not-quite-so-brave-as-Sir-Lancelot', 'aaaaaah', 'general', 'African', 'accompanied', 'travellers', 'ninepence', 'Grenade', 'throat', 'looking', 'DIRECTOR', 'own', 'Found', 'throughout', 'ferocity', 'line', 'help', 'window-dresser', 'eh', 'Three', 'Heee', 'just', 'Dingo', 'Pie', 'fooling', 'eet', 'valleys', 'radio', 'o', 'advancing', 'sad', ')', 'pack', 'would', 'inferior', 'Clear', 'GOD', 'smashed', 'bring', 'Pure', 'sixteen', \"'anging\", 'attack', 'keen', 'Psalms', 'plan', 'howl', 'chanting', 'entering', 'committed', 'Beast', 'handsome', 'spirit', 'its', 'signifying', 'doctors', 'Eh', 'buggered', 'decision', 'frontal', 'Ooh', 'strength', 'rejoicing', 'Could', 'brave', 'Consult', 'course', \"'Course\", 'routines', 'MAYNARD', 'two', 'cost', 'Prince', 'birds', 'then', 'crone', 'You', 'Blue', 'GUESTS', 'bed-wetting', 'CONCORDE', 'baby', 'behaviour', 'flesh', 'snows', 'hamster', \"'Ere\", 'STUNNER', 'bowels', 'therefore', 'pounds', 'forty-three', 'scene', 'take', 'Ives', 'progress', 'haste', 'Wayy', 'getting', 'economic', '#', 'miss', 'apart', 'training', 'my', 'Winston', 'averting', 'war', 'unladen', 'basis', 'nice-a', 'Lucky', 'Order', 'saved', 'Dennis', 'ask', 'helpful', 'bold', 'Divine', 'ruffians', 'strewn', 'majority', 'totally', 'strongest', 'glad', 'parts', 'number', 'um', 'conclusion', 'fold', 'Aauuggghhh', 'Thy', 'CROWD', 'Thppppt', 'bother', '22', 'anyone', 'None', 'mistake', 'draw', 'woman', 'bits', 'sovereign', 'giggle', 'PARTY', 'design', 'Whoa', 'comin', \"'til\", 'seek', 'beds', 'mine', 'biscuits', 'tragic', 'thud', '13', 'Yapping', 'clang', 'Away', 'Roger', 'squeak', 'prevent', 'SENTRY', 'kind', 'killer', 'three', 'Hooray', 'scholar', 'worried', 'Castle', 'guarded', 'surprise', 'biggest', 'alive', 'coconuts', 'Between', 'late', 'huge', 'pointy', 'Arimathea', 'traveller', 'ptoo', 'Ulk', 'to', 'expect', 'Two', 'gave', 'LOVELY', 'eyes', 'like', 'Camaaaaaargue', 'On', 'disheartened', 'Aramaic', 'words', 'He', 'Say', 'lying', 'dunno', 'again', 'question', 'witch', 'cheesy', '18', 'note', 'repressing', 'test', 'sense', 'Hiyah', 'tear', 'auntie', 'aunties', 'sacrifice', 'fly', 'praised', 'kicked', 'Autumn', 'evil', \"'Til\", 'awfully', 'Enchanter', 'keepers', 'Which', 'retreat', 'temperate', 'country', 'woosh', 'indeed', 'certainly', 'Thou', 'call', 'England', 'night', \"'Dennis\", 'twong', 'zone', '17', 'To', 'come', 'ALL', 'A', 'strand', 'kick', 'gravy', 'Oooh', 'understanding', 'CRONE', 'well', 'singing', 'Guy', 'ounce', 'work', 'approaching', 'anarcho-syndicalist', 'Rather', 'watch', 'creak', 'need', 'Stay', 'ARMY', 'Eternal', 'flint', 'taunting', 'husk', 'Bridge', 'fifty', 'forth', 'Really', 'arrange', 'Quiet', 'Never', 'daring', 'worst', 'fight', 'push', 'direction', 'Angnor', 'avenged', 'Bon', \"'Ni\", 'smashing', \"C'est\", 'Jesus', 'commune', 'rich', 'vote', 'Tall', 'OLD', 'Action', 'undressing', 'bridge', 'tale', 'no', 'Good', 'DEAD', 'tonight', 'Providence', 'Looks', 'third', 'lad', 'Aaaaaah', 'show', 'humble', 'At', 'thing', 'wicked', 'European', 'doing', 'Aggh', 'time', 'tropical', 'Oooo', 'gay', 'auuuuuuuugh', 'effect', 'Look', 'Forgive', 'Come', 'blondes', 'proved', 'Prepare', 'settles', 'Thpppppt', 'frighten', 'soft', 'islands', 'anything', 'trusty', 'say', 'knock', 'mandate', 'Schools', 'Today', 'worked', 'large', 'once', 'yet', 'Victory', 'strangers', 'really', 'mac', 'SIR', 'PRINCE', 'burst', 'given', 'indefatigable', 'chickened', 'lot', 'Shrubberies', 'required', 'today', 'Pendragon', 'protect', 'persons', 'horse', 'formidable', 'lobbest', 'dynamite', 'Lie', 'hospital', 'Huh', 'broken', 'Then', 'dub', 'Have', 'starling', 'pram', 'considerable', 'tit', 'Well', 'long', 'k-nnniggets', 'de', 'Mercea', 'Arthur', 'working', 'domine', 'year', 'person', 'mile', 'footwork', 'Message', 'hopeless', 'Hey', 'dressed', 'Shrubber', 'Gorge', '24', 'autocracy', 'King', 'verses', 'try', 'sharp', 'happy', 'minstrels', 'arm', 'Said', 'Cornwall', 'electric', 'shimmering', 'thanks', 'strategy', 'Uugh', 'roar', 'back', 'bunny', 'affairs', 'pimples', 'basic', 'Cherries', 'round', \"'\", 'depressing', 'ARTHUR', 'Not', 'SUN', 'siren', 'Hill', 'gentle', 'Actually', 'Princess', 'performance', 'expensive', 'flight', 'present', 'argue', 'fart', \"'Oooooooh\", 'than', 'Yeah', 'middle', 'Why', 'Quickly', 'tinder', 'wise', 'Cider', 'Anthrax', 'tail', 'lord', 'longer', 'Hic', 'whether', 'i', 'feet', 'influential', 'made', 'good', 'LAUNCELOT', 'SHRUBBER', 'Build', 'What', 'second', 'daughter', 'ridden', 'ride', 'adversary', 'lonely', 'GUEST', 'kneecaps', 'sacred', 'anywhere', 'limbs', 'ungallant', 'or', 'ethereal', 'guard', 'supposed', 'said', 'drilllll', 'jump', 'case', 'five', 'which', 'folk', 'stab', 'sent', 'whop', 'order', 'g', 'Armaments', 'command', 'diaphragm', \"'old\", 'history', 'types-a', 'trade', 'animal', 'bird', 'everyone', 'Caerbannog', 'courage', 'very', 'relax', '1', 'guests', 'blood', 'confuse', 'sing', 'tart', 'Thpppt', 'resting', 'sir', 'sank', 'For', 'Ahh', 'move', 'French', 'wart', 'noise', 'oral', 'PRINCESS', 'lobbed', 'Here', 'Does', 'could', 'Fiends', 'the', 'Man', 'wo', 'armed', 'Thee', 'PATSY', 'trouble', 'stayed', 'Must', 'SCENE', 'life', 'Try', 'Ohh', 'room', 'find', 'shows', 'Anybody', \"'round\", 'horrendous', 'people', 'classes', 'entrance', 'agree', 'dress', 'sonny', 'forest', 'town', 'My', 'brought', 'put', 'bleeder', 'lose', 'properly', 'quick', 'clue', 'may', 'knees-bent', 'bones', 'where', 'ignore', 'shut', 'found', 'minutes', 'makes', 'tiny-brained', 'ever', 'setting', 'Knight', 'Use', 'twin', 'old', 'chops', 'burned', 'mumble', 'Throw', 'CART-MASTER', 'sample', 'Surely', 'friend', 'k-nnnnniggets', 'Perhaps', 'pay', 'force', 'weapon', 'streak', 'and', 'bum', 'heard', 'forced', 'er', 'attend', \"'ve\", 'Piglet', 'beyond', 'ye', 'Ay', 'up', 'home', 'W', 'dona', 'ham', 'sequin', 'but', 'Yeaah', 'went', \"'aaggggh\", 'INSPECTOR', 'non-migratory', 'nothing', 'Behold', 'idea', 'snap', 'Follow', 'maybe', 'MIDDLE', 'Everything', 'their', 'carp', 'vests', 'them', 'dare', 'nineteen-and-a-half', 'leap', 'wounding', 'dictating', 'bid', 'Pin', 'Neee-wom', 'questions', 'too', 'Herbert', 'same', 'counting', 'hat', 'answers', 'stay', 'felt', 'wind', 'beat', 'grin', 'treat', 'centuries', 'enough', 'hello', 'This', 'empty', 'creeper', 'WINSTON', 'Battle', 'impeccable', 'waste', 'Chop', 'bottoms', 'easy', 'cave', 'Umhm', 'suspenseful', 'buggering', 'Quite', 'knights', 'told', 'search', 'Dappy', 'blanket', 'turned', 'nose', 'pansy', 'Shut', 'Apples', 'sell', 'scrape', 'sheep', 'dark', 'summon', '2', 'uh', 'hall', 'horn', 'intermission', 'enjoying', 'guest', 'right', 'duck', 'aptly', 'liege', 'banana-shaped', 'single-handed', 'pound', 'music', 'Mine', 'Ha', \"'forgive\", 'bastards', 'crying', 'band', 'Ayy', 'Tim', 'Hee', 'RIGHT', 'off', 'y', 'pray', 'get', 'Guards', 'Oh', 'name', 'Bedwere', 'Get', 'mayest', 'sworn', 'stuffed', 'brain', 'repressed', 'ai', 'know', 'preserving', 'young', 'scratch', 'mooo', 'outdated', 'tap-dancing', 'bad-tempered', 'Very', 'tie', 'named', 'another', 'reached', 'Fine', 'hee', 'Court', 'GIRLS', 'problem', 'Seek', \"'Morning\", 'such', 'BEDEVERE', 'lunged', 'absolutely', 'wings', 'vache', 'kills', 'feel', 'have', 'OTHER', 'boys', 'Riiight', 'manner', 'speak', 'plover', 'moistened', 'leads', 'haw', 'go', '11', 'live', 'they', 'gon', 'Hoa', 'Allo', 'tracts', 'RANDOM', 'doubt', 'ZOOT', 'bad', 'our', 'vain', 'unsingable', 'passed', '20', 'bit', 'grip', \"'aaaah\", 'couple', 'separate', 'varletesses', 'bats', 'full', 'Aaaugh', 'Erm', 'language', 'bottom', 'shrubberies', 'Almighty', 'Nay', 'earth', 'owns', 'suppose', 'nostrils', 'Oui', 'social', 'system', 'suggesting', 'grenade', 'side', 'aloft', 'air-speed', 'count', 'Together', 'VILLAGERS', 'temptation', 'slightly', 'holy', 'sink', 'died', 'always', 'cruel', 'swamp', 'song', 'chickening', 'beautiful', 'someone', 'used', 'arrows', 'purest', 'soiled', 'face', 'Picture', 'score', ':', 'ere', 'With', 'meant', 'making', \"'em\", 'Grail', 'autonomous', 'Charge', 'offensive', 'Running', 'let', 'Chicken', 'beside', 'Summer', 'Attila', 'oo', 'HEAD', 'MIDGET', 'DENNIS', 'terribly', 'wrong', 'donaeis', 'house', 'whispering', 'Steady', 'scott', 'naughty', 'deal', 'swallow', 'headoff', 'cough', 'pig-dogs', 'plain', 'bravest', 'Iesu', \"'ni\", 'etc', 'real', 'minute', 'killed', 'BROTHER', 'sex', 'into', 'logically', 'Monsieur', 'particular', 'crossed', 'gouged', 'tackle', 'rather', 'continue', 'bladders', 'time-a', 'burn', 'son', 'warmer', 'English', 'penalty', 'pond', 'brush', 'wound', 'whom', 'yours', 'CRASH', 'completely', 'drink', 'Wood', 'Umm', 'flights', 'wiper', \"'Here\", 'bi-weekly', 'welcome', 'uhh', 'CHARACTERS', 'chu', 's', 'heroic', 'executive', 'headed', 'ehh', 'eat', \"'cause\", \"'is\", 'dressing', 'door', 'Hallo', 'string', 'knows', 'cart', 'charged', 'witness', 'taking', 'hospitality', 'sort', 'honored', 'leg', 'Idiom', 'Shall', 'Four', 'haaa', 'successful', 'certain', 'other', 'asking', 'art', \"'s\", 'grips', 'Sorry', 'ready', 'WITCH', 'send', 'Ninepence', 'Huyah', 'sloths', 'HEADS', 'uuggggggh', 'die', 'Now', 'Uhh', 'delirious', 'Huy', 'been', 'Aaaaugh', 'smelt', 'va.', 'Brave', 'bloody', 'convinced', \"'S\", 'outdoors', 'git', 'although', 'In', 'king', 'main', 'death', 'object', 'Supreme', 'largest', 'remembered', 'Ho', 'liver', 'Until', '?', 'wood', 'maintain', 'task', 'shivering', 'Recently', 'silence', 'walking', ';', 'most', 'more', 'Round', 'sire', 'any', 'suddenly', 'lives', 'Joseph', 'Thursday', 'bosom', 'creep', 'fatal', 'throwing', 'mortally', 'pause', '4', 'tired', 'proceed', 'imprisoned', 'breakfast', '14', 'CARTOON', 'stretched', 'wield', 'class', 'freedom', 'Please', 'approacheth', 'be', 'samite', 'heads', 'fourth', 'Honestly', 'warned', 'Assyria', 'Bedevere', 'that', 'problems', 'Aagh', 'twenty', 'climes', 'quack', 'what', 'out-clever', 'business', 'dramatic', '19', 'hills', 'Tale', 'yel', 'interested', \"e'er\", 'easily', 'sneaking', 'Hmm', 'bois', 'Farewell', 'masses', 'we', 'Peng', 'p', 'hang', 'fled', 'needs', 'wooden', 'When', 'accent', 'Ages', 'ugly', 'saying', 'started', 'Galahad', 'internal', 'She', 'w', 'Far', 'Thsss', 'ways', 'clap', 'pen', 'self-perpetuating', 'feathers', 'because', 'Greetings', 'see', 'Welcome', \"'m\", 'So', '15', 'badger', 'Firstly', 'writing', 'oh', 'thank', 'enemies', 'conclusions', 'But', 'Ah', 'CUSTOMER', 'arms', 'cut', 'Bad', '--', 'earthquakes', 'Y', 'Thppt', 'One', 'GREEN', 'high', 'enter', 'she', 'reared', 'Nador', 'retold', 'hiyaah', 'Robin', 'Robinson', 'Zoot', 'dine', 'automatically', 'hear', 'sun', 'kneeling', 'Swamp', 'worse', 'elbows', 'warning', 'mer', 'became', 'regulations', 'His', 'Excuse', 'while', 'Lord', 'Hoo', 'actually', 'THE', 'chord', 'north', 'magne', 'eats', 'boom', 'water', 'anyway', 'Badon', 'sword', 'known', 'going', 'bicker', 'knocked', 'now', 'each', 'Alright', 'become', 'Where', 'leave', 'Table', 'Forward', 'violence', 'Keep', 'enchanter', 'la', 'for', 'join', 'Heh', 'major', 'sod', 'Augh', 'almost', 'Brother', 'medical', 'spanked', 'scenes', 'quite', 'suit', 'south', 'nice', 'Woa', '[', 'your', 'ju', 'Leaving', 'fallen', 'Chapter', 'finest', 'two-level', 'twenty-four', 'forward', 'seems', 'jokes', 'aquatic', 'hidden', 'cope', 'feint', 'witches', 'bugger-folk', 'deeds', 'Silly', 'power', 'forget', 'hoo', 'depart', 'covered', 'mayhem', 'am', 'visually', 'woods', 'a', 'I', 'guided', 'Holy', 'weight', 'An', 'bows', 'Hang', 'king-a', 'word', 'mooooooo', 'Antioch', 'peasant', 'lair', 'exploiting', 'point', 'Walk', 'whoever', 'stand', 'groveling', 'shelter', 'turns', 'sons', 'food', 'ordinary', 'those', 'shrubbery', 'says', 'against', 'vital', 'invincible', 'KING', 'HISTORIAN', 'Black', 'Anarcho-syndicalism', 'clack', 'lost', 'rabbit', 'should', 'model', 'nearer', 'sign', 'through', 'luck', 'Christ', \"'re\", 'never', 'last', 'if', 'silly', 'Would', 'Auuuuuuuugh', 'sigh', 'O', 'VILLAGER', 'wait', 'this', 'oui', 'Be', 'voluntarily', 'mangy', 'father', 'FATHER', 'things', 'perpetuates', 'hacked', 'nearly', 'Ask', 'inside', 'wan', 'BLACK', 'place', 'Too', 'B', 'towards', 'types', 'Winter', 'behold', 'north-east', 'riding', 'NARRATOR', 'away', 'is', 'requiem', 'discovered', 'Wait', 'pure', 'AMAZING', 'by', 'living', 'saw', 'set', 'vicious', 'hmm', 'martin', 'Cut', 'hell', 'farcical', 'act', 'thwonk', 'mother', 'suffice', 'formed', 'Or', \"'uuggggggh\", 'us', 'raised', 'safety', 'was', 'Aaauugh', 'clad', 'who', 'individually', 'four', 'telling', 'assist', 'around', 'There', 'ha', 'fwump', 'relics', 'Uuh', 'favor', 'Book', 'pussy', 'wide', 'Excalibur', 'kill', 'seemed', 'Launcelot', 'run', 'We', 'it', 'unarmed', 'man', 'distributing', 'icy', 'snore', 'Beyond', 'in', 'Of', \"'T\", 'scales', 'names', 'awaits', 'workers', 'understand', 'boil', 'GUARDS', 'as', 'acting', 'Yeaaah', 'fought', 'alarm', 'Most', 'Hiyya', 'asks', 'zoosh', 'please', 'has', 'door-opening', 'yeah', 'next', 'BORS', 'master', 'gurgle', 'medieval', 'eight', 'when', 'Unfortunately', 'pull', 'behind', 'dogma', '7', 'Over', 'angels', 'from', 'Those', 'animator', 'Hold', 'sweet', 'strange', 'migrate', 'chorus', 'bathing', 'Sir', 'between', 'union', 'there', 'Aaagh', 'day..', 'bite', 'ooh', 'had', 'Maynard', 'van', 'Packing', 'dictatorship', 'armor', 'Iiiiives', 'did', 'testicles', 'why', 'him', 'whose', 'Bread', 'sight', 'Mother', 'without', 'Fetchez', 'shit', 'gone', 'PIGLET', 'laurels', '3', 'beacon', 'week', 'along', 'does', 'Practice', 'unplugged', 'purely', 'suffered', 'danger', 'court', 'wounded', 'some', 'himself', 'WOMAN', 'Bristol', 'Since', 'tree', 'finds', 'length', 'DINGO', 'recover', 'Are', 'decided', 'closest', 'cast', 'about', '!', 'Who', 'Defeat', 'brunettes', 'are', 'MONKS', 'seem', 'wedlock', 'stop', 'VOICE', 'scimitar', 'dungeon', 'Saxons', 'Dis-mount', 'fortune', 'he', 'these', 'change', 'less', 'resumes', 'NI', 'pestilence', 'Hurry', \"'sorry\", 'Loimbard', '21', 'bless', 'supports', 'goes', 'Um', 'Waa', 'spooky', 'hast', 'knew', 'smack', 'thump', 'built', 'matter', 'give', 'If', 'pulp', 'society', \"'First\", 'leaps', 'swallows', '.', \"'ll\", 'rewr', 'Hello', 'threw', 'twang', 'still', 'head', 'compared', 'explain', 'Aaaaaaaah', 'Un', 'legally', 'thine', 'ponds', 'weather', 'wave', 'n', 'laughing', 'Chickennn', 'j', 'Ow', 'Lead', 'castanets', 'sister', 'spoken', 'ROGER', 'use', 'chastity', 'dance', '9', 'ill.', 'nervous', 'Torment', 'quiet', 'rodent', 'keeper', 'stood', 'government', 'stops', 'called', 'at', 'Bravely', 'aaugh', 'handle', 'bint', 'awaaay', 'clear', 'wishes', 'nobody', 'Aaah', 'way', 'excepting', 'Speak', 'land', 'somewhere', 'Our', 'hundred-and-fifty', '12', 'wherein', 'follow', 'dull', 'wants', 'Gallahad', 'See', 'imperialist', 'Lady', 'rocks', 'escape', 'stupid', 'OFFICER', 'lovely', 'mightiest', 'True', 'PRISONER', 'awhile', 'cross', 'Supposing', 'bond', 'not', 'bridges', 'down', 'alight', 'Hm', 'soon', 'feast', 'illegitimate-faced', 'on', 'baaaa', 'marrying', 'Meanwhile', 'better', 'keep', 'times', 'scots', 'stone', 'how', 'Dragon', 'carving', 'cartoon', 'many', 'shalt', 'clllank', 'U', 'dorsal', 'thonk', 'worthy', 'winter', 'officer', 'weighs', 'seldom', 'vouchsafed', 'LUCKY', 'quarrel', 'bang', 'merger', 'vary', 'Concorde', 'Saint', 'inherent', 'big', 'worry', 'got', 'fell', 'Five', 'nightfall', 'Lake', 'Chaste', 'were', 'sawwwww', 'marry', 'Make', 'since', 'grail', 'Every', 'Patsy', 'make', 'Gawain', 'Help', 'mercy', 'further', 'buy', 'even', 'splash', 'refuse', 'his', 'breath', \"'Aauuuuugh\", 'fair', 'c', 'Shh', 'binding', 'clop', 'later', 'dear', 'ni', 'By', ']', 'Mmm', 'stress', 'mystic', 'WIFE', 'ladies', 'Go', 'guiding', 'also', 'nibble', 'lady', 'donkey-bottom', 'KNIGHTS', 'excuse', 'discovers', 'outside', 'herring', 'Gable', 'tops', 'illustrious', \"d'you\", 'meeting', 'How', 'l', 'TIM', 'laden', 'watery', 'split', 'an', 'whinny', 'peril', 'wedding', 'scarper', 'removed', 'SECOND', 'ratios', 'body', 'opera', 'Crapper', 'bleed', 'trough', 'floats', 'valiant', 'tell', 'nick', 'Will', 'table', 'warm', 'Agh', 'personally', 'aside', 'More', 'Remove', 'Back', 'Frank', 'cadeau', 'over', 'commands', 'Midget', 'think', 'Quick', 'guards', 'mate', 'Hyy', 'bed', 'until', 'heeh', 'orangutans', 'little', 'curtains', 'example', 'Hiyaah', 'gra', 'end', 'OF', 'answer', 'kings', 'ran', 'Ni', 'Mud', 'e', 'Exactly', 'foul', 'looney', 'miserable', 'spank', 'carve', 'thought', 'learning', 'rode', 'uuup', 'distress', 'France', 'dead', 'special', 'her', 'harmless', 'Bravest', 'identical', 'dangerous', \"n't\", 'after', 'heart', 'tiny', 'two-thirds', 'BRIDGEKEEPER', 'remain', 'carrying', 'Peril', 'Himself', 'bride', 'thou', 'Uther', 'Ector', 'velocity', \"'Erbert\", 'occasion', 'spake', 'Stop', 'b', 'packing', 'might', 'either', 'running', 'halves', 'Old', 'collective', '10', 'scared', 'least', 'apologise', 'elderberries', 'done', '16', 'stew', 'ho', 'ROBIN', 'else', 'wipers', 'CRAPPER', 'ca', 'And', 'Ridden', 'Listen', 'Aah', '5', 'Spring', 'Doctor', 'busy', 'ENCHANTER', 'heh..', 'Yes', 'ones', 'awaaaaay', 'lie', \"'To\", 'held', 'coming', 'Your', 'employed', 'derives', 'mad', 'Do', 'first', 'being', 'defeator', 'defeat', 'unhealthy', 'mangled', 'Aaauggh', 'Thank', 'FRENCH', 'here', 'blessing', 'SOLDIER', 'passing', 'changed', 'nine', 'bangin', 'newt', 'Nine', 'near', 'best', 'so-called', 'met', 'police', 'The', 'differences', 'shrubber', 'servant', 'na', 'u', 'path', 'biters', 'give-away', 'fine', 'Off', 'gallantly', 'entered', 'As', 'look', 'havin', 'cover', 'bringing', 'women', 'Olfin', 'GALAHAD', 'return', 'Ewing', 'straight', 'scribble', 'Did', 'of', 'utterly', 'build', 'false', 'coconut', 'trumpets', 'with', 'crash', 'Aaaah', 'want', 'talk', 'glory', 'carries', 'valor', 'snuff', 'Bones', 'Skip', 'nor', '...', 'Amen', \"'d\", 'much', 'taunt', 'capital', 'immediately', 'all', 'yes', 'swords', 'jam', 'foot', 'appease', 'tough', 'clank', 'favorite', 'glass', 'me', 'outrageous', 'carried', 'Eee', 'quests', 'sponge', 'risk', 'It', 'grovel', 'bastard', 'moment', 'rock', 'un', 'carved', 'Lancelot', 'bonk', 'far', 'lucky', 'foe', 'Bring', 'Aauuuves', 'frozen', 'obviously', 'higher', 'private', 'unclog', 'fellows', 'under', 'afoot', 'tea', 'thirty-seven', 'heh', 'remember', 'Like', 'eisrequiem', 'MINSTREL', 'seen', \"'shrubberies\", 'Once', 'pig', 'dirty', 'underwear', 'period', 'splat', 'Tower', 'Twenty-one', 'ratified', 'knight', 'Iiiives', 'Mind', 'temptress', 'joyful', 'mean', 'legendary', 'Put', 'already', 'legs', 'rrrr', '8', 'ha..', 'k-niggets', 'Britain', 'cereals', 'walk', 'wonderful', 'using', 'dying', 'perilous', 'taken', 'grail-shaped', 'yellow', 'took', 'Yay', 'Anyway', 'demand', 'HERBERT', 'Right', 'ours', 'accomplished', 'Dramatically', 'necessary', 'Hand', 'breadth', 'Yup', 'Quoi', \"'it\", 'N', 'bet', 'Therefore', 'lived', 'out', 'Stand', 'runes', 'CHARACTER', 'carry', 'gained', 'anchovies', 'previous', 'everything', 'PERSON', 'consulted', 'rescue', 'sometimes', 'left', 'great', 'yourself', 'only', 'teeth', 'outwit', 'supreme', 'oooh', 'must', 'do', 'Hah', \"'Ecky-ecky-ecky-ecky-pikang-zoop-boing-goodem-zoo-owli-zhiv\", 'ANIMATOR', 'rest', 'wet', 'mashed', 'particularly', '6', 'creature', 'Burn', 'presence', 'bravely', 'high-pitched', 'assault', 'somebody', 'mud', 'will', 'chest', ',', 'rhymes', 'Camelot', 'dappy', 'Britons', 'married', 'ceremony', 'so', 'eis', 'spam', 'Pull', 'Rheged', 'dragging', 'sniff', 'dad', 'science', 'Halt', 'filth', 'cop', 'lads', 'returns', 'Just', 'purpose', 'every', 'you', 'request', 'cry', 'profane', 'Clark', 'Not-appearing-in-this-film', 'reasonable', 'lies', 'Explain', 'Knights', 'afraid', 'dancing', 'bridgekeeper', 'Nothing', 'wayy', 'Death', 'sure', 'Oooohoohohooo', 'castle', 'May', 'reads', 'chance', 'pissing', 'spanking', 'Silence', 'open', 'shall', 'Even', '23', 'lapin', 'amazes', 'happens', 'looked', 'men', 'Uh', 'small', 'new', 'one', 'exciting', 'punishment', 'day', 'MAN', 'Bloody', 'CAMERAMAN', 'clunk', 'All', 'doors', 'Alice', 'LEFT', 'rope', 'KNIGHT', 'duty', 'chosen', 'BRIDE', 'lambs', 'thy', 'something', 'Aauuugh', 'slash', 'bells', 'Hya', 'Am', 'Other', 'pass', 'looks', 'nasty', 'Nu', '(', 'Splendid', 'Run', 'eccentric', 'That', 'listen', 'raped', 'hand', 'bitching'}\n"
     ]
    }
   ],
   "source": [
    "# Import necessary modules\n",
    "from nltk.tokenize import sent_tokenize\n",
    "from nltk.tokenize import word_tokenize\n",
    "\n",
    "# Split scene_one into sentences: sentences\n",
    "sentences = sent_tokenize(scene_one)\n",
    "\n",
    "# Use word_tokenize to tokenize the fourth sentence: tokenized_sent\n",
    "tokenized_sent = word_tokenize(sentences[3])\n",
    "\n",
    "# Make a set of unique tokens in the entire scene: unique_tokens\n",
    "unique_tokens = set(word_tokenize(scene_one))\n",
    "\n",
    "# Print the unique tokens result\n",
    "print(unique_tokens)\n"
   ]
  },
  {
   "cell_type": "markdown",
   "metadata": {},
   "source": [
    "# regex with re.search()\n",
    "Use re.search() to search for the first occurrence of the word \"coconuts\" in scene_one. Store the result in match.\n",
    "Print the start and end indexes of match using its .start() and .end() methods, respectively."
   ]
  },
  {
   "cell_type": "code",
   "execution_count": 38,
   "metadata": {},
   "outputs": [
    {
     "name": "stdout",
     "output_type": "stream",
     "text": [
      "546 554\n"
     ]
    }
   ],
   "source": [
    "# Search for the first occurrence of \"coconuts\" in scene_one: match\n",
    "match = re.search(\"coconuts\", scene_one)\n",
    "\n",
    "# Print the start and end indexes of match\n",
    "print(match.start(), match.end())"
   ]
  },
  {
   "cell_type": "markdown",
   "metadata": {},
   "source": [
    "Write a regular expression called pattern1 to find anything in square brackets.\n",
    "Use re.search() with the pattern to find the first text in scene_one in square brackets in the scene. Print the result."
   ]
  },
  {
   "cell_type": "code",
   "execution_count": 39,
   "metadata": {},
   "outputs": [
    {
     "name": "stdout",
     "output_type": "stream",
     "text": [
      "<re.Match object; span=(26, 64948), match=\"[clop clop clop]  SOLDIER #1: Halt!  Who goes the>\n"
     ]
    }
   ],
   "source": [
    "# Write a regular expression to search for anything in square brackets: pattern1\n",
    "pattern1 = r\"\\[.*\\]\"\n",
    "\n",
    "# Use re.search to find the first text in square brackets\n",
    "print(re.search(pattern1, scene_one))"
   ]
  },
  {
   "cell_type": "markdown",
   "metadata": {},
   "source": [
    "Create a pattern to match the script notation (e.g. Character:), assigning the result to pattern2. Remember that you will want to match any words or spaces that precede the : (such as the space within SOLDIER #1:).\n",
    "Use re.match() with your new pattern to find and print the script notation in the fourth line. The tokenized sentences are available in your namespace as sentences.\n"
   ]
  },
  {
   "cell_type": "code",
   "execution_count": 40,
   "metadata": {},
   "outputs": [
    {
     "name": "stdout",
     "output_type": "stream",
     "text": [
      "<re.Match object; span=(0, 7), match='ARTHUR:'>\n"
     ]
    }
   ],
   "source": [
    "# Find the script notation at the beginning of the fourth sentence and print it\n",
    "pattern2 = r\"[\\w\\s]+:\"\n",
    "print(re.match(pattern2, sentences[3]))"
   ]
  },
  {
   "cell_type": "markdown",
   "metadata": {},
   "source": [
    "# Advanced tokenization with regex"
   ]
  },
  {
   "cell_type": "code",
   "execution_count": 43,
   "metadata": {},
   "outputs": [
    {
     "data": {
      "text/plain": [
       "['Blake', 'is', '1', '0', 'times', 'faster', 'now', '1', '0', 'times']"
      ]
     },
     "execution_count": 43,
     "metadata": {},
     "output_type": "execute_result"
    }
   ],
   "source": [
    "import re\n",
    "\n",
    "match_digits_and_words = ('(\\d|\\w+)')\n",
    "\n",
    "re.findall(match_digits_and_words, 'Blake is 10 times faster now 10 times.')"
   ]
  },
  {
   "cell_type": "markdown",
   "metadata": {},
   "source": [
    "# Regex with NLTK tokenization\n",
    "Twitter is a frequently used source for NLP text and tasks. <br>\n",
    "A regex pattern to define hashtags called pattern1 has been defined for you. <br> Call regexp_tokenize() with this hashtag pattern on the first tweet in tweets and assign the result to hashtags.<br>\n"
   ]
  },
  {
   "cell_type": "code",
   "execution_count": 52,
   "metadata": {},
   "outputs": [],
   "source": [
    "tweets =  ['This is the best #nlp exercise ive found online! #python',\n",
    " '#NLP is super fun! <3 #learning',\n",
    " 'Thanks @learning :) #nlp #python ']"
   ]
  },
  {
   "cell_type": "code",
   "execution_count": 53,
   "metadata": {},
   "outputs": [
    {
     "name": "stdout",
     "output_type": "stream",
     "text": [
      "['#nlp', '#python']\n"
     ]
    }
   ],
   "source": [
    "# Import the necessary modules\n",
    "from nltk.tokenize import regexp_tokenize\n",
    "from nltk.tokenize import TweetTokenizer\n",
    "\n",
    "# Define a regex pattern to find hashtags: pattern1\n",
    "pattern1 = r\"#\\w+\"\n",
    "\n",
    "# Use the pattern on the first tweet in the tweets list\n",
    "hashtags = regexp_tokenize(tweets[0], pattern1)\n",
    "print(hashtags)"
   ]
  },
  {
   "cell_type": "code",
   "execution_count": 54,
   "metadata": {},
   "outputs": [
    {
     "name": "stdout",
     "output_type": "stream",
     "text": [
      "['@learning', '#nlp', '#python']\n"
     ]
    }
   ],
   "source": [
    "# Write a pattern that matches both mentions (@) and hashtags\n",
    "pattern2 = r\"([@#]\\w+)\"\n",
    "# Use the pattern on the last tweet in the tweets list\n",
    "mentions_hashtags = regexp_tokenize(tweets[-1], pattern2)\n",
    "print(mentions_hashtags)"
   ]
  },
  {
   "cell_type": "code",
   "execution_count": 55,
   "metadata": {},
   "outputs": [
    {
     "name": "stdout",
     "output_type": "stream",
     "text": [
      "[['This', 'is', 'the', 'best', '#nlp', 'exercise', 'ive', 'found', 'online', '!', '#python'], ['#NLP', 'is', 'super', 'fun', '!', '<3', '#learning'], ['Thanks', '@learning', ':)', '#nlp', '#python']]\n"
     ]
    }
   ],
   "source": [
    "# Use the TweetTokenizer to tokenize all tweets into one list\n",
    "tknzr = TweetTokenizer()\n",
    "all_tokens = [tknzr.tokenize(t) for t in tweets]\n",
    "print(all_tokens)"
   ]
  },
  {
   "cell_type": "markdown",
   "metadata": {},
   "source": [
    "# Non-ascii tokenization\n",
    "Tokenize all the words in german_text using word_tokenize(), and print the result. <br>\n",
    "Tokenize only the capital words in german_text.<br>\n",
    "First, write a pattern called capital_words to match only capital words. <br> Make sure to check for the German Ü! To use this character in the exercise, copy and paste it from these instructions.<br>\n",
    "Then, tokenize it using regexp_tokenize().<br>\n",
    "Tokenize only the emoji in german_text.<br> The pattern using the unicode ranges for emoji given in the assignment text has been written for you. Your job is to use regexp_tokenize() to tokenize the emoji.\n"
   ]
  },
  {
   "cell_type": "code",
   "execution_count": 56,
   "metadata": {},
   "outputs": [],
   "source": [
    "german_text = 'Wann gehen wir Pizza essen? 🍕 Und fährst du mit Über? 🚕'\n"
   ]
  },
  {
   "cell_type": "code",
   "execution_count": 57,
   "metadata": {},
   "outputs": [
    {
     "name": "stdout",
     "output_type": "stream",
     "text": [
      "['Wann', 'gehen', 'wir', 'Pizza', 'essen', '?', '🍕', 'Und', 'fährst', 'du', 'mit', 'Über', '?', '🚕']\n",
      "['Wann', 'Pizza', 'Und', 'Über']\n",
      "['🍕', '🚕']\n"
     ]
    }
   ],
   "source": [
    "# Tokenize and print all words in german_text\n",
    "all_words = word_tokenize(german_text)\n",
    "print(all_words)\n",
    "\n",
    "# Tokenize and print only capital words\n",
    "capital_words = r\"[A-ZÜ]\\w+\"\n",
    "print(regexp_tokenize(german_text, capital_words))\n",
    "\n",
    "# Tokenize and print only emoji\n",
    "emoji = \"['\\U0001F300-\\U0001F5FF'|'\\U0001F600-\\U0001F64F'|'\\U0001F680-\\U0001F6FF'|'\\u2600-\\u26FF\\u2700-\\u27BF']\"\n",
    "print(regexp_tokenize(german_text, emoji))"
   ]
  },
  {
   "cell_type": "markdown",
   "metadata": {},
   "source": [
    "# Charting word length"
   ]
  },
  {
   "cell_type": "code",
   "execution_count": 61,
   "metadata": {},
   "outputs": [],
   "source": [
    "from matplotlib import pyplot as plt\n",
    "\n",
    "from nltk.tokenize import word_tokenize\n",
    "\n",
    "words = word_tokenize(\"I am learning alot about machine learning!\")\n",
    "\n",
    "word_lengths = [len(w) for w in words]"
   ]
  },
  {
   "cell_type": "code",
   "execution_count": 62,
   "metadata": {},
   "outputs": [
    {
     "data": {
      "image/png": "[encoded data removed]",
      "text/plain": [
       "<Figure size 432x288 with 1 Axes>"
      ]
     },
     "metadata": {
      "needs_background": "light"
     },
     "output_type": "display_data"
    }
   ],
   "source": [
    "plt.hist(word_lengths)\n",
    "plt.show()"
   ]
  },
  {
   "cell_type": "markdown",
   "metadata": {},
   "source": [
    "# Charting using the movie scene\n",
    "\n",
    "Split the script holy_grail into lines using the newline ('\\n') character. <br>\n",
    "Use re.sub() inside a list comprehension to replace the prompts such as ARTHUR: and SOLDIER #1. The pattern has been written for you. <br>\n",
    "Use a list comprehension to tokenize lines with regexp_tokenize(), keeping only words. Recall that the pattern for words is \"\\w+\". <br>\n",
    "Use a list comprehension to create a list of line lengths called line_num_words. <br>\n",
    "Use t_line as your iterator variable to iterate over tokenized_lines, and then len() function to compute line lengths.<br>\n",
    "Plot a histogram of line_num_words using plt.hist(). <br>Don't forgot to use plt.show() as well to display the plot."
   ]
  },
  {
   "cell_type": "code",
   "execution_count": 66,
   "metadata": {},
   "outputs": [],
   "source": [
    "# change the name of the variable\n",
    "holy_grail = scene_one"
   ]
  },
  {
   "cell_type": "code",
   "execution_count": 69,
   "metadata": {
    "scrolled": true
   },
   "outputs": [
    {
     "data": {
      "image/png": "[encoded data removed]",
      "text/plain": [
       "<Figure size 432x288 with 1 Axes>"
      ]
     },
     "metadata": {
      "needs_background": "light"
     },
     "output_type": "display_data"
    }
   ],
   "source": [
    "# Split the script into lines: lines\n",
    "lines = holy_grail.split('\\n')\n",
    "\n",
    "# Replace all script lines for speaker\n",
    "pattern = \"[A-Z]{2,}(\\s)?(#\\d)?([A-Z]{2,})?:\"\n",
    "lines = [re.sub(pattern, '', l) for l in lines]\n",
    "\n",
    "# Tokenize each line: tokenized_lines\n",
    "tokenized_lines = [regexp_tokenize(s, \"\\w+\") for s in lines]\n",
    "\n",
    "# Make a frequency list of lengths: line_num_words\n",
    "line_num_words = [len(t_line) for t_line in tokenized_lines]\n",
    "\n",
    "# Plot a histogram of the line lengths\n",
    "plt.hist(line_num_words)\n",
    "\n",
    "# Show the plot\n",
    "plt.show()"
   ]
  },
  {
   "cell_type": "markdown",
   "metadata": {},
   "source": [
    "# Bag of words & word counts"
   ]
  },
  {
   "cell_type": "code",
   "execution_count": 9,
   "metadata": {},
   "outputs": [],
   "source": [
    "from nltk.tokenize import word_tokenize\n",
    "\n",
    "from collections import Counter\n"
   ]
  },
  {
   "cell_type": "markdown",
   "metadata": {},
   "source": [
    "# Load article"
   ]
  },
  {
   "cell_type": "code",
   "execution_count": 52,
   "metadata": {},
   "outputs": [
    {
     "name": "stdout",
     "output_type": "stream",
     "text": [
      "                                                   0\n",
      "0  '''Debugging''' is the process of finding and ...\n"
     ]
    }
   ],
   "source": [
    "article = ['\\'\\'\\'Debugging\\'\\'\\' is the process of finding and resolving of defects that prevent correct operation of computer software or a system.  \\n\\nNumerous books have been written about debugging (see below: #Further reading|Further reading), as it involves numerous aspects, including interactive debugging, control flow, integration testing, Logfile|log files, monitoring (Application monitoring|application, System Monitoring|system), memory dumps, Profiling (computer programming)|profiling, Statistical Process Control, and special design tactics to improve detection while simplifying changes.\\n\\nOrigin\\nA computer log entry from the Mark&nbsp;II, with a moth taped to the page\\n\\nThe terms \"bug\" and \"debugging\" are popularly attributed to Admiral Grace Hopper in the 1940s.[http://foldoc.org/Grace+Hopper Grace Hopper]  from FOLDOC While she was working on a Harvard Mark II|Mark II Computer at Harvard University, her associates discovered a moth stuck in a relay and thereby impeding operation, whereupon she remarked that they were \"debugging\" the system. However the term \"bug\" in the meaning of technical error dates back at least to 1878 and Thomas Edison (see software bug for a full discussion), and \"debugging\" seems to have been used as a term in aeronautics before entering the world of computers. Indeed, in an interview Grace Hopper remarked that she was not coining the term{{Citation needed|date=July 2015}}. The moth fit the already existing terminology, so it was saved.  A letter from J. Robert Oppenheimer (director of the WWII atomic bomb \"Manhattan\" project at Los Alamos, NM) used the term in a letter to Dr. Ernest Lawrence at UC Berkeley, dated October 27, 1944,http://bancroft.berkeley.edu/Exhibits/physics/images/bigscience25.jpg regarding the recruitment of additional technical staff.\\n\\nThe Oxford English Dictionary entry for \"debug\" quotes the term \"debugging\" used in reference to airplane engine testing in a 1945 article in the Journal of the Royal Aeronautical Society. An article in \"Airforce\" (June 1945 p.&nbsp;50) also refers to debugging, this time of aircraft cameras.  Hopper\\'s computer bug|bug was found on September 9, 1947. The term was not adopted by computer programmers until the early 1950s.\\nThe seminal article by GillS. Gill, [http://www.jstor.org/stable/98663 The Diagnosis of Mistakes in Programmes on the EDSAC], Proceedings of the Royal Society of London. Series A, Mathematical and Physical Sciences, Vol. 206, No. 1087 (May 22, 1951), pp. 538-554 in 1951 is the earliest in-depth discussion of programming errors, but it does not use the term \"bug\" or \"debugging\".\\nIn the Association for Computing Machinery|ACM\\'s digital library, the term \"debugging\" is first used in three papers from 1952 ACM National Meetings.Robert V. D. Campbell, [http://portal.acm.org/citation.cfm?id=609784.609786 Evolution of automatic computation], Proceedings of the 1952 ACM national meeting (Pittsburgh), p 29-32, 1952.Alex Orden, [http://portal.acm.org/citation.cfm?id=609784.609793 Solution of systems of linear inequalities on a digital computer], Proceedings of the 1952 ACM national meeting (Pittsburgh), p. 91-95, 1952.Howard B. Demuth, John B. Jackson, Edmund Klein, N. Metropolis, Walter Orvedahl, James H. Richardson, [http://portal.acm.org/citation.cfm?id=800259.808982 MANIAC], Proceedings of the 1952 ACM national meeting (Toronto), p. 13-16 Two of the three use the term in quotation marks.\\nBy 1963 \"debugging\" was a common enough term to be mentioned in passing without explanation on page 1 of the Compatible Time-Sharing System|CTSS manual.[http://www.bitsavers.org/pdf/mit/ctss/CTSS_ProgrammersGuide.pdf The Compatible Time-Sharing System], M.I.T. Press, 1963\\n\\nKidwell\\'s article \\'\\'Stalking the Elusive Computer Bug\\'\\'Peggy Aldrich Kidwell, [http://ieeexplore.ieee.org/xpl/freeabs_all.jsp?tp=&arnumber=728224&isnumber=15706 Stalking the Elusive Computer Bug], IEEE Annals of the History of Computing, 1998. discusses the etymology of \"bug\" and \"debug\" in greater detail.\\n\\nScope\\nAs software and electronic systems have become generally more complex, the various common debugging techniques have expanded with more methods to detect anomalies, assess impact, and schedule software patches or full updates to a system. The words \"anomaly\" and \"discrepancy\" can be used, as being more neutral terms, to avoid the words \"error\" and \"defect\" or \"bug\" where there might be an implication that all so-called \\'\\'errors\\'\\', \\'\\'defects\\'\\' or \\'\\'bugs\\'\\' must be fixed (at all costs). Instead, an impact assessment can be made to determine if changes to remove an \\'\\'anomaly\\'\\' (or \\'\\'discrepancy\\'\\') would be cost-effective for the system, or perhaps a scheduled new release might render the change(s) unnecessary. Not all issues are life-critical or mission-critical in a system. Also, it is important to avoid the situation where a change might be more upsetting to users, long-term, than living with the known problem(s) (where the \"cure would be worse than the disease\"). Basing decisions of the acceptability of some anomalies can avoid a culture of a \"zero-defects\" mandate, where people might be tempted to deny the existence of problems so that the result would appear as zero \\'\\'defects\\'\\'. Considering the collateral issues, such as the cost-versus-benefit impact assessment, then broader debugging techniques will expand to determine the frequency of anomalies (how often the same \"bugs\" occur) to help assess their impact to the overall system.\\n\\nTools\\nDebugging on video game consoles is usually done with special hardware such as this Xbox (console)|Xbox debug unit intended for developers.\\n\\nDebugging ranges in complexity from fixing simple errors to performing lengthy and tiresome tasks of data collection, analysis, and scheduling updates.  The debugging skill of the programmer can be a major factor in the ability to debug a problem, but the difficulty of software debugging varies greatly with the complexity of the system, and also depends, to some extent, on the programming language(s) used and the available tools, such as \\'\\'debuggers\\'\\'. Debuggers are software tools which enable the programmer to monitor the execution (computers)|execution of a program, stop it, restart it, set breakpoints, and change values in memory. The term \\'\\'debugger\\'\\' can also refer to the person who is doing the debugging.\\n\\nGenerally, high-level programming languages, such as Java (programming language)|Java, make debugging easier, because they have features such as exception handling that make real sources of erratic behaviour easier to spot. In programming languages such as C (programming language)|C or assembly language|assembly, bugs may cause silent problems such as memory corruption, and it is often difficult to see where the initial problem happened. In those cases, memory debugging|memory debugger tools may be needed.\\n\\nIn certain situations, general purpose software tools that are language specific in nature can be very useful.  These take the form of \\'\\'List of tools for static code analysis|static code analysis tools\\'\\'.  These tools look for a very specific set of known problems, some common and some rare, within the source code.  All such issues detected by these tools would rarely be picked up by a compiler or interpreter, thus they are not syntax checkers, but more semantic checkers.  Some tools claim to be able to detect 300+ unique problems. Both commercial and free tools exist in various languages.  These tools can be extremely useful when checking very large source trees, where it is impractical to do code walkthroughs.  A typical example of a problem detected would be a variable dereference that occurs \\'\\'before\\'\\' the variable is assigned a value.  Another example would be to perform strong type checking when the language does not require such.  Thus, they are better at locating likely errors, versus actual errors.  As a result, these tools have a reputation of false positives.  The old Unix \\'\\'Lint programming tool|lint\\'\\' program is an early example.\\n\\nFor debugging electronic hardware (e.g., computer hardware) as well as low-level software (e.g., BIOSes, device drivers) and firmware, instruments such as oscilloscopes, logic analyzers or in-circuit emulator|in-circuit emulators (ICEs) are often used, alone or in combination.  An ICE may perform many of the typical software debugger\\'s tasks on low-level software and firmware.\\n\\nDebugging process \\nNormally the first step in debugging is to attempt to reproduce the problem. This can be a non-trivial task, for example as with Parallel computing|parallel processes or some unusual software bugs. Also, specific user environment and usage history can make it difficult to reproduce the problem.\\n\\nAfter the bug is reproduced, the input of the program may need to be simplified to make it easier to debug. For example, a bug in a compiler can make it Crash (computing)|crash when parsing some large source file. However, after simplification of the test case, only few lines from the original source file can be sufficient to reproduce the same crash. Such simplification can be made manually, using a Divide and conquer algorithm|divide-and-conquer approach. The programmer will try to remove some parts of original test case and check if the problem still exists. When debugging the problem in a Graphical user interface|GUI, the programmer can try to skip some user interaction from the original problem description and check if remaining actions are sufficient for bugs to appear.\\n\\nAfter the test case is sufficiently simplified, a programmer can use a debugger tool to examine program states (values of variables, plus the call stack) and track down the origin of the problem(s). Alternatively, Tracing (software)|tracing can be used. In simple cases, tracing is just a few print statements, which output the values of variables at certain points of program execution.{{citation needed|date=February 2016}}\\n\\n Techniques \\n \\'\\'Interactive debugging\\'\\'\\n \\'\\'{{visible anchor|Print debugging}}\\'\\' (or tracing) is the act of watching (live or recorded) trace statements, or print statements, that indicate the flow of execution of a process. This is sometimes called \\'\\'{{visible anchor|printf debugging}}\\'\\', due to the use of the printf function in C. This kind of debugging was turned on by the command TRON in the original versions of the novice-oriented BASIC programming language. TRON stood for, \"Trace On.\" TRON caused the line numbers of each BASIC command line to print as the program ran.\\n \\'\\'Remote debugging\\'\\' is the process of debugging a program running on a system different from the debugger. To start remote debugging, a debugger connects to a remote system over a network. The debugger can then control the execution of the program on the remote system and retrieve information about its state.\\n \\'\\'Post-mortem debugging\\'\\' is debugging of the program after it has already Crash (computing)|crashed. Related techniques often include various tracing techniques (for example,[http://www.drdobbs.com/tools/185300443 Postmortem Debugging, Stephen Wormuller, Dr. Dobbs Journal, 2006]) and/or analysis of memory dump (or core dump) of the crashed process. The dump of the process could be obtained automatically by the system (for example, when process has terminated due to an unhandled exception), or by a programmer-inserted instruction, or manually by the interactive user.\\n \\'\\'\"Wolf fence\" algorithm:\\'\\' Edward Gauss described this simple but very useful and now famous algorithm in a 1982 article for communications of the ACM as follows: \"There\\'s one wolf in Alaska; how do you find it? First build a fence down the middle of the state, wait for the wolf to howl, determine which side of the fence it is on. Repeat process on that side only, until you get to the point where you can see the wolf.\"<ref name=\"communications of the ACM\">{{cite journal | title=\"Pracniques: The \"Wolf Fence\" Algorithm for Debugging\", | author=E. J. Gauss | year=1982}} This is implemented e.g. in the Git (software)|Git version control system as the command \\'\\'git bisect\\'\\', which uses the above algorithm to determine which Commit (data management)|commit introduced a particular bug.\\n \\'\\'Delta Debugging\\'\\'{{snd}} a technique of automating test case simplification.Andreas Zeller: <cite>Why Programs Fail: A Guide to Systematic Debugging</cite>, Morgan Kaufmann, 2005. ISBN 1-55860-866-4{{rp|p.123}}<!-- for redirect from \\'Saff Squeeze\\' -->\\n \\'\\'Saff Squeeze\\'\\'{{snd}} a technique of isolating failure within the test using progressive inlining of parts of the failing test.[http://www.threeriversinstitute.org/HitEmHighHitEmLow.html Kent Beck, Hit \\'em High, Hit \\'em Low: Regression Testing and the Saff Squeeze]\\n\\nDebugging for embedded systems\\nIn contrast to the general purpose computer software design environment, a primary characteristic of embedded environments is the sheer number of different platforms available to the developers (CPU architectures, vendors, operating systems and their variants). Embedded systems are, by definition, not general-purpose designs: they are typically developed for a single task (or small range of tasks), and the platform is chosen specifically to optimize that application. Not only does this fact make life tough for embedded system developers, it also makes debugging and testing of these systems harder as well, since different debugging tools are needed in different platforms.\\n\\nto identify and fix bugs in the system (e.g. logical or synchronization problems in the code, or a design error in the hardware);\\nto collect information about the operating states of the system that may then be used to analyze the system: to find ways to boost its performance or to optimize other important characteristics (e.g. energy consumption, reliability, real-time response etc.).\\n\\nAnti-debugging\\nAnti-debugging is \"the implementation of one or more techniques within computer code that hinders attempts at reverse engineering or debugging a target process\".<ref name=\"veracode-antidebugging\">{{cite web |url=http://www.veracode.com/blog/2008/12/anti-debugging-series-part-i/ |title=Anti-Debugging Series - Part I |last=Shields |first=Tyler |date=2008-12-02 |work=Veracode |accessdate=2009-03-17}} It is actively used by recognized publishers in copy protection|copy-protection schemas, but is also used by malware to complicate its detection and elimination.<ref name=\"soft-prot\">[http://people.seas.harvard.edu/~mgagnon/software_protection_through_anti_debugging.pdf Software Protection through Anti-Debugging Michael N Gagnon, Stephen Taylor, Anup Ghosh] Techniques used in anti-debugging include:\\nAPI-based: check for the existence of a debugger using system information\\nException-based: check to see if exceptions are interfered with\\nProcess and thread blocks: check whether process and thread blocks have been manipulated\\nModified code: check for code modifications made by a debugger handling software breakpoints\\nHardware- and register-based: check for hardware breakpoints and CPU registers\\nTiming and latency: check the time taken for the execution of instructions\\nDetecting and penalizing debugger<ref name=\"soft-prot\" /><!-- reference does not exist -->\\n\\nAn early example of anti-debugging existed in early versions of Microsoft Word which, if a debugger was detected, produced a message that said: \"The tree of evil bears bitter fruit. Now trashing program disk.\", after which it caused the floppy disk drive to emit alarming noises with the intent of scaring the user away from attempting it again.<ref name=\"SecurityEngineeringRA\">{{cite book | url=http://www.cl.cam.ac.uk/~rja14/book.html | author=Ross J. Anderson | title=Security Engineering | isbn = 0-471-38922-6 | page=684 }}<ref name=\"toastytech\">{{cite web | url=http://toastytech.com/guis/word1153.html | title=Microsoft Word for DOS 1.15}}\\n']\n",
    "\n",
    "article = pd.DataFrame(article)\n",
    "#article = pd.Series(article.values.flatten())\n",
    "\n",
    "print(article)\n"
   ]
  },
  {
   "cell_type": "code",
   "execution_count": 53,
   "metadata": {},
   "outputs": [
    {
     "data": {
      "text/plain": [
       "'                                                                                                                                                                                                                                                                                                                                                                                                                                                                                                                                                                                                                                                                                                                                                                                                                                                                                                                                                                                                                                                                                                                                                                                                                                                                                                                                                                                                                                                                                                                                                                                                                                                                                                                                                                                                                                                                                                                                                                                                                                                                                                                                                                                                                                                                                                                                                                                                                                                                                                                                                                                                                                                                                                                                                                                                                                                                                                                                                                                                                                                                                                                                                                                                                                                                                                                                                                                                                                                                                                                                                                                                                                                                                                                                                                                                                                                                                                                                                                                                                                                                                                                                                                                                                                                                                                                                                                                                                                                                                                                                                                                                                                                                                                                                                                                                                                                                                                                                                                                                                                                                                                                                                                                                                                                                                                                                                                                                                                                                                                                                                                                                                                                                                                                                                                                                                                                                                                                                                                                                                                                                                                                                                                                                                                                                                                                                                                                                                                                                                                                                                                                                                                                                                                                                                                                                                                                                                                                                                                                                                                                                                                                                                                                                                                                                                                                                                                                                                                                                                                                                                                                                                                                                                                                                                                                                                                                                                                                                                                                                                                                                                                                                                                                                                                                                                                                                                                                                                                                                                                                                                                                                                                                                                                                                                                                                                                                                                                                                                                                                                                                                                                                                                                                                                                                                                                                                                                                                                                                                                                                                                                                                                                                                                                                                                                                                                                                                                                                                                                                                                                                                                                                                                                                                                                                                                                                                                                                                                                                                                                                                                                                                                                                                                                                                                                                                                                                                                                                                                                                                                                                                                                                                                                                                                                                                                                                                                                                                                                                                                                                                                                                                                                                                                                                                                                                                                                                                                                                                                                                                                                                                                                                                                                                                                                                                                                                                                                                                                                                                                                                                                                                                                                                                                                                                                                                                                                                                                                                                                                                                                                                                                                                                                                                                                                                                                                                                                                                                                                                                                                                                                                                                                                                                                                                                                                                                                                                                                                                                                                                                                                                                                                                                                                                                                                                                                                                                                                                                                                                                                                                                                                                                                                                                                                                                                                                                                                                                                                                                                                                                                                                                                                                                                                                                                                                                                                                                                                                                                                                                                                                                                                                                                                                                                                                                                                                                                                                                                                                                                                                                                                                                                                                                                                                                                                                                                                                                                                                                                                                                                                                                                                               0\\n0  \\'\\'\\'Debugging\\'\\'\\' is the process of finding and resolving of defects that prevent correct operation of computer software or a system.  \\\\n\\\\nNumerous books have been written about debugging (see below: #Further reading|Further reading), as it involves numerous aspects, including interactive debugging, control flow, integration testing, Logfile|log files, monitoring (Application monitoring|application, System Monitoring|system), memory dumps, Profiling (computer programming)|profiling, Statistical Process Control, and special design tactics to improve detection while simplifying changes.\\\\n\\\\nOrigin\\\\nA computer log entry from the Mark&nbsp;II, with a moth taped to the page\\\\n\\\\nThe terms \"bug\" and \"debugging\" are popularly attributed to Admiral Grace Hopper in the 1940s.[http://foldoc.org/Grace+Hopper Grace Hopper]  from FOLDOC While she was working on a Harvard Mark II|Mark II Computer at Harvard University, her associates discovered a moth stuck in a relay and thereby impeding operation, whereupon she remarked that they were \"debugging\" the system. However the term \"bug\" in the meaning of technical error dates back at least to 1878 and Thomas Edison (see software bug for a full discussion), and \"debugging\" seems to have been used as a term in aeronautics before entering the world of computers. Indeed, in an interview Grace Hopper remarked that she was not coining the term{{Citation needed|date=July 2015}}. The moth fit the already existing terminology, so it was saved.  A letter from J. Robert Oppenheimer (director of the WWII atomic bomb \"Manhattan\" project at Los Alamos, NM) used the term in a letter to Dr. Ernest Lawrence at UC Berkeley, dated October 27, 1944,http://bancroft.berkeley.edu/Exhibits/physics/images/bigscience25.jpg regarding the recruitment of additional technical staff.\\\\n\\\\nThe Oxford English Dictionary entry for \"debug\" quotes the term \"debugging\" used in reference to airplane engine testing in a 1945 article in the Journal of the Royal Aeronautical Society. An article in \"Airforce\" (June 1945 p.&nbsp;50) also refers to debugging, this time of aircraft cameras.  Hopper\\'s computer bug|bug was found on September 9, 1947. The term was not adopted by computer programmers until the early 1950s.\\\\nThe seminal article by GillS. Gill, [http://www.jstor.org/stable/98663 The Diagnosis of Mistakes in Programmes on the EDSAC], Proceedings of the Royal Society of London. Series A, Mathematical and Physical Sciences, Vol. 206, No. 1087 (May 22, 1951), pp. 538-554 in 1951 is the earliest in-depth discussion of programming errors, but it does not use the term \"bug\" or \"debugging\".\\\\nIn the Association for Computing Machinery|ACM\\'s digital library, the term \"debugging\" is first used in three papers from 1952 ACM National Meetings.Robert V. D. Campbell, [http://portal.acm.org/citation.cfm?id=609784.609786 Evolution of automatic computation], Proceedings of the 1952 ACM national meeting (Pittsburgh), p 29-32, 1952.Alex Orden, [http://portal.acm.org/citation.cfm?id=609784.609793 Solution of systems of linear inequalities on a digital computer], Proceedings of the 1952 ACM national meeting (Pittsburgh), p. 91-95, 1952.Howard B. Demuth, John B. Jackson, Edmund Klein, N. Metropolis, Walter Orvedahl, James H. Richardson, [http://portal.acm.org/citation.cfm?id=800259.808982 MANIAC], Proceedings of the 1952 ACM national meeting (Toronto), p. 13-16 Two of the three use the term in quotation marks.\\\\nBy 1963 \"debugging\" was a common enough term to be mentioned in passing without explanation on page 1 of the Compatible Time-Sharing System|CTSS manual.[http://www.bitsavers.org/pdf/mit/ctss/CTSS_ProgrammersGuide.pdf The Compatible Time-Sharing System], M.I.T. Press, 1963\\\\n\\\\nKidwell\\'s article \\'\\'Stalking the Elusive Computer Bug\\'\\'Peggy Aldrich Kidwell, [http://ieeexplore.ieee.org/xpl/freeabs_all.jsp?tp=&arnumber=728224&isnumber=15706 Stalking the Elusive Computer Bug], IEEE Annals of the History of Computing, 1998. discusses the etymology of \"bug\" and \"debug\" in greater detail.\\\\n\\\\nScope\\\\nAs software and electronic systems have become generally more complex, the various common debugging techniques have expanded with more methods to detect anomalies, assess impact, and schedule software patches or full updates to a system. The words \"anomaly\" and \"discrepancy\" can be used, as being more neutral terms, to avoid the words \"error\" and \"defect\" or \"bug\" where there might be an implication that all so-called \\'\\'errors\\'\\', \\'\\'defects\\'\\' or \\'\\'bugs\\'\\' must be fixed (at all costs). Instead, an impact assessment can be made to determine if changes to remove an \\'\\'anomaly\\'\\' (or \\'\\'discrepancy\\'\\') would be cost-effective for the system, or perhaps a scheduled new release might render the change(s) unnecessary. Not all issues are life-critical or mission-critical in a system. Also, it is important to avoid the situation where a change might be more upsetting to users, long-term, than living with the known problem(s) (where the \"cure would be worse than the disease\"). Basing decisions of the acceptability of some anomalies can avoid a culture of a \"zero-defects\" mandate, where people might be tempted to deny the existence of problems so that the result would appear as zero \\'\\'defects\\'\\'. Considering the collateral issues, such as the cost-versus-benefit impact assessment, then broader debugging techniques will expand to determine the frequency of anomalies (how often the same \"bugs\" occur) to help assess their impact to the overall system.\\\\n\\\\nTools\\\\nDebugging on video game consoles is usually done with special hardware such as this Xbox (console)|Xbox debug unit intended for developers.\\\\n\\\\nDebugging ranges in complexity from fixing simple errors to performing lengthy and tiresome tasks of data collection, analysis, and scheduling updates.  The debugging skill of the programmer can be a major factor in the ability to debug a problem, but the difficulty of software debugging varies greatly with the complexity of the system, and also depends, to some extent, on the programming language(s) used and the available tools, such as \\'\\'debuggers\\'\\'. Debuggers are software tools which enable the programmer to monitor the execution (computers)|execution of a program, stop it, restart it, set breakpoints, and change values in memory. The term \\'\\'debugger\\'\\' can also refer to the person who is doing the debugging.\\\\n\\\\nGenerally, high-level programming languages, such as Java (programming language)|Java, make debugging easier, because they have features such as exception handling that make real sources of erratic behaviour easier to spot. In programming languages such as C (programming language)|C or assembly language|assembly, bugs may cause silent problems such as memory corruption, and it is often difficult to see where the initial problem happened. In those cases, memory debugging|memory debugger tools may be needed.\\\\n\\\\nIn certain situations, general purpose software tools that are language specific in nature can be very useful.  These take the form of \\'\\'List of tools for static code analysis|static code analysis tools\\'\\'.  These tools look for a very specific set of known problems, some common and some rare, within the source code.  All such issues detected by these tools would rarely be picked up by a compiler or interpreter, thus they are not syntax checkers, but more semantic checkers.  Some tools claim to be able to detect 300+ unique problems. Both commercial and free tools exist in various languages.  These tools can be extremely useful when checking very large source trees, where it is impractical to do code walkthroughs.  A typical example of a problem detected would be a variable dereference that occurs \\'\\'before\\'\\' the variable is assigned a value.  Another example would be to perform strong type checking when the language does not require such.  Thus, they are better at locating likely errors, versus actual errors.  As a result, these tools have a reputation of false positives.  The old Unix \\'\\'Lint programming tool|lint\\'\\' program is an early example.\\\\n\\\\nFor debugging electronic hardware (e.g., computer hardware) as well as low-level software (e.g., BIOSes, device drivers) and firmware, instruments such as oscilloscopes, logic analyzers or in-circuit emulator|in-circuit emulators (ICEs) are often used, alone or in combination.  An ICE may perform many of the typical software debugger\\'s tasks on low-level software and firmware.\\\\n\\\\nDebugging process \\\\nNormally the first step in debugging is to attempt to reproduce the problem. This can be a non-trivial task, for example as with Parallel computing|parallel processes or some unusual software bugs. Also, specific user environment and usage history can make it difficult to reproduce the problem.\\\\n\\\\nAfter the bug is reproduced, the input of the program may need to be simplified to make it easier to debug. For example, a bug in a compiler can make it Crash (computing)|crash when parsing some large source file. However, after simplification of the test case, only few lines from the original source file can be sufficient to reproduce the same crash. Such simplification can be made manually, using a Divide and conquer algorithm|divide-and-conquer approach. The programmer will try to remove some parts of original test case and check if the problem still exists. When debugging the problem in a Graphical user interface|GUI, the programmer can try to skip some user interaction from the original problem description and check if remaining actions are sufficient for bugs to appear.\\\\n\\\\nAfter the test case is sufficiently simplified, a programmer can use a debugger tool to examine program states (values of variables, plus the call stack) and track down the origin of the problem(s). Alternatively, Tracing (software)|tracing can be used. In simple cases, tracing is just a few print statements, which output the values of variables at certain points of program execution.{{citation needed|date=February 2016}}\\\\n\\\\n Techniques \\\\n \\'\\'Interactive debugging\\'\\'\\\\n \\'\\'{{visible anchor|Print debugging}}\\'\\' (or tracing) is the act of watching (live or recorded) trace statements, or print statements, that indicate the flow of execution of a process. This is sometimes called \\'\\'{{visible anchor|printf debugging}}\\'\\', due to the use of the printf function in C. This kind of debugging was turned on by the command TRON in the original versions of the novice-oriented BASIC programming language. TRON stood for, \"Trace On.\" TRON caused the line numbers of each BASIC command line to print as the program ran.\\\\n \\'\\'Remote debugging\\'\\' is the process of debugging a program running on a system different from the debugger. To start remote debugging, a debugger connects to a remote system over a network. The debugger can then control the execution of the program on the remote system and retrieve information about its state.\\\\n \\'\\'Post-mortem debugging\\'\\' is debugging of the program after it has already Crash (computing)|crashed. Related techniques often include various tracing techniques (for example,[http://www.drdobbs.com/tools/185300443 Postmortem Debugging, Stephen Wormuller, Dr. Dobbs Journal, 2006]) and/or analysis of memory dump (or core dump) of the crashed process. The dump of the process could be obtained automatically by the system (for example, when process has terminated due to an unhandled exception), or by a programmer-inserted instruction, or manually by the interactive user.\\\\n \\'\\'\"Wolf fence\" algorithm:\\'\\' Edward Gauss described this simple but very useful and now famous algorithm in a 1982 article for communications of the ACM as follows: \"There\\'s one wolf in Alaska; how do you find it? First build a fence down the middle of the state, wait for the wolf to howl, determine which side of the fence it is on. Repeat process on that side only, until you get to the point where you can see the wolf.\"<ref name=\"communications of the ACM\">{{cite journal | title=\"Pracniques: The \"Wolf Fence\" Algorithm for Debugging\", | author=E. J. Gauss | year=1982}} This is implemented e.g. in the Git (software)|Git version control system as the command \\'\\'git bisect\\'\\', which uses the above algorithm to determine which Commit (data management)|commit introduced a particular bug.\\\\n \\'\\'Delta Debugging\\'\\'{{snd}} a technique of automating test case simplification.Andreas Zeller: <cite>Why Programs Fail: A Guide to Systematic Debugging</cite>, Morgan Kaufmann, 2005. ISBN 1-55860-866-4{{rp|p.123}}<!-- for redirect from \\'Saff Squeeze\\' -->\\\\n \\'\\'Saff Squeeze\\'\\'{{snd}} a technique of isolating failure within the test using progressive inlining of parts of the failing test.[http://www.threeriversinstitute.org/HitEmHighHitEmLow.html Kent Beck, Hit \\'em High, Hit \\'em Low: Regression Testing and the Saff Squeeze]\\\\n\\\\nDebugging for embedded systems\\\\nIn contrast to the general purpose computer software design environment, a primary characteristic of embedded environments is the sheer number of different platforms available to the developers (CPU architectures, vendors, operating systems and their variants). Embedded systems are, by definition, not general-purpose designs: they are typically developed for a single task (or small range of tasks), and the platform is chosen specifically to optimize that application. Not only does this fact make life tough for embedded system developers, it also makes debugging and testing of these systems harder as well, since different debugging tools are needed in different platforms.\\\\n\\\\nto identify and fix bugs in the system (e.g. logical or synchronization problems in the code, or a design error in the hardware);\\\\nto collect information about the operating states of the system that may then be used to analyze the system: to find ways to boost its performance or to optimize other important characteristics (e.g. energy consumption, reliability, real-time response etc.).\\\\n\\\\nAnti-debugging\\\\nAnti-debugging is \"the implementation of one or more techniques within computer code that hinders attempts at reverse engineering or debugging a target process\".<ref name=\"veracode-antidebugging\">{{cite web |url=http://www.veracode.com/blog/2008/12/anti-debugging-series-part-i/ |title=Anti-Debugging Series - Part I |last=Shields |first=Tyler |date=2008-12-02 |work=Veracode |accessdate=2009-03-17}} It is actively used by recognized publishers in copy protection|copy-protection schemas, but is also used by malware to complicate its detection and elimination.<ref name=\"soft-prot\">[http://people.seas.harvard.edu/~mgagnon/software_protection_through_anti_debugging.pdf Software Protection through Anti-Debugging Michael N Gagnon, Stephen Taylor, Anup Ghosh] Techniques used in anti-debugging include:\\\\nAPI-based: check for the existence of a debugger using system information\\\\nException-based: check to see if exceptions are interfered with\\\\nProcess and thread blocks: check whether process and thread blocks have been manipulated\\\\nModified code: check for code modifications made by a debugger handling software breakpoints\\\\nHardware- and register-based: check for hardware breakpoints and CPU registers\\\\nTiming and latency: check the time taken for the execution of instructions\\\\nDetecting and penalizing debugger<ref name=\"soft-prot\" /><!-- reference does not exist -->\\\\n\\\\nAn early example of anti-debugging existed in early versions of Microsoft Word which, if a debugger was detected, produced a message that said: \"The tree of evil bears bitter fruit. Now trashing program disk.\", after which it caused the floppy disk drive to emit alarming noises with the intent of scaring the user away from attempting it again.<ref name=\"SecurityEngineeringRA\">{{cite book | url=http://www.cl.cam.ac.uk/~rja14/book.html | author=Ross J. Anderson | title=Security Engineering | isbn = 0-471-38922-6 | page=684 }}<ref name=\"toastytech\">{{cite web | url=http://toastytech.com/guis/word1153.html | title=Microsoft Word for DOS 1.15}}\\\\n'"
      ]
     },
     "execution_count": 53,
     "metadata": {},
     "output_type": "execute_result"
    }
   ],
   "source": [
    "# Make article into string\n",
    "article = article.to_string()\n",
    "article"
   ]
  },
  {
   "cell_type": "markdown",
   "metadata": {},
   "source": [
    "# Building a Counter with bag-of-words\n",
    "\n",
    "Import Counter from collections. <br>\n",
    "Use word_tokenize() to split the article into tokens.<br>\n",
    "Use a list comprehension with t as the iterator variable to convert all the tokens into lowercase.<br>\n",
    "The .lower() method converts text into lowercase.<br>\n",
    "Create a bag-of-words counter called bow_simple by using Counter() with lower_tokens as the argument.<br>\n",
    "Use the .most_common() method of bow_simple to print the 10 most common tokens."
   ]
  },
  {
   "cell_type": "code",
   "execution_count": 54,
   "metadata": {},
   "outputs": [
    {
     "name": "stdout",
     "output_type": "stream",
     "text": [
      "[(',', 151), ('the', 147), ('of', 81), ('.', 70), (\"''\", 64), ('to', 61), ('a', 59), ('``', 52), ('and', 41), ('in', 41)]\n"
     ]
    }
   ],
   "source": [
    "# Import Counter\n",
    "from collections import Counter\n",
    "\n",
    "# Tokenize the article: tokens\n",
    "tokens = word_tokenize(article)\n",
    "\n",
    "# Convert the tokens into lowercase: lower_tokens\n",
    "lower_tokens = [t.lower() for t in tokens]\n",
    "\n",
    "# Create a Counter with the lowercase tokens: bow_simple\n",
    "bow_simple = Counter(lower_tokens)\n",
    "\n",
    "# Print the 10 most common tokens\n",
    "print(bow_simple.most_common(10))\n"
   ]
  },
  {
   "cell_type": "markdown",
   "metadata": {},
   "source": [
    "# Text preprocessing\n",
    "Import the WordNetLemmatizer class from nltk.stem. <br>\n",
    "Create a list alpha_only that contains only alphabetical characters. You can use the .isalpha() method to check for this.<br>\n",
    "Create another list called no_stops consisting of words from alpha_only that are not contained in english_stops.<br>\n",
    "Initialize a WordNetLemmatizer object called wordnet_lemmatizer and use its .lemmatize() method on the tokens in no_stops to create a new list called lemmatized.<br>\n",
    "Create a new Counter called bow with the lemmatized words.<br>\n",
    "Lastly, print the 10 most common tokens."
   ]
  },
  {
   "cell_type": "code",
   "execution_count": 55,
   "metadata": {},
   "outputs": [],
   "source": [
    "from nltk.corpus import stopwords\n",
    "\n",
    "lower_tokens = [w for w in word_tokenize(article.lower())\n",
    "         if w.isalpha()]"
   ]
  },
  {
   "cell_type": "code",
   "execution_count": 43,
   "metadata": {},
   "outputs": [],
   "source": [
    "english_stops = ['i',\n",
    " 'me',\n",
    " 'my',\n",
    " 'myself',\n",
    " 'we',\n",
    " 'our',\n",
    " 'ours',\n",
    " 'ourselves',\n",
    " 'you',\n",
    " 'your',\n",
    " 'yours',\n",
    " 'yourself',\n",
    " 'yourselves',\n",
    " 'he',\n",
    " 'him',\n",
    " 'his',\n",
    " 'himself',\n",
    " 'she',\n",
    " 'her',\n",
    " 'hers',\n",
    " 'herself',\n",
    " 'it',\n",
    " 'its',\n",
    " 'itself',\n",
    " 'they',\n",
    " 'them',\n",
    " 'their',\n",
    " 'theirs',\n",
    " 'themselves',\n",
    " 'what',\n",
    " 'which',\n",
    " 'who',\n",
    " 'whom',\n",
    " 'this',\n",
    " 'that',\n",
    " 'these',\n",
    " 'those',\n",
    " 'am',\n",
    " 'is',\n",
    " 'are',\n",
    " 'was',\n",
    " 'were',\n",
    " 'be',\n",
    " 'been',\n",
    " 'being',\n",
    " 'have',\n",
    " 'has',\n",
    " 'had',\n",
    " 'having',\n",
    " 'do',\n",
    " 'does',\n",
    " 'did',\n",
    " 'doing',\n",
    " 'a',\n",
    " 'an',\n",
    " 'the',\n",
    " 'and',\n",
    " 'but',\n",
    " 'if',\n",
    " 'or',\n",
    " 'because',\n",
    " 'as',\n",
    " 'until',\n",
    " 'while',\n",
    " 'of',\n",
    " 'at',\n",
    " 'by',\n",
    " 'for',\n",
    " 'with',\n",
    " 'about',\n",
    " 'against',\n",
    " 'between',\n",
    " 'into',\n",
    " 'through',\n",
    " 'during',\n",
    " 'before',\n",
    " 'after',\n",
    " 'above',\n",
    " 'below',\n",
    " 'to',\n",
    " 'from',\n",
    " 'up',\n",
    " 'down',\n",
    " 'in',\n",
    " 'out',\n",
    " 'on',\n",
    " 'off',\n",
    " 'over',\n",
    " 'under',\n",
    " 'again',\n",
    " 'further',\n",
    " 'then',\n",
    " 'once',\n",
    " 'here',\n",
    " 'there',\n",
    " 'when',\n",
    " 'where',\n",
    " 'why',\n",
    " 'how',\n",
    " 'all',\n",
    " 'any',\n",
    " 'both',\n",
    " 'each',\n",
    " 'few',\n",
    " 'more',\n",
    " 'most',\n",
    " 'other',\n",
    " 'some',\n",
    " 'such',\n",
    " 'no',\n",
    " 'nor',\n",
    " 'not',\n",
    " 'only',\n",
    " 'own',\n",
    " 'same',\n",
    " 'so',\n",
    " 'than',\n",
    " 'too',\n",
    " 'very',\n",
    " 's',\n",
    " 't',\n",
    " 'can',\n",
    " 'will',\n",
    " 'just',\n",
    " 'don',\n",
    " 'should',\n",
    " 'now',\n",
    " 'd',\n",
    " 'll',\n",
    " 'm',\n",
    " 'o',\n",
    " 're',\n",
    " 've',\n",
    " 'y',\n",
    " 'ain',\n",
    " 'aren',\n",
    " 'couldn',\n",
    " 'didn',\n",
    " 'doesn',\n",
    " 'hadn',\n",
    " 'hasn',\n",
    " 'haven',\n",
    " 'isn',\n",
    " 'ma',\n",
    " 'mightn',\n",
    " 'mustn',\n",
    " 'needn',\n",
    " 'shan',\n",
    " 'shouldn',\n",
    " 'wasn',\n",
    " 'weren',\n",
    " 'won',\n",
    " 'wouldn',\n",
    " '']\n"
   ]
  },
  {
   "cell_type": "code",
   "execution_count": 45,
   "metadata": {},
   "outputs": [
    {
     "name": "stderr",
     "output_type": "stream",
     "text": [
      "[nltk_data] Downloading package wordnet to\n",
      "[nltk_data]     C:\\Users\\blake\\AppData\\Roaming\\nltk_data...\n",
      "[nltk_data]   Unzipping corpora\\wordnet.zip.\n"
     ]
    },
    {
     "name": "stdout",
     "output_type": "stream",
     "text": [
      "[('process', 1), ('finding', 1)]\n"
     ]
    }
   ],
   "source": [
    "# Import WordNetLemmatizer\n",
    "from nltk.stem import WordNetLemmatizer\n",
    "import nltk\n",
    "nltk.download('wordnet')\n"
   ]
  },
  {
   "cell_type": "code",
   "execution_count": 57,
   "metadata": {},
   "outputs": [
    {
     "name": "stdout",
     "output_type": "stream",
     "text": [
      "[('debugging', 34), ('system', 23), ('software', 16), ('bug', 16), ('computer', 14), ('problem', 14), ('tool', 14), ('term', 13), ('debugger', 13), ('process', 12), ('used', 12), ('http', 11), ('program', 11), ('programming', 9), ('technique', 9)]\n"
     ]
    }
   ],
   "source": [
    "# Retain alphabetic words: alpha_only\n",
    "alpha_only = [t for t in lower_tokens if t.isalpha()]\n",
    "\n",
    "# Remove all stop words: no_stops\n",
    "no_stops = [t for t in alpha_only if t not in english_stops]\n",
    "\n",
    "# Instantiate the WordNetLemmatizer\n",
    "wordnet_lemmatizer = WordNetLemmatizer()\n",
    "\n",
    "# Lemmatize all tokens into a new list: lemmatized\n",
    "lemmatized = [wordnet_lemmatizer.lemmatize(t) for t in no_stops]\n",
    "\n",
    "# Create the bag-of-words: bow\n",
    "bow = Counter(lemmatized)\n",
    "\n",
    "# Print the 10 most common tokens\n",
    "print(bow.most_common(15))"
   ]
  },
  {
   "cell_type": "markdown",
   "metadata": {},
   "source": [
    "# Gensim library (opensource NLP library)"
   ]
  },
  {
   "cell_type": "code",
   "execution_count": 61,
   "metadata": {},
   "outputs": [
    {
     "name": "stdout",
     "output_type": "stream",
     "text": [
      "Collecting gensim\n",
      "  Downloading gensim-3.8.3-cp37-cp37m-win_amd64.whl (24.2 MB)\n",
      "Requirement already satisfied: numpy>=1.11.3 in c:\\users\\blake\\anaconda3\\lib\\site-packages (from gensim) (1.18.1)\n",
      "Requirement already satisfied: six>=1.5.0 in c:\\users\\blake\\anaconda3\\lib\\site-packages (from gensim) (1.15.0)\n",
      "Collecting Cython==0.29.14\n",
      "  Downloading Cython-0.29.14-cp37-cp37m-win_amd64.whl (1.7 MB)\n",
      "Collecting smart-open>=1.8.1\n",
      "Note: you may need to restart the kernel to use updated packages.  Downloading smart_open-2.1.0.tar.gz (116 kB)\n",
      "Requirement already satisfied: scipy>=0.18.1 in c:\\users\\blake\\anaconda3\\lib\\site-packages (from gensim) (1.4.1)\n",
      "\n",
      "Requirement already satisfied: requests in c:\\users\\blake\\anaconda3\\lib\\site-packages (from smart-open>=1.8.1->gensim) (2.23.0)\n",
      "Requirement already satisfied: boto in c:\\users\\blake\\anaconda3\\lib\\site-packages (from smart-open>=1.8.1->gensim) (2.49.0)\n",
      "Collecting boto3\n",
      "  Downloading boto3-1.14.16-py2.py3-none-any.whl (128 kB)\n",
      "Requirement already satisfied: idna<3,>=2.5 in c:\\users\\blake\\anaconda3\\lib\\site-packages (from requests->smart-open>=1.8.1->gensim) (2.9)\n",
      "Requirement already satisfied: certifi>=2017.4.17 in c:\\users\\blake\\anaconda3\\lib\\site-packages (from requests->smart-open>=1.8.1->gensim) (2020.4.5.1)\n",
      "Requirement already satisfied: urllib3!=1.25.0,!=1.25.1,<1.26,>=1.21.1 in c:\\users\\blake\\anaconda3\\lib\\site-packages (from requests->smart-open>=1.8.1->gensim) (1.25.8)\n",
      "Requirement already satisfied: chardet<4,>=3.0.2 in c:\\users\\blake\\anaconda3\\lib\\site-packages (from requests->smart-open>=1.8.1->gensim) (3.0.4)\n",
      "Collecting jmespath<1.0.0,>=0.7.1\n",
      "  Downloading jmespath-0.10.0-py2.py3-none-any.whl (24 kB)\n",
      "Collecting botocore<1.18.0,>=1.17.16\n",
      "  Downloading botocore-1.17.16-py2.py3-none-any.whl (6.3 MB)\n",
      "Collecting s3transfer<0.4.0,>=0.3.0\n",
      "  Downloading s3transfer-0.3.3-py2.py3-none-any.whl (69 kB)\n",
      "Requirement already satisfied: python-dateutil<3.0.0,>=2.1 in c:\\users\\blake\\anaconda3\\lib\\site-packages (from botocore<1.18.0,>=1.17.16->boto3->smart-open>=1.8.1->gensim) (2.8.1)\n",
      "Collecting docutils<0.16,>=0.10\n",
      "  Downloading docutils-0.15.2-py3-none-any.whl (547 kB)\n",
      "Building wheels for collected packages: smart-open\n",
      "  Building wheel for smart-open (setup.py): started\n",
      "  Building wheel for smart-open (setup.py): finished with status 'done'\n",
      "  Created wheel for smart-open: filename=smart_open-2.1.0-py3-none-any.whl size=110324 sha256=1d8eae1100f9e07de234b63f1ffd7731dfc8e5b37fd587a252d65fc5de7530e7\n",
      "  Stored in directory: c:\\users\\blake\\appdata\\local\\pip\\cache\\wheels\\56\\b5\\6d\\86dbe4f29d4688e5163a8b8c6b740494310040286fca4dc648\n",
      "Successfully built smart-open\n",
      "Installing collected packages: Cython, jmespath, docutils, botocore, s3transfer, boto3, smart-open, gensim\n",
      "  Attempting uninstall: Cython\n",
      "    Found existing installation: Cython 0.29.17\n",
      "    Uninstalling Cython-0.29.17:\n",
      "      Successfully uninstalled Cython-0.29.17\n",
      "  Attempting uninstall: docutils\n",
      "    Found existing installation: docutils 0.16\n",
      "    Uninstalling docutils-0.16:\n",
      "      Successfully uninstalled docutils-0.16\n",
      "Successfully installed Cython-0.29.14 boto3-1.14.16 botocore-1.17.16 docutils-0.15.2 gensim-3.8.3 jmespath-0.10.0 s3transfer-0.3.3 smart-open-2.1.0\n"
     ]
    }
   ],
   "source": [
    "pip install gensim"
   ]
  },
  {
   "cell_type": "code",
   "execution_count": 62,
   "metadata": {},
   "outputs": [],
   "source": [
    "import gensim\n",
    "\n",
    "from gensim.corpora.dictionary import Dictionary\n",
    "\n",
    "from nltk.tokenize import word_tokenize"
   ]
  },
  {
   "cell_type": "markdown",
   "metadata": {},
   "source": [
    "# Creating and querying a corpus with gensim\n",
    "Import Dictionary from gensim.corpora.dictionary.<br>\n",
    "Initialize a gensim Dictionary with the tokens in articles.<br>\n",
    "Obtain the id for \"computer\" from dictionary. <br>To do this, use its .token2id method which returns ids from text, and then chain .get() which returns tokens from ids. <br> Pass in \"computer\" as an argument to .get().<br>\n",
    "Use a list comprehension in which you iterate over articles to create a gensim MmCorpus from dictionary.<br>\n",
    "In the output expression, use the .doc2bow() method on dictionary with article as the argument.<br>\n",
    "Print the first 10 word ids with their frequency counts from the fifth document.<br> This has been done for you, so hit 'Submit Answer' to see the results!"
   ]
  },
  {
   "cell_type": "code",
   "execution_count": 82,
   "metadata": {},
   "outputs": [],
   "source": [
    "# Import Dictionary\n",
    "from gensim.corpora.dictionary import Dictionary\n",
    "\n",
    "# Create a Dictionary from the articles: dictionary\n",
    "# be sure to split sentence before feed into Dictionary\n",
    "articles = [d.split() for d in lower_tokens]\n",
    "\n",
    "#dictionary = Dictionary(dataset)\n",
    "# Create a Dictionary from the articles: dictionary\n",
    "dictionary = Dictionary(articles)\n"
   ]
  },
  {
   "cell_type": "code",
   "execution_count": 83,
   "metadata": {},
   "outputs": [
    {
     "name": "stdout",
     "output_type": "stream",
     "text": [
      "computer\n",
      "[(4, 1)]\n"
     ]
    }
   ],
   "source": [
    "# Select the id for \"computer\": computer_id\n",
    "computer_id = dictionary.token2id.get(\"computer\")\n",
    "\n",
    "# Use computer_id with the dictionary to print the word\n",
    "print(dictionary.get(computer_id))\n",
    "\n",
    "# Create a MmCorpus: corpus\n",
    "corpus = [dictionary.doc2bow(article) for article in articles]\n",
    "\n",
    "# Print the first 10 word ids with their \n",
    "# frequency counts from the fifth document\n",
    "print(corpus[4][:10])\n"
   ]
  },
  {
   "cell_type": "code",
   "execution_count": null,
   "metadata": {},
   "outputs": [],
   "source": [
    "# Save the fifth document: doc\n",
    "doc = corpus[4]\n",
    "\n",
    "# Sort the doc for frequency: bow_doc\n",
    "bow_doc = sorted(doc, key=lambda w: w[1], reverse=True)\n",
    "\n",
    "# Print the top 5 words of the document alongside the count\n",
    "for word_id, word_count in bow_doc[:5]:\n",
    "    print(dictionary.get(word_id), word_count)\n",
    "    \n",
    "# Create the defaultdict: total_word_count\n",
    "total_word_count = defaultdict(int)\n",
    "for word_id, word_count in itertools.chain.from_iterable(corpus):\n",
    "    total_word_count[word_id] += word_count\n",
    "\n",
    "# Create a sorted list from the defaultdict: sorted_word_count \n",
    "sorted_word_count = sorted(total_word_count.items(), key=lambda w: w[1], reverse=True) \n",
    "\n",
    "# Print the top 5 words across all documents alongside the count\n",
    "for word_id, word_count in sorted_word_count[:5]:\n",
    "    print(dictionary.get(word_id), word_count)"
   ]
  },
  {
   "cell_type": "code",
   "execution_count": null,
   "metadata": {},
   "outputs": [],
   "source": [
    "# Create a new TfidfModel using the corpus: tfidf\n",
    "tfidf = TfidfModel(corpus)\n",
    "\n",
    "# Calculate the tfidf weights of doc: tfidf_weights\n",
    "tfidf_weights = tfidf[doc]\n",
    "\n",
    "# Print the first five weights\n",
    "print(tfidf_weights[:5])\n",
    "\n",
    "# Sort the weights from highest to lowest: sorted_tfidf_weights\n",
    "sorted_tfidf_weights = sorted(tfidf_weights, key=lambda w: w[1], reverse=True)\n",
    "\n",
    "# Print the top 5 weighted words\n",
    "for term_id, weight in sorted_tfidf_weights[:5]:\n",
    "    print(dictionary.get(term_id), weight)"
   ]
  }
 ],
 "metadata": {
  "kernelspec": {
   "display_name": "Python 3",
   "language": "python",
   "name": "python3"
  },
  "language_info": {
   "codemirror_mode": {
    "name": "ipython",
    "version": 3
   },
   "file_extension": ".py",
   "mimetype": "text/x-python",
   "name": "python",
   "nbconvert_exporter": "python",
   "pygments_lexer": "ipython3",
   "version": "3.7.7"
  }
 },
 "nbformat": 4,
 "nbformat_minor": 4
}

{
 "cells": [
  {
   "cell_type": "markdown",
   "metadata": {},
   "source": [
    "# Monte Carlo Simulation\n",
    "Making a function that simulates grocery store sales"
   ]
  },
  {
   "cell_type": "markdown",
   "metadata": {},
   "source": [
    "# Average grocery visot cost and number of visitors \n",
    "    \n",
    "According to: https://www.foxbusiness.com/lifestyle/what-is-the-average-grocery-bill-for-one-person\n",
    "The average grocery monthly bill is between 165 and 345 the average person going twice a month so we will divide 255 by 2 so 127$ will be the average visit cost.\n",
    "\n",
    "According to: https://www.quora.com/What-is-the-average-foot-traffic-at-a-local-grocery-store\n",
    "Even small stores get 2000 visitors a day we will be a slightly bigger store at 4000 per day average\n",
    " \n"
   ]
  },
  {
   "cell_type": "code",
   "execution_count": 36,
   "metadata": {},
   "outputs": [],
   "source": [
    "import numpy as np\n",
    "import pandas as pd\n",
    "import random"
   ]
  },
  {
   "cell_type": "markdown",
   "metadata": {},
   "source": [
    "# Simulate average visitors per day, avg margin per day and average amount spend per day per person\n",
    "This assumes that each day people will buy a varying amount and types of products leading to various margins"
   ]
  },
  {
   "cell_type": "code",
   "execution_count": 37,
   "metadata": {},
   "outputs": [],
   "source": [
    "#Simulate normal distribution of visitors with average amount of visitors is 4000 transactions per day\n",
    "avg_customer = 4000 \n",
    "std_dev = avg_customer * .10 # 10% standard deviation of average visitor amount for simplicity\n",
    "num_days = 365\n",
    "\n",
    "\n",
    "# Get variables needed to calculate the random margin\n",
    "avg_margin = .0275 \n",
    "std_dev_m = avg_margin * .10 # 10% standard deviation of average visitor amount for simplicity\n",
    "num_dayz = 365\n",
    "\n",
    "# Get random distribution for amount the average customer spends each day.\n",
    "avg_spend = 127.5 \n",
    "std_dev_s = avg_spend * .10 # 10% standard deviation of average visitor amount for simplicity\n",
    "num_dayz2 = 365"
   ]
  },
  {
   "cell_type": "code",
   "execution_count": 38,
   "metadata": {},
   "outputs": [],
   "source": [
    "# Simulating random number of visitors for a whole year.....\n",
    "visitors = np.random.normal(avg_customer, std_dev, num_days).round(2)\n",
    "margin = np.random.normal(avg_margin, std_dev_m, num_dayz)\n",
    "spend = np.random.normal(avg_spend, std_dev_s, num_dayz2)"
   ]
  },
  {
   "cell_type": "markdown",
   "metadata": {},
   "source": [
    "# Calculate Revenue "
   ]
  },
  {
   "cell_type": "code",
   "execution_count": 39,
   "metadata": {},
   "outputs": [],
   "source": [
    "df = pd.DataFrame(index=range(num_days), data={'num_visitors': visitors,\n",
    "                                               'margin': margin,\n",
    "                                               'spent': spend})"
   ]
  },
  {
   "cell_type": "code",
   "execution_count": 40,
   "metadata": {},
   "outputs": [
    {
     "data": {
      "text/html": [
       "<div>\n",
       "<style scoped>\n",
       "    .dataframe tbody tr th:only-of-type {\n",
       "        vertical-align: middle;\n",
       "    }\n",
       "\n",
       "    .dataframe tbody tr th {\n",
       "        vertical-align: top;\n",
       "    }\n",
       "\n",
       "    .dataframe thead th {\n",
       "        text-align: right;\n",
       "    }\n",
       "</style>\n",
       "<table border=\"1\" class=\"dataframe\">\n",
       "  <thead>\n",
       "    <tr style=\"text-align: right;\">\n",
       "      <th></th>\n",
       "      <th>num_visitors</th>\n",
       "      <th>margin</th>\n",
       "      <th>spent</th>\n",
       "      <th>revenue</th>\n",
       "      <th>expenses</th>\n",
       "      <th>profit</th>\n",
       "    </tr>\n",
       "  </thead>\n",
       "  <tbody>\n",
       "    <tr>\n",
       "      <th>0</th>\n",
       "      <td>4092.74</td>\n",
       "      <td>0.026492</td>\n",
       "      <td>124.474922</td>\n",
       "      <td>509443.491047</td>\n",
       "      <td>495947.484867</td>\n",
       "      <td>13496.006180</td>\n",
       "    </tr>\n",
       "    <tr>\n",
       "      <th>1</th>\n",
       "      <td>3737.94</td>\n",
       "      <td>0.030677</td>\n",
       "      <td>145.083381</td>\n",
       "      <td>542312.973328</td>\n",
       "      <td>525676.215643</td>\n",
       "      <td>16636.757685</td>\n",
       "    </tr>\n",
       "    <tr>\n",
       "      <th>2</th>\n",
       "      <td>4007.44</td>\n",
       "      <td>0.027556</td>\n",
       "      <td>115.212591</td>\n",
       "      <td>461707.545624</td>\n",
       "      <td>448984.612936</td>\n",
       "      <td>12722.932688</td>\n",
       "    </tr>\n",
       "    <tr>\n",
       "      <th>3</th>\n",
       "      <td>4432.08</td>\n",
       "      <td>0.029647</td>\n",
       "      <td>115.781806</td>\n",
       "      <td>513154.226698</td>\n",
       "      <td>497940.706505</td>\n",
       "      <td>15213.520193</td>\n",
       "    </tr>\n",
       "    <tr>\n",
       "      <th>4</th>\n",
       "      <td>4160.89</td>\n",
       "      <td>0.024985</td>\n",
       "      <td>113.309969</td>\n",
       "      <td>471470.316393</td>\n",
       "      <td>459690.641583</td>\n",
       "      <td>11779.674809</td>\n",
       "    </tr>\n",
       "  </tbody>\n",
       "</table>\n",
       "</div>"
      ],
      "text/plain": [
       "   num_visitors    margin       spent        revenue       expenses  \\\n",
       "0       4092.74  0.026492  124.474922  509443.491047  495947.484867   \n",
       "1       3737.94  0.030677  145.083381  542312.973328  525676.215643   \n",
       "2       4007.44  0.027556  115.212591  461707.545624  448984.612936   \n",
       "3       4432.08  0.029647  115.781806  513154.226698  497940.706505   \n",
       "4       4160.89  0.024985  113.309969  471470.316393  459690.641583   \n",
       "\n",
       "         profit  \n",
       "0  13496.006180  \n",
       "1  16636.757685  \n",
       "2  12722.932688  \n",
       "3  15213.520193  \n",
       "4  11779.674809  "
      ]
     },
     "execution_count": 40,
     "metadata": {},
     "output_type": "execute_result"
    }
   ],
   "source": [
    "# Calculate the revenue, total proft and expenses 1- profit\n",
    "df['revenue'] = df['num_visitors'] * df['spent'] # Calculate the total revenue\n",
    "df['expenses'] = df['revenue'] * (1- df['margin']) # Calculate the cost of buying product\n",
    "df['profit'] = df['revenue'] * df['margin'] # Calculate the profit\n",
    "df.head()"
   ]
  },
  {
   "cell_type": "markdown",
   "metadata": {},
   "source": [
    "# Simulation time"
   ]
  },
  {
   "cell_type": "code",
   "execution_count": 131,
   "metadata": {},
   "outputs": [],
   "source": [
    "#Simulate normal distribution of visitors with average amount of visitors is 4000 transactions per day\n",
    "avg_customer = 4000 \n",
    "std_dev = avg_customer * .10 # 10% standard deviation of average visitor amount for simplicity\n",
    "num_days = 1825\n",
    "\n",
    "# Get variables needed to calculate the random margin\n",
    "avg_margin = .0275 \n",
    "std_dev_m = avg_margin * .10 # 10% standard deviation of average visitor amount for simplicity\n",
    "\n",
    "# Get random distribution for amount the average customer spends each day.\n",
    "avg_spend = 127.5 \n",
    "std_dev_s = avg_spend * .10 # 10% standard deviation of average visitor amount for simplicity\n",
    "\n",
    "num_simulations = 100 # to simulate 10 years of 365 days\n",
    "\n",
    "# list to keep all the results from each simulation \n",
    "profit_total = []\n",
    "df3= pd.DataFrame([])\n",
    "\n",
    "# Loop through many simulations\n",
    "for i in range(num_simulations):\n",
    "\n",
    "\n",
    "    # Simulating random visitors, average margin and spend per day for the store\n",
    "    visitors = np.random.normal(avg_customer, std_dev, num_days).round(2)\n",
    "margin = np.random.normal(avg_margin, std_dev_m, num_days)\n",
    "spend = np.random.normal(avg_spend, std_dev_s, num_days)\n",
    "\n",
    "df = pd.DataFrame(index=range(num_days), data={'num_visitors': visitors,\n",
    "                                               'margin': margin,\n",
    "                                               'spent': spend})\n",
    "    \n",
    "    # Calculate the revenue, total proft and expenses 1- profit\n",
    "df['revenue'] = df['num_visitors'] * df['spent'] # Calculate the total revenue\n",
    "df['expenses'] = df['revenue'] * (1- df['margin']) # Calculate the cost of buying product\n",
    "df['profit'] = df['revenue'] * df['margin'] # Calculate the profit\n",
    "\n",
    "\n",
    "    # We want to track the total revenue expenses and profit\n",
    "profit_total.append([df['revenue'].sum().round(0),\n",
    "                      df['expenses'].sum().round(0),\n",
    "                      df['profit'].sum().round(0)])\n",
    "\n",
    "df3 = df.append(df)"
   ]
  },
  {
   "cell_type": "code",
   "execution_count": 132,
   "metadata": {},
   "outputs": [
    {
     "data": {
      "text/plain": [
       "(3650, 6)"
      ]
     },
     "execution_count": 132,
     "metadata": {},
     "output_type": "execute_result"
    }
   ],
   "source": [
    "df3.shape"
   ]
  },
  {
   "cell_type": "code",
   "execution_count": 133,
   "metadata": {},
   "outputs": [
    {
     "name": "stdout",
     "output_type": "stream",
     "text": [
      "       revenue     expenses      profit\n",
      "0  937040049.0  911234657.0  25805392.0\n"
     ]
    }
   ],
   "source": [
    "financials = pd.DataFrame.from_records(profit_total, columns=['revenue',\n",
    "                                                           'expenses',\n",
    "                                                           'profit'])\n",
    "print(financials)"
   ]
  },
  {
   "cell_type": "markdown",
   "metadata": {},
   "source": [
    "# SIMULATION NOW DIFFERENT METHOD\n",
    "# for some reason the algorithm doubles the number of days and that is the number of maybe visitors = np.random.normal(avg_customer, std_dev, num_days).round(2) is the problem"
   ]
  },
  {
   "cell_type": "code",
   "execution_count": 119,
   "metadata": {},
   "outputs": [],
   "source": [
    "#Simulate normal distribution of visitors with average amount of visitors is 4000 transactions per day\n",
    "avg_customer = 4000 \n",
    "std_dev = avg_customer * .10 # 10% standard deviation of average visitor amount for simplicity\n",
    "num_days = 365\n",
    "\n",
    "# Get variables needed to calculate the random margin\n",
    "avg_margin = .0275 \n",
    "std_dev_m = avg_margin * .10 # 10% standard deviation of average visitor amount for simplicity\n",
    "\n",
    "# Get random distribution for amount the average customer spends each day.\n",
    "avg_spend = 127.5 \n",
    "std_dev_s = avg_spend * .10 # 10% standard deviation of average visitor amount for simplicity\n",
    "\n",
    "\n",
    "np.random.seed(2015)\n",
    "\n",
    "num_simulations = 100 # to simulate 10 years of 365 days\n",
    "\n",
    "# list to keep all the results from each simulation \n",
    "revenue = []\n",
    "expenses = []\n",
    "profit = []\n",
    "\n",
    "df2= pd.DataFrame([])\n",
    "\n",
    "# Loop through many simulations\n",
    "for i in range(num_simulations):\n",
    "    # Simulating random visitors, average margin and spend per day for the store\n",
    "    visitors = np.random.normal(avg_customer, std_dev, num_days).round(2)\n",
    "margin = np.random.normal(avg_margin, std_dev_m, num_days)\n",
    "spend = np.random.normal(avg_spend, std_dev_s, num_days)\n",
    "\n",
    "df = pd.DataFrame(index=range(num_days), data={'num_visitors': visitors,\n",
    "                                               'margin': margin,\n",
    "                                               'spent': spend})\n",
    "    \n",
    "    # Calculate the revenue, total proft and expenses 1- profit\n",
    "df['revenue'] = df['num_visitors'] * df['spent'] # Calculate the total revenue\n",
    "df['expenses'] = df['revenue'] * (1- df['margin']) # Calculate the cost of buying product\n",
    "df['profit'] = df['revenue'] * df['margin'] # Calculate the profit\n",
    "\n",
    "revenue = df['num_visitors'] * df['spent'] # Calculate the total revenue\n",
    "expenses = df['revenue'] * (1- df['margin']) # Calculate the cost of buying product\n",
    "profit = df['revenue'] * df['margin'] # Calculate the profit\n",
    "\n",
    "\n",
    "    # We want to track the total revenue expenses and profit\n",
    "revenue.append(revenue)\n",
    "expenses.append(expenses)\n",
    "profit.append(profit)\n",
    "\n",
    " # We want to track the total revenue expenses and profit\n",
    "\n",
    "results_df = pd.DataFrame()\n",
    "results_df['revenue'] = revenue\n",
    "results_df['expenses'] = expenses\n",
    "results_df['profit'] = profit\n",
    "\n",
    "df2 = df.append(df) # append a second way.........................."
   ]
  },
  {
   "cell_type": "code",
   "execution_count": 134,
   "metadata": {},
   "outputs": [
    {
     "data": {
      "text/html": [
       "<div>\n",
       "<style scoped>\n",
       "    .dataframe tbody tr th:only-of-type {\n",
       "        vertical-align: middle;\n",
       "    }\n",
       "\n",
       "    .dataframe tbody tr th {\n",
       "        vertical-align: top;\n",
       "    }\n",
       "\n",
       "    .dataframe thead th {\n",
       "        text-align: right;\n",
       "    }\n",
       "</style>\n",
       "<table border=\"1\" class=\"dataframe\">\n",
       "  <thead>\n",
       "    <tr style=\"text-align: right;\">\n",
       "      <th></th>\n",
       "      <th>revenue</th>\n",
       "      <th>expenses</th>\n",
       "      <th>profit</th>\n",
       "    </tr>\n",
       "  </thead>\n",
       "  <tbody>\n",
       "    <tr>\n",
       "      <th>0</th>\n",
       "      <td>744266.312579</td>\n",
       "      <td>724358.670969</td>\n",
       "      <td>19907.641611</td>\n",
       "    </tr>\n",
       "    <tr>\n",
       "      <th>1</th>\n",
       "      <td>470148.364962</td>\n",
       "      <td>456153.651535</td>\n",
       "      <td>13994.713426</td>\n",
       "    </tr>\n",
       "    <tr>\n",
       "      <th>2</th>\n",
       "      <td>610610.946283</td>\n",
       "      <td>594607.575616</td>\n",
       "      <td>16003.370667</td>\n",
       "    </tr>\n",
       "    <tr>\n",
       "      <th>3</th>\n",
       "      <td>438397.609789</td>\n",
       "      <td>425376.492968</td>\n",
       "      <td>13021.116821</td>\n",
       "    </tr>\n",
       "    <tr>\n",
       "      <th>4</th>\n",
       "      <td>417221.736905</td>\n",
       "      <td>404139.839782</td>\n",
       "      <td>13081.897123</td>\n",
       "    </tr>\n",
       "  </tbody>\n",
       "</table>\n",
       "</div>"
      ],
      "text/plain": [
       "         revenue       expenses        profit\n",
       "0  744266.312579  724358.670969  19907.641611\n",
       "1  470148.364962  456153.651535  13994.713426\n",
       "2  610610.946283  594607.575616  16003.370667\n",
       "3  438397.609789  425376.492968  13021.116821\n",
       "4  417221.736905  404139.839782  13081.897123"
      ]
     },
     "execution_count": 134,
     "metadata": {},
     "output_type": "execute_result"
    }
   ],
   "source": [
    "results_df.head()"
   ]
  },
  {
   "cell_type": "code",
   "execution_count": 121,
   "metadata": {},
   "outputs": [
    {
     "data": {
      "text/html": [
       "<div>\n",
       "<style scoped>\n",
       "    .dataframe tbody tr th:only-of-type {\n",
       "        vertical-align: middle;\n",
       "    }\n",
       "\n",
       "    .dataframe tbody tr th {\n",
       "        vertical-align: top;\n",
       "    }\n",
       "\n",
       "    .dataframe thead th {\n",
       "        text-align: right;\n",
       "    }\n",
       "</style>\n",
       "<table border=\"1\" class=\"dataframe\">\n",
       "  <thead>\n",
       "    <tr style=\"text-align: right;\">\n",
       "      <th></th>\n",
       "      <th>num_visitors</th>\n",
       "      <th>margin</th>\n",
       "      <th>spent</th>\n",
       "      <th>revenue</th>\n",
       "      <th>expenses</th>\n",
       "      <th>profit</th>\n",
       "    </tr>\n",
       "  </thead>\n",
       "  <tbody>\n",
       "    <tr>\n",
       "      <th>count</th>\n",
       "      <td>730.000000</td>\n",
       "      <td>730.000000</td>\n",
       "      <td>730.000000</td>\n",
       "      <td>730.000000</td>\n",
       "      <td>730.000000</td>\n",
       "      <td>730.000000</td>\n",
       "    </tr>\n",
       "    <tr>\n",
       "      <th>mean</th>\n",
       "      <td>4005.837781</td>\n",
       "      <td>0.027582</td>\n",
       "      <td>127.405213</td>\n",
       "      <td>510408.196980</td>\n",
       "      <td>496343.640763</td>\n",
       "      <td>14064.556217</td>\n",
       "    </tr>\n",
       "    <tr>\n",
       "      <th>std</th>\n",
       "      <td>421.357569</td>\n",
       "      <td>0.002767</td>\n",
       "      <td>12.431736</td>\n",
       "      <td>74305.444497</td>\n",
       "      <td>72385.975694</td>\n",
       "      <td>2400.544461</td>\n",
       "    </tr>\n",
       "    <tr>\n",
       "      <th>min</th>\n",
       "      <td>2350.330000</td>\n",
       "      <td>0.019167</td>\n",
       "      <td>89.110999</td>\n",
       "      <td>306546.728573</td>\n",
       "      <td>298317.308601</td>\n",
       "      <td>7524.469057</td>\n",
       "    </tr>\n",
       "    <tr>\n",
       "      <th>25%</th>\n",
       "      <td>3728.790000</td>\n",
       "      <td>0.025728</td>\n",
       "      <td>118.924981</td>\n",
       "      <td>461321.909869</td>\n",
       "      <td>447798.506983</td>\n",
       "      <td>12417.743212</td>\n",
       "    </tr>\n",
       "    <tr>\n",
       "      <th>50%</th>\n",
       "      <td>3986.000000</td>\n",
       "      <td>0.027651</td>\n",
       "      <td>127.029819</td>\n",
       "      <td>506818.181387</td>\n",
       "      <td>493350.796916</td>\n",
       "      <td>13946.666120</td>\n",
       "    </tr>\n",
       "    <tr>\n",
       "      <th>75%</th>\n",
       "      <td>4255.160000</td>\n",
       "      <td>0.029614</td>\n",
       "      <td>135.364746</td>\n",
       "      <td>552681.960553</td>\n",
       "      <td>537779.888271</td>\n",
       "      <td>15593.307624</td>\n",
       "    </tr>\n",
       "    <tr>\n",
       "      <th>max</th>\n",
       "      <td>5312.510000</td>\n",
       "      <td>0.034222</td>\n",
       "      <td>161.431263</td>\n",
       "      <td>750207.749080</td>\n",
       "      <td>730111.734931</td>\n",
       "      <td>21629.262187</td>\n",
       "    </tr>\n",
       "  </tbody>\n",
       "</table>\n",
       "</div>"
      ],
      "text/plain": [
       "       num_visitors      margin       spent        revenue       expenses  \\\n",
       "count    730.000000  730.000000  730.000000     730.000000     730.000000   \n",
       "mean    4005.837781    0.027582  127.405213  510408.196980  496343.640763   \n",
       "std      421.357569    0.002767   12.431736   74305.444497   72385.975694   \n",
       "min     2350.330000    0.019167   89.110999  306546.728573  298317.308601   \n",
       "25%     3728.790000    0.025728  118.924981  461321.909869  447798.506983   \n",
       "50%     3986.000000    0.027651  127.029819  506818.181387  493350.796916   \n",
       "75%     4255.160000    0.029614  135.364746  552681.960553  537779.888271   \n",
       "max     5312.510000    0.034222  161.431263  750207.749080  730111.734931   \n",
       "\n",
       "             profit  \n",
       "count    730.000000  \n",
       "mean   14064.556217  \n",
       "std     2400.544461  \n",
       "min     7524.469057  \n",
       "25%    12417.743212  \n",
       "50%    13946.666120  \n",
       "75%    15593.307624  \n",
       "max    21629.262187  "
      ]
     },
     "execution_count": 121,
     "metadata": {},
     "output_type": "execute_result"
    }
   ],
   "source": [
    "df2.describe()"
   ]
  },
  {
   "cell_type": "code",
   "execution_count": 124,
   "metadata": {},
   "outputs": [
    {
     "data": {
      "text/plain": [
       "Text(0, 0.5, 'Frequency')"
      ]
     },
     "execution_count": 124,
     "metadata": {},
     "output_type": "execute_result"
    },
    {
     "data": {
      "image/png": "[encoded data removed]",
      "text/plain": [
       "<Figure size 432x288 with 1 Axes>"
      ]
     },
     "metadata": {
      "needs_background": "light"
     },
     "output_type": "display_data"
    }
   ],
   "source": [
    "# matplotlib histogram\n",
    "import matplotlib.pyplot as plt\n",
    "plt.hist(df2['profit'], color = 'blue', edgecolor = 'black',\n",
    "         bins = int(180/5))\n",
    "# Add labels\n",
    "plt.title('Histogram profit distribution')\n",
    "plt.xlabel('profit')\n",
    "plt.ylabel('Frequency')"
   ]
  },
  {
   "cell_type": "code",
   "execution_count": null,
   "metadata": {},
   "outputs": [],
   "source": []
  }
 ],
 "metadata": {
  "kernelspec": {
   "display_name": "Python 3",
   "language": "python",
   "name": "python3"
  },
  "language_info": {
   "codemirror_mode": {
    "name": "ipython",
    "version": 3
   },
   "file_extension": ".py",
   "mimetype": "text/x-python",
   "name": "python",
   "nbconvert_exporter": "python",
   "pygments_lexer": "ipython3",
   "version": "3.7.7"
  }
 },
 "nbformat": 4,
 "nbformat_minor": 4
}

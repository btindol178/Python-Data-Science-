{
 "cells": [
  {
   "cell_type": "markdown",
   "metadata": {},
   "source": [
    "# PCA"
   ]
  },
  {
   "cell_type": "code",
   "execution_count": 2,
   "metadata": {},
   "outputs": [],
   "source": [
    "import pandas as pd\n",
    "import numpy as np"
   ]
  },
  {
   "cell_type": "code",
   "execution_count": 3,
   "metadata": {},
   "outputs": [
    {
     "name": "stdout",
     "output_type": "stream",
     "text": [
      "   3.312  5.763\n",
      "0  3.333  5.554\n",
      "1  3.337  5.291\n",
      "2  3.379  5.324\n",
      "3  3.562  5.658\n",
      "4  3.312  5.386\n"
     ]
    }
   ],
   "source": [
    "# get 2 dimensional array of values with no label or column heading\n",
    "grains = pd.read_csv('grains.csv')\n",
    "print(grains.head())"
   ]
  },
  {
   "cell_type": "code",
   "execution_count": 5,
   "metadata": {},
   "outputs": [
    {
     "data": {
      "text/plain": [
       "array([[3.333, 5.554],\n",
       "       [3.337, 5.291],\n",
       "       [3.379, 5.324],\n",
       "       [3.562, 5.658],\n",
       "       [3.312, 5.386],\n",
       "       [3.259, 5.563],\n",
       "       [3.302, 5.42 ],\n",
       "       [3.465, 6.053],\n",
       "       [3.505, 5.884],\n",
       "       [3.242, 5.714],\n",
       "       [3.201, 5.438],\n",
       "       [3.199, 5.439],\n",
       "       [3.156, 5.479],\n",
       "       [3.114, 5.482],\n",
       "       [3.333, 5.351],\n",
       "       [3.383, 5.119],\n",
       "       [3.514, 5.527],\n",
       "       [3.466, 5.205],\n",
       "       [3.049, 5.226],\n",
       "       [3.129, 5.658],\n",
       "       [3.168, 5.52 ],\n",
       "       [3.507, 5.618],\n",
       "       [2.936, 5.099],\n",
       "       [3.245, 5.789],\n",
       "       [3.421, 5.833],\n",
       "       [3.026, 5.395],\n",
       "       [2.956, 5.395],\n",
       "       [3.221, 5.541],\n",
       "       [3.065, 5.516],\n",
       "       [2.975, 5.454],\n",
       "       [3.371, 5.757],\n",
       "       [3.186, 5.717],\n",
       "       [3.15 , 5.585],\n",
       "       [3.328, 5.712],\n",
       "       [3.485, 5.709],\n",
       "       [3.464, 5.826],\n",
       "       [3.683, 5.832],\n",
       "       [3.288, 5.656],\n",
       "       [3.298, 5.397],\n",
       "       [3.156, 5.348],\n",
       "       [3.158, 5.351],\n",
       "       [3.201, 5.138],\n",
       "       [3.396, 5.877],\n",
       "       [3.462, 5.579],\n",
       "       [3.155, 5.376],\n",
       "       [3.393, 5.701],\n",
       "       [3.377, 5.57 ],\n",
       "       [3.291, 5.545],\n",
       "       [3.258, 5.678],\n",
       "       [3.272, 5.585],\n",
       "       [3.434, 5.674],\n",
       "       [3.113, 5.715],\n",
       "       [3.199, 5.504],\n",
       "       [3.113, 5.741],\n",
       "       [3.212, 5.702],\n",
       "       [3.377, 5.388],\n",
       "       [3.412, 5.384],\n",
       "       [3.419, 5.662],\n",
       "       [3.032, 5.159],\n",
       "       [2.85 , 5.008],\n",
       "       [2.879, 4.902],\n",
       "       [3.042, 5.076],\n",
       "       [3.07 , 5.395],\n",
       "       [3.026, 5.262],\n",
       "       [3.119, 5.139],\n",
       "       [3.19 , 5.63 ],\n",
       "       [3.158, 5.609],\n",
       "       [3.153, 5.569],\n",
       "       [2.882, 5.412],\n",
       "       [3.561, 6.191],\n",
       "       [3.484, 5.998],\n",
       "       [3.594, 5.978],\n",
       "       [3.93 , 6.154],\n",
       "       [3.486, 6.017],\n",
       "       [3.438, 5.927],\n",
       "       [3.403, 6.064],\n",
       "       [3.814, 6.579],\n",
       "       [3.639, 6.445],\n",
       "       [3.566, 5.85 ],\n",
       "       [3.467, 5.875],\n",
       "       [3.857, 6.006],\n",
       "       [3.864, 6.285],\n",
       "       [3.772, 6.384],\n",
       "       [3.801, 6.366],\n",
       "       [3.651, 6.173],\n",
       "       [3.764, 6.084],\n",
       "       [3.67 , 6.549],\n",
       "       [4.033, 6.573],\n",
       "       [4.032, 6.45 ],\n",
       "       [3.785, 6.581],\n",
       "       [3.796, 6.172],\n",
       "       [3.693, 6.272],\n",
       "       [3.86 , 6.037],\n",
       "       [3.485, 6.666],\n",
       "       [3.463, 6.139],\n",
       "       [3.81 , 6.341],\n",
       "       [3.552, 6.449],\n",
       "       [3.512, 6.271],\n",
       "       [3.684, 6.219],\n",
       "       [3.525, 5.718],\n",
       "       [3.694, 5.89 ],\n",
       "       [3.892, 6.113],\n",
       "       [3.681, 6.369],\n",
       "       [3.755, 6.248],\n",
       "       [3.786, 6.037],\n",
       "       [3.806, 6.152],\n",
       "       [3.573, 6.033],\n",
       "       [3.763, 6.675],\n",
       "       [3.674, 6.153],\n",
       "       [3.769, 6.107],\n",
       "       [3.791, 6.303],\n",
       "       [3.902, 6.183],\n",
       "       [3.737, 6.259],\n",
       "       [3.991, 6.563],\n",
       "       [3.719, 6.416],\n",
       "       [3.897, 6.051],\n",
       "       [3.815, 6.245],\n",
       "       [3.769, 6.227],\n",
       "       [3.857, 6.493],\n",
       "       [3.962, 6.315],\n",
       "       [3.563, 6.059],\n",
       "       [3.387, 5.762],\n",
       "       [3.771, 5.98 ],\n",
       "       [3.582, 5.363],\n",
       "       [3.869, 6.111],\n",
       "       [3.594, 6.285],\n",
       "       [3.687, 5.979],\n",
       "       [3.773, 6.513],\n",
       "       [3.69 , 5.791],\n",
       "       [3.755, 5.979],\n",
       "       [3.825, 6.144],\n",
       "       [3.268, 5.884],\n",
       "       [3.395, 5.845],\n",
       "       [3.408, 5.776],\n",
       "       [3.465, 5.477],\n",
       "       [3.574, 6.145],\n",
       "       [3.231, 5.92 ],\n",
       "       [3.286, 5.832],\n",
       "       [3.472, 5.872],\n",
       "       [2.994, 5.472],\n",
       "       [3.073, 5.541],\n",
       "       [3.074, 5.389],\n",
       "       [2.967, 5.224],\n",
       "       [2.777, 5.314],\n",
       "       [2.687, 5.279],\n",
       "       [2.719, 5.176],\n",
       "       [2.967, 5.267],\n",
       "       [2.911, 5.386],\n",
       "       [2.648, 5.317],\n",
       "       [2.84 , 5.263],\n",
       "       [2.776, 5.405],\n",
       "       [2.833, 5.408],\n",
       "       [2.693, 5.22 ],\n",
       "       [2.755, 5.175],\n",
       "       [2.675, 5.25 ],\n",
       "       [2.849, 5.053],\n",
       "       [2.745, 5.394],\n",
       "       [2.678, 5.444],\n",
       "       [2.695, 5.304],\n",
       "       [2.879, 5.451],\n",
       "       [2.81 , 5.35 ],\n",
       "       [2.847, 5.267],\n",
       "       [2.968, 5.333],\n",
       "       [2.794, 5.011],\n",
       "       [2.941, 5.105],\n",
       "       [2.897, 5.319],\n",
       "       [2.837, 5.417],\n",
       "       [2.668, 5.176],\n",
       "       [2.715, 5.09 ],\n",
       "       [2.701, 5.325],\n",
       "       [2.845, 5.167],\n",
       "       [2.763, 5.088],\n",
       "       [2.763, 5.136],\n",
       "       [2.641, 5.278],\n",
       "       [2.821, 4.981],\n",
       "       [2.71 , 5.186],\n",
       "       [2.642, 5.145],\n",
       "       [2.758, 5.18 ],\n",
       "       [2.893, 5.357],\n",
       "       [2.775, 5.09 ],\n",
       "       [3.017, 5.236],\n",
       "       [2.909, 5.24 ],\n",
       "       [2.85 , 5.108],\n",
       "       [3.026, 5.495],\n",
       "       [2.683, 5.363],\n",
       "       [2.716, 5.413],\n",
       "       [2.675, 5.088],\n",
       "       [2.821, 5.089],\n",
       "       [2.787, 4.899],\n",
       "       [2.717, 5.046],\n",
       "       [2.804, 5.091],\n",
       "       [2.953, 5.132],\n",
       "       [2.63 , 5.18 ],\n",
       "       [2.975, 5.236],\n",
       "       [3.126, 5.16 ],\n",
       "       [3.054, 5.224],\n",
       "       [3.128, 5.32 ],\n",
       "       [2.911, 5.41 ],\n",
       "       [3.155, 5.073],\n",
       "       [2.989, 5.219],\n",
       "       [3.135, 4.984],\n",
       "       [2.81 , 5.009],\n",
       "       [3.091, 5.183],\n",
       "       [2.96 , 5.204],\n",
       "       [2.981, 5.137],\n",
       "       [2.795, 5.14 ],\n",
       "       [3.232, 5.236],\n",
       "       [2.836, 5.175],\n",
       "       [2.974, 5.243]])"
      ]
     },
     "execution_count": 5,
     "metadata": {},
     "output_type": "execute_result"
    }
   ],
   "source": [
    "grains = grains.to_numpy()\n",
    "grains"
   ]
  },
  {
   "cell_type": "code",
   "execution_count": 6,
   "metadata": {},
   "outputs": [
    {
     "data": {
      "image/png": "[encoded data removed]",
      "text/plain": [
       "<Figure size 432x288 with 1 Axes>"
      ]
     },
     "metadata": {
      "needs_background": "light"
     },
     "output_type": "display_data"
    },
    {
     "name": "stdout",
     "output_type": "stream",
     "text": [
      "0.8604405325922296\n"
     ]
    }
   ],
   "source": [
    "# Perform the necessary imports\n",
    "import matplotlib.pyplot as plt\n",
    "from scipy.stats import pearsonr\n",
    "\n",
    "# Assign the 0th column of grains: width\n",
    "width = grains[:,0]\n",
    "\n",
    "# Assign the 1st column of grains: length\n",
    "length = grains[:,1]\n",
    "\n",
    "# Scatter plot width vs length\n",
    "plt.scatter(width, length)\n",
    "plt.axis('equal')\n",
    "plt.show()\n",
    "\n",
    "# Calculate the Pearson correlation\n",
    "correlation, pvalue = pearsonr(width, length)\n",
    "\n",
    "# Display the correlation\n",
    "print(correlation)\n"
   ]
  },
  {
   "cell_type": "code",
   "execution_count": 7,
   "metadata": {},
   "outputs": [
    {
     "data": {
      "image/png": "[encoded data removed]",
      "text/plain": [
       "<Figure size 432x288 with 1 Axes>"
      ]
     },
     "metadata": {
      "needs_background": "light"
     },
     "output_type": "display_data"
    },
    {
     "name": "stdout",
     "output_type": "stream",
     "text": [
      "-8.326672684688674e-17\n"
     ]
    }
   ],
   "source": [
    "# Import PCA\n",
    "from sklearn.decomposition import PCA\n",
    "\n",
    "# Create PCA instance: model\n",
    "model = PCA()\n",
    "\n",
    "# Apply the fit_transform method of model to grains: pca_features\n",
    "pca_features = model.fit_transform(grains)\n",
    "\n",
    "# Assign 0th column of pca_features: xs\n",
    "xs = pca_features[:,0]\n",
    "\n",
    "# Assign 1st column of pca_features: ys\n",
    "ys = pca_features[:,1]\n",
    "\n",
    "# Scatter plot xs vs ys\n",
    "plt.scatter(xs, ys)\n",
    "plt.axis('equal')\n",
    "plt.show()\n",
    "\n",
    "# Calculate the Pearson correlation of xs and ys\n",
    "correlation, pvalue = pearsonr(xs, ys)\n",
    "\n",
    "# Display the correlation\n",
    "print(correlation)"
   ]
  },
  {
   "cell_type": "markdown",
   "metadata": {},
   "source": [
    "# Intrinsic Dimension"
   ]
  },
  {
   "cell_type": "code",
   "execution_count": 8,
   "metadata": {},
   "outputs": [
    {
     "data": {
      "image/png": "[encoded data removed]",
      "text/plain": [
       "<Figure size 432x288 with 1 Axes>"
      ]
     },
     "metadata": {
      "needs_background": "light"
     },
     "output_type": "display_data"
    }
   ],
   "source": [
    "# Make a scatter plot of the untransformed points\n",
    "plt.scatter(grains[:,0], grains[:,1])\n",
    "\n",
    "# Create a PCA instance: model\n",
    "model = PCA()\n",
    "\n",
    "# Fit model to points\n",
    "model.fit(grains)\n",
    "\n",
    "# Get the mean of the grain samples: mean\n",
    "mean = model.mean_\n",
    "\n",
    "# Get the first principal component: first_pc\n",
    "first_pc = model.components_[0,:]\n",
    "\n",
    "# Plot first_pc as an arrow, starting at mean\n",
    "plt.arrow(mean[0], mean[1], first_pc[0], first_pc[1], color='red', width=0.01)\n",
    "\n",
    "# Keep axes on same scale\n",
    "plt.axis('equal')\n",
    "plt.show()"
   ]
  },
  {
   "cell_type": "code",
   "execution_count": 10,
   "metadata": {},
   "outputs": [
    {
     "data": {
      "image/png": "[encoded data removed]",
      "text/plain": [
       "<Figure size 432x288 with 1 Axes>"
      ]
     },
     "metadata": {
      "needs_background": "light"
     },
     "output_type": "display_data"
    }
   ],
   "source": [
    "# Perform the necessary imports\n",
    "from sklearn.decomposition import PCA\n",
    "from sklearn.preprocessing import StandardScaler\n",
    "from sklearn.pipeline import make_pipeline\n",
    "import matplotlib.pyplot as plt\n",
    "\n",
    "# Create scaler: scaler\n",
    "scaler = StandardScaler()\n",
    "\n",
    "# Create a PCA instance: pca\n",
    "pca = PCA()\n",
    "\n",
    "# Create pipeline: pipeline\n",
    "pipeline = make_pipeline(scaler, pca)\n",
    "\n",
    "# Fit the pipeline to 'samples'\n",
    "pipeline.fit(grains)\n",
    "\n",
    "# Plot the explained variances\n",
    "features = range(pca.n_components_)\n",
    "plt.bar(features, pca.explained_variance_)\n",
    "plt.xlabel('PCA feature')\n",
    "plt.ylabel('variance')\n",
    "plt.xticks(features)\n",
    "plt.show()\n"
   ]
  },
  {
   "cell_type": "code",
   "execution_count": 11,
   "metadata": {},
   "outputs": [
    {
     "name": "stdout",
     "output_type": "stream",
     "text": [
      "   -0.50109735  -0.36878558  -0.34323399  -0.23781518  1.0032125  0.25373964\n",
      "0    -0.374343    -0.297502    -0.268935    -0.146348   1.158696    0.443765\n",
      "1    -0.242308    -0.306413    -0.252424    -0.153970   1.139261    1.061347\n",
      "2    -0.181572    -0.092563    -0.046036     0.028965   0.964342    0.206233\n",
      "3    -0.004645    -0.074742    -0.046036     0.067076   0.828293    1.061347\n",
      "4     0.048170    -0.048011     0.011752     0.120432   1.080954    0.633790\n"
     ]
    }
   ],
   "source": [
    "scaled_samples = pd.read_csv('scaledsamples.csv')\n",
    "print(scaled_samples.head())"
   ]
  },
  {
   "cell_type": "code",
   "execution_count": 12,
   "metadata": {},
   "outputs": [
    {
     "data": {
      "text/plain": [
       "array([[-0.37434344, -0.29750241, -0.26893461, -0.14634781,  1.15869615,\n",
       "         0.44376493],\n",
       "       [-0.24230812, -0.30641281, -0.25242364, -0.15397009,  1.13926069,\n",
       "         1.0613471 ],\n",
       "       [-0.18157187, -0.09256329, -0.04603648,  0.02896467,  0.96434159,\n",
       "         0.20623332],\n",
       "       [-0.00464454, -0.0747425 , -0.04603648,  0.06707608,  0.8282934 ,\n",
       "         1.0613471 ],\n",
       "       [ 0.04816959, -0.04801131,  0.01175193,  0.12043205,  1.08095432,\n",
       "         0.63379021],\n",
       "       [ 0.18020491, -0.04801131,  0.01175193,  0.10518748,  1.26559115,\n",
       "         1.15635974],\n",
       "       [-0.11027279,  0.02327186,  0.03651839,  0.14329889,  0.78942248,\n",
       "         0.25373964],\n",
       "       [ 0.04816959,  0.02327186,  0.03651839,  0.15092117,  1.14897842,\n",
       "         0.44376493],\n",
       "       [ 0.18020491,  0.10346543,  0.09430679,  0.23476627,  1.09067205,\n",
       "         0.39625861],\n",
       "       [ 0.11418725,  0.09455503,  0.11907325,  0.23476627,  1.10038978,\n",
       "         0.58628389],\n",
       "       [ 0.18020491,  0.12128622,  0.11907325,  0.23476627,  1.12954296,\n",
       "         0.20623332],\n",
       "       [ 0.18020491,  0.1569278 ,  0.16035069,  0.25001083,  0.94490613,\n",
       "        -0.41134885],\n",
       "       [ 0.44427556,  0.18365899,  0.20162812,  0.31098909,  1.1781316 ,\n",
       "         0.49127125],\n",
       "       [ 0.44427556,  0.18365899,  0.20162812,  0.31098909,  1.30446206,\n",
       "         1.01384078],\n",
       "       [ 0.7083462 ,  0.27276296,  0.28418298,  0.39483418,  1.04208341,\n",
       "         0.44376493],\n",
       "       [ 0.7083462 ,  0.27276296,  0.28418298,  0.41007875,  1.04208341,\n",
       "         0.30124596],\n",
       "       [ 0.47068262,  0.31731494,  0.32546042,  0.41770103,  1.20728478,\n",
       "         0.20623332],\n",
       "       [ 0.57631088,  0.32622533,  0.32546042,  0.42532331,  0.90603522,\n",
       "         0.91882813],\n",
       "       [ 0.3782579 ,  0.35295652,  0.36673785,  0.48630156,  0.99349477,\n",
       "         0.58628389],\n",
       "       [ 0.66873561,  0.36186692,  0.36673785,  0.46343472,  1.23643797,\n",
       "         0.39625861],\n",
       "       [ 0.49708969,  0.37077732,  0.40801528,  0.50154612,  1.07123659,\n",
       "         0.20623332],\n",
       "       [ 0.65553208,  0.3975085 ,  0.44929271,  0.57014666,  0.97405931,\n",
       "         1.0613471 ],\n",
       "       [ 0.7083462 ,  0.4064189 ,  0.44929271,  0.56252438,  1.16841387,\n",
       "         0.44376493],\n",
       "       [ 0.77436387,  0.3975085 ,  0.44929271,  0.5930135 ,  1.15869615,\n",
       "         0.91882813],\n",
       "       [ 0.76116033,  0.4153293 ,  0.44929271,  0.57014666,  1.18784933,\n",
       "         1.01384078],\n",
       "       [ 0.74531609,  0.47770207,  0.53184758,  0.63874719,  1.13926069,\n",
       "         0.58628389],\n",
       "       [ 1.10445217,  0.48661247,  0.53184758,  0.64636947,  1.21700251,\n",
       "         0.96633446],\n",
       "       [ 1.50055814,  0.54898524,  0.61440245,  0.72259229,  1.5959939 ,\n",
       "         1.25137238],\n",
       "       [ 1.28930162,  0.68264119,  0.73823474,  0.83692651,  1.2461557 ,\n",
       "         0.68129653],\n",
       "       [ 1.38172635,  0.68264119,  0.73823474,  0.82930423,  1.26559115,\n",
       "         0.68129653],\n",
       "       [ 1.30250516,  0.78956594,  0.82078961,  0.92839389,  1.29474434,\n",
       "         0.96633446],\n",
       "       [ 1.43454048,  0.8964907 ,  0.94462191,  0.97412758,  1.21700251,\n",
       "         0.87132181],\n",
       "       [ 1.36852282,  0.94995308,  0.94462191,  1.01986127,  0.95462386,\n",
       "         0.39625861],\n",
       "       [-1.03452005, -1.2865564 , -1.27610397, -1.28969003, -0.24065667,\n",
       "         0.53877757],\n",
       "       [-0.95793956, -0.96578213, -0.93762902, -0.97717649, -0.19206803,\n",
       "         0.49127125],\n",
       "       [-0.93417321, -0.87667817, -0.8880961 , -0.90857596, -0.17263258,\n",
       "         0.39625861],\n",
       "       [-0.91040685, -0.8143054 , -0.80554124, -0.83235314, -0.26980986,\n",
       "         0.68129653],\n",
       "       [-0.82326354, -0.77866381, -0.78903027, -0.83235314, -0.0074312 ,\n",
       "         1.5364103 ],\n",
       "       [-1.14014831, -0.74302223, -0.74775283, -0.78661945,  0.03143971,\n",
       "         0.87132181],\n",
       "       [-0.8496706 , -0.73411183, -0.72298637, -0.76375261, -0.13376167,\n",
       "         0.87132181],\n",
       "       [-0.82326354, -0.70738064, -0.7064754 , -0.71801892, -0.22122122,\n",
       "         0.49127125],\n",
       "       [-0.74404234, -0.61827668, -0.62392054, -0.6417961 , -0.44472896,\n",
       "         1.10885342],\n",
       "       [-0.75724587, -0.60936628, -0.62392054, -0.67228523, -0.0754553 ,\n",
       "         0.82381549],\n",
       "       [-0.71763528, -0.60936628, -0.5826431 , -0.59606241, -0.02686666,\n",
       "         1.0613471 ],\n",
       "       [-0.77044941, -0.5648143 , -0.5826431 , -0.61892926, -0.18235031,\n",
       "         0.20623332],\n",
       "       [-0.71763528, -0.5559039 , -0.5826431 , -0.61892926, -0.24065667,\n",
       "         1.10885342],\n",
       "       [-0.69386892, -0.47571034, -0.4588108 , -0.45123907, -0.03658439,\n",
       "         0.58628389],\n",
       "       [-0.71499457, -0.47571034, -0.50834372, -0.48935047, -0.21150349,\n",
       "         0.34875228],\n",
       "       [-0.61200702, -0.46679994, -0.50008824, -0.48172819, -0.04630212,\n",
       "         1.20386606],\n",
       "       [-0.66482115, -0.33314399, -0.35974497, -0.39788309, -0.26009213,\n",
       "         0.53877757],\n",
       "       [-0.37434344, -0.29750241, -0.29370107, -0.29879344,  0.22579427,\n",
       "         1.20386606],\n",
       "       [-0.42187616, -0.20839845, -0.21114621, -0.19208149, -0.0074312 ,\n",
       "         1.2988787 ],\n",
       "       [-0.11027279,  0.19256939,  0.17686166,  0.14329889, -0.09489075,\n",
       "         1.15635974],\n",
       "       [-1.12245558, -1.60733067, -1.63108989, -1.70129323, -1.16384082,\n",
       "        -1.50399423],\n",
       "       [-1.12034301, -1.5449579 , -1.57330149, -1.64031498, -1.07638127,\n",
       "        -1.36147526],\n",
       "       [-1.12166336, -1.5360475 , -1.565046  , -1.64031498, -1.28045356,\n",
       "        -1.40898159],\n",
       "       [-1.11453346, -1.50931631, -1.53202405, -1.60982586, -0.95005081,\n",
       "        -0.64888045],\n",
       "       [-1.11426939, -1.48258512, -1.51551308, -1.57933673, -1.09581673,\n",
       "        -1.2189563 ],\n",
       "       [-1.11717416, -1.47367473, -1.5072576 , -1.56409217, -1.20271174,\n",
       "        -1.26646262],\n",
       "       [-1.11374125, -1.42912274, -1.46598016, -1.52598076, -1.086099  ,\n",
       "        -1.45648791],\n",
       "       [-1.11400532, -1.42912274, -1.46598016, -1.52598076, -1.086099  ,\n",
       "        -1.88404479],\n",
       "       [-1.11426939, -1.42021235, -1.44946919, -1.51835848, -1.10553446,\n",
       "        -1.97905744],\n",
       "       [-1.10793169, -1.41130195, -1.43295822, -1.50311391, -1.21242946,\n",
       "        -1.17144998],\n",
       "       [-1.10476284, -1.39348116, -1.41644724, -1.49549163, -0.97920399,\n",
       "        -1.64651319],\n",
       "       [-1.10793169, -1.35783957, -1.36691432, -1.47262479, -1.12496991,\n",
       "        -1.78903215],\n",
       "       [-1.08812639, -1.25982521, -1.259593  , -1.36591285, -0.89174444,\n",
       "         0.34875228],\n",
       "       [-1.08759825, -1.20636284, -1.20180459, -1.28969003, -0.96948627,\n",
       "        -0.60137413],\n",
       "       [-0.61200702,  0.23712137,  0.22639458,  0.12805433, -1.17355855,\n",
       "        -1.50399423],\n",
       "       [-0.34793638,  0.38859811,  0.36673785,  0.35672277, -1.2610181 ,\n",
       "        -0.88641206],\n",
       "       [-0.34793638,  0.47770207,  0.44929271,  0.43294559, -1.24158265,\n",
       "        -0.74389309],\n",
       "       [-0.34793638,  0.6648204 ,  0.6391689 ,  0.5091684 , -1.19299401,\n",
       "        -1.31396894],\n",
       "       [-0.00464454,  0.72719317,  0.69695731,  0.56252438, -0.97920399,\n",
       "        -0.74389309],\n",
       "       [-0.22910458,  0.77174515,  0.73823474,  0.60063578, -1.21242946,\n",
       "        -1.50399423],\n",
       "       [ 0.06401383,  1.128161  ,  1.0684542 ,  0.94363845, -1.17355855,\n",
       "        -1.59900687],\n",
       "       [ 0.20661198,  1.128161  ,  1.0684542 ,  0.94363845, -1.27073583,\n",
       "        -1.45648791],\n",
       "       [ 0.28583317,  1.1370714 ,  1.10973164,  0.9665053 , -1.07638127,\n",
       "        -0.79139942],\n",
       "       [ 0.18020491,  1.30636893,  1.27484137,  1.13419549, -1.31932447,\n",
       "        -1.26646262],\n",
       "       [ 0.35713225,  1.41329369,  1.35739623,  1.18755146, -1.17355855,\n",
       "        -1.36147526],\n",
       "       [ 0.89319566,  1.55586003,  1.52250596,  1.3781085 , -1.27073583,\n",
       "        -1.12394366],\n",
       "       [ 1.36852282,  1.8677239 ,  1.82795897,  1.67537748, -1.1541231 ,\n",
       "        -0.79139942],\n",
       "       [ 2.16073475,  2.19740857,  2.18294489,  2.02600243, -0.98892172,\n",
       "        -0.55386781],\n",
       "       [ 3.08498201,  2.55382442,  2.51316435,  2.35376053, -1.27073583,\n",
       "        -1.55150055],\n",
       "       [ 2.95294669,  2.55382442,  2.51316435,  2.35376053, -1.27073583,\n",
       "        -1.55150055],\n",
       "       [ 3.21701733,  2.82113631,  2.79385089,  2.65865179, -1.18327628,\n",
       "        -0.88641206]])"
      ]
     },
     "execution_count": 12,
     "metadata": {},
     "output_type": "execute_result"
    }
   ],
   "source": [
    "scaled_samples= scaled_samples.to_numpy()\n",
    "scaled_samples"
   ]
  },
  {
   "cell_type": "code",
   "execution_count": 13,
   "metadata": {},
   "outputs": [
    {
     "name": "stdout",
     "output_type": "stream",
     "text": [
      "(84, 2)\n"
     ]
    }
   ],
   "source": [
    "# Import PCA\n",
    "from sklearn.decomposition import PCA\n",
    "\n",
    "# Create a PCA instance with 2 components: pca\n",
    "pca = PCA(n_components=2)\n",
    "\n",
    "# Fit the PCA instance to the scaled samples\n",
    "pca.fit(scaled_samples)\n",
    "\n",
    "# Transform the scaled samples: pca_features\n",
    "pca_features = pca.transform(scaled_samples)\n",
    "\n",
    "# Print the shape of pca_features\n",
    "print(pca_features.shape)\n"
   ]
  },
  {
   "cell_type": "code",
   "execution_count": 14,
   "metadata": {},
   "outputs": [],
   "source": [
    "documents =  ['cats say meow', 'dogs say woof', 'dogs chase cats']"
   ]
  },
  {
   "cell_type": "code",
   "execution_count": 15,
   "metadata": {},
   "outputs": [
    {
     "name": "stdout",
     "output_type": "stream",
     "text": [
      "[[0.51785612 0.         0.         0.68091856 0.51785612 0.        ]\n",
      " [0.         0.         0.51785612 0.         0.51785612 0.68091856]\n",
      " [0.51785612 0.68091856 0.51785612 0.         0.         0.        ]]\n",
      "['cats', 'chase', 'dogs', 'meow', 'say', 'woof']\n"
     ]
    }
   ],
   "source": [
    "# Import TfidfVectorizer\n",
    "from sklearn.feature_extraction.text import TfidfVectorizer\n",
    "\n",
    "# Create a TfidfVectorizer: tfidf\n",
    "tfidf = TfidfVectorizer() \n",
    "\n",
    "# Apply fit_transform to document: csr_mat\n",
    "csr_mat = tfidf.fit_transform(documents)\n",
    "\n",
    "# Print result of toarray() method\n",
    "print(csr_mat.toarray())\n",
    "\n",
    "# Get the words: words\n",
    "words = tfidf.get_feature_names()\n",
    "\n",
    "# Print words\n",
    "print(words)\n"
   ]
  },
  {
   "cell_type": "code",
   "execution_count": null,
   "metadata": {},
   "outputs": [],
   "source": [
    "# Perform the necessary imports\n",
    "from sklearn.decomposition import TruncatedSVD\n",
    "from sklearn.cluster import KMeans\n",
    "from sklearn.pipeline import make_pipeline\n",
    "\n",
    "# Create a TruncatedSVD instance: svd\n",
    "svd = TruncatedSVD(n_components=50)\n",
    "\n",
    "# Create a KMeans instance: kmeans\n",
    "kmeans = KMeans(n_clusters=6)\n",
    "\n",
    "# Create a pipeline: pipeline\n",
    "pipeline = make_pipeline(svd, kmeans)\n"
   ]
  },
  {
   "cell_type": "code",
   "execution_count": null,
   "metadata": {},
   "outputs": [],
   "source": [
    "# Import pandas\n",
    "import pandas as pd\n",
    "\n",
    "# Fit the pipeline to articles\n",
    "pipeline.fit(articles)\n",
    "\n",
    "# Calculate the cluster labels: labels\n",
    "labels = pipeline.predict(articles)\n",
    "\n",
    "# Create a DataFrame aligning labels and titles: df\n",
    "df = pd.DataFrame({'label': labels, 'article': titles})\n",
    "\n",
    "# Display df sorted by cluster label\n",
    "print(df.sort_values('label'))"
   ]
  }
 ],
 "metadata": {
  "kernelspec": {
   "display_name": "Python 3",
   "language": "python",
   "name": "python3"
  },
  "language_info": {
   "codemirror_mode": {
    "name": "ipython",
    "version": 3
   },
   "file_extension": ".py",
   "mimetype": "text/x-python",
   "name": "python",
   "nbconvert_exporter": "python",
   "pygments_lexer": "ipython3",
   "version": "3.7.6"
  }
 },
 "nbformat": 4,
 "nbformat_minor": 4
}

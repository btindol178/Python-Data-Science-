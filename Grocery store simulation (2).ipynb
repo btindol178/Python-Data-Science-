{
 "cells": [
  {
   "cell_type": "markdown",
   "metadata": {},
   "source": [
    "# Grocery store simulation"
   ]
  },
  {
   "cell_type": "markdown",
   "metadata": {},
   "source": [
    "# Average grocery cost\n",
    "According to: https://www.foxbusiness.com/lifestyle/what-is-the-average-grocery-bill-for-one-person\n",
    "The average grocery monthly bill is between 165 and 345 the average person going twice a month\n",
    "According to:https://www.indeed.com/cmp/Yankee-Candle-Company/faq/how-many-customers-does-a-store-average-daily-monthly-or-annually?quid=1ap84cf3eas34fe5#:~:text=On%20an%20average%20day%20there,around%201%2C000%20customers%20a%20day.\n",
    " even small stores get 2000 visitors a day\n",
    " \n",
    "2000 * 30 days = 60000 customers"
   ]
  },
  {
   "cell_type": "code",
   "execution_count": 3,
   "metadata": {},
   "outputs": [
    {
     "data": {
      "text/html": [
       "<div>\n",
       "<style scoped>\n",
       "    .dataframe tbody tr th:only-of-type {\n",
       "        vertical-align: middle;\n",
       "    }\n",
       "\n",
       "    .dataframe tbody tr th {\n",
       "        vertical-align: top;\n",
       "    }\n",
       "\n",
       "    .dataframe thead th {\n",
       "        text-align: right;\n",
       "    }\n",
       "</style>\n",
       "<table border=\"1\" class=\"dataframe\">\n",
       "  <thead>\n",
       "    <tr style=\"text-align: right;\">\n",
       "      <th></th>\n",
       "      <th>purchases</th>\n",
       "    </tr>\n",
       "  </thead>\n",
       "  <tbody>\n",
       "    <tr>\n",
       "      <th>0</th>\n",
       "      <td>85.874360</td>\n",
       "    </tr>\n",
       "    <tr>\n",
       "      <th>1</th>\n",
       "      <td>100.585915</td>\n",
       "    </tr>\n",
       "    <tr>\n",
       "      <th>2</th>\n",
       "      <td>2.395237</td>\n",
       "    </tr>\n",
       "    <tr>\n",
       "      <th>3</th>\n",
       "      <td>270.410630</td>\n",
       "    </tr>\n",
       "    <tr>\n",
       "      <th>4</th>\n",
       "      <td>74.497458</td>\n",
       "    </tr>\n",
       "  </tbody>\n",
       "</table>\n",
       "</div>"
      ],
      "text/plain": [
       "    purchases\n",
       "0   85.874360\n",
       "1  100.585915\n",
       "2    2.395237\n",
       "3  270.410630\n",
       "4   74.497458"
      ]
     },
     "execution_count": 3,
     "metadata": {},
     "output_type": "execute_result"
    }
   ],
   "source": [
    "import numpy as np\n",
    "import pandas as pd\n",
    "# Mean is 127 and lets say the standard deviation is 80 with 6000 samples and 1 column\n",
    "df2 = pd.DataFrame(np.random.normal(127.5,80,size=(60000, 1)), columns=list('P'))\n",
    "df2.rename({'P': 'purchases'}, axis=1, inplace=True)\n",
    "df2['purchases'] = df2.abs() # Get absolute values only \n",
    "df2.head()\n"
   ]
  },
  {
   "cell_type": "code",
   "execution_count": 4,
   "metadata": {},
   "outputs": [
    {
     "data": {
      "text/plain": [
       "(60000, 1)"
      ]
     },
     "execution_count": 4,
     "metadata": {},
     "output_type": "execute_result"
    }
   ],
   "source": [
    "df2.shape # Still have 1000 rows...."
   ]
  },
  {
   "cell_type": "markdown",
   "metadata": {},
   "source": [
    "# Visualization of purchases distribution"
   ]
  },
  {
   "cell_type": "code",
   "execution_count": 17,
   "metadata": {},
   "outputs": [
    {
     "data": {
      "text/plain": [
       "Text(0, 0.5, 'Frequency')"
      ]
     },
     "execution_count": 17,
     "metadata": {},
     "output_type": "execute_result"
    },
    {
     "data": {
      "image/png": "[encoded data removed]",
      "text/plain": [
       "<Figure size 432x288 with 1 Axes>"
      ]
     },
     "metadata": {
      "needs_background": "light"
     },
     "output_type": "display_data"
    }
   ],
   "source": [
    "# matplotlib histogram\n",
    "import matplotlib.pyplot as plt\n",
    "plt.hist(df2['purchases'], color = 'blue', edgecolor = 'black',\n",
    "         bins = int(180/5))\n",
    "# Add labels\n",
    "plt.title('Histogram purchases')\n",
    "plt.xlabel('Spent')\n",
    "plt.ylabel('Frequency')"
   ]
  },
  {
   "cell_type": "markdown",
   "metadata": {},
   "source": [
    "# Profit margins\n",
    "Lets make a column of profit margins for each purchase of the customers in the store... \n",
    "According to:\n",
    "https://smallbusiness.chron.com/profit-margin-supermarket-22467.html\n",
    "Grocery stores make small profit margins 1-3%"
   ]
  },
  {
   "cell_type": "code",
   "execution_count": 19,
   "metadata": {},
   "outputs": [
    {
     "data": {
      "text/html": [
       "<div>\n",
       "<style scoped>\n",
       "    .dataframe tbody tr th:only-of-type {\n",
       "        vertical-align: middle;\n",
       "    }\n",
       "\n",
       "    .dataframe tbody tr th {\n",
       "        vertical-align: top;\n",
       "    }\n",
       "\n",
       "    .dataframe thead th {\n",
       "        text-align: right;\n",
       "    }\n",
       "</style>\n",
       "<table border=\"1\" class=\"dataframe\">\n",
       "  <thead>\n",
       "    <tr style=\"text-align: right;\">\n",
       "      <th></th>\n",
       "      <th>purchases</th>\n",
       "      <th>margin</th>\n",
       "    </tr>\n",
       "  </thead>\n",
       "  <tbody>\n",
       "    <tr>\n",
       "      <th>0</th>\n",
       "      <td>85.874360</td>\n",
       "      <td>1.717487</td>\n",
       "    </tr>\n",
       "    <tr>\n",
       "      <th>1</th>\n",
       "      <td>100.585915</td>\n",
       "      <td>2.011718</td>\n",
       "    </tr>\n",
       "    <tr>\n",
       "      <th>2</th>\n",
       "      <td>2.395237</td>\n",
       "      <td>0.047905</td>\n",
       "    </tr>\n",
       "    <tr>\n",
       "      <th>3</th>\n",
       "      <td>270.410630</td>\n",
       "      <td>5.408213</td>\n",
       "    </tr>\n",
       "    <tr>\n",
       "      <th>4</th>\n",
       "      <td>74.497458</td>\n",
       "      <td>1.489949</td>\n",
       "    </tr>\n",
       "  </tbody>\n",
       "</table>\n",
       "</div>"
      ],
      "text/plain": [
       "    purchases    margin\n",
       "0   85.874360  1.717487\n",
       "1  100.585915  2.011718\n",
       "2    2.395237  0.047905\n",
       "3  270.410630  5.408213\n",
       "4   74.497458  1.489949"
      ]
     },
     "execution_count": 19,
     "metadata": {},
     "output_type": "execute_result"
    }
   ],
   "source": [
    "# Lets make a new column that is just the the new column multiplied by 2%\n",
    "# Assuming that the basket of items is a normal gaussian distribution of mean 2 \n",
    "df2[\"margin\"] = .02 * df2[\"purchases\"]\n",
    "df2.head()"
   ]
  },
  {
   "cell_type": "code",
   "execution_count": 20,
   "metadata": {},
   "outputs": [
    {
     "data": {
      "text/plain": [
       "Text(0, 0.5, 'Frequency')"
      ]
     },
     "execution_count": 20,
     "metadata": {},
     "output_type": "execute_result"
    },
    {
     "data": {
      "image/png": "[encoded data removed]",
      "text/plain": [
       "<Figure size 432x288 with 1 Axes>"
      ]
     },
     "metadata": {
      "needs_background": "light"
     },
     "output_type": "display_data"
    }
   ],
   "source": [
    "# matplotlib histogram of margin\n",
    "plt.hist(df2['margin'], color = 'blue', edgecolor = 'black',\n",
    "         bins = int(180/5))\n",
    "# Add labels\n",
    "plt.title('Histogram margin')\n",
    "plt.xlabel('margin')\n",
    "plt.ylabel('Frequency')"
   ]
  },
  {
   "cell_type": "code",
   "execution_count": 21,
   "metadata": {},
   "outputs": [
    {
     "data": {
      "text/plain": [
       "157438.03623672112"
      ]
     },
     "execution_count": 21,
     "metadata": {},
     "output_type": "execute_result"
    }
   ],
   "source": [
    "# with 6000 customers and profit margin of 2% the total profit for a month is 2662\n",
    "profit = df2['margin'].sum()  \n",
    "profit #  $15752 dollars a month "
   ]
  },
  {
   "cell_type": "markdown",
   "metadata": {},
   "source": [
    "# Costs to purchase average items "
   ]
  },
  {
   "cell_type": "markdown",
   "metadata": {},
   "source": [
    "According to : https://www.fivestarhomefoods.com/blog/grocery-shopping-facts#:~:text=2.,over%2039%2C500%20items%20on%20average! \n",
    "The average amount of items at grocery store is about 40000  \n",
    "We will say the average cost of an item is 10 dollars for simplicity\n",
    "\n",
    "According to: https://www.dumpsters.com/blog/grocery-store-food-waste-statistics#:~:text=Stat%20%231%3A%20Grocery%20Stores%20Cause,Percent%20of%20U.S.%20Food%20Waste*\n",
    "the average percent of waste at a grocery store is 10%"
   ]
  },
  {
   "cell_type": "code",
   "execution_count": 45,
   "metadata": {},
   "outputs": [
    {
     "data": {
      "text/html": [
       "<div>\n",
       "<style scoped>\n",
       "    .dataframe tbody tr th:only-of-type {\n",
       "        vertical-align: middle;\n",
       "    }\n",
       "\n",
       "    .dataframe tbody tr th {\n",
       "        vertical-align: top;\n",
       "    }\n",
       "\n",
       "    .dataframe thead th {\n",
       "        text-align: right;\n",
       "    }\n",
       "</style>\n",
       "<table border=\"1\" class=\"dataframe\">\n",
       "  <thead>\n",
       "    <tr style=\"text-align: right;\">\n",
       "      <th></th>\n",
       "      <th>shelve_stock</th>\n",
       "    </tr>\n",
       "  </thead>\n",
       "  <tbody>\n",
       "    <tr>\n",
       "      <th>0</th>\n",
       "      <td>10.161538</td>\n",
       "    </tr>\n",
       "    <tr>\n",
       "      <th>1</th>\n",
       "      <td>7.919090</td>\n",
       "    </tr>\n",
       "    <tr>\n",
       "      <th>2</th>\n",
       "      <td>10.685094</td>\n",
       "    </tr>\n",
       "    <tr>\n",
       "      <th>3</th>\n",
       "      <td>9.019030</td>\n",
       "    </tr>\n",
       "    <tr>\n",
       "      <th>4</th>\n",
       "      <td>9.934747</td>\n",
       "    </tr>\n",
       "  </tbody>\n",
       "</table>\n",
       "</div>"
      ],
      "text/plain": [
       "   shelve_stock\n",
       "0     10.161538\n",
       "1      7.919090\n",
       "2     10.685094\n",
       "3      9.019030\n",
       "4      9.934747"
      ]
     },
     "execution_count": 45,
     "metadata": {},
     "output_type": "execute_result"
    }
   ],
   "source": [
    "# Make a normal distribution of items with mean 4 and standard deviation of 1 dollar for 40000 items name it shevele stock\n",
    "df3 = pd.DataFrame(np.random.normal(10,1,size=(40000, 1)), columns=list('P'))\n",
    "df3.rename({'P': 'shelve_stock'}, axis=1, inplace=True)\n",
    "df3['shelve_stock'] = df3.abs() # Get absolute values only \n",
    "df3.head()"
   ]
  },
  {
   "cell_type": "markdown",
   "metadata": {},
   "source": [
    "# Calculate the value of inventory"
   ]
  },
  {
   "cell_type": "code",
   "execution_count": 54,
   "metadata": {},
   "outputs": [
    {
     "name": "stdout",
     "output_type": "stream",
     "text": [
      "399938.3430506262\n",
      "39993.83430506263\n",
      "359944.3430506262\n"
     ]
    }
   ],
   "source": [
    "Total1 = df3['shelve_stock'].sum()  # This is the total value of the inventory\n",
    "print(Total1) #benift\n",
    "print(Total1*.10) # loss\n",
    "print(Total1 - 39994)"
   ]
  },
  {
   "cell_type": "markdown",
   "metadata": {},
   "source": [
    "# Calculate cost of inventory 1-profit margin at 3 % profit margin"
   ]
  },
  {
   "cell_type": "code",
   "execution_count": 47,
   "metadata": {},
   "outputs": [
    {
     "data": {
      "text/html": [
       "<div>\n",
       "<style scoped>\n",
       "    .dataframe tbody tr th:only-of-type {\n",
       "        vertical-align: middle;\n",
       "    }\n",
       "\n",
       "    .dataframe tbody tr th {\n",
       "        vertical-align: top;\n",
       "    }\n",
       "\n",
       "    .dataframe thead th {\n",
       "        text-align: right;\n",
       "    }\n",
       "</style>\n",
       "<table border=\"1\" class=\"dataframe\">\n",
       "  <thead>\n",
       "    <tr style=\"text-align: right;\">\n",
       "      <th></th>\n",
       "      <th>shelve_stock</th>\n",
       "      <th>inv_cost</th>\n",
       "    </tr>\n",
       "  </thead>\n",
       "  <tbody>\n",
       "    <tr>\n",
       "      <th>0</th>\n",
       "      <td>10.161538</td>\n",
       "      <td>9.856692</td>\n",
       "    </tr>\n",
       "    <tr>\n",
       "      <th>1</th>\n",
       "      <td>7.919090</td>\n",
       "      <td>7.681518</td>\n",
       "    </tr>\n",
       "    <tr>\n",
       "      <th>2</th>\n",
       "      <td>10.685094</td>\n",
       "      <td>10.364541</td>\n",
       "    </tr>\n",
       "    <tr>\n",
       "      <th>3</th>\n",
       "      <td>9.019030</td>\n",
       "      <td>8.748459</td>\n",
       "    </tr>\n",
       "    <tr>\n",
       "      <th>4</th>\n",
       "      <td>9.934747</td>\n",
       "      <td>9.636705</td>\n",
       "    </tr>\n",
       "  </tbody>\n",
       "</table>\n",
       "</div>"
      ],
      "text/plain": [
       "   shelve_stock   inv_cost\n",
       "0     10.161538   9.856692\n",
       "1      7.919090   7.681518\n",
       "2     10.685094  10.364541\n",
       "3      9.019030   8.748459\n",
       "4      9.934747   9.636705"
      ]
     },
     "execution_count": 47,
     "metadata": {},
     "output_type": "execute_result"
    }
   ],
   "source": [
    "# This is the cost of inventory\n",
    "df3['inv_cost'] = .97 * df3[\"shelve_stock\"]\n",
    "df3.head()"
   ]
  },
  {
   "cell_type": "markdown",
   "metadata": {},
   "source": [
    "# Profit margin sum"
   ]
  },
  {
   "cell_type": "code",
   "execution_count": 61,
   "metadata": {},
   "outputs": [
    {
     "name": "stdout",
     "output_type": "stream",
     "text": [
      "359944.5087455636\n"
     ]
    }
   ],
   "source": [
    "# Total cost of stocking shelves.\n",
    "Total = df3['inv_cost'].sum() # This is the total value of the inventory\n",
    "print(Total1*.90) # total margin accountinf for 10% loss"
   ]
  }
 ],
 "metadata": {
  "kernelspec": {
   "display_name": "Python 3",
   "language": "python",
   "name": "python3"
  },
  "language_info": {
   "codemirror_mode": {
    "name": "ipython",
    "version": 3
   },
   "file_extension": ".py",
   "mimetype": "text/x-python",
   "name": "python",
   "nbconvert_exporter": "python",
   "pygments_lexer": "ipython3",
   "version": "3.7.7"
  }
 },
 "nbformat": 4,
 "nbformat_minor": 4
}

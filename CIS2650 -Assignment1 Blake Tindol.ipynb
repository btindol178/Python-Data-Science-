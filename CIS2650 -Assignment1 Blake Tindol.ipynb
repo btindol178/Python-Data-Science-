{
 "cells": [
  {
   "cell_type": "markdown",
   "metadata": {
    "slideshow": {
     "slide_type": "-"
    }
   },
   "source": [
    "# CIS 2650 - Assignment 1"
   ]
  },
  {
   "cell_type": "markdown",
   "metadata": {},
   "source": [
    "##### Instructions:\n",
    "Read each question carefully and type the program to answer each question in the empty cell after that. Documentation is required and is part of your grade. Submit the assignment in the IPython document file notebook (ipynb) format. You will submit only one file called called Assignment1_XXX.ipynb, where XXX is your last name.\n",
    "\n",
    "Everything taught till Week3 is covered in this assignment. \n",
    "\n",
    "Total Points = 125\n",
    "\n",
    "Due : 10/04/2020"
   ]
  },
  {
   "attachments": {
    "Capture.PNG": {
     "image/png": "[encoded data removed]"
    }
   },
   "cell_type": "markdown",
   "metadata": {},
   "source": [
    "##### Question 1 (25 points): \n",
    "\n",
    "Write a program that gets a string containing a person's first, middle, and last names including one space in between them, and desplays their first, middle, and last initials. For Example is the user enters mike william smith, the program should desplay M. W. S. (The output should be similar to the following figure)\n",
    "\n",
    "Note: Initials should be upper case letters regardless of whther user type the names correctly or not. Also the program should remove all the extra spaces from the begining and the end of the text that the user enters.\n",
    "![Capture.PNG](attachment:Capture.PNG)"
   ]
  },
  {
   "cell_type": "code",
   "execution_count": 7,
   "metadata": {},
   "outputs": [
    {
     "name": "stdout",
     "output_type": "stream",
     "text": [
      "Enter your first middle and last name: blake alan tindol\n",
      "Your initials are: b.a.t.\n"
     ]
    }
   ],
   "source": [
    "####Question 1 Code:\n",
    "fullname = input('Enter your first middle and last name: ')\n",
    "first, middle, last = fullname.split()\n",
    "print('Your initials are: ',first[0] + '.', middle[0] + '.', last[0] + '.',sep = \"\")\n"
   ]
  },
  {
   "attachments": {
    "Capture.PNG": {
     "image/png": "[encoded data removed]"
    }
   },
   "cell_type": "markdown",
   "metadata": {
    "slideshow": {
     "slide_type": "-"
    }
   },
   "source": [
    "##### Question 2 (50 points): \n",
    "\n",
    "An Investor's stock portfolio consists of four Exchange Traded Funds (SPY, QQQ, EEM, and VXX). Write a program that requests the amount invested in each found as input and then displays the total amount invested and each fund's percentage of the total amount invested. (The output should be similar to the following figure)\n",
    "\n",
    "![Capture.PNG](attachment:Capture.PNG)"
   ]
  },
  {
   "cell_type": "code",
   "execution_count": 38,
   "metadata": {},
   "outputs": [
    {
     "name": "stdout",
     "output_type": "stream",
     "text": [
      "Enter amount invested in SPY: 353453.353\n",
      "Enter amount invested in QQQ: 35353.5353\n",
      "Enter amount invested in EEM: 46544\n",
      "Enter amount invested in VXX: 46456\n",
      "EFT      PERCENTAGE\n",
      "-----------------------------\n",
      "SPY: 73.36%\n",
      "QQQ: 7.34%\n",
      "EEM: 9.66%\n",
      "VXX: 9.64%\n",
      "TOTAL AMOUNT INVESTED: $481806.8883\n"
     ]
    }
   ],
   "source": [
    "####Question 2 Code:\n",
    "SPY = float(input(\"Enter amount invested in SPY: \"))\n",
    "QQQ = float(input(\"Enter amount invested in QQQ: \"))\n",
    "EEM = float(input(\"Enter amount invested in EEM: \"))\n",
    "VXX = float(input(\"Enter amount invested in VXX: \"))\n",
    "\n",
    "totalAmount = SPY + QQQ + EEM + VXX\n",
    "print(\"EFT\" + \"      \" + \"PERCENTAGE\")\n",
    "print(\"-----------------------------\")\n",
    "print(\"SPY: \" + str(round(float(SPY / totalAmount * 100),2)) + \"%\")\n",
    "print(\"QQQ: \" + str(round(float(QQQ / totalAmount * 100),2)) + \"%\")\n",
    "print(\"EEM: \" + str(round(float(EEM / totalAmount * 100),2)) + \"%\")\n",
    "print(\"VXX: \" + str(round(float(VXX / totalAmount * 100),2)) + \"%\")\n",
    "print(\"TOTAL AMOUNT INVESTED: \" + '$' +str(float(totalAmount)),sep = \"\")"
   ]
  },
  {
   "attachments": {
    "Capture.PNG": {
     "image/png": "[encoded data removed]"
    }
   },
   "cell_type": "markdown",
   "metadata": {},
   "source": [
    "##### Question 3 (50 points): \n",
    "\n",
    "Write a program that asks the user to enter a series of 10 numbers and store them in a list. The program should display minimum, maximum, total and average. The program should accept integer and float numbers and display the output with two decimal digits. (The output should be similar to the following figure)\n",
    "![Capture.PNG](attachment:Capture.PNG)"
   ]
  },
  {
   "cell_type": "code",
   "execution_count": 78,
   "metadata": {},
   "outputs": [
    {
     "name": "stdout",
     "output_type": "stream",
     "text": [
      "Enter the 1st number: 1.111\n",
      "Enter the 2nd number: 2\n",
      "Enter the 3rd number: 4.567\n",
      "Enter the 4th number: .788\n",
      "Enter the 5th number: 6.5\n",
      "Enter the 6th number: 5\n",
      "Enter the 7th number: 678\n",
      "Enter the 8th number: 5678.765\n",
      "Enter the 9th number: 56\n",
      "Enter the 10th number: .54\n",
      "The lowest number in the list is: 0.54\n",
      "The highest number in the list is: 5678.765\n",
      "The total of the numbers in the list is: 6433.27\n",
      "The average of the numbers in the list is: 643.33\n"
     ]
    }
   ],
   "source": [
    "### #### Question 3 Code:\n",
    "\n",
    "# empty list\n",
    "list = []\n",
    "number = float(input(\"Enter the 1st number: \"))\n",
    "list.append(float(number))\n",
    "number1 = float(input(\"Enter the 2nd number: \"))\n",
    "list.append(float(number1))\n",
    "number2 = float(input(\"Enter the 3rd number: \"))\n",
    "list.append(float(number2))\n",
    "number3 = float(input(\"Enter the 4th number: \"))\n",
    "list.append(float(number3))\n",
    "number4 = float(input(\"Enter the 5th number: \"))\n",
    "list.append(float(number4))\n",
    "number5 = float(input(\"Enter the 6th number: \"))\n",
    "list.append(float(number5))\n",
    "number6 = float(input(\"Enter the 7th number: \"))\n",
    "list.append(float(number6))\n",
    "number7 = float(input(\"Enter the 8th number: \"))\n",
    "list.append(float(number7))\n",
    "number8 = float(input(\"Enter the 9th number: \"))\n",
    "list.append(float(number8))\n",
    "number9 = float(input(\"Enter the 10th number: \"))\n",
    "list.append(float(number9))\n",
    "\n",
    "print(\"The lowest number in the list is: \" + str(min(list)))\n",
    "print(\"The highest number in the list is: \" + str(max(list)))\n",
    "print(\"The total of the numbers in the list is: \" + str(round(sum(list),2)))\n",
    "\n",
    "def Average(lst): \n",
    "    return sum(lst) / len(lst)\n",
    "print(\"The average of the numbers in the list is: \" + str(round(Average(list),2)))\n",
    "\n",
    "\n"
   ]
  }
 ],
 "metadata": {
  "kernelspec": {
   "display_name": "Python 3",
   "language": "python",
   "name": "python3"
  },
  "language_info": {
   "codemirror_mode": {
    "name": "ipython",
    "version": 3
   },
   "file_extension": ".py",
   "mimetype": "text/x-python",
   "name": "python",
   "nbconvert_exporter": "python",
   "pygments_lexer": "ipython3",
   "version": "3.8.3"
  },
  "widgets": {
   "application/vnd.jupyter.widget-state+json": {
    "state": {},
    "version_major": 1,
    "version_minor": 0
   }
  }
 },
 "nbformat": 4,
 "nbformat_minor": 2
}

{
 "cells": [
  {
   "cell_type": "markdown",
   "metadata": {},
   "source": [
    "# Python Introduction\n",
    "<p> The purpose of this is for me to get a feel of python <p>"
   ]
  },
  {
   "cell_type": "markdown",
   "metadata": {},
   "source": [
    "# Arithmatic variables"
   ]
  },
  {
   "cell_type": "code",
   "execution_count": 5,
   "metadata": {},
   "outputs": [
    {
     "name": "stdout",
     "output_type": "stream",
     "text": [
      "6\n",
      "45\n",
      "2.3333333333333335\n",
      "8\n",
      "4\n",
      "16\n",
      "194.87171000000012\n",
      "105.525\n"
     ]
    }
   ],
   "source": [
    "# Arithmatic funcitons\n",
    "print(3+3)\n",
    "print(5*9)\n",
    "print(7/3)\n",
    "print(10-2)\n",
    "print(18 % 7)\n",
    "print(4 ** 2)\n",
    "# How much is your $100 worth after 7 years?\n",
    "print(100 * 1.1 ** 7)\n",
    "\n",
    "# print numberic variables\n",
    "tax = 0.05\n",
    "price = 100.5\n",
    "total = price + price * tax\n",
    "print(total)"
   ]
  },
  {
   "cell_type": "markdown",
   "metadata": {},
   "source": [
    "# Strings"
   ]
  },
  {
   "cell_type": "code",
   "execution_count": 10,
   "metadata": {},
   "outputs": [
    {
     "name": "stdout",
     "output_type": "stream",
     "text": [
      "apple pear\n"
     ]
    }
   ],
   "source": [
    "item1 = \"apple\"\n",
    "item2 = \"pear\"\n",
    "buythis = item1 + \" \" + item2\n",
    "print(buythis)"
   ]
  },
  {
   "cell_type": "code",
   "execution_count": 20,
   "metadata": {},
   "outputs": [
    {
     "name": "stdout",
     "output_type": "stream",
     "text": [
      "I really need to buy apple and pear today!\n"
     ]
    }
   ],
   "source": [
    "print(\"I really need to buy \" + str(item1) + \" and \" + str(item2) + \" today!\")"
   ]
  },
  {
   "cell_type": "code",
   "execution_count": 14,
   "metadata": {},
   "outputs": [
    {
     "data": {
      "text/plain": [
       "'a'"
      ]
     },
     "execution_count": 14,
     "metadata": {},
     "output_type": "execute_result"
    }
   ],
   "source": [
    "# print first letter of item1 \n",
    "item1[0]"
   ]
  },
  {
   "cell_type": "code",
   "execution_count": 15,
   "metadata": {},
   "outputs": [
    {
     "data": {
      "text/plain": [
       "'e'"
      ]
     },
     "execution_count": 15,
     "metadata": {},
     "output_type": "execute_result"
    }
   ],
   "source": [
    "# last character in 'item2'\n",
    "item1[-1] "
   ]
  },
  {
   "cell_type": "code",
   "execution_count": 16,
   "metadata": {},
   "outputs": [
    {
     "data": {
      "text/plain": [
       "'pea'"
      ]
     },
     "execution_count": 16,
     "metadata": {},
     "output_type": "execute_result"
    }
   ],
   "source": [
    "item2[0:3] # the first 4 characters"
   ]
  },
  {
   "cell_type": "code",
   "execution_count": 17,
   "metadata": {},
   "outputs": [
    {
     "data": {
      "text/plain": [
       "'ea'"
      ]
     },
     "execution_count": 17,
     "metadata": {},
     "output_type": "execute_result"
    }
   ],
   "source": [
    "item2[1:3] # the second through 4th characters"
   ]
  },
  {
   "cell_type": "code",
   "execution_count": 18,
   "metadata": {},
   "outputs": [
    {
     "data": {
      "text/plain": [
       "4"
      ]
     },
     "execution_count": 18,
     "metadata": {},
     "output_type": "execute_result"
    }
   ],
   "source": [
    "len(item2) # number of characters in the string"
   ]
  },
  {
   "cell_type": "code",
   "execution_count": 26,
   "metadata": {},
   "outputs": [
    {
     "data": {
      "text/plain": [
       "'ear'"
      ]
     },
     "execution_count": 26,
     "metadata": {},
     "output_type": "execute_result"
    }
   ],
   "source": [
    "item2[1:] # character 2 and after"
   ]
  },
  {
   "cell_type": "code",
   "execution_count": 29,
   "metadata": {},
   "outputs": [
    {
     "data": {
      "text/plain": [
       "'pe'"
      ]
     },
     "execution_count": 29,
     "metadata": {},
     "output_type": "execute_result"
    }
   ],
   "source": [
    "item2[:2] # first 2 characters"
   ]
  },
  {
   "cell_type": "code",
   "execution_count": 30,
   "metadata": {},
   "outputs": [
    {
     "data": {
      "text/plain": [
       "'pe ar'"
      ]
     },
     "execution_count": 30,
     "metadata": {},
     "output_type": "execute_result"
    }
   ],
   "source": [
    "item2[:2] + ' ' + item2[2:]  # print everything after 2 and firststring concatenation"
   ]
  },
  {
   "cell_type": "code",
   "execution_count": 31,
   "metadata": {},
   "outputs": [
    {
     "data": {
      "text/plain": [
       "'pear cost: 5'"
      ]
     },
     "execution_count": 31,
     "metadata": {},
     "output_type": "execute_result"
    }
   ],
   "source": [
    "cost = 5 \n",
    "\n",
    "item2[:4] + ' cost: ' + str(cost)"
   ]
  },
  {
   "cell_type": "code",
   "execution_count": 22,
   "metadata": {},
   "outputs": [
    {
     "name": "stdout",
     "output_type": "stream",
     "text": [
      "I had 5 dollars now i have $7.035502113281252\n"
     ]
    }
   ],
   "source": [
    "# investments\n",
    "savings = 5 # five dollars\n",
    "investments = 5 * 1.05 ** 7  #getting 5% return on my money for 7 years\n",
    "print(\"I had 5 dollars now i have \" + \"$\" + str(investments))"
   ]
  },
  {
   "cell_type": "code",
   "execution_count": 32,
   "metadata": {},
   "outputs": [
    {
     "name": "stdout",
     "output_type": "stream",
     "text": [
      "2020-02-29\n",
      "Sat 02/29/2020\n"
     ]
    }
   ],
   "source": [
    "# strings for date and time \n",
    "from datetime import date\n",
    "today = date.today()\n",
    "print(today)\n",
    "print(today.strftime(\"%a %m/%d/%Y\"))"
   ]
  },
  {
   "cell_type": "code",
   "execution_count": 33,
   "metadata": {},
   "outputs": [
    {
     "name": "stdout",
     "output_type": "stream",
     "text": [
      "blake,tindol,3/2/1998,65000\n"
     ]
    }
   ],
   "source": [
    "print('blake', 'tindol', '3/2/1998', 65000, sep=',') # comma separated values"
   ]
  },
  {
   "cell_type": "code",
   "execution_count": 34,
   "metadata": {},
   "outputs": [
    {
     "name": "stdout",
     "output_type": "stream",
     "text": [
      "The total is unit price 100.5  times quantity ( 3 ) plus tax ( 15.075000000000001 ) =  316.575\n"
     ]
    }
   ],
   "source": [
    "tax_rate = 0.05\n",
    "quantity = 3\n",
    "price = 100.5\n",
    "line_total = quantity * price\n",
    "tax = line_total * tax_rate\n",
    "total = line_total + tax\n",
    "\n",
    "print(\"The total is unit price\", price, \" times quantity (\", quantity, \") plus tax (\", tax, \") = \", total)"
   ]
  },
  {
   "cell_type": "code",
   "execution_count": 35,
   "metadata": {},
   "outputs": [
    {
     "name": "stdout",
     "output_type": "stream",
     "text": [
      "The total is unit price100.5 times quantity (3) plus tax (15.075000000000001) = 316.575\n"
     ]
    }
   ],
   "source": [
    "# Remove space around strings with the 'sep' parameter.\n",
    "print(\"The total is unit price\", price, \" times quantity (\", quantity, \") plus tax (\", tax, \") = \", total, sep='')"
   ]
  },
  {
   "cell_type": "code",
   "execution_count": 39,
   "metadata": {},
   "outputs": [
    {
     "name": "stdout",
     "output_type": "stream",
     "text": [
      "The total is unit price ($100.5) times quantity (3) plus tax (15.075000000000001) = $316.575\n"
     ]
    }
   ],
   "source": [
    "# Print formatted string. Each {} is a place holder for a value.\n",
    "print(\"The total is unit price (${}) times quantity ({}) plus tax ({}) = ${}\".format(price, quantity, tax, total))"
   ]
  },
  {
   "cell_type": "code",
   "execution_count": 40,
   "metadata": {},
   "outputs": [
    {
     "name": "stdout",
     "output_type": "stream",
     "text": [
      "The total $3 = unit price $100.5 * quantity 15.075000000000001 plus tax 316.575 = $316.575\n"
     ]
    }
   ],
   "source": [
    "# Values can be used out of order\n",
    "print(\"The total ${1} = unit price ${0} * quantity {2} plus tax {3} = ${3}\".format(price, quantity, tax, total))"
   ]
  },
  {
   "cell_type": "markdown",
   "metadata": {},
   "source": [
    "# Lists and Data Structures"
   ]
  },
  {
   "cell_type": "code",
   "execution_count": 42,
   "metadata": {},
   "outputs": [
    {
     "name": "stdout",
     "output_type": "stream",
     "text": [
      "[100000, 120000, 100000, 80000, 120000, 80000, 80000, 120000, 120000, 100000]\n"
     ]
    }
   ],
   "source": [
    "datascientist = 100000\n",
    "awssolutionsarchitect = 120000\n",
    "developer = 80000\n",
    "machinelearningengineer = 120000\n",
    "\n",
    "# create list of variables\n",
    "jobs = [datascientist, awssolutionsarchitect, datascientist, developer, machinelearningengineer, developer, developer,awssolutionsarchitect,awssolutionsarchitect, datascientist]\n",
    "\n",
    "print(jobs)"
   ]
  },
  {
   "cell_type": "code",
   "execution_count": 44,
   "metadata": {},
   "outputs": [
    {
     "name": "stdout",
     "output_type": "stream",
     "text": [
      "['datascientist', 'awssolutionsarchitect', 'datascientist', 'developer', 'machinelearningengineer', 'developer', 'developer', 'awssolutionsarchitect', 'awssolutionsarchitect', 'datascientist']\n"
     ]
    }
   ],
   "source": [
    "# create list of strings\n",
    "job = ['datascientist', 'awssolutionsarchitect', 'datascientist', 'developer', 'machinelearningengineer', 'developer', 'developer','awssolutionsarchitect','awssolutionsarchitect', 'datascientist']\n",
    "print(job)"
   ]
  },
  {
   "cell_type": "code",
   "execution_count": 45,
   "metadata": {},
   "outputs": [
    {
     "data": {
      "text/plain": [
       "3"
      ]
     },
     "execution_count": 45,
     "metadata": {},
     "output_type": "execute_result"
    }
   ],
   "source": [
    "# Counting number of times this jobs shows up\n",
    "job.count('datascientist')"
   ]
  },
  {
   "cell_type": "code",
   "execution_count": 46,
   "metadata": {},
   "outputs": [
    {
     "data": {
      "text/plain": [
       "0"
      ]
     },
     "execution_count": 46,
     "metadata": {},
     "output_type": "execute_result"
    }
   ],
   "source": [
    "# where is this job located in the list\n",
    "job.index('datascientist') # returns the first element"
   ]
  },
  {
   "cell_type": "code",
   "execution_count": 52,
   "metadata": {},
   "outputs": [],
   "source": [
    "# The list in reverse\n",
    "job.reverse()"
   ]
  },
  {
   "cell_type": "code",
   "execution_count": 53,
   "metadata": {},
   "outputs": [
    {
     "data": {
      "text/plain": [
       "['datascientist',\n",
       " 'awssolutionsarchitect',\n",
       " 'awssolutionsarchitect',\n",
       " 'developer',\n",
       " 'developer',\n",
       " 'machinelearningengineer',\n",
       " 'developer',\n",
       " 'datascientist',\n",
       " 'awssolutionsarchitect',\n",
       " 'datascientist']"
      ]
     },
     "execution_count": 53,
     "metadata": {},
     "output_type": "execute_result"
    }
   ],
   "source": [
    "job"
   ]
  },
  {
   "cell_type": "code",
   "execution_count": 55,
   "metadata": {},
   "outputs": [
    {
     "data": {
      "text/plain": [
       "['awssolutionsarchitect',\n",
       " 'awssolutionsarchitect',\n",
       " 'awssolutionsarchitect',\n",
       " 'datascientist',\n",
       " 'datascientist',\n",
       " 'datascientist',\n",
       " 'developer',\n",
       " 'developer',\n",
       " 'developer',\n",
       " 'machinelearningengineer']"
      ]
     },
     "execution_count": 55,
     "metadata": {},
     "output_type": "execute_result"
    }
   ],
   "source": [
    "# Sorting the list \n",
    "job.sort()\n",
    "job"
   ]
  },
  {
   "cell_type": "code",
   "execution_count": 56,
   "metadata": {},
   "outputs": [
    {
     "data": {
      "text/plain": [
       "'machinelearningengineer'"
      ]
     },
     "execution_count": 56,
     "metadata": {},
     "output_type": "execute_result"
    }
   ],
   "source": [
    "job.pop()\n"
   ]
  },
  {
   "cell_type": "code",
   "execution_count": 60,
   "metadata": {},
   "outputs": [
    {
     "data": {
      "text/plain": [
       "'dataanalyst'"
      ]
     },
     "execution_count": 60,
     "metadata": {},
     "output_type": "execute_result"
    }
   ],
   "source": [
    "# adding elements\n",
    "job.append(\"dataanalyst\")\n",
    "job[9]"
   ]
  },
  {
   "cell_type": "code",
   "execution_count": 62,
   "metadata": {},
   "outputs": [
    {
     "data": {
      "text/plain": [
       "['awssolutionsarchitect',\n",
       " 'analyst',\n",
       " 'analyst',\n",
       " 'awssolutionsarchitect',\n",
       " 'awssolutionsarchitect',\n",
       " 'datascientist',\n",
       " 'datascientist',\n",
       " 'datascientist',\n",
       " 'developer',\n",
       " 'developer',\n",
       " 'developer',\n",
       " 'dataanalyst',\n",
       " 'dataanalyst',\n",
       " 'dataanalyst',\n",
       " 'dataanalyst']"
      ]
     },
     "execution_count": 62,
     "metadata": {},
     "output_type": "execute_result"
    }
   ],
   "source": [
    "# Inserting values\n",
    "job.insert(1, 'analyst')\n",
    "job"
   ]
  },
  {
   "cell_type": "code",
   "execution_count": 64,
   "metadata": {},
   "outputs": [
    {
     "data": {
      "text/plain": [
       "['businessanalyst',\n",
       " 'analyst',\n",
       " 'analyst',\n",
       " 'awssolutionsarchitect',\n",
       " 'awssolutionsarchitect',\n",
       " 'datascientist',\n",
       " 'datascientist',\n",
       " 'datascientist',\n",
       " 'developer',\n",
       " 'developer',\n",
       " 'developer',\n",
       " 'dataanalyst',\n",
       " 'dataanalyst',\n",
       " 'dataanalyst',\n",
       " 'dataanalyst']"
      ]
     },
     "execution_count": 64,
     "metadata": {},
     "output_type": "execute_result"
    }
   ],
   "source": [
    "# indexing inserting\n",
    "job[0] = 'businessanalyst'\n",
    "job"
   ]
  },
  {
   "cell_type": "code",
   "execution_count": 65,
   "metadata": {},
   "outputs": [
    {
     "data": {
      "text/plain": [
       "['analyst',\n",
       " 'analyst',\n",
       " 'awssolutionsarchitect',\n",
       " 'awssolutionsarchitect',\n",
       " 'datascientist',\n",
       " 'datascientist',\n",
       " 'datascientist',\n",
       " 'developer',\n",
       " 'developer',\n",
       " 'developer',\n",
       " 'dataanalyst',\n",
       " 'dataanalyst',\n",
       " 'dataanalyst',\n",
       " 'dataanalyst']"
      ]
     },
     "execution_count": 65,
     "metadata": {},
     "output_type": "execute_result"
    }
   ],
   "source": [
    "# deleting elements\n",
    "del job[0] # deleting business analyst\n",
    "job"
   ]
  },
  {
   "cell_type": "code",
   "execution_count": 66,
   "metadata": {},
   "outputs": [
    {
     "name": "stdout",
     "output_type": "stream",
     "text": [
      "The first three jobs are ['analyst', 'analyst', 'awssolutionsarchitect']\n"
     ]
    }
   ],
   "source": [
    "# printing and indexing\n",
    "print('The first three jobs are', job[0:3])"
   ]
  },
  {
   "cell_type": "code",
   "execution_count": 69,
   "metadata": {},
   "outputs": [
    {
     "data": {
      "text/plain": [
       "True"
      ]
     },
     "execution_count": 69,
     "metadata": {},
     "output_type": "execute_result"
    }
   ],
   "source": [
    "# finding out if value is in list give boolean\n",
    "'developer' in job"
   ]
  },
  {
   "cell_type": "code",
   "execution_count": 71,
   "metadata": {},
   "outputs": [
    {
     "name": "stdout",
     "output_type": "stream",
     "text": [
      "[100000, 'data analyst', 120000, 100000, 'mc donalds', 80000, 120000, 'reenlisting', 80000, 80000, 120000, 120000, 100000]\n"
     ]
    }
   ],
   "source": [
    "# mixing values and strings\n",
    "datascientist = 100000\n",
    "awssolutionsarchitect = 120000\n",
    "developer = 80000\n",
    "machinelearningengineer = 120000\n",
    "\n",
    "# create list of variables\n",
    "jobs = [datascientist, 'data analyst', awssolutionsarchitect, datascientist, 'mc donalds', developer, machinelearningengineer, 'reenlisting',developer, developer,awssolutionsarchitect,awssolutionsarchitect, datascientist]\n",
    "\n",
    "print(jobs)"
   ]
  },
  {
   "cell_type": "markdown",
   "metadata": {},
   "source": [
    "# Tuples\n",
    "Similar to lists, tuples are a seuqnce data type used to group a list of values. Unlike lists, tuples are immutable."
   ]
  },
  {
   "cell_type": "code",
   "execution_count": 75,
   "metadata": {},
   "outputs": [],
   "source": [
    "tax_rate = 0.05\n",
    "quantity = 3\n",
    "price = 100.5\n",
    "t1 = 0.05, 3, 100.5 "
   ]
  },
  {
   "cell_type": "code",
   "execution_count": 76,
   "metadata": {},
   "outputs": [
    {
     "data": {
      "text/plain": [
       "(0.05, 3, 100.5)"
      ]
     },
     "execution_count": 76,
     "metadata": {},
     "output_type": "execute_result"
    }
   ],
   "source": [
    "# calling normal object\n",
    "t1"
   ]
  },
  {
   "cell_type": "code",
   "execution_count": 79,
   "metadata": {},
   "outputs": [
    {
     "data": {
      "text/plain": [
       "3"
      ]
     },
     "execution_count": 79,
     "metadata": {},
     "output_type": "execute_result"
    }
   ],
   "source": [
    "# indexing normal object\n",
    "t1[1] # getting second element"
   ]
  },
  {
   "cell_type": "code",
   "execution_count": 80,
   "metadata": {},
   "outputs": [],
   "source": [
    "# Values in a tuple can be another data type (e.g., lists in our case)\n",
    "t2 = [0.05, 3, 100.5], [0.03, 4, 20], [0.05, 5, 80.5]  "
   ]
  },
  {
   "cell_type": "code",
   "execution_count": 81,
   "metadata": {},
   "outputs": [
    {
     "data": {
      "text/plain": [
       "[0.03, 4, 20]"
      ]
     },
     "execution_count": 81,
     "metadata": {},
     "output_type": "execute_result"
    }
   ],
   "source": [
    "# indexing tuples\n",
    "t2[1] # second element of the list (not same with tuple)"
   ]
  },
  {
   "cell_type": "code",
   "execution_count": 82,
   "metadata": {},
   "outputs": [],
   "source": [
    "# assigning the letters to the variable in the order the data sits in the variable\n",
    "t, q, p = t1 # 0.05 = t, 3 = q, 100.5 = p"
   ]
  },
  {
   "cell_type": "code",
   "execution_count": 83,
   "metadata": {},
   "outputs": [
    {
     "name": "stdout",
     "output_type": "stream",
     "text": [
      "Price=100.5, Quantity=3, Tax=0.05\n"
     ]
    }
   ],
   "source": [
    "# Calling them in different order\n",
    "print(\"Price={}, Quantity={}, Tax={}\".format(p, q, t))"
   ]
  },
  {
   "cell_type": "code",
   "execution_count": 85,
   "metadata": {},
   "outputs": [
    {
     "data": {
      "text/plain": [
       "True"
      ]
     },
     "execution_count": 85,
     "metadata": {},
     "output_type": "execute_result"
    }
   ],
   "source": [
    "# indexing does 3 exist in this list?\n",
    "3 in t1"
   ]
  },
  {
   "cell_type": "markdown",
   "metadata": {},
   "source": [
    "# Dictionaires\n",
    "Unlike lists and tuples that are indexed by a range of numbers, dictionaries are indexed by keys. A key can be any immutable type, such as string, number, etc. Another way to think of a dictionary is to view it as a set of key:value pairs."
   ]
  },
  {
   "cell_type": "code",
   "execution_count": 87,
   "metadata": {},
   "outputs": [
    {
     "data": {
      "text/plain": [
       "{'Blake': 140980, 'sape': 41390, 'jen': 45010, 'bob': 48520, 'john': 99000}"
      ]
     },
     "execution_count": 87,
     "metadata": {},
     "output_type": "execute_result"
    }
   ],
   "source": [
    "salary = {'Blake': 140980, 'sape': 41390, 'jen':45010, 'bob':48520, 'john':99000}\n",
    "salary"
   ]
  },
  {
   "cell_type": "code",
   "execution_count": 90,
   "metadata": {},
   "outputs": [
    {
     "data": {
      "text/plain": [
       "{'Blake': 140980,\n",
       " 'sape': 41390,\n",
       " 'jen': 45010,\n",
       " 'bob': 48520,\n",
       " 'john': 99000,\n",
       " 'sara': 140927}"
      ]
     },
     "execution_count": 90,
     "metadata": {},
     "output_type": "execute_result"
    }
   ],
   "source": [
    "# adding in information\n",
    "salary['sara'] = 140927\n",
    "salary"
   ]
  },
  {
   "cell_type": "code",
   "execution_count": 94,
   "metadata": {},
   "outputs": [
    {
     "data": {
      "text/plain": [
       "{'Blake': 140980, 'jen': 45010, 'bob': 48520, 'john': 99000, 'sara': 140927}"
      ]
     },
     "execution_count": 94,
     "metadata": {},
     "output_type": "execute_result"
    }
   ],
   "source": [
    "# deleting information\n",
    "del salary['sape']\n",
    "salary"
   ]
  },
  {
   "cell_type": "code",
   "execution_count": 95,
   "metadata": {},
   "outputs": [
    {
     "data": {
      "text/plain": [
       "['Blake', 'jen', 'bob', 'john', 'sara']"
      ]
     },
     "execution_count": 95,
     "metadata": {},
     "output_type": "execute_result"
    }
   ],
   "source": [
    "list(salary)  # show all keys in a list format"
   ]
  },
  {
   "cell_type": "code",
   "execution_count": 97,
   "metadata": {},
   "outputs": [
    {
     "data": {
      "text/plain": [
       "{'Blake': 1000000, 'jen': 45010, 'bob': 48520, 'john': 99000, 'sara': 140927}"
      ]
     },
     "execution_count": 97,
     "metadata": {},
     "output_type": "execute_result"
    }
   ],
   "source": [
    "# update blakes new salary for his invention\n",
    "salary['Blake']= 1000000\n",
    "salary"
   ]
  },
  {
   "cell_type": "code",
   "execution_count": 99,
   "metadata": {},
   "outputs": [
    {
     "data": {
      "text/plain": [
       "['Blake', 'bob', 'jen', 'john', 'sara']"
      ]
     },
     "execution_count": 99,
     "metadata": {},
     "output_type": "execute_result"
    }
   ],
   "source": [
    "# sorting in alphabetical order\n",
    "sorted(salary)"
   ]
  },
  {
   "cell_type": "code",
   "execution_count": 100,
   "metadata": {},
   "outputs": [
    {
     "data": {
      "text/plain": [
       "True"
      ]
     },
     "execution_count": 100,
     "metadata": {},
     "output_type": "execute_result"
    }
   ],
   "source": [
    "# is element in dictionary\n",
    "'Blake' in salary"
   ]
  },
  {
   "cell_type": "code",
   "execution_count": 101,
   "metadata": {},
   "outputs": [
    {
     "data": {
      "text/plain": [
       "False"
      ]
     },
     "execution_count": 101,
     "metadata": {},
     "output_type": "execute_result"
    }
   ],
   "source": [
    "# is it not in dictionary\n",
    "'Blake' not in salary"
   ]
  },
  {
   "cell_type": "markdown",
   "metadata": {},
   "source": [
    "# IF Statements"
   ]
  },
  {
   "cell_type": "code",
   "execution_count": 102,
   "metadata": {},
   "outputs": [
    {
     "name": "stdout",
     "output_type": "stream",
     "text": [
      "More\n"
     ]
    }
   ],
   "source": [
    "x = 42\n",
    "\n",
    "if x < 0:\n",
    "    x = 0\n",
    "    print('Negative changed to zero')\n",
    "elif x == 0:\n",
    "    print('Zero')\n",
    "elif x == 1:\n",
    "    print('Single')\n",
    "else:\n",
    "    print('More')"
   ]
  },
  {
   "cell_type": "markdown",
   "metadata": {},
   "source": [
    "# METHODS"
   ]
  },
  {
   "cell_type": "code",
   "execution_count": 104,
   "metadata": {},
   "outputs": [
    {
     "data": {
      "text/plain": [
       "'jobo'"
      ]
     },
     "execution_count": 104,
     "metadata": {},
     "output_type": "execute_result"
    }
   ],
   "source": [
    "salary = \"jobo\"\n",
    "salary_up = salary.upper()\n",
    "salary"
   ]
  },
  {
   "cell_type": "code",
   "execution_count": 105,
   "metadata": {},
   "outputs": [
    {
     "data": {
      "text/plain": [
       "'JOBO'"
      ]
     },
     "execution_count": 105,
     "metadata": {},
     "output_type": "execute_result"
    }
   ],
   "source": [
    "# print upper method\n",
    "salary_up"
   ]
  },
  {
   "cell_type": "code",
   "execution_count": 107,
   "metadata": {},
   "outputs": [
    {
     "name": "stdout",
     "output_type": "stream",
     "text": [
      "2\n"
     ]
    }
   ],
   "source": [
    "# how manyt times does value appear in job\n",
    "print(salary.count('o'))"
   ]
  },
  {
   "cell_type": "code",
   "execution_count": 108,
   "metadata": {},
   "outputs": [
    {
     "name": "stdout",
     "output_type": "stream",
     "text": [
      "2\n"
     ]
    }
   ],
   "source": [
    "# list methods\n",
    "# Create list areas\n",
    "areas = [11.25, 18.0, 20.0, 10.75, 9.50]\n",
    "\n",
    "# Print out the index of the element 20.0\n",
    "print(areas.index(20.0))"
   ]
  },
  {
   "cell_type": "code",
   "execution_count": 109,
   "metadata": {},
   "outputs": [
    {
     "name": "stdout",
     "output_type": "stream",
     "text": [
      "1\n"
     ]
    }
   ],
   "source": [
    "# Print out how often 9.50 appears in areas\n",
    "print(areas.count(9.50))"
   ]
  },
  {
   "cell_type": "code",
   "execution_count": 110,
   "metadata": {},
   "outputs": [
    {
     "data": {
      "text/plain": [
       "[11.25, 18.0, 20.0, 10.75, 9.5, 20.5, 18.45]"
      ]
     },
     "execution_count": 110,
     "metadata": {},
     "output_type": "execute_result"
    }
   ],
   "source": [
    "# add in elements\n",
    "areas.append(20.5)\n",
    "areas.append(18.45)\n",
    "areas"
   ]
  },
  {
   "cell_type": "markdown",
   "metadata": {},
   "source": [
    "# Looping"
   ]
  },
  {
   "cell_type": "code",
   "execution_count": 111,
   "metadata": {},
   "outputs": [
    {
     "name": "stdout",
     "output_type": "stream",
     "text": [
      "2\n",
      "4\n",
      "6\n",
      "8\n"
     ]
    }
   ],
   "source": [
    "# Print even numbers between 1 and 10.\n",
    "for i in range(1, 10):\n",
    "    if i % 2 == 0:\n",
    "        print(i)"
   ]
  },
  {
   "cell_type": "code",
   "execution_count": 115,
   "metadata": {},
   "outputs": [],
   "source": [
    "# Strings loop\n",
    "s1 = 'I am so greatful for the opportunity’s, to (say yes’s) to this 200k, remote job that is not even full time as a machine learning engineer and robotic systems coder thank you'\n",
    "\n",
    "# Split s1 at every space.\n",
    "s2 = s1.split()"
   ]
  },
  {
   "cell_type": "code",
   "execution_count": 116,
   "metadata": {},
   "outputs": [
    {
     "data": {
      "text/plain": [
       "['I',\n",
       " 'am',\n",
       " 'so',\n",
       " 'greatful',\n",
       " 'for',\n",
       " 'the',\n",
       " 'opportunity’s,',\n",
       " 'to',\n",
       " '(say',\n",
       " 'yes’s)',\n",
       " 'to',\n",
       " 'this',\n",
       " '200k,',\n",
       " 'remote',\n",
       " 'job',\n",
       " 'that',\n",
       " 'is',\n",
       " 'not',\n",
       " 'even',\n",
       " 'full',\n",
       " 'time',\n",
       " 'as',\n",
       " 'a',\n",
       " 'machine',\n",
       " 'learning',\n",
       " 'engineer',\n",
       " 'and',\n",
       " 'robotic',\n",
       " 'systems',\n",
       " 'coder',\n",
       " 'thank',\n",
       " 'you']"
      ]
     },
     "execution_count": 116,
     "metadata": {},
     "output_type": "execute_result"
    }
   ],
   "source": [
    "s2"
   ]
  },
  {
   "cell_type": "code",
   "execution_count": 117,
   "metadata": {},
   "outputs": [
    {
     "name": "stdout",
     "output_type": "stream",
     "text": [
      "I 1\n",
      "am 2\n",
      "so 2\n",
      "greatful 8\n",
      "for 3\n",
      "the 3\n",
      "opportunity’s 13\n",
      "to 2\n",
      "say 3\n",
      "yes’s 5\n",
      "to 2\n",
      "this 4\n",
      "200k 4\n",
      "remote 6\n",
      "job 3\n",
      "that 4\n",
      "is 2\n",
      "not 3\n",
      "even 4\n",
      "full 4\n",
      "time 4\n",
      "as 2\n",
      "a 1\n",
      "machine 7\n",
      "learning 8\n",
      "engineer 8\n",
      "and 3\n",
      "robotic 7\n",
      "systems 7\n",
      "coder 5\n",
      "thank 5\n",
      "you 3\n"
     ]
    }
   ],
   "source": [
    "# Show words and word lengths.\n",
    "\n",
    "for w in s2:\n",
    "    w1 = w.replace('(', '')   # remove all left parentheses\n",
    "    w1 = w1.replace(')', '')  # remove all right parentheses\n",
    "    w1 = w1.replace(',', '')  # remove all commas\n",
    "    print(w1, len(w1))"
   ]
  },
  {
   "cell_type": "code",
   "execution_count": 118,
   "metadata": {},
   "outputs": [
    {
     "name": "stdout",
     "output_type": "stream",
     "text": [
      "I 1\n",
      "am 2\n",
      "so 2\n",
      "greatful 8\n",
      "for 3\n",
      "the 3\n",
      "opportunity’s 13\n",
      "to 2\n",
      "say 3\n",
      "yes’s 5\n",
      "to 2\n",
      "this 4\n",
      "200k 4\n",
      "remote 6\n",
      "job 3\n",
      "that 4\n",
      "is 2\n",
      "not 3\n",
      "even 4\n",
      "full 4\n",
      "time 4\n",
      "as 2\n",
      "a 1\n",
      "machine 7\n",
      "learning 8\n",
      "engineer 8\n",
      "and 3\n",
      "robotic 7\n",
      "systems 7\n",
      "coder 5\n",
      "thank 5\n",
      "you 3\n"
     ]
    }
   ],
   "source": [
    "# Show words and word lengths. Same version, but more condensed.\n",
    "for w in s2:\n",
    "    w1 = w.replace('(', '').replace(')', '').replace(',', '')  # remove (, ) and commas\n",
    "    print(w1, len(w1))"
   ]
  },
  {
   "cell_type": "code",
   "execution_count": 120,
   "metadata": {},
   "outputs": [
    {
     "name": "stdout",
     "output_type": "stream",
     "text": [
      "f\n",
      "i\n",
      "r\n",
      "s\n",
      "t\n",
      "t\n",
      "h\n",
      "i\n",
      "n\n",
      "g\n",
      "s\n",
      "f\n",
      "i\n",
      "r\n",
      "s\n",
      "t\n"
     ]
    }
   ],
   "source": [
    "# Print every letter in a string.\n",
    "\n",
    "y = 'first things first'\n",
    "\n",
    "for i in range(0, len(y)):\n",
    "    if y[i] is not ' ':\n",
    "        print(y[i])"
   ]
  },
  {
   "cell_type": "code",
   "execution_count": 121,
   "metadata": {},
   "outputs": [
    {
     "name": "stdout",
     "output_type": "stream",
     "text": [
      "m\n",
      "i\n",
      "s\n",
      "p\n"
     ]
    }
   ],
   "source": [
    "# Print unique characters.\n",
    "\n",
    "y = 'mississippi'  \n",
    "z = []  # an empty list for later use.\n",
    "\n",
    "for i in range(0, len(y)):\n",
    "    # If a character is not already in list z, put it in there and print.\n",
    "    if y[i] not in z:\n",
    "        z.append(y[i])\n",
    "        print(y[i])"
   ]
  },
  {
   "cell_type": "code",
   "execution_count": 122,
   "metadata": {},
   "outputs": [
    {
     "name": "stdout",
     "output_type": "stream",
     "text": [
      "Key=Blake, Value=140980\n",
      "Key=sape, Value=41390\n",
      "Key=jen, Value=45010\n",
      "Key=bob, Value=48520\n",
      "Key=john, Value=99000\n"
     ]
    }
   ],
   "source": [
    "# Print key and value pairs from the dictionary tel.\n",
    "\n",
    "salary = {'Blake': 140980, 'sape': 41390, 'jen':45010, 'bob':48520, 'john':99000}\n",
    "\n",
    "for k,v in salary.items():\n",
    "    print(\"Key={}, Value={}\".format(k, v))"
   ]
  },
  {
   "cell_type": "code",
   "execution_count": 127,
   "metadata": {},
   "outputs": [
    {
     "name": "stdout",
     "output_type": "stream",
     "text": [
      "bali\n",
      "florida\n",
      "maldives\n",
      "notmichigan\n",
      "puertorico\n",
      "virginislands\n"
     ]
    }
   ],
   "source": [
    "# Print list items in ascending order.\n",
    "\n",
    "vacationspots = ['bali', 'maldives', 'puertorico', 'virginislands', 'notmichigan', 'florida']\n",
    "for f in sorted(set(vacationspots)):\n",
    "    print(f)"
   ]
  },
  {
   "cell_type": "markdown",
   "metadata": {},
   "source": [
    "# Lambda Functions\n",
    "A lambda function is a short-hand way to define a simple function. A lambda function usually has no name. Therefore, it is called an anonymous function. See Lambda Functions in Python for more."
   ]
  },
  {
   "cell_type": "code",
   "execution_count": 129,
   "metadata": {},
   "outputs": [
    {
     "data": {
      "text/plain": [
       "1"
      ]
     },
     "execution_count": 129,
     "metadata": {},
     "output_type": "execute_result"
    }
   ],
   "source": [
    "# A typical user-define function.\n",
    "\n",
    "def remainder(num):\n",
    "    return num %2\n",
    "\n",
    "remainder(remainder(19))"
   ]
  },
  {
   "cell_type": "code",
   "execution_count": 133,
   "metadata": {},
   "outputs": [
    {
     "data": {
      "text/plain": [
       "<function __main__.<lambda>(num)>"
      ]
     },
     "execution_count": 133,
     "metadata": {},
     "output_type": "execute_result"
    }
   ],
   "source": [
    "# Lambda function to calculate remainder\n",
    "\n",
    "lambda num: num %2"
   ]
  },
  {
   "cell_type": "code",
   "execution_count": 134,
   "metadata": {},
   "outputs": [
    {
     "name": "stdout",
     "output_type": "stream",
     "text": [
      "1\n"
     ]
    }
   ],
   "source": [
    "# A lambda function usually does not have a name, but you can assign it to a variable (i.e., 'remainder' in our case below) \n",
    "# and then use the variable as a pseudo-name or alias. \n",
    "\n",
    "remainder = lambda num: num % 2\n",
    "\n",
    "print(remainder(11))\n"
   ]
  },
  {
   "cell_type": "code",
   "execution_count": 135,
   "metadata": {},
   "outputs": [
    {
     "data": {
      "text/plain": [
       "<function __main__.<lambda>(doub)>"
      ]
     },
     "execution_count": 135,
     "metadata": {},
     "output_type": "execute_result"
    }
   ],
   "source": [
    "lambda doub: doub * 2"
   ]
  },
  {
   "cell_type": "code",
   "execution_count": 136,
   "metadata": {},
   "outputs": [
    {
     "name": "stdout",
     "output_type": "stream",
     "text": [
      "60\n"
     ]
    }
   ],
   "source": [
    "double = lambda doub: doub * 2\n",
    "print(double(30))"
   ]
  },
  {
   "cell_type": "markdown",
   "metadata": {},
   "source": [
    "# Mapping¶\n",
    "A mapping is used to apply a function to every element of a sequence."
   ]
  },
  {
   "cell_type": "code",
   "execution_count": 137,
   "metadata": {},
   "outputs": [
    {
     "name": "stdout",
     "output_type": "stream",
     "text": [
      "[2, 4, 6, 8]\n"
     ]
    }
   ],
   "source": [
    "# Multiply each element of a list by two.\n",
    "\n",
    "# A user defined function that adds a number to itself.\n",
    "def addition(n):\n",
    "    return n+ n\n",
    "\n",
    "numbers = (1, 2, 3, 4)\n",
    "result = map(addition, numbers)\n",
    "print(list(result))"
   ]
  },
  {
   "cell_type": "code",
   "execution_count": 138,
   "metadata": {},
   "outputs": [
    {
     "name": "stdout",
     "output_type": "stream",
     "text": [
      "[2, 4, 6, 18]\n"
     ]
    }
   ],
   "source": [
    "# Multiply each element of a list by two using the map() function and lambda.\n",
    "\n",
    "numbers = (1, 2, 3, 9) \n",
    "result = map(lambda n: n + n, numbers) \n",
    "print(list(result))"
   ]
  },
  {
   "cell_type": "code",
   "execution_count": 139,
   "metadata": {},
   "outputs": [
    {
     "name": "stdout",
     "output_type": "stream",
     "text": [
      "[5, 7, 9]\n"
     ]
    }
   ],
   "source": [
    "# Add two lists using map and lambda.\n",
    "numbers1 = [1, 2, 3] \n",
    "numbers2 = [4, 5, 6] \n",
    "  \n",
    "result = map(lambda x, y: x + y, numbers1, numbers2) \n",
    "print(list(result))"
   ]
  },
  {
   "cell_type": "code",
   "execution_count": 143,
   "metadata": {},
   "outputs": [
    {
     "name": "stdout",
     "output_type": "stream",
     "text": [
      "[12, 11, 13, 23]\n"
     ]
    }
   ],
   "source": [
    "# Show the lengh of each word. it counts spaces\n",
    "\n",
    "l = ['data analyst', 'dataanalyst', 'datascientist', 'machinelearningenginner'] \n",
    "\n",
    "result = map(lambda x: len(x), l)\n",
    "print(list(result))"
   ]
  },
  {
   "cell_type": "markdown",
   "metadata": {},
   "source": [
    "# List Comprehensions\n",
    "List comprehensions are a concise way to create new lists where each element is the result of some operations applied to each member of another sequence data type."
   ]
  },
  {
   "cell_type": "code",
   "execution_count": 144,
   "metadata": {},
   "outputs": [
    {
     "name": "stdout",
     "output_type": "stream",
     "text": [
      "[0, 1, 4, 9, 16, 25, 36, 49, 64, 81]\n"
     ]
    }
   ],
   "source": [
    "# Square every number between 0 and 9.\n",
    "\n",
    "def square(x):\n",
    "    return x**2\n",
    "\n",
    "result = map(square, range(10))\n",
    "print(list(result))"
   ]
  },
  {
   "cell_type": "code",
   "execution_count": 145,
   "metadata": {},
   "outputs": [
    {
     "data": {
      "text/plain": [
       "[0, 1, 4, 9, 16, 25, 36, 49, 64, 81]"
      ]
     },
     "execution_count": 145,
     "metadata": {},
     "output_type": "execute_result"
    }
   ],
   "source": [
    "# Square every number between 0 and 9.\n",
    "\n",
    "squares = [x**2 for x in range(10)]\n",
    "squares"
   ]
  },
  {
   "cell_type": "code",
   "execution_count": 146,
   "metadata": {},
   "outputs": [
    {
     "data": {
      "text/plain": [
       "[3.3600000000000003, 4.7250000000000005, 1.47, 2.625]"
      ]
     },
     "execution_count": 146,
     "metadata": {},
     "output_type": "execute_result"
    }
   ],
   "source": [
    "# Raise each price by 5%\n",
    "\n",
    "unit_price = [3.2, 4.5, 1.4, 2.5]\n",
    "\n",
    "new_unit_price = [x * 1.05 for x in unit_price]\n",
    "new_unit_price"
   ]
  },
  {
   "cell_type": "code",
   "execution_count": 147,
   "metadata": {},
   "outputs": [
    {
     "name": "stdout",
     "output_type": "stream",
     "text": [
      "[(2, 3.2), (5, 4.5), (6, 1.4), (1, 2.5)]\n"
     ]
    }
   ],
   "source": [
    "# Illustration of what the zip() function does.\n",
    "\n",
    "order_quantity = [2, 5, 6, 1]\n",
    "unit_price = [3.2, 4.5, 1.4, 2.5]\n",
    "\n",
    "result = zip(order_quantity, unit_price)\n",
    "print(list(result))"
   ]
  },
  {
   "cell_type": "code",
   "execution_count": 148,
   "metadata": {},
   "outputs": [
    {
     "name": "stdout",
     "output_type": "stream",
     "text": [
      "[6.4, 22.5, 8.399999999999999, 2.5]\n"
     ]
    }
   ],
   "source": [
    "#Note: the zip function produces a list of tuples that pair elements of two lists at the same position.\n",
    "#As you see from the above example, the first pair (2, 3.2) \n",
    "# is a tuple that combines the first element in each list.\n",
    "\n",
    "# Multiply two lists using list comprehension with zip()\n",
    "\n",
    "order_quantity = [2, 5, 6, 1]\n",
    "unit_price = [3.2, 4.5, 1.4, 2.5]\n",
    "\n",
    "result = [x * y for x, y in zip(order_quantity, unit_price)]\n",
    "print(list(result))"
   ]
  },
  {
   "cell_type": "code",
   "execution_count": 150,
   "metadata": {},
   "outputs": [
    {
     "data": {
      "text/plain": [
       "[1.1772000000000002, 25.4448, 62.467200000000005, 4.9248, 7.322400000000001]"
      ]
     },
     "execution_count": 150,
     "metadata": {},
     "output_type": "execute_result"
    }
   ],
   "source": [
    "# Calculate the price with tax. Example adopted from https://realpython.com/list-comprehension-python/\n",
    "\n",
    "txns = [1.09, 23.56, 57.84, 4.56, 6.78]\n",
    "TAX_RATE = .08\n",
    "\n",
    "def get_price_with_tax(txn):\n",
    "    return txn * (1 + TAX_RATE)\n",
    "\n",
    "final_prices = [get_price_with_tax(i) for i in txns]\n",
    "final_prices"
   ]
  },
  {
   "cell_type": "markdown",
   "metadata": {},
   "source": [
    "# Numpy"
   ]
  },
  {
   "cell_type": "code",
   "execution_count": 152,
   "metadata": {},
   "outputs": [
    {
     "name": "stdout",
     "output_type": "stream",
     "text": [
      "<class 'numpy.ndarray'>\n"
     ]
    }
   ],
   "source": [
    "# Create list baseball\n",
    "baseball = [180, 215, 210, 210, 188, 176, 209, 200]\n",
    "\n",
    "# Import the numpy package as np\n",
    "import numpy as np\n",
    "\n",
    "# Create a Numpy array from baseball: np_baseball\n",
    "np_baseball = np.array(baseball)\n",
    "\n",
    "# Print out type of np_baseball\n",
    "print(type(np_baseball))"
   ]
  },
  {
   "cell_type": "code",
   "execution_count": 155,
   "metadata": {},
   "outputs": [
    {
     "name": "stdout",
     "output_type": "stream",
     "text": [
      "[180 215 210 210 188 176 209 200]\n",
      "[4.572  5.461  5.334  5.334  4.7752 4.4704 5.3086 5.08  ]\n"
     ]
    }
   ],
   "source": [
    "# Import numpy\n",
    "import numpy as np\n",
    "\n",
    "\n",
    "# Create a numpy array from baseball_in: np_baseball_in\n",
    "np_baseball_in = np.array(baseball)\n",
    "\n",
    "# Print out np_baseball_in\n",
    "print(np_baseball_in)\n",
    "\n",
    "# Convert np_baseball_in to m: np_baseball_m\n",
    "np_baseball_m = np_baseball_in * 0.0254\n",
    "\n",
    "# Print np_baseball_m\n",
    "print(np_baseball_m)"
   ]
  },
  {
   "cell_type": "code",
   "execution_count": null,
   "metadata": {},
   "outputs": [],
   "source": []
  }
 ],
 "metadata": {
  "kernelspec": {
   "display_name": "Python 3",
   "language": "python",
   "name": "python3"
  },
  "language_info": {
   "codemirror_mode": {
    "name": "ipython",
    "version": 3
   },
   "file_extension": ".py",
   "mimetype": "text/x-python",
   "name": "python",
   "nbconvert_exporter": "python",
   "pygments_lexer": "ipython3",
   "version": "3.7.1"
  }
 },
 "nbformat": 4,
 "nbformat_minor": 2
}

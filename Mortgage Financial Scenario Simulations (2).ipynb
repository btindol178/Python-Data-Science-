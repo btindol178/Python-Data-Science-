{
 "cells": [
  {
   "cell_type": "markdown",
   "metadata": {},
   "source": [
    "# Mortgage Financial Scenario Models"
   ]
  },
  {
   "cell_type": "code",
   "execution_count": 1,
   "metadata": {},
   "outputs": [],
   "source": [
    "import pandas as pd\n",
    "import numpy as np\n",
    "from datetime import date\n",
    "import warnings\n",
    "warnings.filterwarnings('ignore')\n",
    "import matplotlib.pyplot as plt\n",
    "import matplotlib"
   ]
  },
  {
   "cell_type": "code",
   "execution_count": 3,
   "metadata": {},
   "outputs": [],
   "source": [
    "%matplotlib inline"
   ]
  },
  {
   "cell_type": "code",
   "execution_count": 4,
   "metadata": {},
   "outputs": [],
   "source": [
    "matplotlib.style.use('ggplot')"
   ]
  },
  {
   "cell_type": "code",
   "execution_count": 33,
   "metadata": {},
   "outputs": [],
   "source": [
    "Interest_Rate = 0.02875\n",
    "Years = 30\n",
    "Payments_Year = 12\n",
    "Principal = 142000\n",
    "Addl_Princ = 50\n",
    "start_date = (date(2020,11,1))"
   ]
  },
  {
   "cell_type": "code",
   "execution_count": 34,
   "metadata": {},
   "outputs": [
    {
     "data": {
      "text/plain": [
       "-589.1473174480565"
      ]
     },
     "execution_count": 34,
     "metadata": {},
     "output_type": "execute_result"
    }
   ],
   "source": [
    "# Calculate monthly payment \n",
    "# But how much is interest and how much is principle\n",
    "pmt =np.pmt(Interest_Rate/Payments_Year, Years*Payments_Year, Principal)\n",
    "pmt"
   ]
  },
  {
   "cell_type": "code",
   "execution_count": 35,
   "metadata": {},
   "outputs": [
    {
     "name": "stdout",
     "output_type": "stream",
     "text": [
      "-340.20833333333337 -248.9389841147231\n"
     ]
    }
   ],
   "source": [
    "# Period to calculate\n",
    "per = 1\n",
    "\n",
    "# Calculate the interest\n",
    "ipmt = np.ipmt(Interest_Rate/Payments_Year, per, Years*Payments_Year, Principal)\n",
    "\n",
    "# Calculate the principal\n",
    "ppmt = np.ppmt(Interest_Rate/Payments_Year, per, Years*Payments_Year, Principal)\n",
    "\n",
    "print(ipmt, ppmt)"
   ]
  },
  {
   "cell_type": "code",
   "execution_count": 36,
   "metadata": {},
   "outputs": [
    {
     "name": "stdout",
     "output_type": "stream",
     "text": [
      "-148.11103246567865 -441.0362849823778\n"
     ]
    }
   ],
   "source": [
    "per = 240 # Period to calculate 20 years in the future\n",
    "# Calculate the interest\n",
    "ipmt = np.ipmt(Interest_Rate/Payments_Year, per, Years*Payments_Year, Principal)\n",
    "\n",
    "# Calculate the principal\n",
    "ppmt = np.ppmt(Interest_Rate/Payments_Year, per, Years*Payments_Year, Principal)\n",
    "print(ipmt, ppmt)"
   ]
  },
  {
   "cell_type": "code",
   "execution_count": 37,
   "metadata": {},
   "outputs": [],
   "source": [
    "rng = pd.date_range(start_date, periods=Years * Payments_Year, freq='MS')\n",
    "rng.name = \"Payment_Date\"\n"
   ]
  },
  {
   "cell_type": "code",
   "execution_count": 38,
   "metadata": {},
   "outputs": [
    {
     "data": {
      "text/html": [
       "<div>\n",
       "<style scoped>\n",
       "    .dataframe tbody tr th:only-of-type {\n",
       "        vertical-align: middle;\n",
       "    }\n",
       "\n",
       "    .dataframe tbody tr th {\n",
       "        vertical-align: top;\n",
       "    }\n",
       "\n",
       "    .dataframe thead th {\n",
       "        text-align: right;\n",
       "    }\n",
       "</style>\n",
       "<table border=\"1\" class=\"dataframe\">\n",
       "  <thead>\n",
       "    <tr style=\"text-align: right;\">\n",
       "      <th></th>\n",
       "      <th>Payment_Date</th>\n",
       "      <th>Payment</th>\n",
       "      <th>Principal</th>\n",
       "      <th>Interest</th>\n",
       "      <th>Addl_Principal</th>\n",
       "      <th>Balance</th>\n",
       "    </tr>\n",
       "    <tr>\n",
       "      <th>Period</th>\n",
       "      <th></th>\n",
       "      <th></th>\n",
       "      <th></th>\n",
       "      <th></th>\n",
       "      <th></th>\n",
       "      <th></th>\n",
       "    </tr>\n",
       "  </thead>\n",
       "  <tbody>\n",
       "    <tr>\n",
       "      <th>1</th>\n",
       "      <td>2020-11-01</td>\n",
       "      <td>NaN</td>\n",
       "      <td>NaN</td>\n",
       "      <td>NaN</td>\n",
       "      <td>NaN</td>\n",
       "      <td>NaN</td>\n",
       "    </tr>\n",
       "    <tr>\n",
       "      <th>2</th>\n",
       "      <td>2020-12-01</td>\n",
       "      <td>NaN</td>\n",
       "      <td>NaN</td>\n",
       "      <td>NaN</td>\n",
       "      <td>NaN</td>\n",
       "      <td>NaN</td>\n",
       "    </tr>\n",
       "    <tr>\n",
       "      <th>3</th>\n",
       "      <td>2021-01-01</td>\n",
       "      <td>NaN</td>\n",
       "      <td>NaN</td>\n",
       "      <td>NaN</td>\n",
       "      <td>NaN</td>\n",
       "      <td>NaN</td>\n",
       "    </tr>\n",
       "    <tr>\n",
       "      <th>4</th>\n",
       "      <td>2021-02-01</td>\n",
       "      <td>NaN</td>\n",
       "      <td>NaN</td>\n",
       "      <td>NaN</td>\n",
       "      <td>NaN</td>\n",
       "      <td>NaN</td>\n",
       "    </tr>\n",
       "    <tr>\n",
       "      <th>5</th>\n",
       "      <td>2021-03-01</td>\n",
       "      <td>NaN</td>\n",
       "      <td>NaN</td>\n",
       "      <td>NaN</td>\n",
       "      <td>NaN</td>\n",
       "      <td>NaN</td>\n",
       "    </tr>\n",
       "  </tbody>\n",
       "</table>\n",
       "</div>"
      ],
      "text/plain": [
       "       Payment_Date  Payment  Principal  Interest  Addl_Principal  Balance\n",
       "Period                                                                    \n",
       "1        2020-11-01      NaN        NaN       NaN             NaN      NaN\n",
       "2        2020-12-01      NaN        NaN       NaN             NaN      NaN\n",
       "3        2021-01-01      NaN        NaN       NaN             NaN      NaN\n",
       "4        2021-02-01      NaN        NaN       NaN             NaN      NaN\n",
       "5        2021-03-01      NaN        NaN       NaN             NaN      NaN"
      ]
     },
     "execution_count": 38,
     "metadata": {},
     "output_type": "execute_result"
    }
   ],
   "source": [
    "df = pd.DataFrame(index=rng,columns=['Payment', 'Principal', 'Interest', 'Addl_Principal', 'Balance'], dtype='float')\n",
    "df.reset_index(inplace=True)\n",
    "df.index += 1\n",
    "df.index.name = \"Period\"\n",
    "df.head()"
   ]
  },
  {
   "cell_type": "code",
   "execution_count": 39,
   "metadata": {},
   "outputs": [
    {
     "ename": "NameError",
     "evalue": "name 'principal_payment' is not defined",
     "output_type": "error",
     "traceback": [
      "\u001b[1;31m---------------------------------------------------------------------------\u001b[0m",
      "\u001b[1;31mNameError\u001b[0m                                 Traceback (most recent call last)",
      "\u001b[1;32m<ipython-input-39-0eaeb57393c6>\u001b[0m in \u001b[0;36m<module>\u001b[1;34m\u001b[0m\n\u001b[0;32m     23\u001b[0m             \u001b[0maddl_principal\u001b[0m \u001b[1;33m=\u001b[0m \u001b[1;36m0\u001b[0m\u001b[1;33m\u001b[0m\u001b[1;33m\u001b[0m\u001b[0m\n\u001b[0;32m     24\u001b[0m         \u001b[1;32melse\u001b[0m\u001b[1;33m:\u001b[0m\u001b[1;33m\u001b[0m\u001b[1;33m\u001b[0m\u001b[0m\n\u001b[1;32m---> 25\u001b[1;33m             \u001b[0maddl_principal\u001b[0m \u001b[1;33m=\u001b[0m \u001b[1;33m(\u001b[0m\u001b[0mprev_balance\u001b[0m \u001b[1;33m-\u001b[0m \u001b[0mabs\u001b[0m\u001b[1;33m(\u001b[0m\u001b[0mprincipal_payment\u001b[0m\u001b[1;33m)\u001b[0m\u001b[1;33m)\u001b[0m\u001b[1;33m\u001b[0m\u001b[1;33m\u001b[0m\u001b[0m\n\u001b[0m\u001b[0;32m     26\u001b[0m         \u001b[0mdf\u001b[0m\u001b[1;33m.\u001b[0m\u001b[0mloc\u001b[0m\u001b[1;33m[\u001b[0m\u001b[0mi\u001b[0m\u001b[1;33m,\u001b[0m \u001b[1;34m'Balance'\u001b[0m\u001b[1;33m]\u001b[0m \u001b[1;33m=\u001b[0m \u001b[1;36m0\u001b[0m\u001b[1;33m\u001b[0m\u001b[1;33m\u001b[0m\u001b[0m\n\u001b[0;32m     27\u001b[0m         \u001b[0mdf\u001b[0m\u001b[1;33m.\u001b[0m\u001b[0mloc\u001b[0m\u001b[1;33m[\u001b[0m\u001b[0mi\u001b[0m\u001b[1;33m,\u001b[0m \u001b[1;34m'Principal'\u001b[0m\u001b[1;33m]\u001b[0m \u001b[1;33m=\u001b[0m \u001b[0mprincipal\u001b[0m\u001b[1;33m\u001b[0m\u001b[1;33m\u001b[0m\u001b[0m\n",
      "\u001b[1;31mNameError\u001b[0m: name 'principal_payment' is not defined"
     ]
    }
   ],
   "source": [
    "# NOT CORRECT GOES ABOVE THE FINAL MORTGAGE AMOUTN\n",
    "# Function to combine them all \n",
    "for i in range(2, len(df)+1):\n",
    "    # Get the previous balance as well as current payments\n",
    "    prev_balance = df.loc[i-1, 'Balance']\n",
    "    principal = df.loc[i, 'Principal']\n",
    "    addl_principal = df.loc[i, \"Addl_Principal\"]\n",
    "\n",
    "    # If there is no balance, then do 0 out the principal and interest\n",
    "    if prev_balance == 0:\n",
    "        df.loc[i, ['Payment', 'Principal', 'Interest', 'Balance', 'Addl_Principal']] = 0\n",
    "        continue\n",
    "\n",
    "    # If this payment does not pay it off, reduce the balance\n",
    "    if abs(principal + addl_principal) <= prev_balance:\n",
    "        df.loc[i, 'Balance'] = principal + prev_balance + addl_principal\n",
    "\n",
    "    # If it does pay it off, zero out the balance and adjust the final payment\n",
    "    else:\n",
    "        # Just adjust the principal down\n",
    "        if prev_balance <= abs(principal):\n",
    "            principal = -prev_balance\n",
    "            addl_principal = 0\n",
    "        else:\n",
    "            addl_principal = (prev_balance - abs(principal_payment))\n",
    "        df.loc[i, 'Balance'] = 0\n",
    "        df.loc[i, 'Principal'] = principal\n",
    "        df.loc[i, 'Addl_Principal'] = addl_principal\n",
    "        df.loc[i, \"Payment\"] = principal +  df.loc[i, \"Interest\"]\n",
    "\n",
    "df = df.round(2)\n",
    "df"
   ]
  },
  {
   "cell_type": "code",
   "execution_count": 40,
   "metadata": {},
   "outputs": [
    {
     "data": {
      "text/html": [
       "<div>\n",
       "<style scoped>\n",
       "    .dataframe tbody tr th:only-of-type {\n",
       "        vertical-align: middle;\n",
       "    }\n",
       "\n",
       "    .dataframe tbody tr th {\n",
       "        vertical-align: top;\n",
       "    }\n",
       "\n",
       "    .dataframe thead th {\n",
       "        text-align: right;\n",
       "    }\n",
       "</style>\n",
       "<table border=\"1\" class=\"dataframe\">\n",
       "  <thead>\n",
       "    <tr style=\"text-align: right;\">\n",
       "      <th></th>\n",
       "      <th>Payment_Date</th>\n",
       "      <th>Payment</th>\n",
       "      <th>Principal</th>\n",
       "      <th>Interest</th>\n",
       "      <th>Addl_Principal</th>\n",
       "      <th>Balance</th>\n",
       "    </tr>\n",
       "    <tr>\n",
       "      <th>Period</th>\n",
       "      <th></th>\n",
       "      <th></th>\n",
       "      <th></th>\n",
       "      <th></th>\n",
       "      <th></th>\n",
       "      <th></th>\n",
       "    </tr>\n",
       "  </thead>\n",
       "  <tbody>\n",
       "    <tr>\n",
       "      <th>1</th>\n",
       "      <td>2020-11-01</td>\n",
       "      <td>-589.15</td>\n",
       "      <td>-248.94</td>\n",
       "      <td>-340.21</td>\n",
       "      <td>-50</td>\n",
       "      <td>NaN</td>\n",
       "    </tr>\n",
       "    <tr>\n",
       "      <th>2</th>\n",
       "      <td>2020-12-01</td>\n",
       "      <td>-589.15</td>\n",
       "      <td>-249.54</td>\n",
       "      <td>-339.61</td>\n",
       "      <td>-50</td>\n",
       "      <td>NaN</td>\n",
       "    </tr>\n",
       "    <tr>\n",
       "      <th>3</th>\n",
       "      <td>2021-01-01</td>\n",
       "      <td>-589.15</td>\n",
       "      <td>-250.13</td>\n",
       "      <td>-339.01</td>\n",
       "      <td>-50</td>\n",
       "      <td>NaN</td>\n",
       "    </tr>\n",
       "    <tr>\n",
       "      <th>4</th>\n",
       "      <td>2021-02-01</td>\n",
       "      <td>-589.15</td>\n",
       "      <td>-250.73</td>\n",
       "      <td>-338.41</td>\n",
       "      <td>-50</td>\n",
       "      <td>NaN</td>\n",
       "    </tr>\n",
       "    <tr>\n",
       "      <th>5</th>\n",
       "      <td>2021-03-01</td>\n",
       "      <td>-589.15</td>\n",
       "      <td>-251.33</td>\n",
       "      <td>-337.81</td>\n",
       "      <td>-50</td>\n",
       "      <td>NaN</td>\n",
       "    </tr>\n",
       "  </tbody>\n",
       "</table>\n",
       "</div>"
      ],
      "text/plain": [
       "       Payment_Date  Payment  Principal  Interest  Addl_Principal  Balance\n",
       "Period                                                                    \n",
       "1        2020-11-01  -589.15    -248.94   -340.21             -50      NaN\n",
       "2        2020-12-01  -589.15    -249.54   -339.61             -50      NaN\n",
       "3        2021-01-01  -589.15    -250.13   -339.01             -50      NaN\n",
       "4        2021-02-01  -589.15    -250.73   -338.41             -50      NaN\n",
       "5        2021-03-01  -589.15    -251.33   -337.81             -50      NaN"
      ]
     },
     "execution_count": 40,
     "metadata": {},
     "output_type": "execute_result"
    }
   ],
   "source": [
    "# Amortization table \n",
    "Addl_Principal = 50\n",
    "df[\"Payment\"] = np.pmt(Interest_Rate/Payments_Year, Years*Payments_Year, Principal)\n",
    "df[\"Principal\"] = np.ppmt(Interest_Rate/Payments_Year, df.index, Years*Payments_Year, Principal)\n",
    "df[\"Interest\"] = np.ipmt(Interest_Rate/Payments_Year, df.index, Years*Payments_Year, Principal)\n",
    "df[\"Addl_Principal\"] = -Addl_Principal\n",
    "df = df.round(2)\n",
    "df.head()"
   ]
  },
  {
   "cell_type": "code",
   "execution_count": 41,
   "metadata": {},
   "outputs": [
    {
     "data": {
      "text/html": [
       "<div>\n",
       "<style scoped>\n",
       "    .dataframe tbody tr th:only-of-type {\n",
       "        vertical-align: middle;\n",
       "    }\n",
       "\n",
       "    .dataframe tbody tr th {\n",
       "        vertical-align: top;\n",
       "    }\n",
       "\n",
       "    .dataframe thead th {\n",
       "        text-align: right;\n",
       "    }\n",
       "</style>\n",
       "<table border=\"1\" class=\"dataframe\">\n",
       "  <thead>\n",
       "    <tr style=\"text-align: right;\">\n",
       "      <th></th>\n",
       "      <th>Payment_Date</th>\n",
       "      <th>Payment</th>\n",
       "      <th>Principal</th>\n",
       "      <th>Interest</th>\n",
       "      <th>Addl_Principal</th>\n",
       "      <th>Balance</th>\n",
       "      <th>Cumulative_Principal</th>\n",
       "      <th>Curr_Balance</th>\n",
       "    </tr>\n",
       "    <tr>\n",
       "      <th>Period</th>\n",
       "      <th></th>\n",
       "      <th></th>\n",
       "      <th></th>\n",
       "      <th></th>\n",
       "      <th></th>\n",
       "      <th></th>\n",
       "      <th></th>\n",
       "      <th></th>\n",
       "    </tr>\n",
       "  </thead>\n",
       "  <tbody>\n",
       "    <tr>\n",
       "      <th>1</th>\n",
       "      <td>2020-11-01</td>\n",
       "      <td>-589.15</td>\n",
       "      <td>-248.94</td>\n",
       "      <td>-340.21</td>\n",
       "      <td>-50</td>\n",
       "      <td>0</td>\n",
       "      <td>-298.94</td>\n",
       "      <td>141701.06</td>\n",
       "    </tr>\n",
       "    <tr>\n",
       "      <th>2</th>\n",
       "      <td>2020-12-01</td>\n",
       "      <td>-589.15</td>\n",
       "      <td>-249.54</td>\n",
       "      <td>-339.61</td>\n",
       "      <td>-50</td>\n",
       "      <td>0</td>\n",
       "      <td>-598.48</td>\n",
       "      <td>141401.52</td>\n",
       "    </tr>\n",
       "    <tr>\n",
       "      <th>3</th>\n",
       "      <td>2021-01-01</td>\n",
       "      <td>-589.15</td>\n",
       "      <td>-250.13</td>\n",
       "      <td>-339.01</td>\n",
       "      <td>-50</td>\n",
       "      <td>0</td>\n",
       "      <td>-898.61</td>\n",
       "      <td>141101.39</td>\n",
       "    </tr>\n",
       "    <tr>\n",
       "      <th>4</th>\n",
       "      <td>2021-02-01</td>\n",
       "      <td>-589.15</td>\n",
       "      <td>-250.73</td>\n",
       "      <td>-338.41</td>\n",
       "      <td>-50</td>\n",
       "      <td>0</td>\n",
       "      <td>-1199.34</td>\n",
       "      <td>140800.66</td>\n",
       "    </tr>\n",
       "    <tr>\n",
       "      <th>5</th>\n",
       "      <td>2021-03-01</td>\n",
       "      <td>-589.15</td>\n",
       "      <td>-251.33</td>\n",
       "      <td>-337.81</td>\n",
       "      <td>-50</td>\n",
       "      <td>0</td>\n",
       "      <td>-1500.67</td>\n",
       "      <td>140499.33</td>\n",
       "    </tr>\n",
       "  </tbody>\n",
       "</table>\n",
       "</div>"
      ],
      "text/plain": [
       "       Payment_Date  Payment  Principal  Interest  Addl_Principal  Balance  \\\n",
       "Period                                                                       \n",
       "1        2020-11-01  -589.15    -248.94   -340.21             -50        0   \n",
       "2        2020-12-01  -589.15    -249.54   -339.61             -50        0   \n",
       "3        2021-01-01  -589.15    -250.13   -339.01             -50        0   \n",
       "4        2021-02-01  -589.15    -250.73   -338.41             -50        0   \n",
       "5        2021-03-01  -589.15    -251.33   -337.81             -50        0   \n",
       "\n",
       "        Cumulative_Principal  Curr_Balance  \n",
       "Period                                      \n",
       "1                    -298.94     141701.06  \n",
       "2                    -598.48     141401.52  \n",
       "3                    -898.61     141101.39  \n",
       "4                   -1199.34     140800.66  \n",
       "5                   -1500.67     140499.33  "
      ]
     },
     "execution_count": 41,
     "metadata": {},
     "output_type": "execute_result"
    }
   ],
   "source": [
    "# Better way of doing it\n",
    "df[\"Balance\"] = 0\n",
    "# not correct\n",
    "df[\"Cumulative_Principal\"] = (df[\"Principal\"] + df[\"Addl_Principal\"]).cumsum()\n",
    "\n",
    "# Better way\n",
    "df[\"Cumulative_Principal\"] = df[\"Cumulative_Principal\"].clip(lower=-Principal)\n",
    "df[\"Curr_Balance\"] = Principal + df[\"Cumulative_Principal\"]\n",
    "df.head()"
   ]
  },
  {
   "cell_type": "code",
   "execution_count": 42,
   "metadata": {},
   "outputs": [
    {
     "data": {
      "text/plain": [
       "Payment_Date            2048-05-01 00:00:00\n",
       "Payment                             -589.15\n",
       "Principal                           -548.34\n",
       "Interest                             -40.81\n",
       "Addl_Principal                          -50\n",
       "Balance                                   0\n",
       "Cumulative_Principal                -142000\n",
       "Curr_Balance                              0\n",
       "Name: 331, dtype: object"
      ]
     },
     "execution_count": 42,
     "metadata": {},
     "output_type": "execute_result"
    }
   ],
   "source": [
    "# Last payment \n",
    "last_payment = df.query(\"Curr_Balance <= 0\")[\"Curr_Balance\"].idxmax(axis=1, skipna=True)\n",
    "df.loc[last_payment]"
   ]
  },
  {
   "cell_type": "code",
   "execution_count": 43,
   "metadata": {},
   "outputs": [
    {
     "data": {
      "text/html": [
       "<div>\n",
       "<style scoped>\n",
       "    .dataframe tbody tr th:only-of-type {\n",
       "        vertical-align: middle;\n",
       "    }\n",
       "\n",
       "    .dataframe tbody tr th {\n",
       "        vertical-align: top;\n",
       "    }\n",
       "\n",
       "    .dataframe thead th {\n",
       "        text-align: right;\n",
       "    }\n",
       "</style>\n",
       "<table border=\"1\" class=\"dataframe\">\n",
       "  <thead>\n",
       "    <tr style=\"text-align: right;\">\n",
       "      <th></th>\n",
       "      <th>Payment_Date</th>\n",
       "      <th>Payment</th>\n",
       "      <th>Principal</th>\n",
       "      <th>Interest</th>\n",
       "      <th>Addl_Principal</th>\n",
       "      <th>Balance</th>\n",
       "      <th>Cumulative_Principal</th>\n",
       "      <th>Curr_Balance</th>\n",
       "    </tr>\n",
       "    <tr>\n",
       "      <th>Period</th>\n",
       "      <th></th>\n",
       "      <th></th>\n",
       "      <th></th>\n",
       "      <th></th>\n",
       "      <th></th>\n",
       "      <th></th>\n",
       "      <th></th>\n",
       "      <th></th>\n",
       "    </tr>\n",
       "  </thead>\n",
       "  <tbody>\n",
       "    <tr>\n",
       "      <th>1</th>\n",
       "      <td>2020-11-01</td>\n",
       "      <td>-589.15</td>\n",
       "      <td>-248.94</td>\n",
       "      <td>-340.21</td>\n",
       "      <td>-50</td>\n",
       "      <td>0</td>\n",
       "      <td>-298.94</td>\n",
       "      <td>141701.06</td>\n",
       "    </tr>\n",
       "    <tr>\n",
       "      <th>2</th>\n",
       "      <td>2020-12-01</td>\n",
       "      <td>-589.15</td>\n",
       "      <td>-249.54</td>\n",
       "      <td>-339.61</td>\n",
       "      <td>-50</td>\n",
       "      <td>0</td>\n",
       "      <td>-598.48</td>\n",
       "      <td>141401.52</td>\n",
       "    </tr>\n",
       "    <tr>\n",
       "      <th>3</th>\n",
       "      <td>2021-01-01</td>\n",
       "      <td>-589.15</td>\n",
       "      <td>-250.13</td>\n",
       "      <td>-339.01</td>\n",
       "      <td>-50</td>\n",
       "      <td>0</td>\n",
       "      <td>-898.61</td>\n",
       "      <td>141101.39</td>\n",
       "    </tr>\n",
       "    <tr>\n",
       "      <th>4</th>\n",
       "      <td>2021-02-01</td>\n",
       "      <td>-589.15</td>\n",
       "      <td>-250.73</td>\n",
       "      <td>-338.41</td>\n",
       "      <td>-50</td>\n",
       "      <td>0</td>\n",
       "      <td>-1199.34</td>\n",
       "      <td>140800.66</td>\n",
       "    </tr>\n",
       "    <tr>\n",
       "      <th>5</th>\n",
       "      <td>2021-03-01</td>\n",
       "      <td>-589.15</td>\n",
       "      <td>-251.33</td>\n",
       "      <td>-337.81</td>\n",
       "      <td>-50</td>\n",
       "      <td>0</td>\n",
       "      <td>-1500.67</td>\n",
       "      <td>140499.33</td>\n",
       "    </tr>\n",
       "    <tr>\n",
       "      <th>...</th>\n",
       "      <td>...</td>\n",
       "      <td>...</td>\n",
       "      <td>...</td>\n",
       "      <td>...</td>\n",
       "      <td>...</td>\n",
       "      <td>...</td>\n",
       "      <td>...</td>\n",
       "      <td>...</td>\n",
       "    </tr>\n",
       "    <tr>\n",
       "      <th>327</th>\n",
       "      <td>2048-01-01</td>\n",
       "      <td>-589.15</td>\n",
       "      <td>-543.11</td>\n",
       "      <td>-46.04</td>\n",
       "      <td>-50</td>\n",
       "      <td>0</td>\n",
       "      <td>-139678.30</td>\n",
       "      <td>2321.70</td>\n",
       "    </tr>\n",
       "    <tr>\n",
       "      <th>328</th>\n",
       "      <td>2048-02-01</td>\n",
       "      <td>-589.15</td>\n",
       "      <td>-544.41</td>\n",
       "      <td>-44.73</td>\n",
       "      <td>-50</td>\n",
       "      <td>0</td>\n",
       "      <td>-140272.71</td>\n",
       "      <td>1727.29</td>\n",
       "    </tr>\n",
       "    <tr>\n",
       "      <th>329</th>\n",
       "      <td>2048-03-01</td>\n",
       "      <td>-589.15</td>\n",
       "      <td>-545.72</td>\n",
       "      <td>-43.43</td>\n",
       "      <td>-50</td>\n",
       "      <td>0</td>\n",
       "      <td>-140868.43</td>\n",
       "      <td>1131.57</td>\n",
       "    </tr>\n",
       "    <tr>\n",
       "      <th>330</th>\n",
       "      <td>2048-04-01</td>\n",
       "      <td>-589.15</td>\n",
       "      <td>-547.02</td>\n",
       "      <td>-42.12</td>\n",
       "      <td>-50</td>\n",
       "      <td>0</td>\n",
       "      <td>-141465.45</td>\n",
       "      <td>534.55</td>\n",
       "    </tr>\n",
       "    <tr>\n",
       "      <th>331</th>\n",
       "      <td>2048-05-01</td>\n",
       "      <td>-575.36</td>\n",
       "      <td>-534.55</td>\n",
       "      <td>-40.81</td>\n",
       "      <td>0</td>\n",
       "      <td>0</td>\n",
       "      <td>-142000.00</td>\n",
       "      <td>0.00</td>\n",
       "    </tr>\n",
       "  </tbody>\n",
       "</table>\n",
       "<p>331 rows × 8 columns</p>\n",
       "</div>"
      ],
      "text/plain": [
       "       Payment_Date  Payment  Principal  Interest  Addl_Principal  Balance  \\\n",
       "Period                                                                       \n",
       "1        2020-11-01  -589.15    -248.94   -340.21             -50        0   \n",
       "2        2020-12-01  -589.15    -249.54   -339.61             -50        0   \n",
       "3        2021-01-01  -589.15    -250.13   -339.01             -50        0   \n",
       "4        2021-02-01  -589.15    -250.73   -338.41             -50        0   \n",
       "5        2021-03-01  -589.15    -251.33   -337.81             -50        0   \n",
       "...             ...      ...        ...       ...             ...      ...   \n",
       "327      2048-01-01  -589.15    -543.11    -46.04             -50        0   \n",
       "328      2048-02-01  -589.15    -544.41    -44.73             -50        0   \n",
       "329      2048-03-01  -589.15    -545.72    -43.43             -50        0   \n",
       "330      2048-04-01  -589.15    -547.02    -42.12             -50        0   \n",
       "331      2048-05-01  -575.36    -534.55    -40.81               0        0   \n",
       "\n",
       "        Cumulative_Principal  Curr_Balance  \n",
       "Period                                      \n",
       "1                    -298.94     141701.06  \n",
       "2                    -598.48     141401.52  \n",
       "3                    -898.61     141101.39  \n",
       "4                   -1199.34     140800.66  \n",
       "5                   -1500.67     140499.33  \n",
       "...                      ...           ...  \n",
       "327               -139678.30       2321.70  \n",
       "328               -140272.71       1727.29  \n",
       "329               -140868.43       1131.57  \n",
       "330               -141465.45        534.55  \n",
       "331               -142000.00          0.00  \n",
       "\n",
       "[331 rows x 8 columns]"
      ]
     },
     "execution_count": 43,
     "metadata": {},
     "output_type": "execute_result"
    }
   ],
   "source": [
    "# Last payment index\n",
    "df.loc[last_payment, \"Principal\"] = -(df.loc[last_payment-1, \"Curr_Balance\"])\n",
    "df.loc[last_payment, \"Payment\"] = df.loc[last_payment, [\"Principal\", \"Interest\"]].sum()\n",
    "df.loc[last_payment, \"Addl_Principal\"] = 0\n",
    "df = df.loc[0:last_payment]\n",
    "df"
   ]
  },
  {
   "cell_type": "markdown",
   "metadata": {},
   "source": [
    "# Final Funciton All Together"
   ]
  },
  {
   "cell_type": "code",
   "execution_count": 16,
   "metadata": {},
   "outputs": [],
   "source": [
    "def amortization_table(interest_rate, years, payments_year, principal, addl_principal=0, start_date=date.today()):\n",
    "    \"\"\" Calculate the amortization schedule given the loan details\n",
    "    \n",
    "     Args:\n",
    "        interest_rate: The annual interest rate for this loan\n",
    "        years: Number of years for the loan\n",
    "        payments_year: Number of payments in a year\n",
    "        principal: Amount borrowed\n",
    "        addl_principal (optional): Additional payments to be made each period. Assume 0 if nothing provided.\n",
    "                                   must be a value less then 0, the function will convert a positive value to\n",
    "                                   negative\n",
    "        start_date (optional): Start date. Will start on first of next month if none provided\n",
    "\n",
    "    Returns:\n",
    "        schedule: Amortization schedule as a pandas dataframe\n",
    "        summary: Pandas dataframe that summarizes the payoff information\n",
    "    \"\"\"\n",
    "    # Ensure the additional payments are negative\n",
    "    if addl_principal > 0:\n",
    "        addl_principal = -addl_principal\n",
    "    \n",
    "    # Create an index of the payment dates\n",
    "    rng = pd.date_range(start_date, periods=years * payments_year, freq='MS')\n",
    "    rng.name = \"Payment_Date\"\n",
    "    \n",
    "    # Build up the Amortization schedule as a DataFrame\n",
    "    df = pd.DataFrame(index=rng,columns=['Payment', 'Principal', 'Interest', \n",
    "                                         'Addl_Principal', 'Curr_Balance'], dtype='float')\n",
    "    \n",
    "    # Add index by period (start at 1 not 0)\n",
    "    df.reset_index(inplace=True)\n",
    "    df.index += 1\n",
    "    df.index.name = \"Period\"\n",
    "    \n",
    "    # Calculate the payment, principal and interests amounts using built in Numpy functions\n",
    "    per_payment = np.pmt(interest_rate/payments_year, years*payments_year, principal)\n",
    "    df[\"Payment\"] = per_payment\n",
    "    df[\"Principal\"] = np.ppmt(interest_rate/payments_year, df.index, years*payments_year, principal)\n",
    "    df[\"Interest\"] = np.ipmt(interest_rate/payments_year, df.index, years*payments_year, principal)\n",
    "        \n",
    "    # Round the values\n",
    "    df = df.round(2) \n",
    "    \n",
    "    # Add in the additional principal payments\n",
    "    df[\"Addl_Principal\"] = addl_principal\n",
    "    \n",
    "    # Store the Cumulative Principal Payments and ensure it never gets larger than the original principal\n",
    "    df[\"Cumulative_Principal\"] = (df[\"Principal\"] + df[\"Addl_Principal\"]).cumsum()\n",
    "    df[\"Cumulative_Principal\"] = df[\"Cumulative_Principal\"].clip(lower=-principal)\n",
    "    \n",
    "    # Calculate the current balance for each period\n",
    "    df[\"Curr_Balance\"] = principal + df[\"Cumulative_Principal\"]\n",
    "    \n",
    "    # Determine the last payment date\n",
    "    try:\n",
    "        last_payment = df.query(\"Curr_Balance <= 0\")[\"Curr_Balance\"].idxmax(axis=1, skipna=True)\n",
    "    except ValueError:\n",
    "        last_payment = df.last_valid_index()\n",
    "    \n",
    "    last_payment_date = \"{:%m-%d-%Y}\".format(df.loc[last_payment, \"Payment_Date\"])\n",
    "        \n",
    "    # Truncate the data frame if we have additional principal payments:\n",
    "    if addl_principal != 0:\n",
    "                \n",
    "        # Remove the extra payment periods\n",
    "        df = df.loc[0:last_payment].copy()\n",
    "        \n",
    "        # Calculate the principal for the last row\n",
    "        df.loc[last_payment, \"Principal\"] = -(df.loc[last_payment-1, \"Curr_Balance\"])\n",
    "        \n",
    "        # Calculate the total payment for the last row\n",
    "        df.loc[last_payment, \"Payment\"] = df.loc[last_payment, [\"Principal\", \"Interest\"]].sum()\n",
    "        \n",
    "        # Zero out the additional principal\n",
    "        df.loc[last_payment, \"Addl_Principal\"] = 0\n",
    "        \n",
    "    # Get the payment info into a DataFrame in column order\n",
    "    payment_info = (df[[\"Payment\", \"Principal\", \"Addl_Principal\", \"Interest\"]]\n",
    "                    .sum().to_frame().T)\n",
    "       \n",
    "    # Format the Date DataFrame\n",
    "    payment_details = pd.DataFrame.from_dict(dict([('payoff_date', [last_payment_date]),\n",
    "                                               ('Interest Rate', [interest_rate]),\n",
    "                                               ('Number of years', [years])\n",
    "                                              ]))\n",
    "    # Add a column showing how much we pay each period.\n",
    "    # Combine addl principal with principal for total payment\n",
    "    payment_details[\"Period_Payment\"] = round(per_payment, 2) + addl_principal\n",
    "    \n",
    "    payment_summary = pd.concat([payment_details, payment_info], axis=1)\n",
    "    return df, payment_summary"
   ]
  },
  {
   "cell_type": "code",
   "execution_count": 44,
   "metadata": {},
   "outputs": [
    {
     "data": {
      "text/html": [
       "<div>\n",
       "<style scoped>\n",
       "    .dataframe tbody tr th:only-of-type {\n",
       "        vertical-align: middle;\n",
       "    }\n",
       "\n",
       "    .dataframe tbody tr th {\n",
       "        vertical-align: top;\n",
       "    }\n",
       "\n",
       "    .dataframe thead th {\n",
       "        text-align: right;\n",
       "    }\n",
       "</style>\n",
       "<table border=\"1\" class=\"dataframe\">\n",
       "  <thead>\n",
       "    <tr style=\"text-align: right;\">\n",
       "      <th></th>\n",
       "      <th>Payment_Date</th>\n",
       "      <th>Payment</th>\n",
       "      <th>Principal</th>\n",
       "      <th>Interest</th>\n",
       "      <th>Addl_Principal</th>\n",
       "      <th>Curr_Balance</th>\n",
       "      <th>Cumulative_Principal</th>\n",
       "    </tr>\n",
       "    <tr>\n",
       "      <th>Period</th>\n",
       "      <th></th>\n",
       "      <th></th>\n",
       "      <th></th>\n",
       "      <th></th>\n",
       "      <th></th>\n",
       "      <th></th>\n",
       "      <th></th>\n",
       "    </tr>\n",
       "  </thead>\n",
       "  <tbody>\n",
       "    <tr>\n",
       "      <th>1</th>\n",
       "      <td>2020-12-01</td>\n",
       "      <td>-585.83</td>\n",
       "      <td>-247.54</td>\n",
       "      <td>-338.29</td>\n",
       "      <td>0</td>\n",
       "      <td>140952.46</td>\n",
       "      <td>-247.54</td>\n",
       "    </tr>\n",
       "    <tr>\n",
       "      <th>2</th>\n",
       "      <td>2021-01-01</td>\n",
       "      <td>-585.83</td>\n",
       "      <td>-248.13</td>\n",
       "      <td>-337.70</td>\n",
       "      <td>0</td>\n",
       "      <td>140704.33</td>\n",
       "      <td>-495.67</td>\n",
       "    </tr>\n",
       "    <tr>\n",
       "      <th>3</th>\n",
       "      <td>2021-02-01</td>\n",
       "      <td>-585.83</td>\n",
       "      <td>-248.72</td>\n",
       "      <td>-337.10</td>\n",
       "      <td>0</td>\n",
       "      <td>140455.61</td>\n",
       "      <td>-744.39</td>\n",
       "    </tr>\n",
       "    <tr>\n",
       "      <th>4</th>\n",
       "      <td>2021-03-01</td>\n",
       "      <td>-585.83</td>\n",
       "      <td>-249.32</td>\n",
       "      <td>-336.51</td>\n",
       "      <td>0</td>\n",
       "      <td>140206.29</td>\n",
       "      <td>-993.71</td>\n",
       "    </tr>\n",
       "    <tr>\n",
       "      <th>5</th>\n",
       "      <td>2021-04-01</td>\n",
       "      <td>-585.83</td>\n",
       "      <td>-249.92</td>\n",
       "      <td>-335.91</td>\n",
       "      <td>0</td>\n",
       "      <td>139956.37</td>\n",
       "      <td>-1243.63</td>\n",
       "    </tr>\n",
       "  </tbody>\n",
       "</table>\n",
       "</div>"
      ],
      "text/plain": [
       "       Payment_Date  Payment  Principal  Interest  Addl_Principal  \\\n",
       "Period                                                              \n",
       "1        2020-12-01  -585.83    -247.54   -338.29               0   \n",
       "2        2021-01-01  -585.83    -248.13   -337.70               0   \n",
       "3        2021-02-01  -585.83    -248.72   -337.10               0   \n",
       "4        2021-03-01  -585.83    -249.32   -336.51               0   \n",
       "5        2021-04-01  -585.83    -249.92   -335.91               0   \n",
       "\n",
       "        Curr_Balance  Cumulative_Principal  \n",
       "Period                                      \n",
       "1          140952.46               -247.54  \n",
       "2          140704.33               -495.67  \n",
       "3          140455.61               -744.39  \n",
       "4          140206.29               -993.71  \n",
       "5          139956.37              -1243.63  "
      ]
     },
     "execution_count": 44,
     "metadata": {},
     "output_type": "execute_result"
    }
   ],
   "source": [
    "# input interest, year, payment period per year, mortgage and additional principle\n",
    "schedule1, stats1 = amortization_table(0.02875, 30, 12, 141200, addl_principal=0)\n",
    "schedule2, stats2 = amortization_table(0.02875, 30, 12, 126200, addl_principal=500)\n",
    "schedule3, stats3 = amortization_table(0.02875, 30, 12, 126200, addl_principal=750)\n",
    "schedule4, stats4 = amortization_table(0.02875, 30, 12, 126200, addl_principal=1000)\n",
    "schedule5, stats5 = amortization_table(0.02875, 30, 12, 126200, addl_principal=1250)\n",
    "schedule6, stats6 = amortization_table(0.02875, 30, 12, 126200, addl_principal=1500)\n",
    "schedule7, stats7 = amortization_table(0.02875, 30, 12, 126200, addl_principal=1758)\n",
    "schedule8, stats8 = amortization_table(0.02875, 30, 12, 126200, addl_principal=2000)\n",
    "schedule1.head()"
   ]
  },
  {
   "cell_type": "code",
   "execution_count": 45,
   "metadata": {},
   "outputs": [
    {
     "data": {
      "image/png": "[encoded data removed]",
      "text/plain": [
       "<Figure size 432x288 with 1 Axes>"
      ]
     },
     "metadata": {},
     "output_type": "display_data"
    }
   ],
   "source": [
    "schedule1.plot(x='Payment_Date', y='Curr_Balance', title=\"Pay Off Timeline\");\n",
    "schedule1 = pd.DataFrame(schedule1)\n",
    "schedule1.to_csv (r'C:\\Users\\blake\\OneDrive\\Mortgage\\amortizationtable1.csv', index = False, header=True)\n"
   ]
  },
  {
   "cell_type": "code",
   "execution_count": 24,
   "metadata": {},
   "outputs": [
    {
     "data": {
      "image/png": "[encoded data removed]",
      "text/plain": [
       "<Figure size 432x288 with 1 Axes>"
      ]
     },
     "metadata": {},
     "output_type": "display_data"
    }
   ],
   "source": [
    "\n",
    "fig, ax = plt.subplots(1, 1)\n",
    "schedule1.plot(x='Payment_Date', y='Curr_Balance', label=\"Scenario 1\", ax=ax)\n",
    "schedule2.plot(x='Payment_Date', y='Curr_Balance', label=\"Scenario 2\", ax=ax)\n",
    "schedule3.plot(x='Payment_Date', y='Curr_Balance', label=\"Scenario 3\", ax=ax)\n",
    "schedule4.plot(x='Payment_Date', y='Curr_Balance', label=\"Scenario 3\", ax=ax)\n",
    "schedule5.plot(x='Payment_Date', y='Curr_Balance', label=\"Scenario 3\", ax=ax)\n",
    "schedule6.plot(x='Payment_Date', y='Curr_Balance', label=\"Scenario 3\", ax=ax)\n",
    "schedule7.plot(x='Payment_Date', y='Curr_Balance', label=\"Scenario 3\", ax=ax)\n",
    "schedule8.plot(x='Payment_Date', y='Curr_Balance', label=\"Scenario 3\", ax=ax)\n",
    "plt.title(\"Pay Off Timelines\");"
   ]
  },
  {
   "cell_type": "code",
   "execution_count": 18,
   "metadata": {},
   "outputs": [],
   "source": [
    "schedule2 = pd.DataFrame(schedule2)\n",
    "schedule2.to_csv (r'C:\\Users\\blake\\OneDrive\\Mortgage\\amortizationtable.csv', index = False, header=True)\n"
   ]
  },
  {
   "cell_type": "code",
   "execution_count": 32,
   "metadata": {},
   "outputs": [
    {
     "data": {
      "image/png": "[encoded data removed]",
      "text/plain": [
       "<Figure size 432x288 with 1 Axes>"
      ]
     },
     "metadata": {},
     "output_type": "display_data"
    }
   ],
   "source": [
    "schedule2[\"Cum_Interest\"] = schedule2[\"Interest\"].abs().cumsum()\n",
    "schedule3[\"Cum_Interest\"] = schedule3[\"Interest\"].abs().cumsum()\n",
    "schedule4[\"Cum_Interest\"] = schedule4[\"Interest\"].abs().cumsum()\n",
    "schedule7[\"Cum_Interest\"] = schedule7[\"Interest\"].abs().cumsum()\n",
    "fig, ax = plt.subplots(1, 1)\n",
    "\n",
    "schedule2.plot(x='Payment_Date', y='Cum_Interest', label=\"Scenario 2\", ax=ax, style='+')\n",
    "schedule3.plot(x='Payment_Date', y='Cum_Interest', label=\"Scenario 3\", ax=ax)\n",
    "schedule4.plot(x='Payment_Date', y='Cum_Interest', label=\"Scenario 4\", ax=ax, style='+')\n",
    "schedule7.plot(x='Payment_Date', y='Cum_Interest', label=\"Scenario 7\", ax=ax)\n",
    "ax.legend(loc=\"best\");"
   ]
  },
  {
   "cell_type": "code",
   "execution_count": 36,
   "metadata": {},
   "outputs": [
    {
     "data": {
      "image/png": "[encoded data removed]",
      "text/plain": [
       "<Figure size 432x288 with 1 Axes>"
      ]
     },
     "metadata": {},
     "output_type": "display_data"
    }
   ],
   "source": [
    "# Scenario 1\n",
    "fig, ax = plt.subplots(1, 1)\n",
    "\n",
    "y1_schedule = schedule1.set_index('Payment_Date').resample(\"A\")[\"Interest\"].sum().abs().reset_index()\n",
    "y1_schedule[\"Year\"] = y1_schedule[\"Payment_Date\"].dt.year\n",
    "y1_schedule.plot(kind=\"bar\", x=\"Year\", y=\"Interest\", ax=ax, label=\"30 Years @ 5%\")\n",
    "\n",
    "plt.title(\"Interest Payments\");"
   ]
  },
  {
   "cell_type": "code",
   "execution_count": 37,
   "metadata": {},
   "outputs": [
    {
     "data": {
      "image/png": "[encoded data removed]",
      "text/plain": [
       "<Figure size 432x288 with 1 Axes>"
      ]
     },
     "metadata": {},
     "output_type": "display_data"
    }
   ],
   "source": [
    "# Scenerio 2\n",
    "fig, ax = plt.subplots(1, 1)\n",
    "\n",
    "y1_schedule = schedule2.set_index('Payment_Date').resample(\"A\")[\"Interest\"].sum().abs().reset_index()\n",
    "y1_schedule[\"Year\"] = y1_schedule[\"Payment_Date\"].dt.year\n",
    "y1_schedule.plot(kind=\"bar\", x=\"Year\", y=\"Interest\", ax=ax, label=\"30 Years @ 5%\")\n",
    "\n",
    "plt.title(\"Interest Payments\");"
   ]
  },
  {
   "cell_type": "code",
   "execution_count": 38,
   "metadata": {},
   "outputs": [
    {
     "data": {
      "image/png": "[encoded data removed]",
      "text/plain": [
       "<Figure size 432x288 with 1 Axes>"
      ]
     },
     "metadata": {},
     "output_type": "display_data"
    }
   ],
   "source": [
    "# Scenerio 5\n",
    "fig, ax = plt.subplots(1, 1)\n",
    "\n",
    "y1_schedule = schedule5.set_index('Payment_Date').resample(\"A\")[\"Interest\"].sum().abs().reset_index()\n",
    "y1_schedule[\"Year\"] = y1_schedule[\"Payment_Date\"].dt.year\n",
    "y1_schedule.plot(kind=\"bar\", x=\"Year\", y=\"Interest\", ax=ax, label=\"30 Years @ 5%\")\n",
    "\n",
    "plt.title(\"Interest Payments\");"
   ]
  },
  {
   "cell_type": "code",
   "execution_count": 39,
   "metadata": {},
   "outputs": [
    {
     "data": {
      "image/png": "[encoded data removed]",
      "text/plain": [
       "<Figure size 432x288 with 1 Axes>"
      ]
     },
     "metadata": {},
     "output_type": "display_data"
    }
   ],
   "source": [
    "# Scenerio 8\n",
    "# Scenerio 5\n",
    "fig, ax = plt.subplots(1, 1)\n",
    "\n",
    "y1_schedule = schedule8.set_index('Payment_Date').resample(\"A\")[\"Interest\"].sum().abs().reset_index()\n",
    "y1_schedule[\"Year\"] = y1_schedule[\"Payment_Date\"].dt.year\n",
    "y1_schedule.plot(kind=\"bar\", x=\"Year\", y=\"Interest\", ax=ax, label=\"30 Years @ 5%\")\n",
    "\n",
    "plt.title(\"Interest Payments\");"
   ]
  },
  {
   "cell_type": "code",
   "execution_count": null,
   "metadata": {},
   "outputs": [],
   "source": []
  }
 ],
 "metadata": {
  "kernelspec": {
   "display_name": "Python 3",
   "language": "python",
   "name": "python3"
  },
  "language_info": {
   "codemirror_mode": {
    "name": "ipython",
    "version": 3
   },
   "file_extension": ".py",
   "mimetype": "text/x-python",
   "name": "python",
   "nbconvert_exporter": "python",
   "pygments_lexer": "ipython3",
   "version": "3.8.3"
  }
 },
 "nbformat": 4,
 "nbformat_minor": 4
}

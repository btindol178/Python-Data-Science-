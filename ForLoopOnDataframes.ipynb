{
 "cells": [
  {
   "cell_type": "markdown",
   "metadata": {},
   "source": [
    "Assignment 4 \n",
    "\n",
    "Due : 12/06/2020\n",
    "\n",
    "Total points : 115\n",
    "\n",
    "For this assignment you would need the csv file Example1.csv. Please check the attached file on Elearning\n",
    "\n",
    "Download the Example1.csv in the working directory of the Python (by default its C:\\Users\\user_name\n",
    "\n",
    "The file contains information on Twitter user accounts. Each row in the file contains information such as Likes, Followers, Name,  etc. for a Twitter account. \n"
   ]
  },
  {
   "cell_type": "markdown",
   "metadata": {},
   "source": [
    "Question 1 : Load Example1.csv and answer the following question\n",
    "\n",
    "Type the appropriate command in python that prints the number of rows in the file Example1.csv (See the file Python library 1.ipynb) \n",
    "\n",
    "Points : 15\n"
   ]
  },
  {
   "cell_type": "code",
   "execution_count": 11,
   "metadata": {},
   "outputs": [
    {
     "data": {
      "text/plain": [
       "(2905, 13)"
      ]
     },
     "execution_count": 11,
     "metadata": {},
     "output_type": "execute_result"
    }
   ],
   "source": [
    "# Import pandas\n",
    "import pandas as pd\n",
    "# import dataset\n",
    "myDataFrame = pd.read_csv('Example1.csv')\n",
    "\n",
    "#show dimensions\n",
    "myDataFrame.shape\n",
    "\n",
    "# Here we can see there is 2905 rows and 13 columns \n",
    "# another method len(myDataFrame)\n",
    "#data.shape[0] # another method"
   ]
  },
  {
   "cell_type": "markdown",
   "metadata": {},
   "source": [
    "Question 2 : Load the columns 'Likes', 'Followers','Following', 'Screen Name' from Example1.csv file and create a Pandas data frame object named 'data' and use the appropriate function to print the first three rows of the object data. \n",
    "\n",
    "Points : 20\n"
   ]
  },
  {
   "cell_type": "code",
   "execution_count": 41,
   "metadata": {},
   "outputs": [
    {
     "data": {
      "text/html": [
       "<div>\n",
       "<style scoped>\n",
       "    .dataframe tbody tr th:only-of-type {\n",
       "        vertical-align: middle;\n",
       "    }\n",
       "\n",
       "    .dataframe tbody tr th {\n",
       "        vertical-align: top;\n",
       "    }\n",
       "\n",
       "    .dataframe thead th {\n",
       "        text-align: right;\n",
       "    }\n",
       "</style>\n",
       "<table border=\"1\" class=\"dataframe\">\n",
       "  <thead>\n",
       "    <tr style=\"text-align: right;\">\n",
       "      <th></th>\n",
       "      <th>Likes</th>\n",
       "      <th>Followers</th>\n",
       "      <th>Following</th>\n",
       "      <th>Screen Name</th>\n",
       "    </tr>\n",
       "  </thead>\n",
       "  <tbody>\n",
       "    <tr>\n",
       "      <th>0</th>\n",
       "      <td>91108.0</td>\n",
       "      <td>2668.0</td>\n",
       "      <td>4676.0</td>\n",
       "      <td>GraceODeay23</td>\n",
       "    </tr>\n",
       "    <tr>\n",
       "      <th>1</th>\n",
       "      <td>107.0</td>\n",
       "      <td>3.0</td>\n",
       "      <td>20.0</td>\n",
       "      <td>RobynQuinlin</td>\n",
       "    </tr>\n",
       "    <tr>\n",
       "      <th>2</th>\n",
       "      <td>156436.0</td>\n",
       "      <td>351.0</td>\n",
       "      <td>67.0</td>\n",
       "      <td>WindyCityFunk</td>\n",
       "    </tr>\n",
       "  </tbody>\n",
       "</table>\n",
       "</div>"
      ],
      "text/plain": [
       "      Likes  Followers  Following    Screen Name\n",
       "0   91108.0     2668.0     4676.0   GraceODeay23\n",
       "1     107.0        3.0       20.0   RobynQuinlin\n",
       "2  156436.0      351.0       67.0  WindyCityFunk"
      ]
     },
     "execution_count": 41,
     "metadata": {},
     "output_type": "execute_result"
    }
   ],
   "source": [
    "# Write the code for question 2 here\n",
    "data = myDataFrame[['Likes','Followers','Following','Screen Name']]\n",
    "data.loc[0:2] # This gives me the top 3 rows of the data object\n",
    "#data.head(n=3) # option 2\n",
    "#data.iloc[0:3] # option 3"
   ]
  },
  {
   "cell_type": "markdown",
   "metadata": {},
   "source": [
    "Question 3 : Load the columns 'Likes', 'Followers','Following', 'Screen Name' from Example1.csv file and create a Pandas data frame object named 'data'. Use the appropriate approach to print the last three rows of the dataframe data.\n",
    "\n",
    "Hint: use the shape attribute of data (data.shape) to extract the number of rows in data and print the last three rows. \n",
    "\n",
    "Points: 20"
   ]
  },
  {
   "cell_type": "code",
   "execution_count": 105,
   "metadata": {},
   "outputs": [
    {
     "data": {
      "text/html": [
       "<div>\n",
       "<style scoped>\n",
       "    .dataframe tbody tr th:only-of-type {\n",
       "        vertical-align: middle;\n",
       "    }\n",
       "\n",
       "    .dataframe tbody tr th {\n",
       "        vertical-align: top;\n",
       "    }\n",
       "\n",
       "    .dataframe thead th {\n",
       "        text-align: right;\n",
       "    }\n",
       "</style>\n",
       "<table border=\"1\" class=\"dataframe\">\n",
       "  <thead>\n",
       "    <tr style=\"text-align: right;\">\n",
       "      <th></th>\n",
       "      <th>Likes</th>\n",
       "      <th>Followers</th>\n",
       "      <th>Following</th>\n",
       "      <th>Screen Name</th>\n",
       "    </tr>\n",
       "  </thead>\n",
       "  <tbody>\n",
       "    <tr>\n",
       "      <th>2902</th>\n",
       "      <td>1917.0</td>\n",
       "      <td>198.0</td>\n",
       "      <td>303.0</td>\n",
       "      <td>SaltandLightMt5</td>\n",
       "    </tr>\n",
       "    <tr>\n",
       "      <th>2903</th>\n",
       "      <td>415.0</td>\n",
       "      <td>103.0</td>\n",
       "      <td>754.0</td>\n",
       "      <td>scfgigem92</td>\n",
       "    </tr>\n",
       "    <tr>\n",
       "      <th>2904</th>\n",
       "      <td>28727.0</td>\n",
       "      <td>4091.0</td>\n",
       "      <td>4145.0</td>\n",
       "      <td>wfnx1990</td>\n",
       "    </tr>\n",
       "  </tbody>\n",
       "</table>\n",
       "</div>"
      ],
      "text/plain": [
       "        Likes  Followers  Following      Screen Name\n",
       "2902   1917.0      198.0      303.0  SaltandLightMt5\n",
       "2903    415.0      103.0      754.0       scfgigem92\n",
       "2904  28727.0     4091.0     4145.0         wfnx1990"
      ]
     },
     "execution_count": 105,
     "metadata": {},
     "output_type": "execute_result"
    }
   ],
   "source": [
    "# Write the code for the question 3 here \n",
    "data = myDataFrame[['Likes','Followers','Following','Screen Name']]\n",
    "data.tail(n=3) # option 1\n",
    "#data.iloc[-3:] # option 2 gets same results\n",
    "#data.loc[2902:2904,] # option 3"
   ]
  },
  {
   "cell_type": "markdown",
   "metadata": {},
   "source": [
    "Question 4 : Load the columns 'Likes', 'Followers','Following', 'Screen Name' from Example1.csv file and create a Pandas data frame object named 'data'. Use the appropriate approach to print the last three rows of the column 'Followers' in the object data.\n",
    "\n",
    "Hint: use the shape attribute of data (data.shape) to extract the number of rows in data and print the last three rows. \n",
    "\n",
    "Points: 20"
   ]
  },
  {
   "cell_type": "code",
   "execution_count": 104,
   "metadata": {},
   "outputs": [
    {
     "data": {
      "text/html": [
       "<div>\n",
       "<style scoped>\n",
       "    .dataframe tbody tr th:only-of-type {\n",
       "        vertical-align: middle;\n",
       "    }\n",
       "\n",
       "    .dataframe tbody tr th {\n",
       "        vertical-align: top;\n",
       "    }\n",
       "\n",
       "    .dataframe thead th {\n",
       "        text-align: right;\n",
       "    }\n",
       "</style>\n",
       "<table border=\"1\" class=\"dataframe\">\n",
       "  <thead>\n",
       "    <tr style=\"text-align: right;\">\n",
       "      <th></th>\n",
       "      <th>Likes</th>\n",
       "      <th>Followers</th>\n",
       "      <th>Following</th>\n",
       "      <th>Screen Name</th>\n",
       "    </tr>\n",
       "  </thead>\n",
       "  <tbody>\n",
       "    <tr>\n",
       "      <th>2902</th>\n",
       "      <td>1917.0</td>\n",
       "      <td>198.0</td>\n",
       "      <td>303.0</td>\n",
       "      <td>SaltandLightMt5</td>\n",
       "    </tr>\n",
       "    <tr>\n",
       "      <th>2903</th>\n",
       "      <td>415.0</td>\n",
       "      <td>103.0</td>\n",
       "      <td>754.0</td>\n",
       "      <td>scfgigem92</td>\n",
       "    </tr>\n",
       "    <tr>\n",
       "      <th>2904</th>\n",
       "      <td>28727.0</td>\n",
       "      <td>4091.0</td>\n",
       "      <td>4145.0</td>\n",
       "      <td>wfnx1990</td>\n",
       "    </tr>\n",
       "  </tbody>\n",
       "</table>\n",
       "</div>"
      ],
      "text/plain": [
       "        Likes  Followers  Following      Screen Name\n",
       "2902   1917.0      198.0      303.0  SaltandLightMt5\n",
       "2903    415.0      103.0      754.0       scfgigem92\n",
       "2904  28727.0     4091.0     4145.0         wfnx1990"
      ]
     },
     "execution_count": 104,
     "metadata": {},
     "output_type": "execute_result"
    }
   ],
   "source": [
    "# Write the code for the question 3 here \n",
    "data = myDataFrame[['Likes','Followers','Following','Screen Name']]\n",
    "data.tail(n=3) # option 1\n",
    "#data.iloc[-3:] # option 2 gets same results\n",
    "#data.loc[2902:2904,] # option 3"
   ]
  },
  {
   "cell_type": "markdown",
   "metadata": {},
   "source": [
    "Question 5 : Load all columns from Example1.csv file and create a Pandas data frame object named 'data'. \n",
    "\n",
    "Find how many Twitter users have likes more than 500 ? \n",
    "\n",
    "Hint: Take a look at the Example 1 in Pandas Library 2.ipynb file on elearning. \n",
    "\n",
    "Points: 20 "
   ]
  },
  {
   "cell_type": "code",
   "execution_count": 103,
   "metadata": {},
   "outputs": [
    {
     "name": "stdout",
     "output_type": "stream",
     "text": [
      "2159\n"
     ]
    }
   ],
   "source": [
    "# Type your answer to the question 5 below\n",
    "data = myDataFrame[['Likes','Followers','Following','Screen Name']]\n",
    "#data = data[(data['Likes'] > 500)].count() # one way \n",
    "#print(len(data[data['Likes'] > 500])) # another way \n",
    "#data.loc[data.Likes > 500, 'Likes'].count() # another way \n",
    "#(data.Likes > 500).sum()  # another way \n",
    "#data.query('Likes > 500').Likes.count()# another way \n",
    "\n",
    "# another way \n",
    "count  = 0\n",
    "for i in range(data.shape[0]): # data.shape[0] gives number of rows \n",
    "    if data.iloc[i,0] > 500: # likes is the first column so the index is 0\n",
    "        count = count+1\n",
    "print(count)\n",
    "\n"
   ]
  },
  {
   "cell_type": "markdown",
   "metadata": {},
   "source": [
    "Question 6 : Load all columns from Example1.csv file and create a Pandas data frame object named 'data'. \n",
    "\n",
    "Using a loop (for or while) identify Twitter users that have likes more than 100000 and followers less than 10000 and save their names inside a list named user_names and print it. \n",
    "\n",
    "Hint: Take a look at the last example in Pandas Library 2.ipynb file on elearning. \n",
    "\n",
    "points : 25"
   ]
  },
  {
   "cell_type": "code",
   "execution_count": 143,
   "metadata": {},
   "outputs": [
    {
     "name": "stdout",
     "output_type": "stream",
     "text": [
      "['SSparklesDaily', 'leeleemunster', 'FreedomChild3', 'kimlockhartga', 'SpecialKMB1969', 'JAmy208', 'AdamsFlaFan', 'tgradous', 'LauraBergerol', 'th3j35t3r', 'lsmith4680', 'Hardline_Stance', 'StoshAuf', 'KazmierskiR', 'BlissTabitha', 'laneylane25', 'fabucat', 'Twitlertwit', 'Jeannie_Hartley', 'cgpb', 'Lee_in_Iowa', 'MAGA_1958', 'AppSame', 'Jim_Peoples_', '_PatJohnson_', 'DarLovesAmerica', 'mefbama', 'Tam_Resist']\n"
     ]
    }
   ],
   "source": [
    "# Type the code for question 6 here\n",
    "data = myDataFrame[['Likes','Followers','Following','Screen Name']]\n",
    "likelist  = []\n",
    "for i in range(data.shape[0]): # data.shape[0] gives number of rows \n",
    "    if data.iloc[i,0] > 100000 and data.iloc[i,1] > 10000:\n",
    "        likelist.append(data.iloc[i,3])\n",
    "print(likelist)\n",
    "\n",
    "# Check method\n",
    "#data2 = data[(data['Screen Name'] == 'SSparklesDaily')]\n",
    "#data2 = data[(data['Likes'] > 100000) & (data['Following'] > 10000)]\n",
    "#data2"
   ]
  },
  {
   "cell_type": "code",
   "execution_count": null,
   "metadata": {},
   "outputs": [],
   "source": []
  }
 ],
 "metadata": {
  "kernelspec": {
   "display_name": "Python 3",
   "language": "python",
   "name": "python3"
  },
  "language_info": {
   "codemirror_mode": {
    "name": "ipython",
    "version": 3
   },
   "file_extension": ".py",
   "mimetype": "text/x-python",
   "name": "python",
   "nbconvert_exporter": "python",
   "pygments_lexer": "ipython3",
   "version": "3.8.3"
  }
 },
 "nbformat": 4,
 "nbformat_minor": 4
}

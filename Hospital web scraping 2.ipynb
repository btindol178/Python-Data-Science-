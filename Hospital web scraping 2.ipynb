{
 "cells": [
  {
   "cell_type": "markdown",
   "metadata": {},
   "source": [
    "# Scrape web pages"
   ]
  },
  {
   "cell_type": "code",
   "execution_count": null,
   "metadata": {},
   "outputs": [],
   "source": [
    "import pandas as pd"
   ]
  },
  {
   "cell_type": "code",
   "execution_count": null,
   "metadata": {},
   "outputs": [],
   "source": [
    "urls = ['https://www.ahd.com/states/hospital_AK.html','https://www.ahd.com/states/hospital_AL.html','https://www.ahd.com/states/hospital_AR.html','https://www.ahd.com/states/hospital_AZ.html','https://www.ahd.com/states/hospital_CA.html','https://www.ahd.com/states/hospital_CO.html','https://www.ahd.com/states/hospital_CT.html','https://www.ahd.com/states/hospital_DC.html','https://www.ahd.com/states/hospital_DE.html','https://www.ahd.com/states/hospital_FL.html','https://www.ahd.com/states/hospital_GA.html','https://www.ahd.com/states/hospital_HI.html','https://www.ahd.com/states/hospital_IA.html','https://www.ahd.com/states/hospital_ID.html','https://www.ahd.com/states/hospital_IL.html','https://www.ahd.com/states/hospital_IN.html','https://www.ahd.com/states/hospital_KS.html','https://www.ahd.com/states/hospital_KY.html','https://www.ahd.com/states/hospital_LA.html','https://www.ahd.com/states/hospital_MA.html','https://www.ahd.com/states/hospital_ME.html','https://www.ahd.com/states/hospital_MI.html','https://www.ahd.com/states/hospital_MN.html','https://www.ahd.com/states/hospital_MO.html','https://www.ahd.com/states/hospital_MS.html','https://www.ahd.com/states/hospital_MT.html','https://www.ahd.com/states/hospital_NC.html','https://www.ahd.com/states/hospital_ND.html','https://www.ahd.com/states/hospital_ND.html','https://www.ahd.com/states/hospital_NE.html','https://www.ahd.com/states/hospital_NH.html','https://www.ahd.com/states/hospital_NJ.html','https://www.ahd.com/states/hospital_NM.html','https://www.ahd.com/states/hospital_NV.html','https://www.ahd.com/states/hospital_NY.html','https://www.ahd.com/states/hospital_OH.html','https://www.ahd.com/states/hospital_OK.html','https://www.ahd.com/states/hospital_OR.html','https://www.ahd.com/states/hospital_PA.html','https://www.ahd.com/states/hospital_RI.html','https://www.ahd.com/states/hospital_SC.html','https://www.ahd.com/states/hospital_SD.html','https://www.ahd.com/states/hospital_TN.html','https://www.ahd.com/states/hospital_TX.html','https://www.ahd.com/states/hospital_UT.html','https://www.ahd.com/states/hospital_VA.html','https://www.ahd.com/states/hospital_VT.html','https://www.ahd.com/states/hospital_WA.html','https://www.ahd.com/states/hospital_WI.html','https://www.ahd.com/states/hospital_WV.html','https://www.ahd.com/states/hospital_WY.html']\n",
    "\n",
    "for url in urls:\n",
    "   print(url)\n",
    "    "
   ]
  },
  {
   "cell_type": "code",
   "execution_count": null,
   "metadata": {},
   "outputs": [],
   "source": [
    "AK = pd.read_html('https://www.ahd.com/states/hospital_AK.html');AL = pd.read_html('https://www.ahd.com/states/hospital_AL.html');AR = pd.read_html('https://www.ahd.com/states/hospital_AR.html');AZ = pd.read_html('https://www.ahd.com/states/hospital_AZ.html')\n",
    "CA = pd.read_html('https://www.ahd.com/states/hospital_CA.html');CO = pd.read_html('https://www.ahd.com/states/hospital_CO.html');CT = pd.read_html('https://www.ahd.com/states/hospital_CT.html');DC = pd.read_html('https://www.ahd.com/states/hospital_DC.html')\n",
    "DE = pd.read_html('https://www.ahd.com/states/hospital_DE.html');FL = pd.read_html('https://www.ahd.com/states/hospital_FL.html');GA = pd.read_html('https://www.ahd.com/states/hospital_GA.html');HI = pd.read_html('https://www.ahd.com/states/hospital_HI.html')\n",
    "IA = pd.read_html('https://www.ahd.com/states/hospital_IA.html');ID = pd.read_html('https://www.ahd.com/states/hospital_ID.html');IL = pd.read_html('https://www.ahd.com/states/hospital_IL.html');IN = pd.read_html('https://www.ahd.com/states/hospital_IN.html')\n",
    "KS = pd.read_html('https://www.ahd.com/states/hospital_KS.html');KY = pd.read_html('https://www.ahd.com/states/hospital_KY.html');LA = pd.read_html('https://www.ahd.com/states/hospital_LA.html');MA = pd.read_html('https://www.ahd.com/states/hospital_MA.html')\n",
    "ME = pd.read_html('https://www.ahd.com/states/hospital_ME.html');MI = pd.read_html('https://www.ahd.com/states/hospital_MI.html');MN = pd.read_html('https://www.ahd.com/states/hospital_MN.html');MO = pd.read_html('https://www.ahd.com/states/hospital_MO.html')\n",
    "MS = pd.read_html('https://www.ahd.com/states/hospital_MS.html');MT = pd.read_html('https://www.ahd.com/states/hospital_MT.html');NC = pd.read_html('https://www.ahd.com/states/hospital_NC.html');ND = pd.read_html('https://www.ahd.com/states/hospital_ND.html')\n",
    "NE = pd.read_html('https://www.ahd.com/states/hospital_NE.html');NH = pd.read_html('https://www.ahd.com/states/hospital_NH.html');NJ = pd.read_html('https://www.ahd.com/states/hospital_NJ.html');NM = pd.read_html('https://www.ahd.com/states/hospital_NM.html')\n",
    "NV = pd.read_html('https://www.ahd.com/states/hospital_NV.html');NY = pd.read_html('https://www.ahd.com/states/hospital_NY.html');OH = pd.read_html('https://www.ahd.com/states/hospital_OH.html');OK = pd.read_html('https://www.ahd.com/states/hospital_OK.html')\n",
    "OR = pd.read_html('https://www.ahd.com/states/hospital_OR.html');PA = pd.read_html('https://www.ahd.com/states/hospital_PA.html');RI = pd.read_html('https://www.ahd.com/states/hospital_RI.html');SC = pd.read_html('https://www.ahd.com/states/hospital_SC.html')\n",
    "SD = pd.read_html('https://www.ahd.com/states/hospital_SD.html');TN = pd.read_html('https://www.ahd.com/states/hospital_TN.html');TX = pd.read_html('https://www.ahd.com/states/hospital_TX.html');UT = pd.read_html('https://www.ahd.com/states/hospital_UT.html')\n",
    "VA = pd.read_html('https://www.ahd.com/states/hospital_VA.html');VT = pd.read_html('https://www.ahd.com/states/hospital_VT.html');WA = pd.read_html('https://www.ahd.com/states/hospital_WA.html');WI = pd.read_html('https://www.ahd.com/states/hospital_WI.html')\n",
    "WV = pd.read_html('https://www.ahd.com/states/hospital_WV.html');WY = pd.read_html('https://www.ahd.com/states/hospital_WY.html')"
   ]
  },
  {
   "cell_type": "code",
   "execution_count": null,
   "metadata": {},
   "outputs": [],
   "source": [
    "AK =AK[0];AL =AL[0];AR =AR[0];AZ =AZ[0];CA =CA[0];CO =CO[0];CT =CT[0];DC =DC[0];DE =DE[0];FL =FL[0];GA =GA[0];HI =HI[0]\n",
    "IA =IA[0];ID =ID[0];IL =IL[0];IN =IN[0];KS =KS[0];KY =KY[0];LA =LA[0];MA =MA[0];ME =ME[0];MI =MI[0];MN =MN[0];MS =MS[0]\n",
    "MT =MT[0];NC =NC[0];ND =ND[0];NE =NE[0];NH =NH[0];NJ =NJ[0];NM =NM[0];NV =NV[0];NY =NY[0];OH =OH[0];OK =OK[0];OR =OR[0]\n",
    "PA =PA[0];RI =RI[0];SC =SC[0];SD =SD[0];TN =TN[0];TX =TX[0];UT =UT[0];VA =VA[0];VT =VT[0];WA =WA[0];WI =WI[0];WV =WV[0]\n",
    "WY =WY[0]"
   ]
  },
  {
   "cell_type": "markdown",
   "metadata": {},
   "source": [
    "# Write to csv and seperate with ?"
   ]
  },
  {
   "cell_type": "code",
   "execution_count": null,
   "metadata": {},
   "outputs": [],
   "source": [
    "AK.to_csv(\"AK.csv\",sep='?');AL.to_csv(\"AL.csv\",sep='?');AR.to_csv('AR.csv',sep='?');AZ.to_csv('AZ.csv',sep='?') # use questionmark to seperate\n",
    "CA.to_csv('CA.csv',sep='?');CO.to_csv('CO.csv',sep='?');CT.to_csv('CT.csv',sep='?');DC.to_csv('DC.csv',sep='?') # use questionmark to seperate\n",
    "DE.to_csv('DE.csv',sep='?');FL.to_csv('FL.csv',sep='?');GA.to_csv('GA.csv',sep='?');HI.to_csv('HI.csv',sep='?') # use questionmark to seperate\n",
    "IA.to_csv('IA.csv',sep='?');ID.to_csv('ID.csv',sep='?');IL.to_csv('IL.csv',sep='?');IN.to_csv('IN.csv',sep='?') # use questionmark to seperate\n",
    "KS.to_csv('KS.csv',sep='?');KY.to_csv('KY.csv',sep='?');LA.to_csv('LA.csv',sep='?');MA.to_csv('MA.csv',sep='?') # use questionmark to seperate\n",
    "ME.to_csv('ME.csv',sep='?');MI.to_csv('MI.csv',sep='?');MN.to_csv('MN.csv',sep='?');MS.to_csv('MS.csv',sep='?') # use questionmark to seperate\n",
    "MT.to_csv('MT.csv',sep='?');NC.to_csv('NC.csv',sep='?');ND.to_csv('ND.csv',sep='?');NE.to_csv('NE.csv',sep='?') # use questionmark to seperate\n",
    "NH.to_csv('NH.csv',sep='?');NJ.to_csv('NJ.csv',sep='?');NM.to_csv('NM.csv',sep='?');NV.to_csv('NV.csv',sep='?') # use questionmark to seperate\n",
    "NY.to_csv('NY.csv',sep='?');OH.to_csv('OH.csv',sep='?');OK.to_csv('OK.csv',sep='?');OR.to_csv('OR.csv',sep='?') # use questionmark to seperate\n",
    "PA.to_csv('PA.csv',sep='?');RI.to_csv('RI.csv',sep='?');SC.to_csv('SC.csv',sep='?');SD.to_csv('SD.csv',sep='?') \n",
    "TN.to_csv('TN.csv',sep='?');TX.to_csv('TX.csv',sep='?'); UT.to_csv('UT.csv',sep='?');VA.to_csv('VA.csv',sep='?') \n",
    "VT.to_csv('VT.csv',sep='?');WA.to_csv('WA.csv',sep='?');WI.to_csv('WI.csv',sep='?');WV.to_csv('WV.csv',sep='?') # use questionmark to seperate\n",
    "WY.to_csv('WY.csv',sep='?') "
   ]
  }
 ],
 "metadata": {
  "kernelspec": {
   "display_name": "Python 3",
   "language": "python",
   "name": "python3"
  },
  "language_info": {
   "codemirror_mode": {
    "name": "ipython",
    "version": 3
   },
   "file_extension": ".py",
   "mimetype": "text/x-python",
   "name": "python",
   "nbconvert_exporter": "python",
   "pygments_lexer": "ipython3",
   "version": "3.8.3"
  }
 },
 "nbformat": 4,
 "nbformat_minor": 4
}
